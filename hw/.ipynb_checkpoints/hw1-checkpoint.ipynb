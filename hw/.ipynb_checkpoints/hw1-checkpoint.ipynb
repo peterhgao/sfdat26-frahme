{
 "cells": [
  {
   "cell_type": "code",
   "execution_count": 1,
   "metadata": {
    "collapsed": true
   },
   "outputs": [],
   "source": [
    "import pandas as pd\n",
    "# pd.set_option('max_colwidth', 50)\n",
    "# set this if you need to"
   ]
  },
  {
   "cell_type": "markdown",
   "metadata": {},
   "source": [
    "The Health Department has developed an inspection report and scoring system. \n",
    "After conducting an inspection of the facility, the Health Inspector calculates a score based on the violations observed. \n",
    "Violations can fall into:\n",
    "- **high risk category**: records specific violations that directly relate to the transmission of food borne illnesses,the adulteration of food products and the contamination of food-contact surfaces.\n",
    "- **moderate risk category**: records specific violations that are of a moderate risk to the public health and safety.\n",
    "- **low risk category**: records violations that are low risk or have no immediate risk to the public health and safety."
   ]
  },
  {
   "cell_type": "code",
   "execution_count": 7,
   "metadata": {
    "collapsed": false
   },
   "outputs": [
    {
     "data": {
      "text/html": [
       "<div>\n",
       "<table border=\"1\" class=\"dataframe\">\n",
       "  <thead>\n",
       "    <tr style=\"text-align: right;\">\n",
       "      <th></th>\n",
       "      <th>business_id</th>\n",
       "      <th>name</th>\n",
       "      <th>address</th>\n",
       "      <th>city</th>\n",
       "      <th>postal_code</th>\n",
       "      <th>latitude</th>\n",
       "      <th>longitude</th>\n",
       "      <th>phone_number</th>\n",
       "      <th>TaxCode</th>\n",
       "      <th>business_certificate</th>\n",
       "      <th>application_date</th>\n",
       "      <th>owner_name</th>\n",
       "      <th>owner_address</th>\n",
       "      <th>owner_city</th>\n",
       "      <th>owner_state</th>\n",
       "      <th>owner_zip</th>\n",
       "    </tr>\n",
       "  </thead>\n",
       "  <tbody>\n",
       "    <tr>\n",
       "      <th>0</th>\n",
       "      <td>10</td>\n",
       "      <td>Tiramisu Kitchen</td>\n",
       "      <td>033 Belden Pl</td>\n",
       "      <td>San Francisco</td>\n",
       "      <td>94104</td>\n",
       "      <td>37.791116</td>\n",
       "      <td>-122.403816</td>\n",
       "      <td>NaN</td>\n",
       "      <td>H24</td>\n",
       "      <td>779059.0</td>\n",
       "      <td>NaN</td>\n",
       "      <td>Tiramisu LLC</td>\n",
       "      <td>33 Belden St</td>\n",
       "      <td>San Francisco</td>\n",
       "      <td>CA</td>\n",
       "      <td>94104</td>\n",
       "    </tr>\n",
       "    <tr>\n",
       "      <th>1</th>\n",
       "      <td>19</td>\n",
       "      <td>Nrgize Lifestyle Cafe</td>\n",
       "      <td>1200 Van Ness Ave, 3rd Floor</td>\n",
       "      <td>San Francisco</td>\n",
       "      <td>94109</td>\n",
       "      <td>37.786848</td>\n",
       "      <td>-122.421547</td>\n",
       "      <td>NaN</td>\n",
       "      <td>H24</td>\n",
       "      <td>NaN</td>\n",
       "      <td>NaN</td>\n",
       "      <td>24 Hour Fitness Inc</td>\n",
       "      <td>1200 Van Ness Ave, 3rd Floor</td>\n",
       "      <td>San Francisco</td>\n",
       "      <td>CA</td>\n",
       "      <td>94109</td>\n",
       "    </tr>\n",
       "    <tr>\n",
       "      <th>2</th>\n",
       "      <td>24</td>\n",
       "      <td>OMNI S.F. Hotel - 2nd Floor Pantry</td>\n",
       "      <td>500 California St, 2nd  Floor</td>\n",
       "      <td>San Francisco</td>\n",
       "      <td>94104</td>\n",
       "      <td>37.792888</td>\n",
       "      <td>-122.403135</td>\n",
       "      <td>NaN</td>\n",
       "      <td>H24</td>\n",
       "      <td>352312.0</td>\n",
       "      <td>NaN</td>\n",
       "      <td>OMNI San Francisco Hotel Corp</td>\n",
       "      <td>500 California St, 2nd Floor</td>\n",
       "      <td>San Francisco</td>\n",
       "      <td>CA</td>\n",
       "      <td>94104</td>\n",
       "    </tr>\n",
       "    <tr>\n",
       "      <th>3</th>\n",
       "      <td>31</td>\n",
       "      <td>Norman's Ice Cream and Freezes</td>\n",
       "      <td>2801 Leavenworth St</td>\n",
       "      <td>San Francisco</td>\n",
       "      <td>94133</td>\n",
       "      <td>37.807155</td>\n",
       "      <td>-122.419004</td>\n",
       "      <td>NaN</td>\n",
       "      <td>H24</td>\n",
       "      <td>346882.0</td>\n",
       "      <td>NaN</td>\n",
       "      <td>Norman Antiforda</td>\n",
       "      <td>2801 Leavenworth St</td>\n",
       "      <td>San Francisco</td>\n",
       "      <td>CA</td>\n",
       "      <td>94133</td>\n",
       "    </tr>\n",
       "    <tr>\n",
       "      <th>4</th>\n",
       "      <td>45</td>\n",
       "      <td>CHARLIE'S DELI CAFE</td>\n",
       "      <td>3202 FOLSOM St</td>\n",
       "      <td>S.F.</td>\n",
       "      <td>94110</td>\n",
       "      <td>37.747114</td>\n",
       "      <td>-122.413641</td>\n",
       "      <td>NaN</td>\n",
       "      <td>H24</td>\n",
       "      <td>340024.0</td>\n",
       "      <td>10/10/2001</td>\n",
       "      <td>HARB, CHARLES AND KRISTIN</td>\n",
       "      <td>1150 SANCHEZ</td>\n",
       "      <td>S.F.</td>\n",
       "      <td>CA</td>\n",
       "      <td>94114</td>\n",
       "    </tr>\n",
       "  </tbody>\n",
       "</table>\n",
       "</div>"
      ],
      "text/plain": [
       "   business_id                                name  \\\n",
       "0           10                    Tiramisu Kitchen   \n",
       "1           19               Nrgize Lifestyle Cafe   \n",
       "2           24  OMNI S.F. Hotel - 2nd Floor Pantry   \n",
       "3           31      Norman's Ice Cream and Freezes   \n",
       "4           45                 CHARLIE'S DELI CAFE   \n",
       "\n",
       "                         address           city postal_code   latitude  \\\n",
       "0                  033 Belden Pl  San Francisco       94104  37.791116   \n",
       "1   1200 Van Ness Ave, 3rd Floor  San Francisco       94109  37.786848   \n",
       "2  500 California St, 2nd  Floor  San Francisco       94104  37.792888   \n",
       "3           2801 Leavenworth St   San Francisco       94133  37.807155   \n",
       "4                3202 FOLSOM St            S.F.       94110  37.747114   \n",
       "\n",
       "    longitude phone_number TaxCode  business_certificate application_date  \\\n",
       "0 -122.403816          NaN     H24              779059.0              NaN   \n",
       "1 -122.421547          NaN     H24                   NaN              NaN   \n",
       "2 -122.403135          NaN     H24              352312.0              NaN   \n",
       "3 -122.419004          NaN     H24              346882.0              NaN   \n",
       "4 -122.413641          NaN     H24              340024.0       10/10/2001   \n",
       "\n",
       "                      owner_name                 owner_address     owner_city  \\\n",
       "0                   Tiramisu LLC                  33 Belden St  San Francisco   \n",
       "1            24 Hour Fitness Inc  1200 Van Ness Ave, 3rd Floor  San Francisco   \n",
       "2  OMNI San Francisco Hotel Corp  500 California St, 2nd Floor  San Francisco   \n",
       "3               Norman Antiforda           2801 Leavenworth St  San Francisco   \n",
       "4      HARB, CHARLES AND KRISTIN                  1150 SANCHEZ           S.F.   \n",
       "\n",
       "  owner_state owner_zip  \n",
       "0          CA     94104  \n",
       "1          CA     94109  \n",
       "2          CA     94104  \n",
       "3          CA     94133  \n",
       "4          CA     94114  "
      ]
     },
     "execution_count": 7,
     "metadata": {},
     "output_type": "execute_result"
    }
   ],
   "source": [
    "businesses = pd.read_csv('./data/businesses_plus.csv', parse_dates=True, dtype={'phone_number': str})\n",
    "businesses.head()\n",
    "# dtype casts the column as a specific data type"
   ]
  },
  {
   "cell_type": "code",
   "execution_count": 10,
   "metadata": {
    "collapsed": false
   },
   "outputs": [
    {
     "data": {
      "text/html": [
       "<div>\n",
       "<table border=\"1\" class=\"dataframe\">\n",
       "  <thead>\n",
       "    <tr style=\"text-align: right;\">\n",
       "      <th></th>\n",
       "      <th>business_id</th>\n",
       "      <th>latitude</th>\n",
       "      <th>longitude</th>\n",
       "      <th>business_certificate</th>\n",
       "    </tr>\n",
       "  </thead>\n",
       "  <tbody>\n",
       "    <tr>\n",
       "      <th>count</th>\n",
       "      <td>7544.000000</td>\n",
       "      <td>4622.000000</td>\n",
       "      <td>4622.000000</td>\n",
       "      <td>6.325000e+03</td>\n",
       "    </tr>\n",
       "    <tr>\n",
       "      <th>mean</th>\n",
       "      <td>45598.628314</td>\n",
       "      <td>37.643185</td>\n",
       "      <td>-122.001268</td>\n",
       "      <td>4.993254e+05</td>\n",
       "    </tr>\n",
       "    <tr>\n",
       "      <th>std</th>\n",
       "      <td>33127.061603</td>\n",
       "      <td>2.218984</td>\n",
       "      <td>7.191391</td>\n",
       "      <td>2.740166e+05</td>\n",
       "    </tr>\n",
       "    <tr>\n",
       "      <th>min</th>\n",
       "      <td>10.000000</td>\n",
       "      <td>0.000000</td>\n",
       "      <td>-122.510896</td>\n",
       "      <td>6.710000e+02</td>\n",
       "    </tr>\n",
       "    <tr>\n",
       "      <th>25%</th>\n",
       "      <td>6051.250000</td>\n",
       "      <td>NaN</td>\n",
       "      <td>NaN</td>\n",
       "      <td>NaN</td>\n",
       "    </tr>\n",
       "    <tr>\n",
       "      <th>50%</th>\n",
       "      <td>62572.500000</td>\n",
       "      <td>NaN</td>\n",
       "      <td>NaN</td>\n",
       "      <td>NaN</td>\n",
       "    </tr>\n",
       "    <tr>\n",
       "      <th>75%</th>\n",
       "      <td>76842.500000</td>\n",
       "      <td>NaN</td>\n",
       "      <td>NaN</td>\n",
       "      <td>NaN</td>\n",
       "    </tr>\n",
       "    <tr>\n",
       "      <th>max</th>\n",
       "      <td>87213.000000</td>\n",
       "      <td>37.875937</td>\n",
       "      <td>0.000000</td>\n",
       "      <td>7.451600e+06</td>\n",
       "    </tr>\n",
       "  </tbody>\n",
       "</table>\n",
       "</div>"
      ],
      "text/plain": [
       "        business_id     latitude    longitude  business_certificate\n",
       "count   7544.000000  4622.000000  4622.000000          6.325000e+03\n",
       "mean   45598.628314    37.643185  -122.001268          4.993254e+05\n",
       "std    33127.061603     2.218984     7.191391          2.740166e+05\n",
       "min       10.000000     0.000000  -122.510896          6.710000e+02\n",
       "25%     6051.250000          NaN          NaN                   NaN\n",
       "50%    62572.500000          NaN          NaN                   NaN\n",
       "75%    76842.500000          NaN          NaN                   NaN\n",
       "max    87213.000000    37.875937     0.000000          7.451600e+06"
      ]
     },
     "execution_count": 10,
     "metadata": {},
     "output_type": "execute_result"
    }
   ],
   "source": [
    "businesses.describe()"
   ]
  },
  {
   "cell_type": "code",
   "execution_count": 11,
   "metadata": {
    "collapsed": false
   },
   "outputs": [
    {
     "name": "stdout",
     "output_type": "stream",
     "text": [
      "<class 'pandas.core.frame.DataFrame'>\n",
      "RangeIndex: 7544 entries, 0 to 7543\n",
      "Data columns (total 16 columns):\n",
      "business_id             7544 non-null int64\n",
      "name                    7542 non-null object\n",
      "address                 7544 non-null object\n",
      "city                    5778 non-null object\n",
      "postal_code             7248 non-null object\n",
      "latitude                4622 non-null float64\n",
      "longitude               4622 non-null float64\n",
      "phone_number            2173 non-null object\n",
      "TaxCode                 7536 non-null object\n",
      "business_certificate    6325 non-null float64\n",
      "application_date        5635 non-null object\n",
      "owner_name              7536 non-null object\n",
      "owner_address           7522 non-null object\n",
      "owner_city              7506 non-null object\n",
      "owner_state             7507 non-null object\n",
      "owner_zip               7480 non-null object\n",
      "dtypes: float64(3), int64(1), object(12)\n",
      "memory usage: 943.1+ KB\n"
     ]
    }
   ],
   "source": [
    "businesses.info()"
   ]
  },
  {
   "cell_type": "code",
   "execution_count": 3,
   "metadata": {
    "collapsed": false
   },
   "outputs": [
    {
     "data": {
      "text/html": [
       "<div>\n",
       "<table border=\"1\" class=\"dataframe\">\n",
       "  <thead>\n",
       "    <tr style=\"text-align: right;\">\n",
       "      <th></th>\n",
       "      <th>business_id</th>\n",
       "      <th>Score</th>\n",
       "      <th>date</th>\n",
       "      <th>type</th>\n",
       "    </tr>\n",
       "  </thead>\n",
       "  <tbody>\n",
       "    <tr>\n",
       "      <th>0</th>\n",
       "      <td>10</td>\n",
       "      <td>NaN</td>\n",
       "      <td>20140807</td>\n",
       "      <td>Reinspection/Followup</td>\n",
       "    </tr>\n",
       "    <tr>\n",
       "      <th>1</th>\n",
       "      <td>10</td>\n",
       "      <td>94.0</td>\n",
       "      <td>20140729</td>\n",
       "      <td>Routine - Unscheduled</td>\n",
       "    </tr>\n",
       "    <tr>\n",
       "      <th>2</th>\n",
       "      <td>10</td>\n",
       "      <td>NaN</td>\n",
       "      <td>20140124</td>\n",
       "      <td>Reinspection/Followup</td>\n",
       "    </tr>\n",
       "    <tr>\n",
       "      <th>3</th>\n",
       "      <td>10</td>\n",
       "      <td>92.0</td>\n",
       "      <td>20140114</td>\n",
       "      <td>Routine - Unscheduled</td>\n",
       "    </tr>\n",
       "    <tr>\n",
       "      <th>4</th>\n",
       "      <td>19</td>\n",
       "      <td>94.0</td>\n",
       "      <td>20141110</td>\n",
       "      <td>Routine - Unscheduled</td>\n",
       "    </tr>\n",
       "  </tbody>\n",
       "</table>\n",
       "</div>"
      ],
      "text/plain": [
       "   business_id  Score      date                   type\n",
       "0           10    NaN  20140807  Reinspection/Followup\n",
       "1           10   94.0  20140729  Routine - Unscheduled\n",
       "2           10    NaN  20140124  Reinspection/Followup\n",
       "3           10   92.0  20140114  Routine - Unscheduled\n",
       "4           19   94.0  20141110  Routine - Unscheduled"
      ]
     },
     "execution_count": 3,
     "metadata": {},
     "output_type": "execute_result"
    }
   ],
   "source": [
    "inspections = pd.read_csv('./data/inspections_plus.csv', parse_dates=True)\n",
    "inspections.head()"
   ]
  },
  {
   "cell_type": "code",
   "execution_count": 12,
   "metadata": {
    "collapsed": false
   },
   "outputs": [
    {
     "name": "stdout",
     "output_type": "stream",
     "text": [
      "<class 'pandas.core.frame.DataFrame'>\n",
      "RangeIndex: 27285 entries, 0 to 27284\n",
      "Data columns (total 4 columns):\n",
      "business_id    27285 non-null int64\n",
      "Score          15263 non-null float64\n",
      "date           27285 non-null int64\n",
      "type           27285 non-null object\n",
      "dtypes: float64(1), int64(2), object(1)\n",
      "memory usage: 852.7+ KB\n"
     ]
    }
   ],
   "source": [
    "inspections.info()"
   ]
  },
  {
   "cell_type": "code",
   "execution_count": null,
   "metadata": {
    "collapsed": true
   },
   "outputs": [],
   "source": []
  },
  {
   "cell_type": "code",
   "execution_count": 4,
   "metadata": {
    "collapsed": false
   },
   "outputs": [
    {
     "data": {
      "text/html": [
       "<div>\n",
       "<table border=\"1\" class=\"dataframe\">\n",
       "  <thead>\n",
       "    <tr style=\"text-align: right;\">\n",
       "      <th></th>\n",
       "      <th>business_id</th>\n",
       "      <th>date</th>\n",
       "      <th>ViolationTypeID</th>\n",
       "      <th>risk_category</th>\n",
       "      <th>description</th>\n",
       "    </tr>\n",
       "  </thead>\n",
       "  <tbody>\n",
       "    <tr>\n",
       "      <th>0</th>\n",
       "      <td>10</td>\n",
       "      <td>20140114</td>\n",
       "      <td>103154</td>\n",
       "      <td>Low Risk</td>\n",
       "      <td>Unclean or degraded floors walls or ceilings</td>\n",
       "    </tr>\n",
       "    <tr>\n",
       "      <th>1</th>\n",
       "      <td>10</td>\n",
       "      <td>20140114</td>\n",
       "      <td>103119</td>\n",
       "      <td>Moderate Risk</td>\n",
       "      <td>Inadequate and inaccessible handwashing facili...</td>\n",
       "    </tr>\n",
       "    <tr>\n",
       "      <th>2</th>\n",
       "      <td>10</td>\n",
       "      <td>20140114</td>\n",
       "      <td>103145</td>\n",
       "      <td>Low Risk</td>\n",
       "      <td>Improper storage of equipment utensils or linens</td>\n",
       "    </tr>\n",
       "    <tr>\n",
       "      <th>3</th>\n",
       "      <td>10</td>\n",
       "      <td>20140729</td>\n",
       "      <td>103129</td>\n",
       "      <td>Moderate Risk</td>\n",
       "      <td>Insufficient hot water or running water</td>\n",
       "    </tr>\n",
       "    <tr>\n",
       "      <th>4</th>\n",
       "      <td>10</td>\n",
       "      <td>20140729</td>\n",
       "      <td>103144</td>\n",
       "      <td>Low Risk</td>\n",
       "      <td>Unapproved or unmaintained equipment or utensils</td>\n",
       "    </tr>\n",
       "  </tbody>\n",
       "</table>\n",
       "</div>"
      ],
      "text/plain": [
       "   business_id      date  ViolationTypeID  risk_category  \\\n",
       "0           10  20140114           103154       Low Risk   \n",
       "1           10  20140114           103119  Moderate Risk   \n",
       "2           10  20140114           103145       Low Risk   \n",
       "3           10  20140729           103129  Moderate Risk   \n",
       "4           10  20140729           103144       Low Risk   \n",
       "\n",
       "                                         description  \n",
       "0       Unclean or degraded floors walls or ceilings  \n",
       "1  Inadequate and inaccessible handwashing facili...  \n",
       "2   Improper storage of equipment utensils or linens  \n",
       "3            Insufficient hot water or running water  \n",
       "4   Unapproved or unmaintained equipment or utensils  "
      ]
     },
     "execution_count": 4,
     "metadata": {},
     "output_type": "execute_result"
    }
   ],
   "source": [
    "violations = pd.read_csv('./data/violations_plus.csv', parse_dates=True)\n",
    "violations.head()"
   ]
  },
  {
   "cell_type": "code",
   "execution_count": 14,
   "metadata": {
    "collapsed": false
   },
   "outputs": [
    {
     "name": "stdout",
     "output_type": "stream",
     "text": [
      "<class 'pandas.core.frame.DataFrame'>\n",
      "RangeIndex: 39720 entries, 0 to 39719\n",
      "Data columns (total 5 columns):\n",
      "business_id        39720 non-null int64\n",
      "date               39720 non-null int64\n",
      "ViolationTypeID    39720 non-null int64\n",
      "risk_category      39710 non-null object\n",
      "description        39710 non-null object\n",
      "dtypes: int64(3), object(2)\n",
      "memory usage: 1.5+ MB\n"
     ]
    }
   ],
   "source": [
    "violations.info()"
   ]
  },
  {
   "cell_type": "code",
   "execution_count": null,
   "metadata": {
    "collapsed": false
   },
   "outputs": [],
   "source": [
    "# 1 Combine the three dataframes into one data frame called restaurant_scores\n",
    "# Hint: http://pandas.pydata.org/pandas-docs/stable/merging.html"
   ]
  },
  {
   "cell_type": "code",
   "execution_count": null,
   "metadata": {
    "collapsed": false
   },
   "outputs": [],
   "source": [
    "# 2 Which ten business have had the most inspections?"
   ]
  },
  {
   "cell_type": "code",
   "execution_count": null,
   "metadata": {
    "collapsed": true
   },
   "outputs": [],
   "source": [
    "# 3 Group and count the inspections by type"
   ]
  },
  {
   "cell_type": "code",
   "execution_count": null,
   "metadata": {
    "collapsed": false
   },
   "outputs": [],
   "source": [
    "# 4 Create a plot that shows number of inspections per month\n",
    "# Bonus for creating a heatmap\n",
    "# http://stanford.edu/~mwaskom/software/seaborn/generated/seaborn.heatmap.html?highlight=heatmap"
   ]
  },
  {
   "cell_type": "code",
   "execution_count": null,
   "metadata": {
    "collapsed": true
   },
   "outputs": [],
   "source": [
    "# 5 Which zip code contains the most high risk violations?"
   ]
  },
  {
   "cell_type": "code",
   "execution_count": null,
   "metadata": {
    "collapsed": true
   },
   "outputs": [],
   "source": [
    "# 6 If inspection is prompted by a change in restaurant ownership, \n",
    "# is the inspection more likely to be categorized as higher or lower risk?"
   ]
  },
  {
   "cell_type": "code",
   "execution_count": null,
   "metadata": {
    "collapsed": true
   },
   "outputs": [],
   "source": [
    "# 7 Examining the descriptions, what is the most common violation?"
   ]
  },
  {
   "cell_type": "code",
   "execution_count": null,
   "metadata": {
    "collapsed": true
   },
   "outputs": [],
   "source": [
    "# 8 Create a hist of the scores with 10 bins"
   ]
  },
  {
   "cell_type": "code",
   "execution_count": null,
   "metadata": {
    "collapsed": true
   },
   "outputs": [],
   "source": [
    "# 9 Can you predict risk category based on the other features in this dataset?"
   ]
  },
  {
   "cell_type": "code",
   "execution_count": null,
   "metadata": {
    "collapsed": true
   },
   "outputs": [],
   "source": [
    "# 10 Extra Credit:\n",
    "# Use Instagram location API to find pictures taken at the lat, long of the most High Risk restaurant\n",
    "# https://www.instagram.com/developer/endpoints/locations/"
   ]
  },
  {
   "cell_type": "code",
   "execution_count": null,
   "metadata": {
    "collapsed": true
   },
   "outputs": [],
   "source": [
    "############################\n",
    "### A Little More Morbid ###\n",
    "############################"
   ]
  },
  {
   "cell_type": "code",
   "execution_count": null,
   "metadata": {
    "collapsed": false
   },
   "outputs": [],
   "source": [
    "killings = pd.read_csv('./data/police-killings.csv')\n",
    "killings.head()"
   ]
  },
  {
   "cell_type": "code",
   "execution_count": null,
   "metadata": {
    "collapsed": true
   },
   "outputs": [],
   "source": [
    "# 1. Make the following changed to column names:\n",
    "# lawenforcementagency -> agency\n",
    "# raceethnicity        -> race"
   ]
  },
  {
   "cell_type": "code",
   "execution_count": null,
   "metadata": {
    "collapsed": true
   },
   "outputs": [],
   "source": [
    "# 2. Show the count of missing values in each column"
   ]
  },
  {
   "cell_type": "code",
   "execution_count": null,
   "metadata": {
    "collapsed": true
   },
   "outputs": [],
   "source": [
    "# 3. replace each null value in the dataframe with the string \"Unknown\""
   ]
  },
  {
   "cell_type": "code",
   "execution_count": null,
   "metadata": {
    "collapsed": true
   },
   "outputs": [],
   "source": [
    "# 4. How many killings were there so far in 2015?"
   ]
  },
  {
   "cell_type": "code",
   "execution_count": null,
   "metadata": {
    "collapsed": true
   },
   "outputs": [],
   "source": [
    "# 5. Of all killings, how many were male and how many female?"
   ]
  },
  {
   "cell_type": "code",
   "execution_count": null,
   "metadata": {
    "collapsed": true
   },
   "outputs": [],
   "source": [
    "# 6. How many killings were of unarmed people?"
   ]
  },
  {
   "cell_type": "code",
   "execution_count": null,
   "metadata": {
    "collapsed": true
   },
   "outputs": [],
   "source": [
    "# 7. What percentage of all killings were unarmed?"
   ]
  },
  {
   "cell_type": "code",
   "execution_count": null,
   "metadata": {
    "collapsed": true
   },
   "outputs": [],
   "source": [
    "# 8. What are the 5 states with the most killings?"
   ]
  },
  {
   "cell_type": "code",
   "execution_count": null,
   "metadata": {
    "collapsed": true
   },
   "outputs": [],
   "source": [
    "# 9. Show a value counts of deaths for each race"
   ]
  },
  {
   "cell_type": "code",
   "execution_count": null,
   "metadata": {
    "collapsed": true
   },
   "outputs": [],
   "source": [
    "# 10. Display a histogram of ages of all killings"
   ]
  },
  {
   "cell_type": "code",
   "execution_count": null,
   "metadata": {
    "collapsed": true
   },
   "outputs": [],
   "source": [
    "# 11. Show 6 histograms of ages by race"
   ]
  },
  {
   "cell_type": "code",
   "execution_count": null,
   "metadata": {
    "collapsed": true
   },
   "outputs": [],
   "source": [
    "# 12. What is the average age of death by race?"
   ]
  },
  {
   "cell_type": "code",
   "execution_count": null,
   "metadata": {
    "collapsed": true
   },
   "outputs": [],
   "source": [
    "# 13. Show a bar chart with counts of deaths every month"
   ]
  },
  {
   "cell_type": "code",
   "execution_count": null,
   "metadata": {
    "collapsed": true
   },
   "outputs": [],
   "source": [
    "###################\n",
    "### Less Morbid ###\n",
    "###################"
   ]
  },
  {
   "cell_type": "code",
   "execution_count": null,
   "metadata": {
    "collapsed": false
   },
   "outputs": [],
   "source": [
    "majors = pd.read_csv('./data/college-majors.csv')\n",
    "majors.head()"
   ]
  },
  {
   "cell_type": "code",
   "execution_count": null,
   "metadata": {
    "collapsed": true
   },
   "outputs": [],
   "source": [
    "# 1. Delete the columns (employed_full_time_year_round, major_code)"
   ]
  },
  {
   "cell_type": "code",
   "execution_count": null,
   "metadata": {
    "collapsed": true
   },
   "outputs": [],
   "source": [
    "# 2. Show the cout of missing values in each column"
   ]
  },
  {
   "cell_type": "code",
   "execution_count": null,
   "metadata": {
    "collapsed": true
   },
   "outputs": [],
   "source": [
    "# 3. What are the top 10 highest paying majors?"
   ]
  },
  {
   "cell_type": "code",
   "execution_count": null,
   "metadata": {
    "collapsed": true
   },
   "outputs": [],
   "source": [
    "# 4. Plot the data from the last question in a bar chart, include proper title, and labels!"
   ]
  },
  {
   "cell_type": "code",
   "execution_count": null,
   "metadata": {
    "collapsed": true
   },
   "outputs": [],
   "source": [
    "# 5. What is the average median salary for each major category?"
   ]
  },
  {
   "cell_type": "code",
   "execution_count": null,
   "metadata": {
    "collapsed": true
   },
   "outputs": [],
   "source": [
    "# 6. Show only the top 5 paying major categories"
   ]
  },
  {
   "cell_type": "code",
   "execution_count": null,
   "metadata": {
    "collapsed": true
   },
   "outputs": [],
   "source": [
    "# 7. Plot a histogram of the distribution of median salaries"
   ]
  },
  {
   "cell_type": "code",
   "execution_count": null,
   "metadata": {
    "collapsed": true
   },
   "outputs": [],
   "source": [
    "# 8. Plot a histogram of the distribution of median salaries by major category"
   ]
  },
  {
   "cell_type": "code",
   "execution_count": null,
   "metadata": {
    "collapsed": true
   },
   "outputs": [],
   "source": [
    "# 9. What are the top 10 most UNemployed majors?"
   ]
  },
  {
   "cell_type": "code",
   "execution_count": null,
   "metadata": {
    "collapsed": true
   },
   "outputs": [],
   "source": [
    "# What are the unemployment rates?"
   ]
  },
  {
   "cell_type": "code",
   "execution_count": null,
   "metadata": {
    "collapsed": true
   },
   "outputs": [],
   "source": [
    "# 10. What are the top 10 most UNemployed majors CATEGORIES? Use the mean for each category\n",
    "# What are the unemployment rates?"
   ]
  },
  {
   "cell_type": "code",
   "execution_count": null,
   "metadata": {
    "collapsed": true
   },
   "outputs": [],
   "source": [
    "# 11. the total and employed column refer to the people that were surveyed.\n",
    "# Create a new column showing the emlpoyment rate of the people surveyed for each major\n",
    "# call it \"sample_employment_rate\"\n",
    "# Example the first row has total: 128148 and employed: 90245. it's \n",
    "# sample_employment_rate should be 90245.0 / 128148.0 = .7042"
   ]
  },
  {
   "cell_type": "code",
   "execution_count": null,
   "metadata": {
    "collapsed": true
   },
   "outputs": [],
   "source": [
    "# 12. Create a \"sample_unemployment_rate\" column\n",
    "# this column should be 1 - \"sample_employment_rate\""
   ]
  },
  {
   "cell_type": "code",
   "execution_count": null,
   "metadata": {
    "collapsed": true
   },
   "outputs": [],
   "source": []
  }
 ],
 "metadata": {
  "anaconda-cloud": {},
  "kernelspec": {
   "display_name": "Python [datascience]",
   "language": "python",
   "name": "Python [datascience]"
  },
  "language_info": {
   "codemirror_mode": {
    "name": "ipython",
    "version": 2
   },
   "file_extension": ".py",
   "mimetype": "text/x-python",
   "name": "python",
   "nbconvert_exporter": "python",
   "pygments_lexer": "ipython2",
   "version": "2.7.12"
  }
 },
 "nbformat": 4,
 "nbformat_minor": 0
}
