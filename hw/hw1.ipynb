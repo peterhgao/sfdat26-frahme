{
 "cells": [
  {
   "cell_type": "code",
   "execution_count": 2,
   "metadata": {
    "collapsed": true
   },
   "outputs": [],
   "source": [
    "import pandas as pd\n",
    "import matplotlib.pyplot as plt\n",
    "%matplotlib inline\n",
    "# pd.set_option('max_colwidth', 50)\n",
    "# set this if you need to"
   ]
  },
  {
   "cell_type": "markdown",
   "metadata": {},
   "source": [
    "The Health Department has developed an inspection report and scoring system. \n",
    "After conducting an inspection of the facility, the Health Inspector calculates a score based on the violations observed. \n",
    "Violations can fall into:\n",
    "- **high risk category**: records specific violations that directly relate to the transmission of food borne illnesses,the adulteration of food products and the contamination of food-contact surfaces.\n",
    "- **moderate risk category**: records specific violations that are of a moderate risk to the public health and safety.\n",
    "- **low risk category**: records violations that are low risk or have no immediate risk to the public health and safety."
   ]
  },
  {
   "cell_type": "code",
   "execution_count": 3,
   "metadata": {
    "collapsed": false
   },
   "outputs": [
    {
     "data": {
      "text/html": [
       "<div>\n",
       "<table border=\"1\" class=\"dataframe\">\n",
       "  <thead>\n",
       "    <tr style=\"text-align: right;\">\n",
       "      <th></th>\n",
       "      <th>business_id</th>\n",
       "      <th>name</th>\n",
       "      <th>address</th>\n",
       "      <th>city</th>\n",
       "      <th>postal_code</th>\n",
       "      <th>latitude</th>\n",
       "      <th>longitude</th>\n",
       "      <th>phone_number</th>\n",
       "      <th>TaxCode</th>\n",
       "      <th>business_certificate</th>\n",
       "      <th>application_date</th>\n",
       "      <th>owner_name</th>\n",
       "      <th>owner_address</th>\n",
       "      <th>owner_city</th>\n",
       "      <th>owner_state</th>\n",
       "      <th>owner_zip</th>\n",
       "    </tr>\n",
       "  </thead>\n",
       "  <tbody>\n",
       "    <tr>\n",
       "      <th>0</th>\n",
       "      <td>10</td>\n",
       "      <td>Tiramisu Kitchen</td>\n",
       "      <td>033 Belden Pl</td>\n",
       "      <td>San Francisco</td>\n",
       "      <td>94104</td>\n",
       "      <td>37.791116</td>\n",
       "      <td>-122.403816</td>\n",
       "      <td>NaN</td>\n",
       "      <td>H24</td>\n",
       "      <td>779059.0</td>\n",
       "      <td>NaN</td>\n",
       "      <td>Tiramisu LLC</td>\n",
       "      <td>33 Belden St</td>\n",
       "      <td>San Francisco</td>\n",
       "      <td>CA</td>\n",
       "      <td>94104</td>\n",
       "    </tr>\n",
       "    <tr>\n",
       "      <th>1</th>\n",
       "      <td>19</td>\n",
       "      <td>Nrgize Lifestyle Cafe</td>\n",
       "      <td>1200 Van Ness Ave, 3rd Floor</td>\n",
       "      <td>San Francisco</td>\n",
       "      <td>94109</td>\n",
       "      <td>37.786848</td>\n",
       "      <td>-122.421547</td>\n",
       "      <td>NaN</td>\n",
       "      <td>H24</td>\n",
       "      <td>NaN</td>\n",
       "      <td>NaN</td>\n",
       "      <td>24 Hour Fitness Inc</td>\n",
       "      <td>1200 Van Ness Ave, 3rd Floor</td>\n",
       "      <td>San Francisco</td>\n",
       "      <td>CA</td>\n",
       "      <td>94109</td>\n",
       "    </tr>\n",
       "    <tr>\n",
       "      <th>2</th>\n",
       "      <td>24</td>\n",
       "      <td>OMNI S.F. Hotel - 2nd Floor Pantry</td>\n",
       "      <td>500 California St, 2nd  Floor</td>\n",
       "      <td>San Francisco</td>\n",
       "      <td>94104</td>\n",
       "      <td>37.792888</td>\n",
       "      <td>-122.403135</td>\n",
       "      <td>NaN</td>\n",
       "      <td>H24</td>\n",
       "      <td>352312.0</td>\n",
       "      <td>NaN</td>\n",
       "      <td>OMNI San Francisco Hotel Corp</td>\n",
       "      <td>500 California St, 2nd Floor</td>\n",
       "      <td>San Francisco</td>\n",
       "      <td>CA</td>\n",
       "      <td>94104</td>\n",
       "    </tr>\n",
       "    <tr>\n",
       "      <th>3</th>\n",
       "      <td>31</td>\n",
       "      <td>Norman's Ice Cream and Freezes</td>\n",
       "      <td>2801 Leavenworth St</td>\n",
       "      <td>San Francisco</td>\n",
       "      <td>94133</td>\n",
       "      <td>37.807155</td>\n",
       "      <td>-122.419004</td>\n",
       "      <td>NaN</td>\n",
       "      <td>H24</td>\n",
       "      <td>346882.0</td>\n",
       "      <td>NaN</td>\n",
       "      <td>Norman Antiforda</td>\n",
       "      <td>2801 Leavenworth St</td>\n",
       "      <td>San Francisco</td>\n",
       "      <td>CA</td>\n",
       "      <td>94133</td>\n",
       "    </tr>\n",
       "    <tr>\n",
       "      <th>4</th>\n",
       "      <td>45</td>\n",
       "      <td>CHARLIE'S DELI CAFE</td>\n",
       "      <td>3202 FOLSOM St</td>\n",
       "      <td>S.F.</td>\n",
       "      <td>94110</td>\n",
       "      <td>37.747114</td>\n",
       "      <td>-122.413641</td>\n",
       "      <td>NaN</td>\n",
       "      <td>H24</td>\n",
       "      <td>340024.0</td>\n",
       "      <td>10/10/2001</td>\n",
       "      <td>HARB, CHARLES AND KRISTIN</td>\n",
       "      <td>1150 SANCHEZ</td>\n",
       "      <td>S.F.</td>\n",
       "      <td>CA</td>\n",
       "      <td>94114</td>\n",
       "    </tr>\n",
       "  </tbody>\n",
       "</table>\n",
       "</div>"
      ],
      "text/plain": [
       "   business_id                                name  \\\n",
       "0           10                    Tiramisu Kitchen   \n",
       "1           19               Nrgize Lifestyle Cafe   \n",
       "2           24  OMNI S.F. Hotel - 2nd Floor Pantry   \n",
       "3           31      Norman's Ice Cream and Freezes   \n",
       "4           45                 CHARLIE'S DELI CAFE   \n",
       "\n",
       "                         address           city postal_code   latitude  \\\n",
       "0                  033 Belden Pl  San Francisco       94104  37.791116   \n",
       "1   1200 Van Ness Ave, 3rd Floor  San Francisco       94109  37.786848   \n",
       "2  500 California St, 2nd  Floor  San Francisco       94104  37.792888   \n",
       "3           2801 Leavenworth St   San Francisco       94133  37.807155   \n",
       "4                3202 FOLSOM St            S.F.       94110  37.747114   \n",
       "\n",
       "    longitude phone_number TaxCode  business_certificate application_date  \\\n",
       "0 -122.403816          NaN     H24              779059.0              NaN   \n",
       "1 -122.421547          NaN     H24                   NaN              NaN   \n",
       "2 -122.403135          NaN     H24              352312.0              NaN   \n",
       "3 -122.419004          NaN     H24              346882.0              NaN   \n",
       "4 -122.413641          NaN     H24              340024.0       10/10/2001   \n",
       "\n",
       "                      owner_name                 owner_address     owner_city  \\\n",
       "0                   Tiramisu LLC                  33 Belden St  San Francisco   \n",
       "1            24 Hour Fitness Inc  1200 Van Ness Ave, 3rd Floor  San Francisco   \n",
       "2  OMNI San Francisco Hotel Corp  500 California St, 2nd Floor  San Francisco   \n",
       "3               Norman Antiforda           2801 Leavenworth St  San Francisco   \n",
       "4      HARB, CHARLES AND KRISTIN                  1150 SANCHEZ           S.F.   \n",
       "\n",
       "  owner_state owner_zip  \n",
       "0          CA     94104  \n",
       "1          CA     94109  \n",
       "2          CA     94104  \n",
       "3          CA     94133  \n",
       "4          CA     94114  "
      ]
     },
     "execution_count": 3,
     "metadata": {},
     "output_type": "execute_result"
    }
   ],
   "source": [
    "businesses = pd.read_csv('./data/businesses_plus.csv', parse_dates=True, dtype={'phone_number': str})\n",
    "businesses.head()\n",
    "# dtype casts the column as a specific data type"
   ]
  },
  {
   "cell_type": "code",
   "execution_count": 4,
   "metadata": {
    "collapsed": false
   },
   "outputs": [
    {
     "name": "stdout",
     "output_type": "stream",
     "text": [
      "<class 'pandas.core.frame.DataFrame'>\n",
      "RangeIndex: 7544 entries, 0 to 7543\n",
      "Data columns (total 16 columns):\n",
      "business_id             7544 non-null int64\n",
      "name                    7542 non-null object\n",
      "address                 7544 non-null object\n",
      "city                    5778 non-null object\n",
      "postal_code             7248 non-null object\n",
      "latitude                4622 non-null float64\n",
      "longitude               4622 non-null float64\n",
      "phone_number            2173 non-null object\n",
      "TaxCode                 7536 non-null object\n",
      "business_certificate    6325 non-null float64\n",
      "application_date        5635 non-null object\n",
      "owner_name              7536 non-null object\n",
      "owner_address           7522 non-null object\n",
      "owner_city              7506 non-null object\n",
      "owner_state             7507 non-null object\n",
      "owner_zip               7480 non-null object\n",
      "dtypes: float64(3), int64(1), object(12)\n",
      "memory usage: 943.1+ KB\n"
     ]
    }
   ],
   "source": [
    "businesses.info()"
   ]
  },
  {
   "cell_type": "code",
   "execution_count": 5,
   "metadata": {
    "collapsed": false
   },
   "outputs": [
    {
     "data": {
      "text/html": [
       "<div>\n",
       "<table border=\"1\" class=\"dataframe\">\n",
       "  <thead>\n",
       "    <tr style=\"text-align: right;\">\n",
       "      <th></th>\n",
       "      <th>business_id</th>\n",
       "      <th>name</th>\n",
       "      <th>address</th>\n",
       "      <th>city</th>\n",
       "      <th>postal_code</th>\n",
       "      <th>latitude</th>\n",
       "      <th>longitude</th>\n",
       "      <th>phone_number</th>\n",
       "      <th>TaxCode</th>\n",
       "      <th>business_certificate</th>\n",
       "      <th>application_date</th>\n",
       "      <th>owner_name</th>\n",
       "      <th>owner_address</th>\n",
       "      <th>owner_city</th>\n",
       "      <th>owner_state</th>\n",
       "      <th>owner_zip</th>\n",
       "    </tr>\n",
       "  </thead>\n",
       "  <tbody>\n",
       "    <tr>\n",
       "      <th>2398</th>\n",
       "      <td>8202</td>\n",
       "      <td>Xiao Loong</td>\n",
       "      <td>250 WEST PORTAL AVENUE</td>\n",
       "      <td>NaN</td>\n",
       "      <td>NaN</td>\n",
       "      <td>37.738616</td>\n",
       "      <td>-122.468775</td>\n",
       "      <td>+14155272647</td>\n",
       "      <td>H25</td>\n",
       "      <td>374722.0</td>\n",
       "      <td>NaN</td>\n",
       "      <td>\\tXIAO LOONG INC</td>\n",
       "      <td>250 WEST PORTAL AVE</td>\n",
       "      <td>SAN FRANCISCO</td>\n",
       "      <td>CA</td>\n",
       "      <td>94127</td>\n",
       "    </tr>\n",
       "    <tr>\n",
       "      <th>2419</th>\n",
       "      <td>9281</td>\n",
       "      <td>Walgreen's</td>\n",
       "      <td>199 Parnassus Ave</td>\n",
       "      <td>NaN</td>\n",
       "      <td>NaN</td>\n",
       "      <td>37.764444</td>\n",
       "      <td>-122.452515</td>\n",
       "      <td>NaN</td>\n",
       "      <td>H04</td>\n",
       "      <td>NaN</td>\n",
       "      <td>05/29/2003</td>\n",
       "      <td>Walgreens</td>\n",
       "      <td>P.O.Box 901</td>\n",
       "      <td>Deerfield</td>\n",
       "      <td>IL</td>\n",
       "      <td>60015</td>\n",
       "    </tr>\n",
       "    <tr>\n",
       "      <th>2426</th>\n",
       "      <td>9328</td>\n",
       "      <td>Boos Voni Tortas</td>\n",
       "      <td>5170 Mission St</td>\n",
       "      <td>NaN</td>\n",
       "      <td>NaN</td>\n",
       "      <td>37.716163</td>\n",
       "      <td>-122.441438</td>\n",
       "      <td>+14155580127</td>\n",
       "      <td>H24</td>\n",
       "      <td>370790.0</td>\n",
       "      <td>10/01/2003</td>\n",
       "      <td>Angela Miranda</td>\n",
       "      <td>5170 Mission St.</td>\n",
       "      <td>S.F.</td>\n",
       "      <td>CA</td>\n",
       "      <td>94112</td>\n",
       "    </tr>\n",
       "    <tr>\n",
       "      <th>2428</th>\n",
       "      <td>9358</td>\n",
       "      <td>Edgewood Children's Center</td>\n",
       "      <td>1801 Vicente St</td>\n",
       "      <td>NaN</td>\n",
       "      <td>NaN</td>\n",
       "      <td>37.739083</td>\n",
       "      <td>-122.485437</td>\n",
       "      <td>NaN</td>\n",
       "      <td>H91</td>\n",
       "      <td>913733.0</td>\n",
       "      <td>NaN</td>\n",
       "      <td>Edgewood Day Treatment</td>\n",
       "      <td>1801 Vicente Street</td>\n",
       "      <td>SF</td>\n",
       "      <td>CA</td>\n",
       "      <td>94116</td>\n",
       "    </tr>\n",
       "    <tr>\n",
       "      <th>2439</th>\n",
       "      <td>9582</td>\n",
       "      <td>Dimples</td>\n",
       "      <td>1700 Post St.</td>\n",
       "      <td>NaN</td>\n",
       "      <td>NaN</td>\n",
       "      <td>37.785632</td>\n",
       "      <td>-122.429794</td>\n",
       "      <td>NaN</td>\n",
       "      <td>H87</td>\n",
       "      <td>920751.0</td>\n",
       "      <td>NaN</td>\n",
       "      <td>CROUERE, SONYONG Y.</td>\n",
       "      <td>266 JUANITA WAY</td>\n",
       "      <td>SF</td>\n",
       "      <td>CA</td>\n",
       "      <td>94127</td>\n",
       "    </tr>\n",
       "    <tr>\n",
       "      <th>2442</th>\n",
       "      <td>9627</td>\n",
       "      <td>Home Sausage Company</td>\n",
       "      <td>1726 mission st.</td>\n",
       "      <td>NaN</td>\n",
       "      <td>NaN</td>\n",
       "      <td>37.769646</td>\n",
       "      <td>-122.420197</td>\n",
       "      <td>NaN</td>\n",
       "      <td>H03</td>\n",
       "      <td>NaN</td>\n",
       "      <td>NaN</td>\n",
       "      <td>Home Sausage Co.</td>\n",
       "      <td>1726 mission st.</td>\n",
       "      <td>NaN</td>\n",
       "      <td>NaN</td>\n",
       "      <td>NaN</td>\n",
       "    </tr>\n",
       "    <tr>\n",
       "      <th>2460</th>\n",
       "      <td>10011</td>\n",
       "      <td>Osha Thai Noodle</td>\n",
       "      <td>819 Valencia St.</td>\n",
       "      <td>NaN</td>\n",
       "      <td>NaN</td>\n",
       "      <td>37.759943</td>\n",
       "      <td>-122.421332</td>\n",
       "      <td>+14155319293</td>\n",
       "      <td>H25</td>\n",
       "      <td>NaN</td>\n",
       "      <td>NaN</td>\n",
       "      <td>Wassana Inc.</td>\n",
       "      <td>819 Valencia St.</td>\n",
       "      <td>S.F.</td>\n",
       "      <td>CA</td>\n",
       "      <td>94110</td>\n",
       "    </tr>\n",
       "    <tr>\n",
       "      <th>2463</th>\n",
       "      <td>10065</td>\n",
       "      <td>Tacos El Primo Catering Truck</td>\n",
       "      <td>2225  Jennings St</td>\n",
       "      <td>San Francisco</td>\n",
       "      <td>NaN</td>\n",
       "      <td>37.726230</td>\n",
       "      <td>-122.389335</td>\n",
       "      <td>+14155844975</td>\n",
       "      <td>H79</td>\n",
       "      <td>NaN</td>\n",
       "      <td>NaN</td>\n",
       "      <td>Teodoro Hernandez</td>\n",
       "      <td>1407 Revere Street</td>\n",
       "      <td>San Francisco</td>\n",
       "      <td>CA</td>\n",
       "      <td>94124</td>\n",
       "    </tr>\n",
       "    <tr>\n",
       "      <th>2469</th>\n",
       "      <td>10129</td>\n",
       "      <td>Man Hang Catering</td>\n",
       "      <td>2041 18th Ave</td>\n",
       "      <td>SO.S.F.</td>\n",
       "      <td>NaN</td>\n",
       "      <td>NaN</td>\n",
       "      <td>NaN</td>\n",
       "      <td>NaN</td>\n",
       "      <td>H79</td>\n",
       "      <td>NaN</td>\n",
       "      <td>NaN</td>\n",
       "      <td>Chan, Fu</td>\n",
       "      <td>1686 36th Avenue</td>\n",
       "      <td>San Francisco</td>\n",
       "      <td>CA</td>\n",
       "      <td>94122</td>\n",
       "    </tr>\n",
       "    <tr>\n",
       "      <th>2476</th>\n",
       "      <td>10227</td>\n",
       "      <td>The Napper Tandy</td>\n",
       "      <td>3200 24th St</td>\n",
       "      <td>NaN</td>\n",
       "      <td>NaN</td>\n",
       "      <td>37.752581</td>\n",
       "      <td>-122.416482</td>\n",
       "      <td>NaN</td>\n",
       "      <td>H25</td>\n",
       "      <td>396103.0</td>\n",
       "      <td>02/02/2004</td>\n",
       "      <td>P.F.M. Enterprises</td>\n",
       "      <td>3200 24th Street</td>\n",
       "      <td>SF</td>\n",
       "      <td>CA</td>\n",
       "      <td>94110</td>\n",
       "    </tr>\n",
       "    <tr>\n",
       "      <th>2486</th>\n",
       "      <td>10373</td>\n",
       "      <td>El Tonayense #4</td>\n",
       "      <td>1717 Harrison St</td>\n",
       "      <td>NaN</td>\n",
       "      <td>NaN</td>\n",
       "      <td>37.769426</td>\n",
       "      <td>-122.413446</td>\n",
       "      <td>+14155556127</td>\n",
       "      <td>H79</td>\n",
       "      <td>NaN</td>\n",
       "      <td>NaN</td>\n",
       "      <td>Santana, Nelly</td>\n",
       "      <td>33 Amaryllis Court</td>\n",
       "      <td>South San Francisco</td>\n",
       "      <td>CA</td>\n",
       "      <td>94080</td>\n",
       "    </tr>\n",
       "    <tr>\n",
       "      <th>2487</th>\n",
       "      <td>10376</td>\n",
       "      <td>Good Frikin Chicken</td>\n",
       "      <td>10 29th St</td>\n",
       "      <td>NaN</td>\n",
       "      <td>NaN</td>\n",
       "      <td>37.744369</td>\n",
       "      <td>-122.420967</td>\n",
       "      <td>NaN</td>\n",
       "      <td>H25</td>\n",
       "      <td>373312.0</td>\n",
       "      <td>12/16/2003</td>\n",
       "      <td>Nabeel A. Yousef</td>\n",
       "      <td>10 29th St.</td>\n",
       "      <td>S.F.</td>\n",
       "      <td>CA</td>\n",
       "      <td>94110</td>\n",
       "    </tr>\n",
       "    <tr>\n",
       "      <th>2494</th>\n",
       "      <td>10572</td>\n",
       "      <td>Edison Charter Academy</td>\n",
       "      <td>3531 22nd St</td>\n",
       "      <td>NaN</td>\n",
       "      <td>NaN</td>\n",
       "      <td>37.755193</td>\n",
       "      <td>-122.425999</td>\n",
       "      <td>NaN</td>\n",
       "      <td>H91</td>\n",
       "      <td>NaN</td>\n",
       "      <td>02/12/2003</td>\n",
       "      <td>SAN FRANCISCO UNIFIED SCHOOL DISTRICT</td>\n",
       "      <td>3531 22nd St.</td>\n",
       "      <td>S.F.</td>\n",
       "      <td>CA</td>\n",
       "      <td>94114</td>\n",
       "    </tr>\n",
       "    <tr>\n",
       "      <th>2498</th>\n",
       "      <td>10831</td>\n",
       "      <td>Eezy Freezy Health &amp; Gourmet Food</td>\n",
       "      <td>25 West Portal Ave.</td>\n",
       "      <td>NaN</td>\n",
       "      <td>NaN</td>\n",
       "      <td>37.740548</td>\n",
       "      <td>-122.466015</td>\n",
       "      <td>NaN</td>\n",
       "      <td>H03</td>\n",
       "      <td>385752.0</td>\n",
       "      <td>01/30/2004</td>\n",
       "      <td>Rajai Alkhalidi</td>\n",
       "      <td>25 West Portal Ave.</td>\n",
       "      <td>SF</td>\n",
       "      <td>CA</td>\n",
       "      <td>94127</td>\n",
       "    </tr>\n",
       "    <tr>\n",
       "      <th>2518</th>\n",
       "      <td>11416</td>\n",
       "      <td>El Beach Burrito</td>\n",
       "      <td>3914 Judah St</td>\n",
       "      <td>NaN</td>\n",
       "      <td>NaN</td>\n",
       "      <td>37.760851</td>\n",
       "      <td>-122.503998</td>\n",
       "      <td>NaN</td>\n",
       "      <td>H24</td>\n",
       "      <td>308739.0</td>\n",
       "      <td>NaN</td>\n",
       "      <td>David Catalano</td>\n",
       "      <td>3914 Judah</td>\n",
       "      <td>SF</td>\n",
       "      <td>CA</td>\n",
       "      <td>94132</td>\n",
       "    </tr>\n",
       "    <tr>\n",
       "      <th>2529</th>\n",
       "      <td>11835</td>\n",
       "      <td>Barrette Cafeteria</td>\n",
       "      <td>3250 19th Ave</td>\n",
       "      <td>NaN</td>\n",
       "      <td>NaN</td>\n",
       "      <td>37.729631</td>\n",
       "      <td>-122.474590</td>\n",
       "      <td>NaN</td>\n",
       "      <td>H91</td>\n",
       "      <td>378174.0</td>\n",
       "      <td>06/30/2004</td>\n",
       "      <td>Louie Totah</td>\n",
       "      <td>3250 19th Ave.</td>\n",
       "      <td>SF</td>\n",
       "      <td>CA</td>\n",
       "      <td>94132</td>\n",
       "    </tr>\n",
       "    <tr>\n",
       "      <th>2531</th>\n",
       "      <td>11967</td>\n",
       "      <td>Canteen Vending Company</td>\n",
       "      <td>VARIOUS LOCATIONS</td>\n",
       "      <td>NaN</td>\n",
       "      <td>NaN</td>\n",
       "      <td>NaN</td>\n",
       "      <td>NaN</td>\n",
       "      <td>+14150978170</td>\n",
       "      <td>H61</td>\n",
       "      <td>46324.0</td>\n",
       "      <td>NaN</td>\n",
       "      <td>Compass Group USA</td>\n",
       "      <td>1959 Republic Avenue</td>\n",
       "      <td>San Leandro</td>\n",
       "      <td>CA</td>\n",
       "      <td>94577</td>\n",
       "    </tr>\n",
       "    <tr>\n",
       "      <th>2532</th>\n",
       "      <td>11974</td>\n",
       "      <td>West Coast Vending &amp; Food Service</td>\n",
       "      <td>VARIOUS LOCATIONS</td>\n",
       "      <td>NaN</td>\n",
       "      <td>NaN</td>\n",
       "      <td>NaN</td>\n",
       "      <td>NaN</td>\n",
       "      <td>+14150265954</td>\n",
       "      <td>H61</td>\n",
       "      <td>401587.0</td>\n",
       "      <td>NaN</td>\n",
       "      <td>West Coast Vending &amp; Food Service</td>\n",
       "      <td>2124 Livingston Street</td>\n",
       "      <td>Oakland</td>\n",
       "      <td>CA</td>\n",
       "      <td>94606</td>\n",
       "    </tr>\n",
       "    <tr>\n",
       "      <th>2535</th>\n",
       "      <td>12199</td>\n",
       "      <td>El Gallo Giro</td>\n",
       "      <td>3055 23rd St</td>\n",
       "      <td>NaN</td>\n",
       "      <td>NaN</td>\n",
       "      <td>37.754218</td>\n",
       "      <td>-122.413285</td>\n",
       "      <td>+14155572661</td>\n",
       "      <td>H79</td>\n",
       "      <td>NaN</td>\n",
       "      <td>NaN</td>\n",
       "      <td>Jose Perez</td>\n",
       "      <td>645 Velasco Avenue</td>\n",
       "      <td>San Francisco</td>\n",
       "      <td>CA</td>\n",
       "      <td>94134</td>\n",
       "    </tr>\n",
       "    <tr>\n",
       "      <th>2537</th>\n",
       "      <td>12285</td>\n",
       "      <td>Aramark Coffee Kiosk</td>\n",
       "      <td>3555 Cesar Chavez</td>\n",
       "      <td>NaN</td>\n",
       "      <td>NaN</td>\n",
       "      <td>37.748118</td>\n",
       "      <td>-122.420474</td>\n",
       "      <td>NaN</td>\n",
       "      <td>H78</td>\n",
       "      <td>NaN</td>\n",
       "      <td>02/20/2004</td>\n",
       "      <td>Aramark</td>\n",
       "      <td>3555 Cesar Chavez St.</td>\n",
       "      <td>SF</td>\n",
       "      <td>CA</td>\n",
       "      <td>94110</td>\n",
       "    </tr>\n",
       "    <tr>\n",
       "      <th>2538</th>\n",
       "      <td>12344</td>\n",
       "      <td>The Village Market &amp; Pizza</td>\n",
       "      <td>750 Font Blvd</td>\n",
       "      <td>NaN</td>\n",
       "      <td>NaN</td>\n",
       "      <td>37.723462</td>\n",
       "      <td>-122.483012</td>\n",
       "      <td>+14155374525</td>\n",
       "      <td>H25</td>\n",
       "      <td>378984.0</td>\n",
       "      <td>NaN</td>\n",
       "      <td>Axiom Development Corp.</td>\n",
       "      <td>750 Font Blvd.</td>\n",
       "      <td>SF</td>\n",
       "      <td>CA</td>\n",
       "      <td>94132</td>\n",
       "    </tr>\n",
       "    <tr>\n",
       "      <th>2543</th>\n",
       "      <td>13057</td>\n",
       "      <td>Mission Street Arco</td>\n",
       "      <td>1798 mission st.</td>\n",
       "      <td>NaN</td>\n",
       "      <td>NaN</td>\n",
       "      <td>37.768312</td>\n",
       "      <td>-122.420042</td>\n",
       "      <td>NaN</td>\n",
       "      <td>H03</td>\n",
       "      <td>321490.0</td>\n",
       "      <td>NaN</td>\n",
       "      <td>Biuon Inc.</td>\n",
       "      <td>1798 Mission St.</td>\n",
       "      <td>SF</td>\n",
       "      <td>CA</td>\n",
       "      <td>94103</td>\n",
       "    </tr>\n",
       "    <tr>\n",
       "      <th>2544</th>\n",
       "      <td>13062</td>\n",
       "      <td>Everett Middle School</td>\n",
       "      <td>450 church st.</td>\n",
       "      <td>NaN</td>\n",
       "      <td>NaN</td>\n",
       "      <td>37.763794</td>\n",
       "      <td>-122.428617</td>\n",
       "      <td>NaN</td>\n",
       "      <td>H91</td>\n",
       "      <td>NaN</td>\n",
       "      <td>NaN</td>\n",
       "      <td>SFUSD</td>\n",
       "      <td>NaN</td>\n",
       "      <td>NaN</td>\n",
       "      <td>NaN</td>\n",
       "      <td>NaN</td>\n",
       "    </tr>\n",
       "    <tr>\n",
       "      <th>2558</th>\n",
       "      <td>13753</td>\n",
       "      <td>Taboun</td>\n",
       "      <td>203 Parnassus Ave</td>\n",
       "      <td>NaN</td>\n",
       "      <td>NaN</td>\n",
       "      <td>37.764574</td>\n",
       "      <td>-122.452950</td>\n",
       "      <td>NaN</td>\n",
       "      <td>H24</td>\n",
       "      <td>378751.0</td>\n",
       "      <td>07/02/2004</td>\n",
       "      <td>Salim Qaru</td>\n",
       "      <td>203 Parnassus</td>\n",
       "      <td>SF</td>\n",
       "      <td>CA</td>\n",
       "      <td>94117</td>\n",
       "    </tr>\n",
       "    <tr>\n",
       "      <th>2585</th>\n",
       "      <td>14940</td>\n",
       "      <td>City Smoke</td>\n",
       "      <td>2196 Mission St</td>\n",
       "      <td>NaN</td>\n",
       "      <td>NaN</td>\n",
       "      <td>37.761894</td>\n",
       "      <td>-122.419443</td>\n",
       "      <td>NaN</td>\n",
       "      <td>H01</td>\n",
       "      <td>381379.0</td>\n",
       "      <td>08/01/2005</td>\n",
       "      <td>Sharif Ahmed Shariff</td>\n",
       "      <td>2196 Mission St.</td>\n",
       "      <td>SF</td>\n",
       "      <td>CA</td>\n",
       "      <td>94110</td>\n",
       "    </tr>\n",
       "    <tr>\n",
       "      <th>2642</th>\n",
       "      <td>17946</td>\n",
       "      <td>Pizzeria Delfina</td>\n",
       "      <td>3611 18th St</td>\n",
       "      <td>NaN</td>\n",
       "      <td>NaN</td>\n",
       "      <td>37.761657</td>\n",
       "      <td>-122.424347</td>\n",
       "      <td>NaN</td>\n",
       "      <td>H24</td>\n",
       "      <td>318520.0</td>\n",
       "      <td>12/01/2005</td>\n",
       "      <td>Delfina Restaurant, Inc.</td>\n",
       "      <td>3611 18th Street</td>\n",
       "      <td>SF</td>\n",
       "      <td>CA</td>\n",
       "      <td>94110</td>\n",
       "    </tr>\n",
       "    <tr>\n",
       "      <th>2647</th>\n",
       "      <td>18079</td>\n",
       "      <td>Joe's coffee Shop</td>\n",
       "      <td>6134 Geary Blvd</td>\n",
       "      <td>NaN</td>\n",
       "      <td>NaN</td>\n",
       "      <td>37.780408</td>\n",
       "      <td>-122.485383</td>\n",
       "      <td>NaN</td>\n",
       "      <td>H24</td>\n",
       "      <td>390566.0</td>\n",
       "      <td>08/18/2005</td>\n",
       "      <td>Joe's Coffee Shop Inc.</td>\n",
       "      <td>6134 Geary Blvd.</td>\n",
       "      <td>SF</td>\n",
       "      <td>CA</td>\n",
       "      <td>94121</td>\n",
       "    </tr>\n",
       "    <tr>\n",
       "      <th>2738</th>\n",
       "      <td>19357</td>\n",
       "      <td>Original Buffalo Wings</td>\n",
       "      <td>2943 Lombard St</td>\n",
       "      <td>NaN</td>\n",
       "      <td>NaN</td>\n",
       "      <td>37.799095</td>\n",
       "      <td>-122.442457</td>\n",
       "      <td>+14155938181</td>\n",
       "      <td>H24</td>\n",
       "      <td>396371.0</td>\n",
       "      <td>NaN</td>\n",
       "      <td>Original Buffalo Wings Corp. ( Sandra  and Ted...</td>\n",
       "      <td>1115 Brussels Street</td>\n",
       "      <td>San Francisco</td>\n",
       "      <td>CA</td>\n",
       "      <td>94134</td>\n",
       "    </tr>\n",
       "    <tr>\n",
       "      <th>2778</th>\n",
       "      <td>22852</td>\n",
       "      <td>Mission YMCA Ceasr Chavez</td>\n",
       "      <td>825 Shotwell</td>\n",
       "      <td>NaN</td>\n",
       "      <td>NaN</td>\n",
       "      <td>NaN</td>\n",
       "      <td>NaN</td>\n",
       "      <td>+14155693015</td>\n",
       "      <td>AA</td>\n",
       "      <td>NaN</td>\n",
       "      <td>NaN</td>\n",
       "      <td>Department of Children, Youth and their Families</td>\n",
       "      <td>1390 Market Street, Suite 900</td>\n",
       "      <td>San Francisco</td>\n",
       "      <td>CA</td>\n",
       "      <td>94102</td>\n",
       "    </tr>\n",
       "    <tr>\n",
       "      <th>2952</th>\n",
       "      <td>33114</td>\n",
       "      <td>Sausalito Cafe #2</td>\n",
       "      <td>50 Beale St 105</td>\n",
       "      <td>NaN</td>\n",
       "      <td>NaN</td>\n",
       "      <td>37.792414</td>\n",
       "      <td>-122.397020</td>\n",
       "      <td>NaN</td>\n",
       "      <td>H28</td>\n",
       "      <td>NaN</td>\n",
       "      <td>NaN</td>\n",
       "      <td>Johnny Qura</td>\n",
       "      <td>50 Beale Street, Suite 105</td>\n",
       "      <td>SF</td>\n",
       "      <td>Ca</td>\n",
       "      <td>94105</td>\n",
       "    </tr>\n",
       "    <tr>\n",
       "      <th>...</th>\n",
       "      <td>...</td>\n",
       "      <td>...</td>\n",
       "      <td>...</td>\n",
       "      <td>...</td>\n",
       "      <td>...</td>\n",
       "      <td>...</td>\n",
       "      <td>...</td>\n",
       "      <td>...</td>\n",
       "      <td>...</td>\n",
       "      <td>...</td>\n",
       "      <td>...</td>\n",
       "      <td>...</td>\n",
       "      <td>...</td>\n",
       "      <td>...</td>\n",
       "      <td>...</td>\n",
       "      <td>...</td>\n",
       "    </tr>\n",
       "    <tr>\n",
       "      <th>6944</th>\n",
       "      <td>83313</td>\n",
       "      <td>Hunters Point Family/Gilman Playground</td>\n",
       "      <td>1 Bill Walsh Way</td>\n",
       "      <td>NaN</td>\n",
       "      <td>NaN</td>\n",
       "      <td>NaN</td>\n",
       "      <td>NaN</td>\n",
       "      <td>NaN</td>\n",
       "      <td>AA</td>\n",
       "      <td>NaN</td>\n",
       "      <td>NaN</td>\n",
       "      <td>Department of Children, Youth and their Families</td>\n",
       "      <td>1390 Market Street, Suite 900</td>\n",
       "      <td>San Francisco</td>\n",
       "      <td>CA</td>\n",
       "      <td>94102</td>\n",
       "    </tr>\n",
       "    <tr>\n",
       "      <th>6970</th>\n",
       "      <td>83391</td>\n",
       "      <td>The Pop Nation (#1)</td>\n",
       "      <td>OTG/Approved Private Locations</td>\n",
       "      <td>NaN</td>\n",
       "      <td>NaN</td>\n",
       "      <td>NaN</td>\n",
       "      <td>NaN</td>\n",
       "      <td>NaN</td>\n",
       "      <td>H75</td>\n",
       "      <td>1012795.0</td>\n",
       "      <td>05/15/2015</td>\n",
       "      <td>Planet Earth Enterprises LLC</td>\n",
       "      <td>2268 Westborough Blvd., Ste. 302-329</td>\n",
       "      <td>South San Francisco</td>\n",
       "      <td>CA</td>\n",
       "      <td>94080</td>\n",
       "    </tr>\n",
       "    <tr>\n",
       "      <th>6971</th>\n",
       "      <td>83393</td>\n",
       "      <td>The Pop Nation (#2)</td>\n",
       "      <td>OTG/Approved Private Locations</td>\n",
       "      <td>NaN</td>\n",
       "      <td>NaN</td>\n",
       "      <td>NaN</td>\n",
       "      <td>NaN</td>\n",
       "      <td>NaN</td>\n",
       "      <td>H75</td>\n",
       "      <td>1012795.0</td>\n",
       "      <td>05/15/2015</td>\n",
       "      <td>Planet Earth Enterprises LLC</td>\n",
       "      <td>2268 Westborough Blvd., Ste 302-329</td>\n",
       "      <td>South San Francisco</td>\n",
       "      <td>CA</td>\n",
       "      <td>94080</td>\n",
       "    </tr>\n",
       "    <tr>\n",
       "      <th>6979</th>\n",
       "      <td>83418</td>\n",
       "      <td>Humphry Slocombe Ice Cream</td>\n",
       "      <td>Off The Grid</td>\n",
       "      <td>NaN</td>\n",
       "      <td>NaN</td>\n",
       "      <td>NaN</td>\n",
       "      <td>NaN</td>\n",
       "      <td>NaN</td>\n",
       "      <td>H77</td>\n",
       "      <td>1006096.0</td>\n",
       "      <td>05/19/2015</td>\n",
       "      <td>Humphry Slocombe Group, LLC</td>\n",
       "      <td>2790A Harrison St.</td>\n",
       "      <td>SF</td>\n",
       "      <td>CA</td>\n",
       "      <td>94110</td>\n",
       "    </tr>\n",
       "    <tr>\n",
       "      <th>7001</th>\n",
       "      <td>83536</td>\n",
       "      <td>Blue Cafe</td>\n",
       "      <td>1096 Union St</td>\n",
       "      <td>NaN</td>\n",
       "      <td>NaN</td>\n",
       "      <td>NaN</td>\n",
       "      <td>NaN</td>\n",
       "      <td>NaN</td>\n",
       "      <td>H24</td>\n",
       "      <td>1012301.0</td>\n",
       "      <td>06/01/2015</td>\n",
       "      <td>Blue Cafe LLC</td>\n",
       "      <td>1096 Union Street</td>\n",
       "      <td>San Francisco</td>\n",
       "      <td>CA</td>\n",
       "      <td>94133</td>\n",
       "    </tr>\n",
       "    <tr>\n",
       "      <th>7029</th>\n",
       "      <td>83636</td>\n",
       "      <td>Sam's Chowder Mobile #4</td>\n",
       "      <td>Off The Grid</td>\n",
       "      <td>NaN</td>\n",
       "      <td>NaN</td>\n",
       "      <td>NaN</td>\n",
       "      <td>NaN</td>\n",
       "      <td>NaN</td>\n",
       "      <td>H79</td>\n",
       "      <td>463874.0</td>\n",
       "      <td>05/27/2015</td>\n",
       "      <td>HMB Catering Truck LLC</td>\n",
       "      <td>PO Box 2496</td>\n",
       "      <td>El Granada</td>\n",
       "      <td>CA</td>\n",
       "      <td>94018</td>\n",
       "    </tr>\n",
       "    <tr>\n",
       "      <th>7123</th>\n",
       "      <td>84338</td>\n",
       "      <td>Tacos El Gondo</td>\n",
       "      <td>Off The Grid</td>\n",
       "      <td>NaN</td>\n",
       "      <td>NaN</td>\n",
       "      <td>NaN</td>\n",
       "      <td>NaN</td>\n",
       "      <td>+14150215404</td>\n",
       "      <td>H79</td>\n",
       "      <td>1016385.0</td>\n",
       "      <td>07/28/2015</td>\n",
       "      <td>Silvia Novelo</td>\n",
       "      <td>140 San Diego Ave</td>\n",
       "      <td>San Bruno</td>\n",
       "      <td>CA</td>\n",
       "      <td>94066</td>\n",
       "    </tr>\n",
       "    <tr>\n",
       "      <th>7196</th>\n",
       "      <td>84740</td>\n",
       "      <td>Judie's Tacos Locos</td>\n",
       "      <td>Off The Grid</td>\n",
       "      <td>NaN</td>\n",
       "      <td>NaN</td>\n",
       "      <td>NaN</td>\n",
       "      <td>NaN</td>\n",
       "      <td>NaN</td>\n",
       "      <td>H79</td>\n",
       "      <td>1012122.0</td>\n",
       "      <td>08/24/2015</td>\n",
       "      <td>George Joshua Espino</td>\n",
       "      <td>637 N 3rd Street Apt. 4</td>\n",
       "      <td>San Jose</td>\n",
       "      <td>CA</td>\n",
       "      <td>95112</td>\n",
       "    </tr>\n",
       "    <tr>\n",
       "      <th>7198</th>\n",
       "      <td>84745</td>\n",
       "      <td>Front Door Cafe</td>\n",
       "      <td>1 Front St</td>\n",
       "      <td>NaN</td>\n",
       "      <td>NaN</td>\n",
       "      <td>NaN</td>\n",
       "      <td>NaN</td>\n",
       "      <td>NaN</td>\n",
       "      <td>H24</td>\n",
       "      <td>1017360.0</td>\n",
       "      <td>08/25/2015</td>\n",
       "      <td>Front Door Caf�, Inc.</td>\n",
       "      <td>101 Riverside Drive</td>\n",
       "      <td>San Bruno</td>\n",
       "      <td>CA</td>\n",
       "      <td>94066</td>\n",
       "    </tr>\n",
       "    <tr>\n",
       "      <th>7209</th>\n",
       "      <td>84843</td>\n",
       "      <td>Cafe reveille</td>\n",
       "      <td>610 Long Bridge</td>\n",
       "      <td>NaN</td>\n",
       "      <td>NaN</td>\n",
       "      <td>NaN</td>\n",
       "      <td>NaN</td>\n",
       "      <td>+14155908868</td>\n",
       "      <td>H26</td>\n",
       "      <td>1019640.0</td>\n",
       "      <td>12/28/2015</td>\n",
       "      <td>Dumpling88 LLC</td>\n",
       "      <td>937 Harrison St</td>\n",
       "      <td>San Francisco</td>\n",
       "      <td>CA</td>\n",
       "      <td>94107</td>\n",
       "    </tr>\n",
       "    <tr>\n",
       "      <th>7213</th>\n",
       "      <td>84878</td>\n",
       "      <td>Eat On Monday</td>\n",
       "      <td>Approved Private Locations</td>\n",
       "      <td>NaN</td>\n",
       "      <td>NaN</td>\n",
       "      <td>NaN</td>\n",
       "      <td>NaN</td>\n",
       "      <td>NaN</td>\n",
       "      <td>H79</td>\n",
       "      <td>1017836.0</td>\n",
       "      <td>09/03/2015</td>\n",
       "      <td>Eat on Monday Inc.</td>\n",
       "      <td>738 Cedarville Lane</td>\n",
       "      <td>San Jose</td>\n",
       "      <td>CA</td>\n",
       "      <td>95133</td>\n",
       "    </tr>\n",
       "    <tr>\n",
       "      <th>7226</th>\n",
       "      <td>84961</td>\n",
       "      <td>Del Popolo</td>\n",
       "      <td>855 Bush St</td>\n",
       "      <td>NaN</td>\n",
       "      <td>NaN</td>\n",
       "      <td>NaN</td>\n",
       "      <td>NaN</td>\n",
       "      <td>NaN</td>\n",
       "      <td>H26</td>\n",
       "      <td>1018247.0</td>\n",
       "      <td>09/15/2015</td>\n",
       "      <td>January 16th, LLC</td>\n",
       "      <td>722 Hampshire Street</td>\n",
       "      <td>San Francisco</td>\n",
       "      <td>CA</td>\n",
       "      <td>94110</td>\n",
       "    </tr>\n",
       "    <tr>\n",
       "      <th>7288</th>\n",
       "      <td>85316</td>\n",
       "      <td>Curry Up Now</td>\n",
       "      <td>Approved Locations</td>\n",
       "      <td>San Francisco</td>\n",
       "      <td>NaN</td>\n",
       "      <td>NaN</td>\n",
       "      <td>NaN</td>\n",
       "      <td>+14155827000</td>\n",
       "      <td>H79</td>\n",
       "      <td>444070.0</td>\n",
       "      <td>09/30/2015</td>\n",
       "      <td>Akuranvyka USA Inc</td>\n",
       "      <td>400 Oyster Point Blvd, Suite 534</td>\n",
       "      <td>South San Francisco</td>\n",
       "      <td>CA</td>\n",
       "      <td>94080</td>\n",
       "    </tr>\n",
       "    <tr>\n",
       "      <th>7289</th>\n",
       "      <td>85317</td>\n",
       "      <td>Curry Up Now</td>\n",
       "      <td>Approved Locations</td>\n",
       "      <td>San Francisco</td>\n",
       "      <td>NaN</td>\n",
       "      <td>NaN</td>\n",
       "      <td>NaN</td>\n",
       "      <td>+14155827000</td>\n",
       "      <td>H79</td>\n",
       "      <td>444070.0</td>\n",
       "      <td>09/30/2015</td>\n",
       "      <td>Akuranvyka USA Inc</td>\n",
       "      <td>35 Stonepine Road</td>\n",
       "      <td>Hillsborough</td>\n",
       "      <td>CA</td>\n",
       "      <td>94010</td>\n",
       "    </tr>\n",
       "    <tr>\n",
       "      <th>7290</th>\n",
       "      <td>85319</td>\n",
       "      <td>Curry Up Now #5</td>\n",
       "      <td>Approved Locations</td>\n",
       "      <td>San Francisco</td>\n",
       "      <td>NaN</td>\n",
       "      <td>NaN</td>\n",
       "      <td>NaN</td>\n",
       "      <td>NaN</td>\n",
       "      <td>H79</td>\n",
       "      <td>444070.0</td>\n",
       "      <td>09/30/2015</td>\n",
       "      <td>Akuranvyka USA Inc</td>\n",
       "      <td>400 Oyster Point Blvd, Suite 534</td>\n",
       "      <td>South San Francisco</td>\n",
       "      <td>CA</td>\n",
       "      <td>94080</td>\n",
       "    </tr>\n",
       "    <tr>\n",
       "      <th>7291</th>\n",
       "      <td>85320</td>\n",
       "      <td>Curry Up Now</td>\n",
       "      <td>Approved Locations</td>\n",
       "      <td>San Francisco</td>\n",
       "      <td>NaN</td>\n",
       "      <td>NaN</td>\n",
       "      <td>NaN</td>\n",
       "      <td>NaN</td>\n",
       "      <td>H79</td>\n",
       "      <td>444070.0</td>\n",
       "      <td>09/30/2015</td>\n",
       "      <td>Akuranvyka USA Inc</td>\n",
       "      <td>400 Oyster Pt. Blvd Ste 534</td>\n",
       "      <td>South San Francisco</td>\n",
       "      <td>CA</td>\n",
       "      <td>94080</td>\n",
       "    </tr>\n",
       "    <tr>\n",
       "      <th>7308</th>\n",
       "      <td>85399</td>\n",
       "      <td>Airbnb Inc</td>\n",
       "      <td>888 Brannan St  1st Floor</td>\n",
       "      <td>NaN</td>\n",
       "      <td>NaN</td>\n",
       "      <td>NaN</td>\n",
       "      <td>NaN</td>\n",
       "      <td>+14155338758</td>\n",
       "      <td>H84</td>\n",
       "      <td>447046.0</td>\n",
       "      <td>10/20/2015</td>\n",
       "      <td>Airbnb Inc</td>\n",
       "      <td>888 Brannan St</td>\n",
       "      <td>San Francisco</td>\n",
       "      <td>CA</td>\n",
       "      <td>94103</td>\n",
       "    </tr>\n",
       "    <tr>\n",
       "      <th>7316</th>\n",
       "      <td>85458</td>\n",
       "      <td>Soulnese</td>\n",
       "      <td>Off The Grid</td>\n",
       "      <td>San Francisco</td>\n",
       "      <td>NaN</td>\n",
       "      <td>NaN</td>\n",
       "      <td>NaN</td>\n",
       "      <td>NaN</td>\n",
       "      <td>H79</td>\n",
       "      <td>1020070.0</td>\n",
       "      <td>10/11/2015</td>\n",
       "      <td>Soulnese, LLC</td>\n",
       "      <td>3180 Mabury Road</td>\n",
       "      <td>San Jose</td>\n",
       "      <td>CA</td>\n",
       "      <td>95127</td>\n",
       "    </tr>\n",
       "    <tr>\n",
       "      <th>7320</th>\n",
       "      <td>85490</td>\n",
       "      <td>toGather</td>\n",
       "      <td>Approved Locations</td>\n",
       "      <td>San Francisco</td>\n",
       "      <td>NaN</td>\n",
       "      <td>NaN</td>\n",
       "      <td>NaN</td>\n",
       "      <td>NaN</td>\n",
       "      <td>H76</td>\n",
       "      <td>1017984.0</td>\n",
       "      <td>10/27/2015</td>\n",
       "      <td>Breaking Bread Inc.</td>\n",
       "      <td>724 S. Amphlett Blvd.</td>\n",
       "      <td>San Mateo</td>\n",
       "      <td>CA</td>\n",
       "      <td>94402</td>\n",
       "    </tr>\n",
       "    <tr>\n",
       "      <th>7322</th>\n",
       "      <td>85496</td>\n",
       "      <td>Little Taqueria</td>\n",
       "      <td>200 6th Ave</td>\n",
       "      <td>NaN</td>\n",
       "      <td>NaN</td>\n",
       "      <td>NaN</td>\n",
       "      <td>NaN</td>\n",
       "      <td>+14155503716</td>\n",
       "      <td>H28</td>\n",
       "      <td>1017538.0</td>\n",
       "      <td>10/27/2015</td>\n",
       "      <td>Kilicoglu LLC</td>\n",
       "      <td>2000 Broadway St. Unit 713</td>\n",
       "      <td>San Francisco</td>\n",
       "      <td>CA</td>\n",
       "      <td>94113</td>\n",
       "    </tr>\n",
       "    <tr>\n",
       "      <th>7363</th>\n",
       "      <td>85802</td>\n",
       "      <td>Juice Shop</td>\n",
       "      <td>900 North Point St E-204B</td>\n",
       "      <td>NaN</td>\n",
       "      <td>NaN</td>\n",
       "      <td>NaN</td>\n",
       "      <td>NaN</td>\n",
       "      <td>NaN</td>\n",
       "      <td>H07</td>\n",
       "      <td>446115.0</td>\n",
       "      <td>11/23/2015</td>\n",
       "      <td>Juice Shop, LLC</td>\n",
       "      <td>540 Barneveld Avenue, #C</td>\n",
       "      <td>San Francisco</td>\n",
       "      <td>CA</td>\n",
       "      <td>94124</td>\n",
       "    </tr>\n",
       "    <tr>\n",
       "      <th>7371</th>\n",
       "      <td>85857</td>\n",
       "      <td>Dabba</td>\n",
       "      <td>Off the Grid</td>\n",
       "      <td>San Francisco</td>\n",
       "      <td>NaN</td>\n",
       "      <td>NaN</td>\n",
       "      <td>NaN</td>\n",
       "      <td>+14155697876</td>\n",
       "      <td>H79</td>\n",
       "      <td>1020634.0</td>\n",
       "      <td>11/19/2015</td>\n",
       "      <td>Tam Brands Restaurant I, LLC</td>\n",
       "      <td>930 Lovell Avenue</td>\n",
       "      <td>Mill Valley</td>\n",
       "      <td>CA</td>\n",
       "      <td>94941</td>\n",
       "    </tr>\n",
       "    <tr>\n",
       "      <th>7456</th>\n",
       "      <td>86277</td>\n",
       "      <td>Moonraker Mobile LLC</td>\n",
       "      <td>Off The Grid</td>\n",
       "      <td>San Francisco</td>\n",
       "      <td>NaN</td>\n",
       "      <td>NaN</td>\n",
       "      <td>NaN</td>\n",
       "      <td>NaN</td>\n",
       "      <td>H79</td>\n",
       "      <td>1023059.0</td>\n",
       "      <td>01/14/2016</td>\n",
       "      <td>Moonraker Mobile LLC</td>\n",
       "      <td>105 Rockaway Beach Avenue</td>\n",
       "      <td>Pacifica</td>\n",
       "      <td>CA</td>\n",
       "      <td>94044</td>\n",
       "    </tr>\n",
       "    <tr>\n",
       "      <th>7466</th>\n",
       "      <td>86356</td>\n",
       "      <td>The Waffle Roost</td>\n",
       "      <td>Off the Grid</td>\n",
       "      <td>San Francisco</td>\n",
       "      <td>NaN</td>\n",
       "      <td>NaN</td>\n",
       "      <td>NaN</td>\n",
       "      <td>NaN</td>\n",
       "      <td>H79</td>\n",
       "      <td>1023632.0</td>\n",
       "      <td>01/25/2016</td>\n",
       "      <td>The Waffle Roost</td>\n",
       "      <td>394 Henderson Drive</td>\n",
       "      <td>San Jose</td>\n",
       "      <td>CA</td>\n",
       "      <td>95123</td>\n",
       "    </tr>\n",
       "    <tr>\n",
       "      <th>7468</th>\n",
       "      <td>86361</td>\n",
       "      <td>Drums &amp; Crumbs</td>\n",
       "      <td>Off the Grid</td>\n",
       "      <td>San Francisco</td>\n",
       "      <td>NaN</td>\n",
       "      <td>NaN</td>\n",
       "      <td>NaN</td>\n",
       "      <td>NaN</td>\n",
       "      <td>H79</td>\n",
       "      <td>1023818.0</td>\n",
       "      <td>01/25/2016</td>\n",
       "      <td>Drums &amp; Crumbs LLC</td>\n",
       "      <td>PO Box 150181</td>\n",
       "      <td>San Rafael</td>\n",
       "      <td>CA</td>\n",
       "      <td>94915</td>\n",
       "    </tr>\n",
       "    <tr>\n",
       "      <th>7472</th>\n",
       "      <td>86391</td>\n",
       "      <td>Cupkates</td>\n",
       "      <td>Approved Private Locations</td>\n",
       "      <td>NaN</td>\n",
       "      <td>NaN</td>\n",
       "      <td>NaN</td>\n",
       "      <td>NaN</td>\n",
       "      <td>+14155773380</td>\n",
       "      <td>H77</td>\n",
       "      <td>1023691.0</td>\n",
       "      <td>NaN</td>\n",
       "      <td>Stateside Treats LLC</td>\n",
       "      <td>735 Gooding Way #749</td>\n",
       "      <td>Albany</td>\n",
       "      <td>CA</td>\n",
       "      <td>94706</td>\n",
       "    </tr>\n",
       "    <tr>\n",
       "      <th>7524</th>\n",
       "      <td>86995</td>\n",
       "      <td>JW Marriott SF Union Square</td>\n",
       "      <td>500 Post St</td>\n",
       "      <td>NaN</td>\n",
       "      <td>NaN</td>\n",
       "      <td>NaN</td>\n",
       "      <td>NaN</td>\n",
       "      <td>NaN</td>\n",
       "      <td>H26</td>\n",
       "      <td>1022749.0</td>\n",
       "      <td>03/16/2016</td>\n",
       "      <td>CHSP TRS, LLC</td>\n",
       "      <td>1997 Annapolis Exchange Parkway, Suite 410</td>\n",
       "      <td>Annapolis</td>\n",
       "      <td>MD</td>\n",
       "      <td>21401</td>\n",
       "    </tr>\n",
       "    <tr>\n",
       "      <th>7526</th>\n",
       "      <td>87021</td>\n",
       "      <td>Southern Comfort Kitchen</td>\n",
       "      <td>Off The Grid</td>\n",
       "      <td>San Francisco</td>\n",
       "      <td>NaN</td>\n",
       "      <td>NaN</td>\n",
       "      <td>NaN</td>\n",
       "      <td>NaN</td>\n",
       "      <td>H79</td>\n",
       "      <td>1028622.0</td>\n",
       "      <td>NaN</td>\n",
       "      <td>Jason and Brett Brill</td>\n",
       "      <td>19036 Center St</td>\n",
       "      <td>Castro Valley</td>\n",
       "      <td>CA</td>\n",
       "      <td>94546</td>\n",
       "    </tr>\n",
       "    <tr>\n",
       "      <th>7535</th>\n",
       "      <td>87123</td>\n",
       "      <td>Mongol Cafe</td>\n",
       "      <td>842 Geary St</td>\n",
       "      <td>NaN</td>\n",
       "      <td>NaN</td>\n",
       "      <td>NaN</td>\n",
       "      <td>NaN</td>\n",
       "      <td>NaN</td>\n",
       "      <td>H24</td>\n",
       "      <td>1029297.0</td>\n",
       "      <td>03/28/2016</td>\n",
       "      <td>Ariun Erdene Yundensodnom</td>\n",
       "      <td>828 13th Street, #221</td>\n",
       "      <td>Oakland</td>\n",
       "      <td>CA</td>\n",
       "      <td>94607</td>\n",
       "    </tr>\n",
       "    <tr>\n",
       "      <th>7536</th>\n",
       "      <td>87148</td>\n",
       "      <td>NaN</td>\n",
       "      <td>4423 Mission</td>\n",
       "      <td>NaN</td>\n",
       "      <td>NaN</td>\n",
       "      <td>NaN</td>\n",
       "      <td>NaN</td>\n",
       "      <td>+14155336100</td>\n",
       "      <td>H24</td>\n",
       "      <td>NaN</td>\n",
       "      <td>03/29/2016</td>\n",
       "      <td>Restaurante San Vicente Inc.</td>\n",
       "      <td>4423 Mission St</td>\n",
       "      <td>San Francisco</td>\n",
       "      <td>CA</td>\n",
       "      <td>94112</td>\n",
       "    </tr>\n",
       "  </tbody>\n",
       "</table>\n",
       "<p>296 rows × 16 columns</p>\n",
       "</div>"
      ],
      "text/plain": [
       "      business_id                                    name  \\\n",
       "2398         8202                              Xiao Loong   \n",
       "2419         9281                              Walgreen's   \n",
       "2426         9328                        Boos Voni Tortas   \n",
       "2428         9358              Edgewood Children's Center   \n",
       "2439         9582                                 Dimples   \n",
       "2442         9627                    Home Sausage Company   \n",
       "2460        10011                        Osha Thai Noodle   \n",
       "2463        10065           Tacos El Primo Catering Truck   \n",
       "2469        10129                       Man Hang Catering   \n",
       "2476        10227                        The Napper Tandy   \n",
       "2486        10373                         El Tonayense #4   \n",
       "2487        10376                     Good Frikin Chicken   \n",
       "2494        10572                  Edison Charter Academy   \n",
       "2498        10831       Eezy Freezy Health & Gourmet Food   \n",
       "2518        11416                        El Beach Burrito   \n",
       "2529        11835                      Barrette Cafeteria   \n",
       "2531        11967                 Canteen Vending Company   \n",
       "2532        11974       West Coast Vending & Food Service   \n",
       "2535        12199                           El Gallo Giro   \n",
       "2537        12285                    Aramark Coffee Kiosk   \n",
       "2538        12344              The Village Market & Pizza   \n",
       "2543        13057                     Mission Street Arco   \n",
       "2544        13062                   Everett Middle School   \n",
       "2558        13753                                  Taboun   \n",
       "2585        14940                              City Smoke   \n",
       "2642        17946                        Pizzeria Delfina   \n",
       "2647        18079                       Joe's coffee Shop   \n",
       "2738        19357                  Original Buffalo Wings   \n",
       "2778        22852               Mission YMCA Ceasr Chavez   \n",
       "2952        33114                       Sausalito Cafe #2   \n",
       "...           ...                                     ...   \n",
       "6944        83313  Hunters Point Family/Gilman Playground   \n",
       "6970        83391                     The Pop Nation (#1)   \n",
       "6971        83393                     The Pop Nation (#2)   \n",
       "6979        83418              Humphry Slocombe Ice Cream   \n",
       "7001        83536                               Blue Cafe   \n",
       "7029        83636                 Sam's Chowder Mobile #4   \n",
       "7123        84338                          Tacos El Gondo   \n",
       "7196        84740                     Judie's Tacos Locos   \n",
       "7198        84745                         Front Door Cafe   \n",
       "7209        84843                           Cafe reveille   \n",
       "7213        84878                           Eat On Monday   \n",
       "7226        84961                              Del Popolo   \n",
       "7288        85316                            Curry Up Now   \n",
       "7289        85317                            Curry Up Now   \n",
       "7290        85319                         Curry Up Now #5   \n",
       "7291        85320                            Curry Up Now   \n",
       "7308        85399                              Airbnb Inc   \n",
       "7316        85458                                Soulnese   \n",
       "7320        85490                                toGather   \n",
       "7322        85496                         Little Taqueria   \n",
       "7363        85802                              Juice Shop   \n",
       "7371        85857                                   Dabba   \n",
       "7456        86277                    Moonraker Mobile LLC   \n",
       "7466        86356                        The Waffle Roost   \n",
       "7468        86361                          Drums & Crumbs   \n",
       "7472        86391                                Cupkates   \n",
       "7524        86995             JW Marriott SF Union Square   \n",
       "7526        87021                Southern Comfort Kitchen   \n",
       "7535        87123                             Mongol Cafe   \n",
       "7536        87148                                     NaN   \n",
       "\n",
       "                                address           city postal_code   latitude  \\\n",
       "2398             250 WEST PORTAL AVENUE            NaN         NaN  37.738616   \n",
       "2419                  199 Parnassus Ave            NaN         NaN  37.764444   \n",
       "2426                   5170 Mission St             NaN         NaN  37.716163   \n",
       "2428                   1801 Vicente St             NaN         NaN  37.739083   \n",
       "2439                      1700 Post St.            NaN         NaN  37.785632   \n",
       "2442                   1726 mission st.            NaN         NaN  37.769646   \n",
       "2460                   819 Valencia St.            NaN         NaN  37.759943   \n",
       "2463                 2225  Jennings St   San Francisco         NaN  37.726230   \n",
       "2469                     2041 18th Ave         SO.S.F.         NaN        NaN   \n",
       "2476                      3200 24th St             NaN         NaN  37.752581   \n",
       "2486                  1717 Harrison St             NaN         NaN  37.769426   \n",
       "2487                        10 29th St             NaN         NaN  37.744369   \n",
       "2494                      3531 22nd St             NaN         NaN  37.755193   \n",
       "2498                25 West Portal Ave.            NaN         NaN  37.740548   \n",
       "2518                      3914 Judah St            NaN         NaN  37.760851   \n",
       "2529                     3250 19th Ave             NaN         NaN  37.729631   \n",
       "2531                  VARIOUS LOCATIONS            NaN         NaN        NaN   \n",
       "2532                  VARIOUS LOCATIONS            NaN         NaN        NaN   \n",
       "2535                      3055 23rd St             NaN         NaN  37.754218   \n",
       "2537                3555 Cesar Chavez              NaN         NaN  37.748118   \n",
       "2538                      750 Font Blvd            NaN         NaN  37.723462   \n",
       "2543                   1798 mission st.            NaN         NaN  37.768312   \n",
       "2544                     450 church st.            NaN         NaN  37.763794   \n",
       "2558                 203 Parnassus Ave             NaN         NaN  37.764574   \n",
       "2585                   2196 Mission St             NaN         NaN  37.761894   \n",
       "2642                      3611 18th St             NaN         NaN  37.761657   \n",
       "2647                   6134 Geary Blvd             NaN         NaN  37.780408   \n",
       "2738                   2943 Lombard St             NaN         NaN  37.799095   \n",
       "2778                     825 Shotwell              NaN         NaN        NaN   \n",
       "2952                    50 Beale St 105            NaN         NaN  37.792414   \n",
       "...                                 ...            ...         ...        ...   \n",
       "6944                  1 Bill Walsh Way             NaN         NaN        NaN   \n",
       "6970   OTG/Approved Private Locations              NaN         NaN        NaN   \n",
       "6971   OTG/Approved Private Locations              NaN         NaN        NaN   \n",
       "6979                     Off The Grid              NaN         NaN        NaN   \n",
       "7001                     1096 Union St             NaN         NaN        NaN   \n",
       "7029                       Off The Grid            NaN         NaN        NaN   \n",
       "7123                     Off The Grid              NaN         NaN        NaN   \n",
       "7196                       Off The Grid            NaN         NaN        NaN   \n",
       "7198                        1 Front St             NaN         NaN        NaN   \n",
       "7209                  610 Long Bridge              NaN         NaN        NaN   \n",
       "7213       Approved Private Locations              NaN         NaN        NaN   \n",
       "7226                       855 Bush St             NaN         NaN        NaN   \n",
       "7288               Approved Locations    San Francisco         NaN        NaN   \n",
       "7289               Approved Locations    San Francisco         NaN        NaN   \n",
       "7290               Approved Locations    San Francisco         NaN        NaN   \n",
       "7291               Approved Locations    San Francisco         NaN        NaN   \n",
       "7308          888 Brannan St  1st Floor            NaN         NaN        NaN   \n",
       "7316                     Off The Grid    San Francisco         NaN        NaN   \n",
       "7320               Approved Locations    San Francisco         NaN        NaN   \n",
       "7322                       200 6th Ave             NaN         NaN        NaN   \n",
       "7363          900 North Point St E-204B            NaN         NaN        NaN   \n",
       "7371                     Off the Grid    San Francisco         NaN        NaN   \n",
       "7456                     Off The Grid    San Francisco         NaN        NaN   \n",
       "7466                     Off the Grid    San Francisco         NaN        NaN   \n",
       "7468                     Off the Grid    San Francisco         NaN        NaN   \n",
       "7472       Approved Private Locations              NaN         NaN        NaN   \n",
       "7524                       500 Post St             NaN         NaN        NaN   \n",
       "7526                     Off The Grid    San Francisco         NaN        NaN   \n",
       "7535                      842 Geary St             NaN         NaN        NaN   \n",
       "7536                     4423 Mission              NaN         NaN        NaN   \n",
       "\n",
       "       longitude  phone_number TaxCode  business_certificate application_date  \\\n",
       "2398 -122.468775  +14155272647     H25              374722.0              NaN   \n",
       "2419 -122.452515           NaN     H04                   NaN       05/29/2003   \n",
       "2426 -122.441438  +14155580127     H24              370790.0       10/01/2003   \n",
       "2428 -122.485437           NaN     H91              913733.0              NaN   \n",
       "2439 -122.429794           NaN     H87              920751.0              NaN   \n",
       "2442 -122.420197           NaN     H03                   NaN              NaN   \n",
       "2460 -122.421332  +14155319293     H25                   NaN              NaN   \n",
       "2463 -122.389335  +14155844975     H79                   NaN              NaN   \n",
       "2469         NaN           NaN     H79                   NaN              NaN   \n",
       "2476 -122.416482           NaN     H25              396103.0       02/02/2004   \n",
       "2486 -122.413446  +14155556127     H79                   NaN              NaN   \n",
       "2487 -122.420967           NaN     H25              373312.0       12/16/2003   \n",
       "2494 -122.425999           NaN     H91                   NaN       02/12/2003   \n",
       "2498 -122.466015           NaN     H03              385752.0       01/30/2004   \n",
       "2518 -122.503998           NaN     H24              308739.0              NaN   \n",
       "2529 -122.474590           NaN     H91              378174.0       06/30/2004   \n",
       "2531         NaN  +14150978170     H61               46324.0              NaN   \n",
       "2532         NaN  +14150265954     H61              401587.0              NaN   \n",
       "2535 -122.413285  +14155572661     H79                   NaN              NaN   \n",
       "2537 -122.420474           NaN     H78                   NaN       02/20/2004   \n",
       "2538 -122.483012  +14155374525     H25              378984.0              NaN   \n",
       "2543 -122.420042           NaN     H03              321490.0              NaN   \n",
       "2544 -122.428617           NaN     H91                   NaN              NaN   \n",
       "2558 -122.452950           NaN     H24              378751.0       07/02/2004   \n",
       "2585 -122.419443           NaN     H01              381379.0       08/01/2005   \n",
       "2642 -122.424347           NaN     H24              318520.0       12/01/2005   \n",
       "2647 -122.485383           NaN     H24              390566.0       08/18/2005   \n",
       "2738 -122.442457  +14155938181     H24              396371.0              NaN   \n",
       "2778         NaN  +14155693015      AA                   NaN              NaN   \n",
       "2952 -122.397020           NaN     H28                   NaN              NaN   \n",
       "...          ...           ...     ...                   ...              ...   \n",
       "6944         NaN           NaN      AA                   NaN              NaN   \n",
       "6970         NaN           NaN     H75             1012795.0       05/15/2015   \n",
       "6971         NaN           NaN     H75             1012795.0       05/15/2015   \n",
       "6979         NaN           NaN     H77             1006096.0       05/19/2015   \n",
       "7001         NaN           NaN     H24             1012301.0       06/01/2015   \n",
       "7029         NaN           NaN     H79              463874.0       05/27/2015   \n",
       "7123         NaN  +14150215404     H79             1016385.0       07/28/2015   \n",
       "7196         NaN           NaN     H79             1012122.0       08/24/2015   \n",
       "7198         NaN           NaN     H24             1017360.0       08/25/2015   \n",
       "7209         NaN  +14155908868     H26             1019640.0       12/28/2015   \n",
       "7213         NaN           NaN     H79             1017836.0       09/03/2015   \n",
       "7226         NaN           NaN     H26             1018247.0       09/15/2015   \n",
       "7288         NaN  +14155827000     H79              444070.0       09/30/2015   \n",
       "7289         NaN  +14155827000     H79              444070.0       09/30/2015   \n",
       "7290         NaN           NaN     H79              444070.0       09/30/2015   \n",
       "7291         NaN           NaN     H79              444070.0       09/30/2015   \n",
       "7308         NaN  +14155338758     H84              447046.0       10/20/2015   \n",
       "7316         NaN           NaN     H79             1020070.0       10/11/2015   \n",
       "7320         NaN           NaN     H76             1017984.0       10/27/2015   \n",
       "7322         NaN  +14155503716     H28             1017538.0       10/27/2015   \n",
       "7363         NaN           NaN     H07              446115.0       11/23/2015   \n",
       "7371         NaN  +14155697876     H79             1020634.0       11/19/2015   \n",
       "7456         NaN           NaN     H79             1023059.0       01/14/2016   \n",
       "7466         NaN           NaN     H79             1023632.0       01/25/2016   \n",
       "7468         NaN           NaN     H79             1023818.0       01/25/2016   \n",
       "7472         NaN  +14155773380     H77             1023691.0              NaN   \n",
       "7524         NaN           NaN     H26             1022749.0       03/16/2016   \n",
       "7526         NaN           NaN     H79             1028622.0              NaN   \n",
       "7535         NaN           NaN     H24             1029297.0       03/28/2016   \n",
       "7536         NaN  +14155336100     H24                   NaN       03/29/2016   \n",
       "\n",
       "                                             owner_name  \\\n",
       "2398                                   \\tXIAO LOONG INC   \n",
       "2419                                          Walgreens   \n",
       "2426                                     Angela Miranda   \n",
       "2428                             Edgewood Day Treatment   \n",
       "2439                                CROUERE, SONYONG Y.   \n",
       "2442                                   Home Sausage Co.   \n",
       "2460                                       Wassana Inc.   \n",
       "2463                                  Teodoro Hernandez   \n",
       "2469                                           Chan, Fu   \n",
       "2476                                 P.F.M. Enterprises   \n",
       "2486                                     Santana, Nelly   \n",
       "2487                                   Nabeel A. Yousef   \n",
       "2494              SAN FRANCISCO UNIFIED SCHOOL DISTRICT   \n",
       "2498                                    Rajai Alkhalidi   \n",
       "2518                                     David Catalano   \n",
       "2529                                        Louie Totah   \n",
       "2531                                  Compass Group USA   \n",
       "2532                  West Coast Vending & Food Service   \n",
       "2535                                         Jose Perez   \n",
       "2537                                            Aramark   \n",
       "2538                            Axiom Development Corp.   \n",
       "2543                                         Biuon Inc.   \n",
       "2544                                              SFUSD   \n",
       "2558                                         Salim Qaru   \n",
       "2585                               Sharif Ahmed Shariff   \n",
       "2642                           Delfina Restaurant, Inc.   \n",
       "2647                             Joe's Coffee Shop Inc.   \n",
       "2738  Original Buffalo Wings Corp. ( Sandra  and Ted...   \n",
       "2778   Department of Children, Youth and their Families   \n",
       "2952                                        Johnny Qura   \n",
       "...                                                 ...   \n",
       "6944   Department of Children, Youth and their Families   \n",
       "6970                       Planet Earth Enterprises LLC   \n",
       "6971                       Planet Earth Enterprises LLC   \n",
       "6979                        Humphry Slocombe Group, LLC   \n",
       "7001                                      Blue Cafe LLC   \n",
       "7029                             HMB Catering Truck LLC   \n",
       "7123                                      Silvia Novelo   \n",
       "7196                               George Joshua Espino   \n",
       "7198                              Front Door Caf�, Inc.   \n",
       "7209                                     Dumpling88 LLC   \n",
       "7213                                 Eat on Monday Inc.   \n",
       "7226                                  January 16th, LLC   \n",
       "7288                                 Akuranvyka USA Inc   \n",
       "7289                                 Akuranvyka USA Inc   \n",
       "7290                                 Akuranvyka USA Inc   \n",
       "7291                                 Akuranvyka USA Inc   \n",
       "7308                                         Airbnb Inc   \n",
       "7316                                      Soulnese, LLC   \n",
       "7320                                Breaking Bread Inc.   \n",
       "7322                                      Kilicoglu LLC   \n",
       "7363                                    Juice Shop, LLC   \n",
       "7371                       Tam Brands Restaurant I, LLC   \n",
       "7456                               Moonraker Mobile LLC   \n",
       "7466                                   The Waffle Roost   \n",
       "7468                                 Drums & Crumbs LLC   \n",
       "7472                               Stateside Treats LLC   \n",
       "7524                                      CHSP TRS, LLC   \n",
       "7526                              Jason and Brett Brill   \n",
       "7535                          Ariun Erdene Yundensodnom   \n",
       "7536                       Restaurante San Vicente Inc.   \n",
       "\n",
       "                                   owner_address           owner_city  \\\n",
       "2398                         250 WEST PORTAL AVE        SAN FRANCISCO   \n",
       "2419                                 P.O.Box 901            Deerfield   \n",
       "2426                            5170 Mission St.                 S.F.   \n",
       "2428                         1801 Vicente Street                   SF   \n",
       "2439                             266 JUANITA WAY                   SF   \n",
       "2442                            1726 mission st.                  NaN   \n",
       "2460                            819 Valencia St.                 S.F.   \n",
       "2463                          1407 Revere Street        San Francisco   \n",
       "2469                            1686 36th Avenue        San Francisco   \n",
       "2476                            3200 24th Street                   SF   \n",
       "2486                          33 Amaryllis Court  South San Francisco   \n",
       "2487                                 10 29th St.                 S.F.   \n",
       "2494                               3531 22nd St.                 S.F.   \n",
       "2498                         25 West Portal Ave.                   SF   \n",
       "2518                                  3914 Judah                   SF   \n",
       "2529                              3250 19th Ave.                   SF   \n",
       "2531                        1959 Republic Avenue          San Leandro   \n",
       "2532                      2124 Livingston Street              Oakland   \n",
       "2535                          645 Velasco Avenue        San Francisco   \n",
       "2537                       3555 Cesar Chavez St.                   SF   \n",
       "2538                              750 Font Blvd.                   SF   \n",
       "2543                            1798 Mission St.                   SF   \n",
       "2544                                         NaN                  NaN   \n",
       "2558                               203 Parnassus                   SF   \n",
       "2585                            2196 Mission St.                   SF   \n",
       "2642                            3611 18th Street                   SF   \n",
       "2647                            6134 Geary Blvd.                   SF   \n",
       "2738                        1115 Brussels Street        San Francisco   \n",
       "2778               1390 Market Street, Suite 900        San Francisco   \n",
       "2952                  50 Beale Street, Suite 105                   SF   \n",
       "...                                          ...                  ...   \n",
       "6944               1390 Market Street, Suite 900        San Francisco   \n",
       "6970        2268 Westborough Blvd., Ste. 302-329  South San Francisco   \n",
       "6971         2268 Westborough Blvd., Ste 302-329  South San Francisco   \n",
       "6979                          2790A Harrison St.                   SF   \n",
       "7001                           1096 Union Street        San Francisco   \n",
       "7029                                 PO Box 2496           El Granada   \n",
       "7123                           140 San Diego Ave            San Bruno   \n",
       "7196                     637 N 3rd Street Apt. 4             San Jose   \n",
       "7198                         101 Riverside Drive            San Bruno   \n",
       "7209                             937 Harrison St        San Francisco   \n",
       "7213                         738 Cedarville Lane             San Jose   \n",
       "7226                        722 Hampshire Street        San Francisco   \n",
       "7288            400 Oyster Point Blvd, Suite 534  South San Francisco   \n",
       "7289                           35 Stonepine Road         Hillsborough   \n",
       "7290            400 Oyster Point Blvd, Suite 534  South San Francisco   \n",
       "7291                 400 Oyster Pt. Blvd Ste 534  South San Francisco   \n",
       "7308                              888 Brannan St        San Francisco   \n",
       "7316                            3180 Mabury Road             San Jose   \n",
       "7320                       724 S. Amphlett Blvd.            San Mateo   \n",
       "7322                  2000 Broadway St. Unit 713        San Francisco   \n",
       "7363                    540 Barneveld Avenue, #C        San Francisco   \n",
       "7371                           930 Lovell Avenue          Mill Valley   \n",
       "7456                   105 Rockaway Beach Avenue             Pacifica   \n",
       "7466                         394 Henderson Drive             San Jose   \n",
       "7468                               PO Box 150181           San Rafael   \n",
       "7472                        735 Gooding Way #749               Albany   \n",
       "7524  1997 Annapolis Exchange Parkway, Suite 410            Annapolis   \n",
       "7526                             19036 Center St        Castro Valley   \n",
       "7535                       828 13th Street, #221              Oakland   \n",
       "7536                             4423 Mission St        San Francisco   \n",
       "\n",
       "     owner_state owner_zip  \n",
       "2398          CA     94127  \n",
       "2419          IL     60015  \n",
       "2426          CA     94112  \n",
       "2428          CA     94116  \n",
       "2439          CA     94127  \n",
       "2442         NaN       NaN  \n",
       "2460          CA     94110  \n",
       "2463          CA     94124  \n",
       "2469          CA     94122  \n",
       "2476          CA     94110  \n",
       "2486          CA     94080  \n",
       "2487          CA     94110  \n",
       "2494          CA     94114  \n",
       "2498          CA     94127  \n",
       "2518          CA     94132  \n",
       "2529          CA     94132  \n",
       "2531          CA     94577  \n",
       "2532          CA     94606  \n",
       "2535          CA     94134  \n",
       "2537          CA     94110  \n",
       "2538          CA     94132  \n",
       "2543          CA     94103  \n",
       "2544         NaN       NaN  \n",
       "2558          CA     94117  \n",
       "2585          CA     94110  \n",
       "2642          CA     94110  \n",
       "2647          CA     94121  \n",
       "2738          CA     94134  \n",
       "2778          CA     94102  \n",
       "2952          Ca     94105  \n",
       "...          ...       ...  \n",
       "6944          CA     94102  \n",
       "6970          CA     94080  \n",
       "6971          CA     94080  \n",
       "6979          CA     94110  \n",
       "7001          CA     94133  \n",
       "7029          CA     94018  \n",
       "7123          CA     94066  \n",
       "7196          CA     95112  \n",
       "7198          CA     94066  \n",
       "7209          CA     94107  \n",
       "7213          CA     95133  \n",
       "7226          CA     94110  \n",
       "7288          CA     94080  \n",
       "7289          CA     94010  \n",
       "7290          CA     94080  \n",
       "7291          CA     94080  \n",
       "7308          CA     94103  \n",
       "7316          CA     95127  \n",
       "7320          CA     94402  \n",
       "7322          CA     94113  \n",
       "7363          CA     94124  \n",
       "7371          CA     94941  \n",
       "7456          CA     94044  \n",
       "7466          CA     95123  \n",
       "7468          CA     94915  \n",
       "7472          CA     94706  \n",
       "7524          MD     21401  \n",
       "7526          CA     94546  \n",
       "7535          CA     94607  \n",
       "7536          CA     94112  \n",
       "\n",
       "[296 rows x 16 columns]"
      ]
     },
     "execution_count": 5,
     "metadata": {},
     "output_type": "execute_result"
    }
   ],
   "source": [
    "businesses[businesses.postal_code.isnull()]"
   ]
  },
  {
   "cell_type": "code",
   "execution_count": 6,
   "metadata": {
    "collapsed": false
   },
   "outputs": [
    {
     "data": {
      "text/html": [
       "<div>\n",
       "<table border=\"1\" class=\"dataframe\">\n",
       "  <thead>\n",
       "    <tr style=\"text-align: right;\">\n",
       "      <th></th>\n",
       "      <th>business_id</th>\n",
       "      <th>Score</th>\n",
       "      <th>date</th>\n",
       "      <th>type</th>\n",
       "    </tr>\n",
       "  </thead>\n",
       "  <tbody>\n",
       "    <tr>\n",
       "      <th>0</th>\n",
       "      <td>10</td>\n",
       "      <td>NaN</td>\n",
       "      <td>20140807</td>\n",
       "      <td>Reinspection/Followup</td>\n",
       "    </tr>\n",
       "    <tr>\n",
       "      <th>1</th>\n",
       "      <td>10</td>\n",
       "      <td>94.0</td>\n",
       "      <td>20140729</td>\n",
       "      <td>Routine - Unscheduled</td>\n",
       "    </tr>\n",
       "    <tr>\n",
       "      <th>2</th>\n",
       "      <td>10</td>\n",
       "      <td>NaN</td>\n",
       "      <td>20140124</td>\n",
       "      <td>Reinspection/Followup</td>\n",
       "    </tr>\n",
       "    <tr>\n",
       "      <th>3</th>\n",
       "      <td>10</td>\n",
       "      <td>92.0</td>\n",
       "      <td>20140114</td>\n",
       "      <td>Routine - Unscheduled</td>\n",
       "    </tr>\n",
       "    <tr>\n",
       "      <th>4</th>\n",
       "      <td>19</td>\n",
       "      <td>94.0</td>\n",
       "      <td>20141110</td>\n",
       "      <td>Routine - Unscheduled</td>\n",
       "    </tr>\n",
       "  </tbody>\n",
       "</table>\n",
       "</div>"
      ],
      "text/plain": [
       "   business_id  Score      date                   type\n",
       "0           10    NaN  20140807  Reinspection/Followup\n",
       "1           10   94.0  20140729  Routine - Unscheduled\n",
       "2           10    NaN  20140124  Reinspection/Followup\n",
       "3           10   92.0  20140114  Routine - Unscheduled\n",
       "4           19   94.0  20141110  Routine - Unscheduled"
      ]
     },
     "execution_count": 6,
     "metadata": {},
     "output_type": "execute_result"
    }
   ],
   "source": [
    "inspections = pd.read_csv('./data/inspections_plus.csv', parse_dates=True)\n",
    "inspections.head()"
   ]
  },
  {
   "cell_type": "code",
   "execution_count": 7,
   "metadata": {
    "collapsed": false
   },
   "outputs": [
    {
     "name": "stdout",
     "output_type": "stream",
     "text": [
      "<class 'pandas.core.frame.DataFrame'>\n",
      "RangeIndex: 27285 entries, 0 to 27284\n",
      "Data columns (total 4 columns):\n",
      "business_id    27285 non-null int64\n",
      "Score          15263 non-null float64\n",
      "date           27285 non-null int64\n",
      "type           27285 non-null object\n",
      "dtypes: float64(1), int64(2), object(1)\n",
      "memory usage: 852.7+ KB\n"
     ]
    }
   ],
   "source": [
    "inspections.info()"
   ]
  },
  {
   "cell_type": "code",
   "execution_count": 8,
   "metadata": {
    "collapsed": false
   },
   "outputs": [
    {
     "data": {
      "text/html": [
       "<div>\n",
       "<table border=\"1\" class=\"dataframe\">\n",
       "  <thead>\n",
       "    <tr style=\"text-align: right;\">\n",
       "      <th></th>\n",
       "      <th>business_id</th>\n",
       "      <th>Score</th>\n",
       "      <th>date</th>\n",
       "      <th>type</th>\n",
       "    </tr>\n",
       "  </thead>\n",
       "  <tbody>\n",
       "    <tr>\n",
       "      <th>0</th>\n",
       "      <td>10</td>\n",
       "      <td>NaN</td>\n",
       "      <td>20140807</td>\n",
       "      <td>Reinspection/Followup</td>\n",
       "    </tr>\n",
       "    <tr>\n",
       "      <th>2</th>\n",
       "      <td>10</td>\n",
       "      <td>NaN</td>\n",
       "      <td>20140124</td>\n",
       "      <td>Reinspection/Followup</td>\n",
       "    </tr>\n",
       "    <tr>\n",
       "      <th>14</th>\n",
       "      <td>45</td>\n",
       "      <td>NaN</td>\n",
       "      <td>20151230</td>\n",
       "      <td>Non-inspection site visit</td>\n",
       "    </tr>\n",
       "    <tr>\n",
       "      <th>19</th>\n",
       "      <td>50</td>\n",
       "      <td>NaN</td>\n",
       "      <td>20150513</td>\n",
       "      <td>Non-inspection site visit</td>\n",
       "    </tr>\n",
       "    <tr>\n",
       "      <th>22</th>\n",
       "      <td>50</td>\n",
       "      <td>NaN</td>\n",
       "      <td>20130409</td>\n",
       "      <td>Reinspection/Followup</td>\n",
       "    </tr>\n",
       "  </tbody>\n",
       "</table>\n",
       "</div>"
      ],
      "text/plain": [
       "    business_id  Score      date                       type\n",
       "0            10    NaN  20140807      Reinspection/Followup\n",
       "2            10    NaN  20140124      Reinspection/Followup\n",
       "14           45    NaN  20151230  Non-inspection site visit\n",
       "19           50    NaN  20150513  Non-inspection site visit\n",
       "22           50    NaN  20130409      Reinspection/Followup"
      ]
     },
     "execution_count": 8,
     "metadata": {},
     "output_type": "execute_result"
    }
   ],
   "source": [
    "inspections[inspections.Score.isnull()].head()"
   ]
  },
  {
   "cell_type": "code",
   "execution_count": 9,
   "metadata": {
    "collapsed": false
   },
   "outputs": [
    {
     "data": {
      "text/plain": [
       "business_id        0\n",
       "Score          12022\n",
       "date               0\n",
       "type               0\n",
       "dtype: int64"
      ]
     },
     "execution_count": 9,
     "metadata": {},
     "output_type": "execute_result"
    }
   ],
   "source": [
    "inspections.isnull().sum()"
   ]
  },
  {
   "cell_type": "code",
   "execution_count": 10,
   "metadata": {
    "collapsed": false
   },
   "outputs": [
    {
     "data": {
      "text/html": [
       "<div>\n",
       "<table border=\"1\" class=\"dataframe\">\n",
       "  <thead>\n",
       "    <tr style=\"text-align: right;\">\n",
       "      <th></th>\n",
       "      <th>business_id</th>\n",
       "      <th>Score</th>\n",
       "      <th>date</th>\n",
       "      <th>type</th>\n",
       "    </tr>\n",
       "  </thead>\n",
       "  <tbody>\n",
       "    <tr>\n",
       "      <th>4</th>\n",
       "      <td>19</td>\n",
       "      <td>94.0</td>\n",
       "      <td>20141110</td>\n",
       "      <td>Routine - Unscheduled</td>\n",
       "    </tr>\n",
       "    <tr>\n",
       "      <th>5</th>\n",
       "      <td>19</td>\n",
       "      <td>94.0</td>\n",
       "      <td>20140214</td>\n",
       "      <td>Routine - Unscheduled</td>\n",
       "    </tr>\n",
       "    <tr>\n",
       "      <th>6</th>\n",
       "      <td>19</td>\n",
       "      <td>96.0</td>\n",
       "      <td>20130904</td>\n",
       "      <td>Routine - Unscheduled</td>\n",
       "    </tr>\n",
       "  </tbody>\n",
       "</table>\n",
       "</div>"
      ],
      "text/plain": [
       "   business_id  Score      date                   type\n",
       "4           19   94.0  20141110  Routine - Unscheduled\n",
       "5           19   94.0  20140214  Routine - Unscheduled\n",
       "6           19   96.0  20130904  Routine - Unscheduled"
      ]
     },
     "execution_count": 10,
     "metadata": {},
     "output_type": "execute_result"
    }
   ],
   "source": [
    "inspections[inspections.business_id == 19]"
   ]
  },
  {
   "cell_type": "code",
   "execution_count": 11,
   "metadata": {
    "collapsed": false
   },
   "outputs": [],
   "source": [
    "violations = pd.read_csv('./data/violations_plus.csv', parse_dates=True)"
   ]
  },
  {
   "cell_type": "code",
   "execution_count": 12,
   "metadata": {
    "collapsed": false
   },
   "outputs": [
    {
     "data": {
      "text/html": [
       "<div>\n",
       "<table border=\"1\" class=\"dataframe\">\n",
       "  <thead>\n",
       "    <tr style=\"text-align: right;\">\n",
       "      <th></th>\n",
       "      <th>business_id</th>\n",
       "      <th>date</th>\n",
       "      <th>ViolationTypeID</th>\n",
       "      <th>risk_category</th>\n",
       "      <th>description</th>\n",
       "    </tr>\n",
       "  </thead>\n",
       "  <tbody>\n",
       "    <tr>\n",
       "      <th>5</th>\n",
       "      <td>19</td>\n",
       "      <td>20140214</td>\n",
       "      <td>103156</td>\n",
       "      <td>Low Risk</td>\n",
       "      <td>Permit license or inspection report not posted</td>\n",
       "    </tr>\n",
       "    <tr>\n",
       "      <th>6</th>\n",
       "      <td>19</td>\n",
       "      <td>20140214</td>\n",
       "      <td>103124</td>\n",
       "      <td>Moderate Risk</td>\n",
       "      <td>Inadequately cleaned or sanitized food contact...</td>\n",
       "    </tr>\n",
       "    <tr>\n",
       "      <th>7</th>\n",
       "      <td>19</td>\n",
       "      <td>20141110</td>\n",
       "      <td>103145</td>\n",
       "      <td>Low Risk</td>\n",
       "      <td>Improper storage of equipment utensils or linens</td>\n",
       "    </tr>\n",
       "    <tr>\n",
       "      <th>8</th>\n",
       "      <td>19</td>\n",
       "      <td>20141110</td>\n",
       "      <td>103116</td>\n",
       "      <td>Moderate Risk</td>\n",
       "      <td>Inadequate food safety knowledge or lack of ce...</td>\n",
       "    </tr>\n",
       "    <tr>\n",
       "      <th>9</th>\n",
       "      <td>19</td>\n",
       "      <td>20130904</td>\n",
       "      <td>103133</td>\n",
       "      <td>Moderate Risk</td>\n",
       "      <td>Foods not protected from contamination</td>\n",
       "    </tr>\n",
       "  </tbody>\n",
       "</table>\n",
       "</div>"
      ],
      "text/plain": [
       "   business_id      date  ViolationTypeID  risk_category  \\\n",
       "5           19  20140214           103156       Low Risk   \n",
       "6           19  20140214           103124  Moderate Risk   \n",
       "7           19  20141110           103145       Low Risk   \n",
       "8           19  20141110           103116  Moderate Risk   \n",
       "9           19  20130904           103133  Moderate Risk   \n",
       "\n",
       "                                         description  \n",
       "5     Permit license or inspection report not posted  \n",
       "6  Inadequately cleaned or sanitized food contact...  \n",
       "7   Improper storage of equipment utensils or linens  \n",
       "8  Inadequate food safety knowledge or lack of ce...  \n",
       "9             Foods not protected from contamination  "
      ]
     },
     "execution_count": 12,
     "metadata": {},
     "output_type": "execute_result"
    }
   ],
   "source": [
    "violations[violations.business_id == 19]"
   ]
  },
  {
   "cell_type": "code",
   "execution_count": 13,
   "metadata": {
    "collapsed": false
   },
   "outputs": [
    {
     "name": "stdout",
     "output_type": "stream",
     "text": [
      "<class 'pandas.core.frame.DataFrame'>\n",
      "RangeIndex: 39720 entries, 0 to 39719\n",
      "Data columns (total 5 columns):\n",
      "business_id        39720 non-null int64\n",
      "date               39720 non-null int64\n",
      "ViolationTypeID    39720 non-null int64\n",
      "risk_category      39710 non-null object\n",
      "description        39710 non-null object\n",
      "dtypes: int64(3), object(2)\n",
      "memory usage: 1.5+ MB\n"
     ]
    }
   ],
   "source": [
    "violations.info()"
   ]
  },
  {
   "cell_type": "code",
   "execution_count": 14,
   "metadata": {
    "collapsed": false
   },
   "outputs": [],
   "source": [
    "# 1 Combine the three dataframes into one data frame called restaurant_scores\n",
    "# Hint: http://pandas.pydata.org/pandas-docs/stable/merging.html"
   ]
  },
  {
   "cell_type": "code",
   "execution_count": 40,
   "metadata": {
    "collapsed": false
   },
   "outputs": [
    {
     "name": "stdout",
     "output_type": "stream",
     "text": [
      "<class 'pandas.core.frame.DataFrame'>\n",
      "Int64Index: 43850 entries, 0 to 43849\n",
      "Data columns (total 8 columns):\n",
      "business_id        43850 non-null int64\n",
      "Score              38656 non-null float64\n",
      "date               43850 non-null int64\n",
      "type               43850 non-null object\n",
      "month              43850 non-null object\n",
      "ViolationTypeID    43850 non-null int64\n",
      "risk_category      43838 non-null object\n",
      "description        43838 non-null object\n",
      "dtypes: float64(1), int64(3), object(4)\n",
      "memory usage: 3.0+ MB\n"
     ]
    }
   ],
   "source": [
    "inspections_violations = pd.merge(inspections, violations, on=['business_id','date'])\n",
    "inspections_violations.info()"
   ]
  },
  {
   "cell_type": "code",
   "execution_count": 43,
   "metadata": {
    "collapsed": false
   },
   "outputs": [],
   "source": [
    "restaurant_scores = pd.merge(businesses, inspections_violations, how = 'right', on='business_id')"
   ]
  },
  {
   "cell_type": "code",
   "execution_count": 44,
   "metadata": {
    "collapsed": false
   },
   "outputs": [
    {
     "data": {
      "text/html": [
       "<div>\n",
       "<table border=\"1\" class=\"dataframe\">\n",
       "  <thead>\n",
       "    <tr style=\"text-align: right;\">\n",
       "      <th></th>\n",
       "      <th>business_id</th>\n",
       "      <th>name</th>\n",
       "      <th>address</th>\n",
       "      <th>city</th>\n",
       "      <th>postal_code</th>\n",
       "      <th>latitude</th>\n",
       "      <th>longitude</th>\n",
       "      <th>phone_number</th>\n",
       "      <th>TaxCode</th>\n",
       "      <th>business_certificate</th>\n",
       "      <th>...</th>\n",
       "      <th>owner_city</th>\n",
       "      <th>owner_state</th>\n",
       "      <th>owner_zip</th>\n",
       "      <th>Score</th>\n",
       "      <th>date</th>\n",
       "      <th>type</th>\n",
       "      <th>month</th>\n",
       "      <th>ViolationTypeID</th>\n",
       "      <th>risk_category</th>\n",
       "      <th>description</th>\n",
       "    </tr>\n",
       "  </thead>\n",
       "  <tbody>\n",
       "    <tr>\n",
       "      <th>0</th>\n",
       "      <td>10.0</td>\n",
       "      <td>Tiramisu Kitchen</td>\n",
       "      <td>033 Belden Pl</td>\n",
       "      <td>San Francisco</td>\n",
       "      <td>94104</td>\n",
       "      <td>37.791116</td>\n",
       "      <td>-122.403816</td>\n",
       "      <td>NaN</td>\n",
       "      <td>H24</td>\n",
       "      <td>779059.0</td>\n",
       "      <td>...</td>\n",
       "      <td>San Francisco</td>\n",
       "      <td>CA</td>\n",
       "      <td>94104</td>\n",
       "      <td>94.0</td>\n",
       "      <td>20140729</td>\n",
       "      <td>Routine - Unscheduled</td>\n",
       "      <td>07</td>\n",
       "      <td>103129</td>\n",
       "      <td>Moderate Risk</td>\n",
       "      <td>Insufficient hot water or running water</td>\n",
       "    </tr>\n",
       "    <tr>\n",
       "      <th>1</th>\n",
       "      <td>10.0</td>\n",
       "      <td>Tiramisu Kitchen</td>\n",
       "      <td>033 Belden Pl</td>\n",
       "      <td>San Francisco</td>\n",
       "      <td>94104</td>\n",
       "      <td>37.791116</td>\n",
       "      <td>-122.403816</td>\n",
       "      <td>NaN</td>\n",
       "      <td>H24</td>\n",
       "      <td>779059.0</td>\n",
       "      <td>...</td>\n",
       "      <td>San Francisco</td>\n",
       "      <td>CA</td>\n",
       "      <td>94104</td>\n",
       "      <td>94.0</td>\n",
       "      <td>20140729</td>\n",
       "      <td>Routine - Unscheduled</td>\n",
       "      <td>07</td>\n",
       "      <td>103144</td>\n",
       "      <td>Low Risk</td>\n",
       "      <td>Unapproved or unmaintained equipment or utensils</td>\n",
       "    </tr>\n",
       "    <tr>\n",
       "      <th>2</th>\n",
       "      <td>10.0</td>\n",
       "      <td>Tiramisu Kitchen</td>\n",
       "      <td>033 Belden Pl</td>\n",
       "      <td>San Francisco</td>\n",
       "      <td>94104</td>\n",
       "      <td>37.791116</td>\n",
       "      <td>-122.403816</td>\n",
       "      <td>NaN</td>\n",
       "      <td>H24</td>\n",
       "      <td>779059.0</td>\n",
       "      <td>...</td>\n",
       "      <td>San Francisco</td>\n",
       "      <td>CA</td>\n",
       "      <td>94104</td>\n",
       "      <td>92.0</td>\n",
       "      <td>20140114</td>\n",
       "      <td>Routine - Unscheduled</td>\n",
       "      <td>01</td>\n",
       "      <td>103154</td>\n",
       "      <td>Low Risk</td>\n",
       "      <td>Unclean or degraded floors walls or ceilings</td>\n",
       "    </tr>\n",
       "    <tr>\n",
       "      <th>3</th>\n",
       "      <td>10.0</td>\n",
       "      <td>Tiramisu Kitchen</td>\n",
       "      <td>033 Belden Pl</td>\n",
       "      <td>San Francisco</td>\n",
       "      <td>94104</td>\n",
       "      <td>37.791116</td>\n",
       "      <td>-122.403816</td>\n",
       "      <td>NaN</td>\n",
       "      <td>H24</td>\n",
       "      <td>779059.0</td>\n",
       "      <td>...</td>\n",
       "      <td>San Francisco</td>\n",
       "      <td>CA</td>\n",
       "      <td>94104</td>\n",
       "      <td>92.0</td>\n",
       "      <td>20140114</td>\n",
       "      <td>Routine - Unscheduled</td>\n",
       "      <td>01</td>\n",
       "      <td>103119</td>\n",
       "      <td>Moderate Risk</td>\n",
       "      <td>Inadequate and inaccessible handwashing facili...</td>\n",
       "    </tr>\n",
       "    <tr>\n",
       "      <th>4</th>\n",
       "      <td>10.0</td>\n",
       "      <td>Tiramisu Kitchen</td>\n",
       "      <td>033 Belden Pl</td>\n",
       "      <td>San Francisco</td>\n",
       "      <td>94104</td>\n",
       "      <td>37.791116</td>\n",
       "      <td>-122.403816</td>\n",
       "      <td>NaN</td>\n",
       "      <td>H24</td>\n",
       "      <td>779059.0</td>\n",
       "      <td>...</td>\n",
       "      <td>San Francisco</td>\n",
       "      <td>CA</td>\n",
       "      <td>94104</td>\n",
       "      <td>92.0</td>\n",
       "      <td>20140114</td>\n",
       "      <td>Routine - Unscheduled</td>\n",
       "      <td>01</td>\n",
       "      <td>103145</td>\n",
       "      <td>Low Risk</td>\n",
       "      <td>Improper storage of equipment utensils or linens</td>\n",
       "    </tr>\n",
       "  </tbody>\n",
       "</table>\n",
       "<p>5 rows × 23 columns</p>\n",
       "</div>"
      ],
      "text/plain": [
       "   business_id              name        address           city postal_code  \\\n",
       "0         10.0  Tiramisu Kitchen  033 Belden Pl  San Francisco       94104   \n",
       "1         10.0  Tiramisu Kitchen  033 Belden Pl  San Francisco       94104   \n",
       "2         10.0  Tiramisu Kitchen  033 Belden Pl  San Francisco       94104   \n",
       "3         10.0  Tiramisu Kitchen  033 Belden Pl  San Francisco       94104   \n",
       "4         10.0  Tiramisu Kitchen  033 Belden Pl  San Francisco       94104   \n",
       "\n",
       "    latitude   longitude phone_number TaxCode  business_certificate  \\\n",
       "0  37.791116 -122.403816          NaN     H24              779059.0   \n",
       "1  37.791116 -122.403816          NaN     H24              779059.0   \n",
       "2  37.791116 -122.403816          NaN     H24              779059.0   \n",
       "3  37.791116 -122.403816          NaN     H24              779059.0   \n",
       "4  37.791116 -122.403816          NaN     H24              779059.0   \n",
       "\n",
       "                         ...                             owner_city  \\\n",
       "0                        ...                          San Francisco   \n",
       "1                        ...                          San Francisco   \n",
       "2                        ...                          San Francisco   \n",
       "3                        ...                          San Francisco   \n",
       "4                        ...                          San Francisco   \n",
       "\n",
       "  owner_state owner_zip Score      date                   type  month  \\\n",
       "0          CA     94104  94.0  20140729  Routine - Unscheduled     07   \n",
       "1          CA     94104  94.0  20140729  Routine - Unscheduled     07   \n",
       "2          CA     94104  92.0  20140114  Routine - Unscheduled     01   \n",
       "3          CA     94104  92.0  20140114  Routine - Unscheduled     01   \n",
       "4          CA     94104  92.0  20140114  Routine - Unscheduled     01   \n",
       "\n",
       "   ViolationTypeID  risk_category  \\\n",
       "0           103129  Moderate Risk   \n",
       "1           103144       Low Risk   \n",
       "2           103154       Low Risk   \n",
       "3           103119  Moderate Risk   \n",
       "4           103145       Low Risk   \n",
       "\n",
       "                                         description  \n",
       "0            Insufficient hot water or running water  \n",
       "1   Unapproved or unmaintained equipment or utensils  \n",
       "2       Unclean or degraded floors walls or ceilings  \n",
       "3  Inadequate and inaccessible handwashing facili...  \n",
       "4   Improper storage of equipment utensils or linens  \n",
       "\n",
       "[5 rows x 23 columns]"
      ]
     },
     "execution_count": 44,
     "metadata": {},
     "output_type": "execute_result"
    }
   ],
   "source": [
    "restaurant_scores.head()"
   ]
  },
  {
   "cell_type": "code",
   "execution_count": 45,
   "metadata": {
    "collapsed": false
   },
   "outputs": [
    {
     "name": "stdout",
     "output_type": "stream",
     "text": [
      "<class 'pandas.core.frame.DataFrame'>\n",
      "Int64Index: 43914 entries, 0 to 43913\n",
      "Data columns (total 23 columns):\n",
      "business_id             43914 non-null float64\n",
      "name                    43753 non-null object\n",
      "address                 43753 non-null object\n",
      "city                    37838 non-null object\n",
      "postal_code             42798 non-null object\n",
      "latitude                33424 non-null float64\n",
      "longitude               33424 non-null float64\n",
      "phone_number            12080 non-null object\n",
      "TaxCode                 43753 non-null object\n",
      "business_certificate    38880 non-null float64\n",
      "application_date        32177 non-null object\n",
      "owner_name              43666 non-null object\n",
      "owner_address           43621 non-null object\n",
      "owner_city              43568 non-null object\n",
      "owner_state             43561 non-null object\n",
      "owner_zip               43463 non-null object\n",
      "Score                   38715 non-null float64\n",
      "date                    43914 non-null int64\n",
      "type                    43914 non-null object\n",
      "month                   43914 non-null object\n",
      "ViolationTypeID         43914 non-null int64\n",
      "risk_category           43902 non-null object\n",
      "description             43902 non-null object\n",
      "dtypes: float64(5), int64(2), object(16)\n",
      "memory usage: 8.0+ MB\n"
     ]
    }
   ],
   "source": [
    "restaurant_scores.info()"
   ]
  },
  {
   "cell_type": "code",
   "execution_count": 19,
   "metadata": {
    "collapsed": false
   },
   "outputs": [],
   "source": [
    "# 2 Which ten business have had the most inspections?"
   ]
  },
  {
   "cell_type": "code",
   "execution_count": 20,
   "metadata": {
    "collapsed": false
   },
   "outputs": [],
   "source": [
    "inspection_businesses = pd.merge(inspections, businesses, how = 'left', on='business_id')"
   ]
  },
  {
   "cell_type": "code",
   "execution_count": 23,
   "metadata": {
    "collapsed": false
   },
   "outputs": [
    {
     "data": {
      "text/plain": [
       "name\n",
       "Peet's Coffee & Tea           87\n",
       "Starbucks Coffee              71\n",
       "Whole Foods Market            54\n",
       "STARBUCKS                     49\n",
       "Specialty's Cafe & Bakery     48\n",
       "San Francisco Soup Company    44\n",
       "STARBUCKS COFFEE              44\n",
       "KENTUCKY FRIED CHICKEN        32\n",
       "Lee's Deli                    31\n",
       "Subway Sandwiches             31\n",
       "Name: type, dtype: int64"
      ]
     },
     "execution_count": 23,
     "metadata": {},
     "output_type": "execute_result"
    }
   ],
   "source": [
    "inspection_businesses.groupby('name').type.count().sort_values(ascending = False).head(10)"
   ]
  },
  {
   "cell_type": "code",
   "execution_count": 31,
   "metadata": {
    "collapsed": true
   },
   "outputs": [],
   "source": [
    "# 3 Group and count the inspections by type"
   ]
  },
  {
   "cell_type": "code",
   "execution_count": 24,
   "metadata": {
    "collapsed": false
   },
   "outputs": [
    {
     "data": {
      "text/plain": [
       "type\n",
       "Administrative or Document Review        4\n",
       "Complaint                             1637\n",
       "Complaint Reinspection/Followup        163\n",
       "Foodborne Illness Investigation        102\n",
       "Multi-agency Investigation               2\n",
       "New Construction                      1615\n",
       "New Ownership                         1878\n",
       "Non-inspection site visit              841\n",
       "Reinspection/Followup                 5393\n",
       "Routine - Scheduled                     63\n",
       "Routine - Unscheduled                15519\n",
       "Special Event                            2\n",
       "Structural Inspection                  123\n",
       "Name: type, dtype: int64"
      ]
     },
     "execution_count": 24,
     "metadata": {},
     "output_type": "execute_result"
    }
   ],
   "source": [
    "inspection_businesses.groupby('type').type.count()"
   ]
  },
  {
   "cell_type": "code",
   "execution_count": 33,
   "metadata": {
    "collapsed": false
   },
   "outputs": [],
   "source": [
    "# 4 Create a plot that shows number of inspections per month\n",
    "# Bonus for creating a heatmap\n",
    "# http://stanford.edu/~mwaskom/software/seaborn/generated/seaborn.heatmap.html?highlight=heatmap"
   ]
  },
  {
   "cell_type": "code",
   "execution_count": 25,
   "metadata": {
    "collapsed": false
   },
   "outputs": [
    {
     "data": {
      "text/html": [
       "<div>\n",
       "<table border=\"1\" class=\"dataframe\">\n",
       "  <thead>\n",
       "    <tr style=\"text-align: right;\">\n",
       "      <th></th>\n",
       "      <th>business_id</th>\n",
       "      <th>Score</th>\n",
       "      <th>date</th>\n",
       "      <th>type</th>\n",
       "      <th>month</th>\n",
       "    </tr>\n",
       "  </thead>\n",
       "  <tbody>\n",
       "    <tr>\n",
       "      <th>0</th>\n",
       "      <td>10</td>\n",
       "      <td>NaN</td>\n",
       "      <td>20140807</td>\n",
       "      <td>Reinspection/Followup</td>\n",
       "      <td>08</td>\n",
       "    </tr>\n",
       "    <tr>\n",
       "      <th>1</th>\n",
       "      <td>10</td>\n",
       "      <td>94.0</td>\n",
       "      <td>20140729</td>\n",
       "      <td>Routine - Unscheduled</td>\n",
       "      <td>07</td>\n",
       "    </tr>\n",
       "    <tr>\n",
       "      <th>2</th>\n",
       "      <td>10</td>\n",
       "      <td>NaN</td>\n",
       "      <td>20140124</td>\n",
       "      <td>Reinspection/Followup</td>\n",
       "      <td>01</td>\n",
       "    </tr>\n",
       "    <tr>\n",
       "      <th>3</th>\n",
       "      <td>10</td>\n",
       "      <td>92.0</td>\n",
       "      <td>20140114</td>\n",
       "      <td>Routine - Unscheduled</td>\n",
       "      <td>01</td>\n",
       "    </tr>\n",
       "    <tr>\n",
       "      <th>4</th>\n",
       "      <td>19</td>\n",
       "      <td>94.0</td>\n",
       "      <td>20141110</td>\n",
       "      <td>Routine - Unscheduled</td>\n",
       "      <td>11</td>\n",
       "    </tr>\n",
       "  </tbody>\n",
       "</table>\n",
       "</div>"
      ],
      "text/plain": [
       "   business_id  Score      date                   type month\n",
       "0           10    NaN  20140807  Reinspection/Followup    08\n",
       "1           10   94.0  20140729  Routine - Unscheduled    07\n",
       "2           10    NaN  20140124  Reinspection/Followup    01\n",
       "3           10   92.0  20140114  Routine - Unscheduled    01\n",
       "4           19   94.0  20141110  Routine - Unscheduled    11"
      ]
     },
     "execution_count": 25,
     "metadata": {},
     "output_type": "execute_result"
    }
   ],
   "source": [
    "inspections['month'] = inspections.date.apply(lambda x: str(x)[4:6])\n",
    "inspections.head()"
   ]
  },
  {
   "cell_type": "code",
   "execution_count": 26,
   "metadata": {
    "collapsed": false
   },
   "outputs": [
    {
     "data": {
      "text/plain": [
       "<matplotlib.text.Text at 0xa1c47b8>"
      ]
     },
     "execution_count": 26,
     "metadata": {},
     "output_type": "execute_result"
    },
    {
     "data": {
      "image/png": "[encoded data removed]",
      "text/plain": [
       "<matplotlib.figure.Figure at 0x9e2c160>"
      ]
     },
     "metadata": {},
     "output_type": "display_data"
    }
   ],
   "source": [
    "# drinks.continent.value_counts().plot(kind='bar', title='Countries per Continent')\n",
    "# plt.xlabel('Continent')\n",
    "# plt.ylabel('Count')\n",
    "inspections.month.value_counts().plot(kind='bar', title = 'Inspections per Month')\n",
    "plt.xlabel('Month')\n",
    "plt.ylabel('Count')"
   ]
  },
  {
   "cell_type": "code",
   "execution_count": 36,
   "metadata": {
    "collapsed": true
   },
   "outputs": [],
   "source": [
    "# 5 Which zip code contains the most high risk violations?"
   ]
  },
  {
   "cell_type": "code",
   "execution_count": 27,
   "metadata": {
    "collapsed": true
   },
   "outputs": [],
   "source": [
    "violations__businesses = pd.merge(violations, businesses, how = 'left', on='business_id')"
   ]
  },
  {
   "cell_type": "code",
   "execution_count": 34,
   "metadata": {
    "collapsed": false
   },
   "outputs": [
    {
     "data": {
      "text/plain": [
       "postal_code\n",
       "94133    530\n",
       "94110    501\n",
       "94103    496\n",
       "94109    396\n",
       "94102    390\n",
       "Name: risk_category, dtype: int64"
      ]
     },
     "execution_count": 34,
     "metadata": {},
     "output_type": "execute_result"
    }
   ],
   "source": [
    "violations__businesses[violations__businesses.risk_category =='High Risk']\\\n",
    ".groupby('postal_code').risk_category.count().sort_values(ascending = False).head()"
   ]
  },
  {
   "cell_type": "code",
   "execution_count": 16,
   "metadata": {
    "collapsed": true
   },
   "outputs": [],
   "source": [
    "# 6 If inspection is prompted by a change in restaurant ownership, \n",
    "# is the inspection more likely to be categorized as higher or lower risk?"
   ]
  },
  {
   "cell_type": "code",
   "execution_count": 41,
   "metadata": {
    "collapsed": false
   },
   "outputs": [
    {
     "data": {
      "text/plain": [
       "risk_category\n",
       "High Risk        0.132143\n",
       "Low Risk         0.493750\n",
       "Moderate Risk    0.374107\n",
       "Name: risk_category, dtype: float64"
      ]
     },
     "execution_count": 41,
     "metadata": {},
     "output_type": "execute_result"
    }
   ],
   "source": [
    "# New Ownership\n",
    "New_Ownership_count = float(inspections_violations[inspections_violations.type == 'New Ownership'].type.count())\n",
    "inspections_violations[inspections_violations.type == 'New Ownership'].\\\n",
    "    groupby('risk_category').risk_category.apply(lambda x: x.count()/New_Ownership_count)"
   ]
  },
  {
   "cell_type": "code",
   "execution_count": 42,
   "metadata": {
    "collapsed": false
   },
   "outputs": [
    {
     "data": {
      "text/plain": [
       "risk_category\n",
       "High Risk        0.143576\n",
       "Low Risk         0.519073\n",
       "Moderate Risk    0.337070\n",
       "Name: risk_category, dtype: float64"
      ]
     },
     "execution_count": 42,
     "metadata": {},
     "output_type": "execute_result"
    }
   ],
   "source": [
    "# No New Ownership\n",
    "No_New_Ownership_count = float(inspections_violations[inspections_violations.type != 'New Ownership'].type.count())\n",
    "inspections_violations[inspections_violations.type != 'New Ownership'].\\\n",
    "    groupby('risk_category').risk_category.apply(lambda x: x.count()/No_New_Ownership_count)"
   ]
  },
  {
   "cell_type": "code",
   "execution_count": 17,
   "metadata": {
    "collapsed": true
   },
   "outputs": [],
   "source": [
    "# 7 Examining the descriptions, what is the most common violation?"
   ]
  },
  {
   "cell_type": "code",
   "execution_count": 73,
   "metadata": {
    "collapsed": false
   },
   "outputs": [
    {
     "data": {
      "text/plain": [
       "description\n",
       "Unclean or degraded floors walls or ceilings                          3395\n",
       "Moderate risk food holding temperature                                2621\n",
       "Inadequate and inaccessible handwashing facilities                    2444\n",
       "Unapproved or unmaintained equipment or utensils                      2335\n",
       "Wiping cloths not clean or properly stored or inadequate sanitizer    2294\n",
       "Name: description, dtype: int64"
      ]
     },
     "execution_count": 73,
     "metadata": {},
     "output_type": "execute_result"
    }
   ],
   "source": [
    "violations.groupby('description').description.count().sort_values(ascending=False).head()"
   ]
  },
  {
   "cell_type": "code",
   "execution_count": 18,
   "metadata": {
    "collapsed": true
   },
   "outputs": [],
   "source": [
    "# 8 Create a hist of the scores with 10 bins"
   ]
  },
  {
   "cell_type": "code",
   "execution_count": 116,
   "metadata": {
    "collapsed": false
   },
   "outputs": [
    {
     "data": {
      "text/plain": [
       "<matplotlib.axes._subplots.AxesSubplot at 0xd432c50>"
      ]
     },
     "execution_count": 116,
     "metadata": {},
     "output_type": "execute_result"
    },
    {
     "data": {
      "image/png": "[encoded data removed]",
      "text/plain": [
       "<matplotlib.figure.Figure at 0xd4327b8>"
      ]
     },
     "metadata": {},
     "output_type": "display_data"
    }
   ],
   "source": [
    "inspections.Score.hist(bins=10)"
   ]
  },
  {
   "cell_type": "code",
   "execution_count": 19,
   "metadata": {
    "collapsed": true
   },
   "outputs": [],
   "source": [
    "# 9 Can you predict risk category based on the other features in this dataset?"
   ]
  },
  {
   "cell_type": "code",
   "execution_count": 46,
   "metadata": {
    "collapsed": true
   },
   "outputs": [],
   "source": [
    "from sklearn.neighbors import KNeighborsClassifier "
   ]
  },
  {
   "cell_type": "code",
   "execution_count": null,
   "metadata": {
    "collapsed": true
   },
   "outputs": [],
   "source": []
  },
  {
   "cell_type": "code",
   "execution_count": 20,
   "metadata": {
    "collapsed": true
   },
   "outputs": [],
   "source": [
    "# 10 Extra Credit:\n",
    "# Use Instagram location API to find pictures taken at the lat, long of the most High Risk restaurant\n",
    "# https://www.instagram.com/developer/endpoints/locations/"
   ]
  },
  {
   "cell_type": "code",
   "execution_count": 21,
   "metadata": {
    "collapsed": true
   },
   "outputs": [],
   "source": [
    "############################\n",
    "### A Little More Morbid ###\n",
    "############################"
   ]
  },
  {
   "cell_type": "code",
   "execution_count": 119,
   "metadata": {
    "collapsed": false
   },
   "outputs": [
    {
     "data": {
      "text/html": [
       "<div>\n",
       "<table border=\"1\" class=\"dataframe\">\n",
       "  <thead>\n",
       "    <tr style=\"text-align: right;\">\n",
       "      <th></th>\n",
       "      <th>Unnamed: 0</th>\n",
       "      <th>name</th>\n",
       "      <th>age</th>\n",
       "      <th>gender</th>\n",
       "      <th>raceethnicity</th>\n",
       "      <th>month</th>\n",
       "      <th>day</th>\n",
       "      <th>year</th>\n",
       "      <th>streetaddress</th>\n",
       "      <th>city</th>\n",
       "      <th>state</th>\n",
       "      <th>lawenforcementagency</th>\n",
       "      <th>cause</th>\n",
       "      <th>armed</th>\n",
       "      <th>county_income</th>\n",
       "    </tr>\n",
       "  </thead>\n",
       "  <tbody>\n",
       "    <tr>\n",
       "      <th>0</th>\n",
       "      <td>0</td>\n",
       "      <td>A'donte Washington</td>\n",
       "      <td>16</td>\n",
       "      <td>Male</td>\n",
       "      <td>Black</td>\n",
       "      <td>February</td>\n",
       "      <td>23</td>\n",
       "      <td>2015</td>\n",
       "      <td>Clearview Ln</td>\n",
       "      <td>Millbrook</td>\n",
       "      <td>AL</td>\n",
       "      <td>Millbrook Police Department</td>\n",
       "      <td>Gunshot</td>\n",
       "      <td>No</td>\n",
       "      <td>54766</td>\n",
       "    </tr>\n",
       "    <tr>\n",
       "      <th>1</th>\n",
       "      <td>1</td>\n",
       "      <td>Aaron Rutledge</td>\n",
       "      <td>27</td>\n",
       "      <td>Male</td>\n",
       "      <td>White</td>\n",
       "      <td>April</td>\n",
       "      <td>2</td>\n",
       "      <td>2015</td>\n",
       "      <td>300 block Iris Park Dr</td>\n",
       "      <td>Pineville</td>\n",
       "      <td>LA</td>\n",
       "      <td>Rapides Parish Sheriff's Office</td>\n",
       "      <td>Gunshot</td>\n",
       "      <td>No</td>\n",
       "      <td>40930</td>\n",
       "    </tr>\n",
       "    <tr>\n",
       "      <th>2</th>\n",
       "      <td>2</td>\n",
       "      <td>Aaron Siler</td>\n",
       "      <td>26</td>\n",
       "      <td>Male</td>\n",
       "      <td>White</td>\n",
       "      <td>March</td>\n",
       "      <td>14</td>\n",
       "      <td>2015</td>\n",
       "      <td>22nd Ave and 56th St</td>\n",
       "      <td>Kenosha</td>\n",
       "      <td>WI</td>\n",
       "      <td>Kenosha Police Department</td>\n",
       "      <td>Gunshot</td>\n",
       "      <td>No</td>\n",
       "      <td>54930</td>\n",
       "    </tr>\n",
       "    <tr>\n",
       "      <th>3</th>\n",
       "      <td>3</td>\n",
       "      <td>Aaron Valdez</td>\n",
       "      <td>25</td>\n",
       "      <td>Male</td>\n",
       "      <td>Hispanic/Latino</td>\n",
       "      <td>March</td>\n",
       "      <td>11</td>\n",
       "      <td>2015</td>\n",
       "      <td>3000 Seminole Ave</td>\n",
       "      <td>South Gate</td>\n",
       "      <td>CA</td>\n",
       "      <td>South Gate Police Department</td>\n",
       "      <td>Gunshot</td>\n",
       "      <td>Firearm</td>\n",
       "      <td>55909</td>\n",
       "    </tr>\n",
       "    <tr>\n",
       "      <th>4</th>\n",
       "      <td>4</td>\n",
       "      <td>Adam Jovicic</td>\n",
       "      <td>29</td>\n",
       "      <td>Male</td>\n",
       "      <td>White</td>\n",
       "      <td>March</td>\n",
       "      <td>19</td>\n",
       "      <td>2015</td>\n",
       "      <td>364 Hiwood Ave</td>\n",
       "      <td>Munroe Falls</td>\n",
       "      <td>OH</td>\n",
       "      <td>Kent Police Department</td>\n",
       "      <td>Gunshot</td>\n",
       "      <td>No</td>\n",
       "      <td>49669</td>\n",
       "    </tr>\n",
       "  </tbody>\n",
       "</table>\n",
       "</div>"
      ],
      "text/plain": [
       "   Unnamed: 0                name  age gender    raceethnicity     month  day  \\\n",
       "0           0  A'donte Washington   16   Male            Black  February   23   \n",
       "1           1      Aaron Rutledge   27   Male            White     April    2   \n",
       "2           2         Aaron Siler   26   Male            White     March   14   \n",
       "3           3        Aaron Valdez   25   Male  Hispanic/Latino     March   11   \n",
       "4           4        Adam Jovicic   29   Male            White     March   19   \n",
       "\n",
       "   year           streetaddress          city state  \\\n",
       "0  2015            Clearview Ln     Millbrook    AL   \n",
       "1  2015  300 block Iris Park Dr     Pineville    LA   \n",
       "2  2015    22nd Ave and 56th St       Kenosha    WI   \n",
       "3  2015       3000 Seminole Ave    South Gate    CA   \n",
       "4  2015          364 Hiwood Ave  Munroe Falls    OH   \n",
       "\n",
       "              lawenforcementagency    cause    armed  county_income  \n",
       "0      Millbrook Police Department  Gunshot       No          54766  \n",
       "1  Rapides Parish Sheriff's Office  Gunshot       No          40930  \n",
       "2        Kenosha Police Department  Gunshot       No          54930  \n",
       "3     South Gate Police Department  Gunshot  Firearm          55909  \n",
       "4           Kent Police Department  Gunshot       No          49669  "
      ]
     },
     "execution_count": 119,
     "metadata": {},
     "output_type": "execute_result"
    }
   ],
   "source": [
    "killings = pd.read_csv('./data/police-killings.csv')\n",
    "killings.head()"
   ]
  },
  {
   "cell_type": "code",
   "execution_count": 125,
   "metadata": {
    "collapsed": false
   },
   "outputs": [
    {
     "name": "stdout",
     "output_type": "stream",
     "text": [
      "<class 'pandas.core.frame.DataFrame'>\n",
      "RangeIndex: 467 entries, 0 to 466\n",
      "Data columns (total 15 columns):\n",
      "Unnamed: 0       467 non-null int64\n",
      "name             467 non-null object\n",
      "age              467 non-null int64\n",
      "gender           467 non-null object\n",
      "race             467 non-null object\n",
      "month            467 non-null object\n",
      "day              467 non-null int64\n",
      "year             467 non-null int64\n",
      "streetaddress    463 non-null object\n",
      "city             467 non-null object\n",
      "state            467 non-null object\n",
      "agency           467 non-null object\n",
      "cause            467 non-null object\n",
      "armed            467 non-null object\n",
      "county_income    467 non-null int64\n",
      "dtypes: int64(5), object(10)\n",
      "memory usage: 54.8+ KB\n"
     ]
    }
   ],
   "source": [
    "killings.info()"
   ]
  },
  {
   "cell_type": "code",
   "execution_count": 23,
   "metadata": {
    "collapsed": true
   },
   "outputs": [],
   "source": [
    "# 1. Make the following changed to column names:\n",
    "# lawenforcementagency -> agency\n",
    "# raceethnicity        -> race"
   ]
  },
  {
   "cell_type": "code",
   "execution_count": 120,
   "metadata": {
    "collapsed": false
   },
   "outputs": [],
   "source": [
    "killings = killings.rename(columns = {'lawenforcementagency': 'agency', 'raceethnicity': 'race'})"
   ]
  },
  {
   "cell_type": "code",
   "execution_count": 121,
   "metadata": {
    "collapsed": false
   },
   "outputs": [
    {
     "data": {
      "text/html": [
       "<div>\n",
       "<table border=\"1\" class=\"dataframe\">\n",
       "  <thead>\n",
       "    <tr style=\"text-align: right;\">\n",
       "      <th></th>\n",
       "      <th>Unnamed: 0</th>\n",
       "      <th>name</th>\n",
       "      <th>age</th>\n",
       "      <th>gender</th>\n",
       "      <th>race</th>\n",
       "      <th>month</th>\n",
       "      <th>day</th>\n",
       "      <th>year</th>\n",
       "      <th>streetaddress</th>\n",
       "      <th>city</th>\n",
       "      <th>state</th>\n",
       "      <th>agency</th>\n",
       "      <th>cause</th>\n",
       "      <th>armed</th>\n",
       "      <th>county_income</th>\n",
       "    </tr>\n",
       "  </thead>\n",
       "  <tbody>\n",
       "    <tr>\n",
       "      <th>0</th>\n",
       "      <td>0</td>\n",
       "      <td>A'donte Washington</td>\n",
       "      <td>16</td>\n",
       "      <td>Male</td>\n",
       "      <td>Black</td>\n",
       "      <td>February</td>\n",
       "      <td>23</td>\n",
       "      <td>2015</td>\n",
       "      <td>Clearview Ln</td>\n",
       "      <td>Millbrook</td>\n",
       "      <td>AL</td>\n",
       "      <td>Millbrook Police Department</td>\n",
       "      <td>Gunshot</td>\n",
       "      <td>No</td>\n",
       "      <td>54766</td>\n",
       "    </tr>\n",
       "    <tr>\n",
       "      <th>1</th>\n",
       "      <td>1</td>\n",
       "      <td>Aaron Rutledge</td>\n",
       "      <td>27</td>\n",
       "      <td>Male</td>\n",
       "      <td>White</td>\n",
       "      <td>April</td>\n",
       "      <td>2</td>\n",
       "      <td>2015</td>\n",
       "      <td>300 block Iris Park Dr</td>\n",
       "      <td>Pineville</td>\n",
       "      <td>LA</td>\n",
       "      <td>Rapides Parish Sheriff's Office</td>\n",
       "      <td>Gunshot</td>\n",
       "      <td>No</td>\n",
       "      <td>40930</td>\n",
       "    </tr>\n",
       "    <tr>\n",
       "      <th>2</th>\n",
       "      <td>2</td>\n",
       "      <td>Aaron Siler</td>\n",
       "      <td>26</td>\n",
       "      <td>Male</td>\n",
       "      <td>White</td>\n",
       "      <td>March</td>\n",
       "      <td>14</td>\n",
       "      <td>2015</td>\n",
       "      <td>22nd Ave and 56th St</td>\n",
       "      <td>Kenosha</td>\n",
       "      <td>WI</td>\n",
       "      <td>Kenosha Police Department</td>\n",
       "      <td>Gunshot</td>\n",
       "      <td>No</td>\n",
       "      <td>54930</td>\n",
       "    </tr>\n",
       "    <tr>\n",
       "      <th>3</th>\n",
       "      <td>3</td>\n",
       "      <td>Aaron Valdez</td>\n",
       "      <td>25</td>\n",
       "      <td>Male</td>\n",
       "      <td>Hispanic/Latino</td>\n",
       "      <td>March</td>\n",
       "      <td>11</td>\n",
       "      <td>2015</td>\n",
       "      <td>3000 Seminole Ave</td>\n",
       "      <td>South Gate</td>\n",
       "      <td>CA</td>\n",
       "      <td>South Gate Police Department</td>\n",
       "      <td>Gunshot</td>\n",
       "      <td>Firearm</td>\n",
       "      <td>55909</td>\n",
       "    </tr>\n",
       "    <tr>\n",
       "      <th>4</th>\n",
       "      <td>4</td>\n",
       "      <td>Adam Jovicic</td>\n",
       "      <td>29</td>\n",
       "      <td>Male</td>\n",
       "      <td>White</td>\n",
       "      <td>March</td>\n",
       "      <td>19</td>\n",
       "      <td>2015</td>\n",
       "      <td>364 Hiwood Ave</td>\n",
       "      <td>Munroe Falls</td>\n",
       "      <td>OH</td>\n",
       "      <td>Kent Police Department</td>\n",
       "      <td>Gunshot</td>\n",
       "      <td>No</td>\n",
       "      <td>49669</td>\n",
       "    </tr>\n",
       "  </tbody>\n",
       "</table>\n",
       "</div>"
      ],
      "text/plain": [
       "   Unnamed: 0                name  age gender             race     month  day  \\\n",
       "0           0  A'donte Washington   16   Male            Black  February   23   \n",
       "1           1      Aaron Rutledge   27   Male            White     April    2   \n",
       "2           2         Aaron Siler   26   Male            White     March   14   \n",
       "3           3        Aaron Valdez   25   Male  Hispanic/Latino     March   11   \n",
       "4           4        Adam Jovicic   29   Male            White     March   19   \n",
       "\n",
       "   year           streetaddress          city state  \\\n",
       "0  2015            Clearview Ln     Millbrook    AL   \n",
       "1  2015  300 block Iris Park Dr     Pineville    LA   \n",
       "2  2015    22nd Ave and 56th St       Kenosha    WI   \n",
       "3  2015       3000 Seminole Ave    South Gate    CA   \n",
       "4  2015          364 Hiwood Ave  Munroe Falls    OH   \n",
       "\n",
       "                            agency    cause    armed  county_income  \n",
       "0      Millbrook Police Department  Gunshot       No          54766  \n",
       "1  Rapides Parish Sheriff's Office  Gunshot       No          40930  \n",
       "2        Kenosha Police Department  Gunshot       No          54930  \n",
       "3     South Gate Police Department  Gunshot  Firearm          55909  \n",
       "4           Kent Police Department  Gunshot       No          49669  "
      ]
     },
     "execution_count": 121,
     "metadata": {},
     "output_type": "execute_result"
    }
   ],
   "source": [
    "killings.head()"
   ]
  },
  {
   "cell_type": "code",
   "execution_count": 24,
   "metadata": {
    "collapsed": true
   },
   "outputs": [],
   "source": [
    "# 2. Show the count of missing values in each column"
   ]
  },
  {
   "cell_type": "code",
   "execution_count": 126,
   "metadata": {
    "collapsed": false
   },
   "outputs": [
    {
     "data": {
      "text/plain": [
       "Unnamed: 0       0\n",
       "name             0\n",
       "age              0\n",
       "gender           0\n",
       "race             0\n",
       "month            0\n",
       "day              0\n",
       "year             0\n",
       "streetaddress    4\n",
       "city             0\n",
       "state            0\n",
       "agency           0\n",
       "cause            0\n",
       "armed            0\n",
       "county_income    0\n",
       "dtype: int64"
      ]
     },
     "execution_count": 126,
     "metadata": {},
     "output_type": "execute_result"
    }
   ],
   "source": [
    "killings.isnull().sum()"
   ]
  },
  {
   "cell_type": "code",
   "execution_count": 25,
   "metadata": {
    "collapsed": true
   },
   "outputs": [],
   "source": [
    "# 3. replace each null value in the dataframe with the string \"Unknown\""
   ]
  },
  {
   "cell_type": "code",
   "execution_count": 129,
   "metadata": {
    "collapsed": true
   },
   "outputs": [],
   "source": [
    "killings.fillna(value = 'Unknown', inplace = True)"
   ]
  },
  {
   "cell_type": "code",
   "execution_count": 130,
   "metadata": {
    "collapsed": false
   },
   "outputs": [
    {
     "data": {
      "text/plain": [
       "Unnamed: 0       0\n",
       "name             0\n",
       "age              0\n",
       "gender           0\n",
       "race             0\n",
       "month            0\n",
       "day              0\n",
       "year             0\n",
       "streetaddress    0\n",
       "city             0\n",
       "state            0\n",
       "agency           0\n",
       "cause            0\n",
       "armed            0\n",
       "county_income    0\n",
       "dtype: int64"
      ]
     },
     "execution_count": 130,
     "metadata": {},
     "output_type": "execute_result"
    }
   ],
   "source": [
    "killings.isnull().sum()"
   ]
  },
  {
   "cell_type": "code",
   "execution_count": 26,
   "metadata": {
    "collapsed": true
   },
   "outputs": [],
   "source": [
    "# 4. How many killings were there so far in 2015?"
   ]
  },
  {
   "cell_type": "code",
   "execution_count": 131,
   "metadata": {
    "collapsed": false
   },
   "outputs": [
    {
     "data": {
      "text/plain": [
       "2015    467\n",
       "Name: year, dtype: int64"
      ]
     },
     "execution_count": 131,
     "metadata": {},
     "output_type": "execute_result"
    }
   ],
   "source": [
    "killings.year.value_counts()"
   ]
  },
  {
   "cell_type": "code",
   "execution_count": 27,
   "metadata": {
    "collapsed": true
   },
   "outputs": [],
   "source": [
    "# 5. Of all killings, how many were male and how many female?"
   ]
  },
  {
   "cell_type": "code",
   "execution_count": 132,
   "metadata": {
    "collapsed": false
   },
   "outputs": [
    {
     "data": {
      "text/plain": [
       "gender\n",
       "Female     22\n",
       "Male      445\n",
       "Name: gender, dtype: int64"
      ]
     },
     "execution_count": 132,
     "metadata": {},
     "output_type": "execute_result"
    }
   ],
   "source": [
    "killings.groupby('gender').gender.count()"
   ]
  },
  {
   "cell_type": "code",
   "execution_count": 28,
   "metadata": {
    "collapsed": true
   },
   "outputs": [],
   "source": [
    "# 6. How many killings were of unarmed people?"
   ]
  },
  {
   "cell_type": "code",
   "execution_count": 133,
   "metadata": {
    "collapsed": false
   },
   "outputs": [
    {
     "data": {
      "text/plain": [
       "armed\n",
       "Disputed                2\n",
       "Firearm               230\n",
       "Knife                  68\n",
       "No                    102\n",
       "Non-lethal firearm     14\n",
       "Other                  26\n",
       "Unknown                 7\n",
       "Vehicle                18\n",
       "Name: armed, dtype: int64"
      ]
     },
     "execution_count": 133,
     "metadata": {},
     "output_type": "execute_result"
    }
   ],
   "source": [
    "killings.groupby('armed').armed.count()"
   ]
  },
  {
   "cell_type": "code",
   "execution_count": 29,
   "metadata": {
    "collapsed": true
   },
   "outputs": [],
   "source": [
    "# 7. What percentage of all killings were unarmed?"
   ]
  },
  {
   "cell_type": "code",
   "execution_count": 137,
   "metadata": {
    "collapsed": false
   },
   "outputs": [
    {
     "data": {
      "text/plain": [
       "armed\n",
       "Disputed              0.004283\n",
       "Firearm               0.492505\n",
       "Knife                 0.145610\n",
       "No                    0.218415\n",
       "Non-lethal firearm    0.029979\n",
       "Other                 0.055675\n",
       "Unknown               0.014989\n",
       "Vehicle               0.038544\n",
       "Name: armed, dtype: float64"
      ]
     },
     "execution_count": 137,
     "metadata": {},
     "output_type": "execute_result"
    }
   ],
   "source": [
    "total_killings = float(killings.armed.count())\n",
    "killings.groupby('armed').armed.apply(lambda x: x.count()/total_killings)"
   ]
  },
  {
   "cell_type": "code",
   "execution_count": 30,
   "metadata": {
    "collapsed": true
   },
   "outputs": [],
   "source": [
    "# 8. What are the 5 states with the most killings?"
   ]
  },
  {
   "cell_type": "code",
   "execution_count": 280,
   "metadata": {
    "collapsed": false
   },
   "outputs": [
    {
     "data": {
      "text/plain": [
       "state\n",
       "CA    74\n",
       "TX    46\n",
       "FL    29\n",
       "AZ    25\n",
       "OK    22\n",
       "Name: state, dtype: int64"
      ]
     },
     "execution_count": 280,
     "metadata": {},
     "output_type": "execute_result"
    }
   ],
   "source": [
    "killings.groupby('state').state.count().sort_values(ascending = False).head(5)"
   ]
  },
  {
   "cell_type": "code",
   "execution_count": 31,
   "metadata": {
    "collapsed": true
   },
   "outputs": [],
   "source": [
    "# 9. Show a value counts of deaths for each race"
   ]
  },
  {
   "cell_type": "code",
   "execution_count": 140,
   "metadata": {
    "collapsed": false
   },
   "outputs": [
    {
     "data": {
      "text/plain": [
       "White                     236\n",
       "Black                     135\n",
       "Hispanic/Latino            67\n",
       "Unknown                    15\n",
       "Asian/Pacific Islander     10\n",
       "Native American             4\n",
       "Name: race, dtype: int64"
      ]
     },
     "execution_count": 140,
     "metadata": {},
     "output_type": "execute_result"
    }
   ],
   "source": [
    "killings.race.value_counts()"
   ]
  },
  {
   "cell_type": "code",
   "execution_count": 32,
   "metadata": {
    "collapsed": true
   },
   "outputs": [],
   "source": [
    "# 10. Display a histogram of ages of all killings"
   ]
  },
  {
   "cell_type": "code",
   "execution_count": 142,
   "metadata": {
    "collapsed": false
   },
   "outputs": [
    {
     "data": {
      "text/plain": [
       "<matplotlib.axes._subplots.AxesSubplot at 0xdabab70>"
      ]
     },
     "execution_count": 142,
     "metadata": {},
     "output_type": "execute_result"
    },
    {
     "data": {
      "image/png": "[encoded data removed]",
      "text/plain": [
       "<matplotlib.figure.Figure at 0xdab2710>"
      ]
     },
     "metadata": {},
     "output_type": "display_data"
    }
   ],
   "source": [
    "killings.age.hist(bins = 10)"
   ]
  },
  {
   "cell_type": "code",
   "execution_count": 33,
   "metadata": {
    "collapsed": true
   },
   "outputs": [],
   "source": [
    "# 11. Show 6 histograms of ages by race"
   ]
  },
  {
   "cell_type": "code",
   "execution_count": 157,
   "metadata": {
    "collapsed": false
   },
   "outputs": [
    {
     "data": {
      "text/plain": [
       "array([[<matplotlib.axes._subplots.AxesSubplot object at 0x000000000F108438>,\n",
       "        <matplotlib.axes._subplots.AxesSubplot object at 0x000000000F2CA5C0>],\n",
       "       [<matplotlib.axes._subplots.AxesSubplot object at 0x000000000F438320>,\n",
       "        <matplotlib.axes._subplots.AxesSubplot object at 0x00000000103E2780>],\n",
       "       [<matplotlib.axes._subplots.AxesSubplot object at 0x00000000104A0160>,\n",
       "        <matplotlib.axes._subplots.AxesSubplot object at 0x0000000010405FD0>]], dtype=object)"
      ]
     },
     "execution_count": 157,
     "metadata": {},
     "output_type": "execute_result"
    },
    {
     "data": {
      "image/png": "[encoded data removed]",
      "text/plain": [
       "<matplotlib.figure.Figure at 0xf1d6cc0>"
      ]
     },
     "metadata": {},
     "output_type": "display_data"
    }
   ],
   "source": [
    "killings.age.hist(by = killings.race, sharex=True, sharey=True)"
   ]
  },
  {
   "cell_type": "code",
   "execution_count": 34,
   "metadata": {
    "collapsed": true
   },
   "outputs": [],
   "source": [
    "# 12. What is the average age of death by race?"
   ]
  },
  {
   "cell_type": "code",
   "execution_count": 160,
   "metadata": {
    "collapsed": false
   },
   "outputs": [
    {
     "data": {
      "text/plain": [
       "race\n",
       "Asian/Pacific Islander    40.800000\n",
       "Black                     34.044444\n",
       "Hispanic/Latino           31.716418\n",
       "Native American           27.750000\n",
       "Unknown                   43.533333\n",
       "White                     40.466102\n",
       "Name: age, dtype: float64"
      ]
     },
     "execution_count": 160,
     "metadata": {},
     "output_type": "execute_result"
    }
   ],
   "source": [
    "killings.groupby('race').age.mean()"
   ]
  },
  {
   "cell_type": "code",
   "execution_count": 35,
   "metadata": {
    "collapsed": true
   },
   "outputs": [],
   "source": [
    "# 13. Show a bar chart with counts of deaths every month"
   ]
  },
  {
   "cell_type": "code",
   "execution_count": 164,
   "metadata": {
    "collapsed": false
   },
   "outputs": [
    {
     "data": {
      "text/plain": [
       "<matplotlib.axes._subplots.AxesSubplot at 0x10febc18>"
      ]
     },
     "execution_count": 164,
     "metadata": {},
     "output_type": "execute_result"
    },
    {
     "data": {
      "image/png": "[encoded data removed]",
      "text/plain": [
       "<matplotlib.figure.Figure at 0x9b89dd8>"
      ]
     },
     "metadata": {},
     "output_type": "display_data"
    }
   ],
   "source": [
    "killings.month.value_counts().plot(kind = 'bar')"
   ]
  },
  {
   "cell_type": "code",
   "execution_count": 36,
   "metadata": {
    "collapsed": true
   },
   "outputs": [],
   "source": [
    "###################\n",
    "### Less Morbid ###\n",
    "###################"
   ]
  },
  {
   "cell_type": "code",
   "execution_count": 182,
   "metadata": {
    "collapsed": false
   },
   "outputs": [
    {
     "data": {
      "text/html": [
       "<div>\n",
       "<table border=\"1\" class=\"dataframe\">\n",
       "  <thead>\n",
       "    <tr style=\"text-align: right;\">\n",
       "      <th></th>\n",
       "      <th>Unnamed: 0</th>\n",
       "      <th>Major_code</th>\n",
       "      <th>Major</th>\n",
       "      <th>Major_category</th>\n",
       "      <th>Total</th>\n",
       "      <th>Employed</th>\n",
       "      <th>Employed_full_time_year_round</th>\n",
       "      <th>Unemployed</th>\n",
       "      <th>Unemployment_rate</th>\n",
       "      <th>Median</th>\n",
       "      <th>P25th</th>\n",
       "      <th>P75th</th>\n",
       "    </tr>\n",
       "  </thead>\n",
       "  <tbody>\n",
       "    <tr>\n",
       "      <th>0</th>\n",
       "      <td>0</td>\n",
       "      <td>1100</td>\n",
       "      <td>GENERAL AGRICULTURE</td>\n",
       "      <td>Agriculture &amp; Natural Resources</td>\n",
       "      <td>128148</td>\n",
       "      <td>90245</td>\n",
       "      <td>74078</td>\n",
       "      <td>2423</td>\n",
       "      <td>0.026147</td>\n",
       "      <td>50000</td>\n",
       "      <td>34000</td>\n",
       "      <td>80000.0</td>\n",
       "    </tr>\n",
       "    <tr>\n",
       "      <th>1</th>\n",
       "      <td>1</td>\n",
       "      <td>1101</td>\n",
       "      <td>AGRICULTURE PRODUCTION AND MANAGEMENT</td>\n",
       "      <td>Agriculture &amp; Natural Resources</td>\n",
       "      <td>95326</td>\n",
       "      <td>76865</td>\n",
       "      <td>64240</td>\n",
       "      <td>2266</td>\n",
       "      <td>0.028636</td>\n",
       "      <td>54000</td>\n",
       "      <td>36000</td>\n",
       "      <td>80000.0</td>\n",
       "    </tr>\n",
       "    <tr>\n",
       "      <th>2</th>\n",
       "      <td>2</td>\n",
       "      <td>1102</td>\n",
       "      <td>AGRICULTURAL ECONOMICS</td>\n",
       "      <td>Agriculture &amp; Natural Resources</td>\n",
       "      <td>33955</td>\n",
       "      <td>26321</td>\n",
       "      <td>22810</td>\n",
       "      <td>821</td>\n",
       "      <td>0.030248</td>\n",
       "      <td>63000</td>\n",
       "      <td>40000</td>\n",
       "      <td>98000.0</td>\n",
       "    </tr>\n",
       "    <tr>\n",
       "      <th>3</th>\n",
       "      <td>3</td>\n",
       "      <td>1103</td>\n",
       "      <td>ANIMAL SCIENCES</td>\n",
       "      <td>Agriculture &amp; Natural Resources</td>\n",
       "      <td>103549</td>\n",
       "      <td>81177</td>\n",
       "      <td>64937</td>\n",
       "      <td>3619</td>\n",
       "      <td>0.042679</td>\n",
       "      <td>46000</td>\n",
       "      <td>30000</td>\n",
       "      <td>72000.0</td>\n",
       "    </tr>\n",
       "    <tr>\n",
       "      <th>4</th>\n",
       "      <td>4</td>\n",
       "      <td>1104</td>\n",
       "      <td>FOOD SCIENCE</td>\n",
       "      <td>Agriculture &amp; Natural Resources</td>\n",
       "      <td>24280</td>\n",
       "      <td>17281</td>\n",
       "      <td>12722</td>\n",
       "      <td>894</td>\n",
       "      <td>0.049188</td>\n",
       "      <td>62000</td>\n",
       "      <td>38500</td>\n",
       "      <td>90000.0</td>\n",
       "    </tr>\n",
       "  </tbody>\n",
       "</table>\n",
       "</div>"
      ],
      "text/plain": [
       "   Unnamed: 0  Major_code                                  Major  \\\n",
       "0           0        1100                    GENERAL AGRICULTURE   \n",
       "1           1        1101  AGRICULTURE PRODUCTION AND MANAGEMENT   \n",
       "2           2        1102                 AGRICULTURAL ECONOMICS   \n",
       "3           3        1103                        ANIMAL SCIENCES   \n",
       "4           4        1104                           FOOD SCIENCE   \n",
       "\n",
       "                    Major_category   Total  Employed  \\\n",
       "0  Agriculture & Natural Resources  128148     90245   \n",
       "1  Agriculture & Natural Resources   95326     76865   \n",
       "2  Agriculture & Natural Resources   33955     26321   \n",
       "3  Agriculture & Natural Resources  103549     81177   \n",
       "4  Agriculture & Natural Resources   24280     17281   \n",
       "\n",
       "   Employed_full_time_year_round  Unemployed  Unemployment_rate  Median  \\\n",
       "0                          74078        2423           0.026147   50000   \n",
       "1                          64240        2266           0.028636   54000   \n",
       "2                          22810         821           0.030248   63000   \n",
       "3                          64937        3619           0.042679   46000   \n",
       "4                          12722         894           0.049188   62000   \n",
       "\n",
       "   P25th    P75th  \n",
       "0  34000  80000.0  \n",
       "1  36000  80000.0  \n",
       "2  40000  98000.0  \n",
       "3  30000  72000.0  \n",
       "4  38500  90000.0  "
      ]
     },
     "execution_count": 182,
     "metadata": {},
     "output_type": "execute_result"
    }
   ],
   "source": [
    "majors = pd.read_csv('./data/college-majors.csv')\n",
    "majors.head()"
   ]
  },
  {
   "cell_type": "code",
   "execution_count": 38,
   "metadata": {
    "collapsed": true
   },
   "outputs": [],
   "source": [
    "# 1. Delete the columns (employed_full_time_year_round, major_code)"
   ]
  },
  {
   "cell_type": "code",
   "execution_count": 183,
   "metadata": {
    "collapsed": false
   },
   "outputs": [],
   "source": [
    "majors = majors.drop(['Employed_full_time_year_round', 'Major_code'], axis = 1)"
   ]
  },
  {
   "cell_type": "code",
   "execution_count": 184,
   "metadata": {
    "collapsed": false
   },
   "outputs": [
    {
     "data": {
      "text/html": [
       "<div>\n",
       "<table border=\"1\" class=\"dataframe\">\n",
       "  <thead>\n",
       "    <tr style=\"text-align: right;\">\n",
       "      <th></th>\n",
       "      <th>Unnamed: 0</th>\n",
       "      <th>Major</th>\n",
       "      <th>Major_category</th>\n",
       "      <th>Total</th>\n",
       "      <th>Employed</th>\n",
       "      <th>Unemployed</th>\n",
       "      <th>Unemployment_rate</th>\n",
       "      <th>Median</th>\n",
       "      <th>P25th</th>\n",
       "      <th>P75th</th>\n",
       "    </tr>\n",
       "  </thead>\n",
       "  <tbody>\n",
       "    <tr>\n",
       "      <th>0</th>\n",
       "      <td>0</td>\n",
       "      <td>GENERAL AGRICULTURE</td>\n",
       "      <td>Agriculture &amp; Natural Resources</td>\n",
       "      <td>128148</td>\n",
       "      <td>90245</td>\n",
       "      <td>2423</td>\n",
       "      <td>0.026147</td>\n",
       "      <td>50000</td>\n",
       "      <td>34000</td>\n",
       "      <td>80000.0</td>\n",
       "    </tr>\n",
       "    <tr>\n",
       "      <th>1</th>\n",
       "      <td>1</td>\n",
       "      <td>AGRICULTURE PRODUCTION AND MANAGEMENT</td>\n",
       "      <td>Agriculture &amp; Natural Resources</td>\n",
       "      <td>95326</td>\n",
       "      <td>76865</td>\n",
       "      <td>2266</td>\n",
       "      <td>0.028636</td>\n",
       "      <td>54000</td>\n",
       "      <td>36000</td>\n",
       "      <td>80000.0</td>\n",
       "    </tr>\n",
       "    <tr>\n",
       "      <th>2</th>\n",
       "      <td>2</td>\n",
       "      <td>AGRICULTURAL ECONOMICS</td>\n",
       "      <td>Agriculture &amp; Natural Resources</td>\n",
       "      <td>33955</td>\n",
       "      <td>26321</td>\n",
       "      <td>821</td>\n",
       "      <td>0.030248</td>\n",
       "      <td>63000</td>\n",
       "      <td>40000</td>\n",
       "      <td>98000.0</td>\n",
       "    </tr>\n",
       "    <tr>\n",
       "      <th>3</th>\n",
       "      <td>3</td>\n",
       "      <td>ANIMAL SCIENCES</td>\n",
       "      <td>Agriculture &amp; Natural Resources</td>\n",
       "      <td>103549</td>\n",
       "      <td>81177</td>\n",
       "      <td>3619</td>\n",
       "      <td>0.042679</td>\n",
       "      <td>46000</td>\n",
       "      <td>30000</td>\n",
       "      <td>72000.0</td>\n",
       "    </tr>\n",
       "    <tr>\n",
       "      <th>4</th>\n",
       "      <td>4</td>\n",
       "      <td>FOOD SCIENCE</td>\n",
       "      <td>Agriculture &amp; Natural Resources</td>\n",
       "      <td>24280</td>\n",
       "      <td>17281</td>\n",
       "      <td>894</td>\n",
       "      <td>0.049188</td>\n",
       "      <td>62000</td>\n",
       "      <td>38500</td>\n",
       "      <td>90000.0</td>\n",
       "    </tr>\n",
       "  </tbody>\n",
       "</table>\n",
       "</div>"
      ],
      "text/plain": [
       "   Unnamed: 0                                  Major  \\\n",
       "0           0                    GENERAL AGRICULTURE   \n",
       "1           1  AGRICULTURE PRODUCTION AND MANAGEMENT   \n",
       "2           2                 AGRICULTURAL ECONOMICS   \n",
       "3           3                        ANIMAL SCIENCES   \n",
       "4           4                           FOOD SCIENCE   \n",
       "\n",
       "                    Major_category   Total  Employed  Unemployed  \\\n",
       "0  Agriculture & Natural Resources  128148     90245        2423   \n",
       "1  Agriculture & Natural Resources   95326     76865        2266   \n",
       "2  Agriculture & Natural Resources   33955     26321         821   \n",
       "3  Agriculture & Natural Resources  103549     81177        3619   \n",
       "4  Agriculture & Natural Resources   24280     17281         894   \n",
       "\n",
       "   Unemployment_rate  Median  P25th    P75th  \n",
       "0           0.026147   50000  34000  80000.0  \n",
       "1           0.028636   54000  36000  80000.0  \n",
       "2           0.030248   63000  40000  98000.0  \n",
       "3           0.042679   46000  30000  72000.0  \n",
       "4           0.049188   62000  38500  90000.0  "
      ]
     },
     "execution_count": 184,
     "metadata": {},
     "output_type": "execute_result"
    }
   ],
   "source": [
    "majors.head()"
   ]
  },
  {
   "cell_type": "code",
   "execution_count": 39,
   "metadata": {
    "collapsed": true
   },
   "outputs": [],
   "source": [
    "# 2. Show the cout of missing values in each column"
   ]
  },
  {
   "cell_type": "code",
   "execution_count": 185,
   "metadata": {
    "collapsed": false
   },
   "outputs": [
    {
     "data": {
      "text/plain": [
       "Unnamed: 0           0\n",
       "Major                0\n",
       "Major_category       0\n",
       "Total                0\n",
       "Employed             0\n",
       "Unemployed           0\n",
       "Unemployment_rate    0\n",
       "Median               0\n",
       "P25th                0\n",
       "P75th                0\n",
       "dtype: int64"
      ]
     },
     "execution_count": 185,
     "metadata": {},
     "output_type": "execute_result"
    }
   ],
   "source": [
    "majors.isnull().sum()"
   ]
  },
  {
   "cell_type": "code",
   "execution_count": 40,
   "metadata": {
    "collapsed": true
   },
   "outputs": [],
   "source": [
    "# 3. What are the top 10 highest paying majors?"
   ]
  },
  {
   "cell_type": "code",
   "execution_count": 229,
   "metadata": {
    "collapsed": false
   },
   "outputs": [
    {
     "data": {
      "text/html": [
       "<div>\n",
       "<table border=\"1\" class=\"dataframe\">\n",
       "  <thead>\n",
       "    <tr style=\"text-align: right;\">\n",
       "      <th></th>\n",
       "      <th>Major</th>\n",
       "      <th>Median</th>\n",
       "    </tr>\n",
       "  </thead>\n",
       "  <tbody>\n",
       "    <tr>\n",
       "      <th>59</th>\n",
       "      <td>PETROLEUM ENGINEERING</td>\n",
       "      <td>125000</td>\n",
       "    </tr>\n",
       "    <tr>\n",
       "      <th>154</th>\n",
       "      <td>PHARMACY PHARMACEUTICAL SCIENCES AND ADMINISTR...</td>\n",
       "      <td>106000</td>\n",
       "    </tr>\n",
       "    <tr>\n",
       "      <th>57</th>\n",
       "      <td>NAVAL ARCHITECTURE AND MARINE ENGINEERING</td>\n",
       "      <td>97000</td>\n",
       "    </tr>\n",
       "    <tr>\n",
       "      <th>55</th>\n",
       "      <td>METALLURGICAL ENGINEERING</td>\n",
       "      <td>96000</td>\n",
       "    </tr>\n",
       "    <tr>\n",
       "      <th>58</th>\n",
       "      <td>NUCLEAR ENGINEERING</td>\n",
       "      <td>95000</td>\n",
       "    </tr>\n",
       "    <tr>\n",
       "      <th>56</th>\n",
       "      <td>MINING AND MINERAL ENGINEERING</td>\n",
       "      <td>92000</td>\n",
       "    </tr>\n",
       "    <tr>\n",
       "      <th>97</th>\n",
       "      <td>MATHEMATICS AND COMPUTER SCIENCE</td>\n",
       "      <td>92000</td>\n",
       "    </tr>\n",
       "    <tr>\n",
       "      <th>48</th>\n",
       "      <td>ELECTRICAL ENGINEERING</td>\n",
       "      <td>88000</td>\n",
       "    </tr>\n",
       "    <tr>\n",
       "      <th>45</th>\n",
       "      <td>CHEMICAL ENGINEERING</td>\n",
       "      <td>86000</td>\n",
       "    </tr>\n",
       "    <tr>\n",
       "      <th>51</th>\n",
       "      <td>GEOLOGICAL AND GEOPHYSICAL ENGINEERING</td>\n",
       "      <td>85000</td>\n",
       "    </tr>\n",
       "  </tbody>\n",
       "</table>\n",
       "</div>"
      ],
      "text/plain": [
       "                                                 Major  Median\n",
       "59                               PETROLEUM ENGINEERING  125000\n",
       "154  PHARMACY PHARMACEUTICAL SCIENCES AND ADMINISTR...  106000\n",
       "57           NAVAL ARCHITECTURE AND MARINE ENGINEERING   97000\n",
       "55                           METALLURGICAL ENGINEERING   96000\n",
       "58                                 NUCLEAR ENGINEERING   95000\n",
       "56                      MINING AND MINERAL ENGINEERING   92000\n",
       "97                    MATHEMATICS AND COMPUTER SCIENCE   92000\n",
       "48                              ELECTRICAL ENGINEERING   88000\n",
       "45                                CHEMICAL ENGINEERING   86000\n",
       "51              GEOLOGICAL AND GEOPHYSICAL ENGINEERING   85000"
      ]
     },
     "execution_count": 229,
     "metadata": {},
     "output_type": "execute_result"
    }
   ],
   "source": [
    "majors[['Major', 'Median']].sort_values(by = 'Median', ascending = False).head(10)\n",
    "# majors.groupby('Major').Median.max().sort_values(ascending = False).head(10)"
   ]
  },
  {
   "cell_type": "code",
   "execution_count": 41,
   "metadata": {
    "collapsed": true
   },
   "outputs": [],
   "source": [
    "# 4. Plot the data from the last question in a bar chart, include proper title, and labels!"
   ]
  },
  {
   "cell_type": "code",
   "execution_count": 230,
   "metadata": {
    "collapsed": false
   },
   "outputs": [
    {
     "data": {
      "text/plain": [
       "<matplotlib.text.Text at 0x13a47668>"
      ]
     },
     "execution_count": 230,
     "metadata": {},
     "output_type": "execute_result"
    },
    {
     "data": {
      "image/png": "[encoded data removed]",
      "text/plain": [
       "<matplotlib.figure.Figure at 0x135c7d30>"
      ]
     },
     "metadata": {},
     "output_type": "display_data"
    }
   ],
   "source": [
    "majors.groupby('Major').Median.max().sort_values(ascending = False).head(10).plot(kind = 'bar', title = 'Top Paying Majors')\n",
    "plt.xlabel('Major')\n",
    "plt.ylabel('Pay')"
   ]
  },
  {
   "cell_type": "code",
   "execution_count": 42,
   "metadata": {
    "collapsed": true
   },
   "outputs": [],
   "source": [
    "# 5. What is the average median salary for each major category?"
   ]
  },
  {
   "cell_type": "code",
   "execution_count": 234,
   "metadata": {
    "collapsed": false
   },
   "outputs": [
    {
     "data": {
      "text/plain": [
       "Major_category\n",
       "Engineering                            75000\n",
       "Computers & Mathematics                66000\n",
       "Physical Sciences                      60000\n",
       "Business                               60000\n",
       "Agriculture & Natural Resources        53000\n",
       "Social Science                         52000\n",
       "Biology & Life Science                 51500\n",
       "Law & Public Policy                    50000\n",
       "Health                                 50000\n",
       "Communications & Journalism            50000\n",
       "Industrial Arts & Consumer Services    48000\n",
       "Humanities & Liberal Arts              46000\n",
       "Psychology & Social Work               45000\n",
       "Arts                                   45000\n",
       "Interdisciplinary                      43000\n",
       "Education                              42800\n",
       "Name: Median, dtype: int64"
      ]
     },
     "execution_count": 234,
     "metadata": {},
     "output_type": "execute_result"
    }
   ],
   "source": [
    "majors.groupby('Major_category').Median.median().sort_values(ascending= False)"
   ]
  },
  {
   "cell_type": "code",
   "execution_count": 43,
   "metadata": {
    "collapsed": true
   },
   "outputs": [],
   "source": [
    "# 6. Show only the top 5 paying major categories"
   ]
  },
  {
   "cell_type": "code",
   "execution_count": 276,
   "metadata": {
    "collapsed": false
   },
   "outputs": [
    {
     "data": {
      "text/plain": [
       "Major_category\n",
       "Engineering                        75000\n",
       "Computers & Mathematics            66000\n",
       "Physical Sciences                  60000\n",
       "Business                           60000\n",
       "Agriculture & Natural Resources    53000\n",
       "Name: Median, dtype: int64"
      ]
     },
     "execution_count": 276,
     "metadata": {},
     "output_type": "execute_result"
    }
   ],
   "source": [
    "majors.groupby('Major_category').Median.median().sort_values(ascending= False).head(5)"
   ]
  },
  {
   "cell_type": "code",
   "execution_count": 44,
   "metadata": {
    "collapsed": true
   },
   "outputs": [],
   "source": [
    "# 7. Plot a histogram of the distribution of median salaries"
   ]
  },
  {
   "cell_type": "code",
   "execution_count": 236,
   "metadata": {
    "collapsed": false
   },
   "outputs": [
    {
     "data": {
      "text/plain": [
       "<matplotlib.axes._subplots.AxesSubplot at 0x13a7af28>"
      ]
     },
     "execution_count": 236,
     "metadata": {},
     "output_type": "execute_result"
    },
    {
     "data": {
      "image/png": "[encoded data removed]",
      "text/plain": [
       "<matplotlib.figure.Figure at 0x13cd7e10>"
      ]
     },
     "metadata": {},
     "output_type": "display_data"
    }
   ],
   "source": [
    "majors.Median.hist(bins = 10)"
   ]
  },
  {
   "cell_type": "code",
   "execution_count": 45,
   "metadata": {
    "collapsed": true
   },
   "outputs": [],
   "source": [
    "# 8. Plot a histogram of the distribution of median salaries by major category"
   ]
  },
  {
   "cell_type": "code",
   "execution_count": 279,
   "metadata": {
    "collapsed": false
   },
   "outputs": [
    {
     "data": {
      "text/plain": [
       "<matplotlib.axes._subplots.AxesSubplot at 0x149a95f8>"
      ]
     },
     "execution_count": 279,
     "metadata": {},
     "output_type": "execute_result"
    },
    {
     "data": {
      "image/png": "[encoded data removed]",
      "text/plain": [
       "<matplotlib.figure.Figure at 0x1494e9e8>"
      ]
     },
     "metadata": {},
     "output_type": "display_data"
    }
   ],
   "source": [
    "majors.groupby('Major_category').Median.median().hist(bins = 10)"
   ]
  },
  {
   "cell_type": "code",
   "execution_count": 46,
   "metadata": {
    "collapsed": true
   },
   "outputs": [],
   "source": [
    "# 9. What are the top 10 most UNemployed majors?"
   ]
  },
  {
   "cell_type": "code",
   "execution_count": 252,
   "metadata": {
    "collapsed": false
   },
   "outputs": [
    {
     "data": {
      "text/html": [
       "<div>\n",
       "<table border=\"1\" class=\"dataframe\">\n",
       "  <thead>\n",
       "    <tr style=\"text-align: right;\">\n",
       "      <th></th>\n",
       "      <th>Major</th>\n",
       "      <th>Unemployed</th>\n",
       "      <th>Unemployment_rate</th>\n",
       "    </tr>\n",
       "  </thead>\n",
       "  <tbody>\n",
       "    <tr>\n",
       "      <th>161</th>\n",
       "      <td>BUSINESS MANAGEMENT AND ADMINISTRATION</td>\n",
       "      <td>147261</td>\n",
       "      <td>0.058865</td>\n",
       "    </tr>\n",
       "    <tr>\n",
       "      <th>158</th>\n",
       "      <td>GENERAL BUSINESS</td>\n",
       "      <td>85626</td>\n",
       "      <td>0.051378</td>\n",
       "    </tr>\n",
       "    <tr>\n",
       "      <th>114</th>\n",
       "      <td>PSYCHOLOGY</td>\n",
       "      <td>79066</td>\n",
       "      <td>0.069667</td>\n",
       "    </tr>\n",
       "    <tr>\n",
       "      <th>159</th>\n",
       "      <td>ACCOUNTING</td>\n",
       "      <td>75379</td>\n",
       "      <td>0.053415</td>\n",
       "    </tr>\n",
       "    <tr>\n",
       "      <th>13</th>\n",
       "      <td>COMMUNICATIONS</td>\n",
       "      <td>54390</td>\n",
       "      <td>0.064360</td>\n",
       "    </tr>\n",
       "    <tr>\n",
       "      <th>73</th>\n",
       "      <td>ENGLISH LANGUAGE AND LITERATURE</td>\n",
       "      <td>52248</td>\n",
       "      <td>0.068645</td>\n",
       "    </tr>\n",
       "    <tr>\n",
       "      <th>164</th>\n",
       "      <td>MARKETING AND MARKETING RESEARCH</td>\n",
       "      <td>51839</td>\n",
       "      <td>0.055033</td>\n",
       "    </tr>\n",
       "    <tr>\n",
       "      <th>132</th>\n",
       "      <td>POLITICAL SCIENCE AND GOVERNMENT</td>\n",
       "      <td>40376</td>\n",
       "      <td>0.069374</td>\n",
       "    </tr>\n",
       "    <tr>\n",
       "      <th>25</th>\n",
       "      <td>GENERAL EDUCATION</td>\n",
       "      <td>38742</td>\n",
       "      <td>0.043904</td>\n",
       "    </tr>\n",
       "    <tr>\n",
       "      <th>78</th>\n",
       "      <td>BIOLOGY</td>\n",
       "      <td>36757</td>\n",
       "      <td>0.059301</td>\n",
       "    </tr>\n",
       "  </tbody>\n",
       "</table>\n",
       "</div>"
      ],
      "text/plain": [
       "                                      Major  Unemployed  Unemployment_rate\n",
       "161  BUSINESS MANAGEMENT AND ADMINISTRATION      147261           0.058865\n",
       "158                        GENERAL BUSINESS       85626           0.051378\n",
       "114                              PSYCHOLOGY       79066           0.069667\n",
       "159                              ACCOUNTING       75379           0.053415\n",
       "13                           COMMUNICATIONS       54390           0.064360\n",
       "73          ENGLISH LANGUAGE AND LITERATURE       52248           0.068645\n",
       "164        MARKETING AND MARKETING RESEARCH       51839           0.055033\n",
       "132        POLITICAL SCIENCE AND GOVERNMENT       40376           0.069374\n",
       "25                        GENERAL EDUCATION       38742           0.043904\n",
       "78                                  BIOLOGY       36757           0.059301"
      ]
     },
     "execution_count": 252,
     "metadata": {},
     "output_type": "execute_result"
    }
   ],
   "source": [
    "majors[['Major', 'Unemployed','Unemployment_rate']].sort_values(by = 'Unemployed', ascending = False).head(10)"
   ]
  },
  {
   "cell_type": "code",
   "execution_count": 47,
   "metadata": {
    "collapsed": true
   },
   "outputs": [],
   "source": [
    "# What are the unemployment rates?"
   ]
  },
  {
   "cell_type": "code",
   "execution_count": 250,
   "metadata": {
    "collapsed": false
   },
   "outputs": [
    {
     "data": {
      "text/html": [
       "<div>\n",
       "<table border=\"1\" class=\"dataframe\">\n",
       "  <thead>\n",
       "    <tr style=\"text-align: right;\">\n",
       "      <th></th>\n",
       "      <th>Major</th>\n",
       "      <th>Unemployment_rate</th>\n",
       "    </tr>\n",
       "  </thead>\n",
       "  <tbody>\n",
       "    <tr>\n",
       "      <th>146</th>\n",
       "      <td>MISCELLANEOUS FINE ARTS</td>\n",
       "      <td>0.156147</td>\n",
       "    </tr>\n",
       "    <tr>\n",
       "      <th>116</th>\n",
       "      <td>CLINICAL PSYCHOLOGY</td>\n",
       "      <td>0.102712</td>\n",
       "    </tr>\n",
       "    <tr>\n",
       "      <th>93</th>\n",
       "      <td>MILITARY TECHNOLOGIES</td>\n",
       "      <td>0.101796</td>\n",
       "    </tr>\n",
       "    <tr>\n",
       "      <th>27</th>\n",
       "      <td>SCHOOL STUDENT COUNSELING</td>\n",
       "      <td>0.101746</td>\n",
       "    </tr>\n",
       "    <tr>\n",
       "      <th>77</th>\n",
       "      <td>LIBRARY SCIENCE</td>\n",
       "      <td>0.094843</td>\n",
       "    </tr>\n",
       "    <tr>\n",
       "      <th>141</th>\n",
       "      <td>VISUAL AND PERFORMING ARTS</td>\n",
       "      <td>0.094658</td>\n",
       "    </tr>\n",
       "    <tr>\n",
       "      <th>19</th>\n",
       "      <td>COMPUTER PROGRAMMING AND DATA PROCESSING</td>\n",
       "      <td>0.090264</td>\n",
       "    </tr>\n",
       "    <tr>\n",
       "      <th>119</th>\n",
       "      <td>SOCIAL PSYCHOLOGY</td>\n",
       "      <td>0.087336</td>\n",
       "    </tr>\n",
       "    <tr>\n",
       "      <th>104</th>\n",
       "      <td>ASTRONOMY AND ASTROPHYSICS</td>\n",
       "      <td>0.086022</td>\n",
       "    </tr>\n",
       "    <tr>\n",
       "      <th>11</th>\n",
       "      <td>ARCHITECTURE</td>\n",
       "      <td>0.085991</td>\n",
       "    </tr>\n",
       "  </tbody>\n",
       "</table>\n",
       "</div>"
      ],
      "text/plain": [
       "                                        Major  Unemployment_rate\n",
       "146                   MISCELLANEOUS FINE ARTS           0.156147\n",
       "116                       CLINICAL PSYCHOLOGY           0.102712\n",
       "93                      MILITARY TECHNOLOGIES           0.101796\n",
       "27                  SCHOOL STUDENT COUNSELING           0.101746\n",
       "77                            LIBRARY SCIENCE           0.094843\n",
       "141                VISUAL AND PERFORMING ARTS           0.094658\n",
       "19   COMPUTER PROGRAMMING AND DATA PROCESSING           0.090264\n",
       "119                         SOCIAL PSYCHOLOGY           0.087336\n",
       "104                ASTRONOMY AND ASTROPHYSICS           0.086022\n",
       "11                               ARCHITECTURE           0.085991"
      ]
     },
     "execution_count": 250,
     "metadata": {},
     "output_type": "execute_result"
    }
   ],
   "source": [
    "majors[['Major', 'Unemployment_rate']].sort_values(by = 'Unemployment_rate', ascending = False).head(10)"
   ]
  },
  {
   "cell_type": "code",
   "execution_count": 48,
   "metadata": {
    "collapsed": true
   },
   "outputs": [],
   "source": [
    "# 10. What are the top 10 most UNemployed majors CATEGORIES? Use the mean for each category\n",
    "# What are the unemployment rates?"
   ]
  },
  {
   "cell_type": "code",
   "execution_count": 268,
   "metadata": {
    "collapsed": false
   },
   "outputs": [
    {
     "data": {
      "text/plain": [
       "Major_category\n",
       "Business                       33415.153846\n",
       "Communications & Journalism    25299.750000\n",
       "Social Science                 14683.333333\n",
       "Arts                           13015.625000\n",
       "Humanities & Liberal Arts      11942.400000\n",
       "Psychology & Social Work       11578.444444\n",
       "Law & Public Policy             8609.800000\n",
       "Education                       7833.500000\n",
       "Computers & Mathematics         7270.363636\n",
       "Health                          6251.083333\n",
       "Name: Unemployed, dtype: float64"
      ]
     },
     "execution_count": 268,
     "metadata": {},
     "output_type": "execute_result"
    }
   ],
   "source": [
    "majors.groupby('Major_category').Unemployed.mean().sort_values(ascending = False).head(10)"
   ]
  },
  {
   "cell_type": "code",
   "execution_count": 49,
   "metadata": {
    "collapsed": true
   },
   "outputs": [],
   "source": [
    "# 11. the total and employed column refer to the people that were surveyed.\n",
    "# Create a new column showing the emlpoyment rate of the people surveyed for each major\n",
    "# call it \"sample_employment_rate\"\n",
    "# Example the first row has total: 128148 and employed: 90245. it's \n",
    "# sample_employment_rate should be 90245.0 / 128148.0 = .7042"
   ]
  },
  {
   "cell_type": "code",
   "execution_count": 271,
   "metadata": {
    "collapsed": true
   },
   "outputs": [],
   "source": [
    "majors['sample_employment_rate'] = majors.Employed / majors.Total"
   ]
  },
  {
   "cell_type": "code",
   "execution_count": 272,
   "metadata": {
    "collapsed": false
   },
   "outputs": [
    {
     "data": {
      "text/html": [
       "<div>\n",
       "<table border=\"1\" class=\"dataframe\">\n",
       "  <thead>\n",
       "    <tr style=\"text-align: right;\">\n",
       "      <th></th>\n",
       "      <th>Unnamed: 0</th>\n",
       "      <th>Major</th>\n",
       "      <th>Major_category</th>\n",
       "      <th>Total</th>\n",
       "      <th>Employed</th>\n",
       "      <th>Unemployed</th>\n",
       "      <th>Unemployment_rate</th>\n",
       "      <th>Median</th>\n",
       "      <th>P25th</th>\n",
       "      <th>P75th</th>\n",
       "      <th>sample_employment_rate</th>\n",
       "    </tr>\n",
       "  </thead>\n",
       "  <tbody>\n",
       "    <tr>\n",
       "      <th>0</th>\n",
       "      <td>0</td>\n",
       "      <td>GENERAL AGRICULTURE</td>\n",
       "      <td>Agriculture &amp; Natural Resources</td>\n",
       "      <td>128148</td>\n",
       "      <td>90245</td>\n",
       "      <td>2423</td>\n",
       "      <td>0.026147</td>\n",
       "      <td>50000</td>\n",
       "      <td>34000</td>\n",
       "      <td>80000.0</td>\n",
       "      <td>0.704225</td>\n",
       "    </tr>\n",
       "    <tr>\n",
       "      <th>1</th>\n",
       "      <td>1</td>\n",
       "      <td>AGRICULTURE PRODUCTION AND MANAGEMENT</td>\n",
       "      <td>Agriculture &amp; Natural Resources</td>\n",
       "      <td>95326</td>\n",
       "      <td>76865</td>\n",
       "      <td>2266</td>\n",
       "      <td>0.028636</td>\n",
       "      <td>54000</td>\n",
       "      <td>36000</td>\n",
       "      <td>80000.0</td>\n",
       "      <td>0.806338</td>\n",
       "    </tr>\n",
       "    <tr>\n",
       "      <th>2</th>\n",
       "      <td>2</td>\n",
       "      <td>AGRICULTURAL ECONOMICS</td>\n",
       "      <td>Agriculture &amp; Natural Resources</td>\n",
       "      <td>33955</td>\n",
       "      <td>26321</td>\n",
       "      <td>821</td>\n",
       "      <td>0.030248</td>\n",
       "      <td>63000</td>\n",
       "      <td>40000</td>\n",
       "      <td>98000.0</td>\n",
       "      <td>0.775173</td>\n",
       "    </tr>\n",
       "    <tr>\n",
       "      <th>3</th>\n",
       "      <td>3</td>\n",
       "      <td>ANIMAL SCIENCES</td>\n",
       "      <td>Agriculture &amp; Natural Resources</td>\n",
       "      <td>103549</td>\n",
       "      <td>81177</td>\n",
       "      <td>3619</td>\n",
       "      <td>0.042679</td>\n",
       "      <td>46000</td>\n",
       "      <td>30000</td>\n",
       "      <td>72000.0</td>\n",
       "      <td>0.783948</td>\n",
       "    </tr>\n",
       "    <tr>\n",
       "      <th>4</th>\n",
       "      <td>4</td>\n",
       "      <td>FOOD SCIENCE</td>\n",
       "      <td>Agriculture &amp; Natural Resources</td>\n",
       "      <td>24280</td>\n",
       "      <td>17281</td>\n",
       "      <td>894</td>\n",
       "      <td>0.049188</td>\n",
       "      <td>62000</td>\n",
       "      <td>38500</td>\n",
       "      <td>90000.0</td>\n",
       "      <td>0.711738</td>\n",
       "    </tr>\n",
       "  </tbody>\n",
       "</table>\n",
       "</div>"
      ],
      "text/plain": [
       "   Unnamed: 0                                  Major  \\\n",
       "0           0                    GENERAL AGRICULTURE   \n",
       "1           1  AGRICULTURE PRODUCTION AND MANAGEMENT   \n",
       "2           2                 AGRICULTURAL ECONOMICS   \n",
       "3           3                        ANIMAL SCIENCES   \n",
       "4           4                           FOOD SCIENCE   \n",
       "\n",
       "                    Major_category   Total  Employed  Unemployed  \\\n",
       "0  Agriculture & Natural Resources  128148     90245        2423   \n",
       "1  Agriculture & Natural Resources   95326     76865        2266   \n",
       "2  Agriculture & Natural Resources   33955     26321         821   \n",
       "3  Agriculture & Natural Resources  103549     81177        3619   \n",
       "4  Agriculture & Natural Resources   24280     17281         894   \n",
       "\n",
       "   Unemployment_rate  Median  P25th    P75th  sample_employment_rate  \n",
       "0           0.026147   50000  34000  80000.0                0.704225  \n",
       "1           0.028636   54000  36000  80000.0                0.806338  \n",
       "2           0.030248   63000  40000  98000.0                0.775173  \n",
       "3           0.042679   46000  30000  72000.0                0.783948  \n",
       "4           0.049188   62000  38500  90000.0                0.711738  "
      ]
     },
     "execution_count": 272,
     "metadata": {},
     "output_type": "execute_result"
    }
   ],
   "source": [
    "majors.head()"
   ]
  },
  {
   "cell_type": "code",
   "execution_count": 50,
   "metadata": {
    "collapsed": true
   },
   "outputs": [],
   "source": [
    "# 12. Create a \"sample_unemployment_rate\" column\n",
    "# this column should be 1 - \"sample_employment_rate\""
   ]
  },
  {
   "cell_type": "code",
   "execution_count": 273,
   "metadata": {
    "collapsed": true
   },
   "outputs": [],
   "source": [
    "majors['sample_unemployement_rate'] = 1 - majors.sample_employment_rate"
   ]
  },
  {
   "cell_type": "code",
   "execution_count": 274,
   "metadata": {
    "collapsed": false
   },
   "outputs": [
    {
     "data": {
      "text/html": [
       "<div>\n",
       "<table border=\"1\" class=\"dataframe\">\n",
       "  <thead>\n",
       "    <tr style=\"text-align: right;\">\n",
       "      <th></th>\n",
       "      <th>Unnamed: 0</th>\n",
       "      <th>Major</th>\n",
       "      <th>Major_category</th>\n",
       "      <th>Total</th>\n",
       "      <th>Employed</th>\n",
       "      <th>Unemployed</th>\n",
       "      <th>Unemployment_rate</th>\n",
       "      <th>Median</th>\n",
       "      <th>P25th</th>\n",
       "      <th>P75th</th>\n",
       "      <th>sample_employment_rate</th>\n",
       "      <th>sample_unemployement_rate</th>\n",
       "    </tr>\n",
       "  </thead>\n",
       "  <tbody>\n",
       "    <tr>\n",
       "      <th>0</th>\n",
       "      <td>0</td>\n",
       "      <td>GENERAL AGRICULTURE</td>\n",
       "      <td>Agriculture &amp; Natural Resources</td>\n",
       "      <td>128148</td>\n",
       "      <td>90245</td>\n",
       "      <td>2423</td>\n",
       "      <td>0.026147</td>\n",
       "      <td>50000</td>\n",
       "      <td>34000</td>\n",
       "      <td>80000.0</td>\n",
       "      <td>0.704225</td>\n",
       "      <td>0.295775</td>\n",
       "    </tr>\n",
       "    <tr>\n",
       "      <th>1</th>\n",
       "      <td>1</td>\n",
       "      <td>AGRICULTURE PRODUCTION AND MANAGEMENT</td>\n",
       "      <td>Agriculture &amp; Natural Resources</td>\n",
       "      <td>95326</td>\n",
       "      <td>76865</td>\n",
       "      <td>2266</td>\n",
       "      <td>0.028636</td>\n",
       "      <td>54000</td>\n",
       "      <td>36000</td>\n",
       "      <td>80000.0</td>\n",
       "      <td>0.806338</td>\n",
       "      <td>0.193662</td>\n",
       "    </tr>\n",
       "    <tr>\n",
       "      <th>2</th>\n",
       "      <td>2</td>\n",
       "      <td>AGRICULTURAL ECONOMICS</td>\n",
       "      <td>Agriculture &amp; Natural Resources</td>\n",
       "      <td>33955</td>\n",
       "      <td>26321</td>\n",
       "      <td>821</td>\n",
       "      <td>0.030248</td>\n",
       "      <td>63000</td>\n",
       "      <td>40000</td>\n",
       "      <td>98000.0</td>\n",
       "      <td>0.775173</td>\n",
       "      <td>0.224827</td>\n",
       "    </tr>\n",
       "    <tr>\n",
       "      <th>3</th>\n",
       "      <td>3</td>\n",
       "      <td>ANIMAL SCIENCES</td>\n",
       "      <td>Agriculture &amp; Natural Resources</td>\n",
       "      <td>103549</td>\n",
       "      <td>81177</td>\n",
       "      <td>3619</td>\n",
       "      <td>0.042679</td>\n",
       "      <td>46000</td>\n",
       "      <td>30000</td>\n",
       "      <td>72000.0</td>\n",
       "      <td>0.783948</td>\n",
       "      <td>0.216052</td>\n",
       "    </tr>\n",
       "    <tr>\n",
       "      <th>4</th>\n",
       "      <td>4</td>\n",
       "      <td>FOOD SCIENCE</td>\n",
       "      <td>Agriculture &amp; Natural Resources</td>\n",
       "      <td>24280</td>\n",
       "      <td>17281</td>\n",
       "      <td>894</td>\n",
       "      <td>0.049188</td>\n",
       "      <td>62000</td>\n",
       "      <td>38500</td>\n",
       "      <td>90000.0</td>\n",
       "      <td>0.711738</td>\n",
       "      <td>0.288262</td>\n",
       "    </tr>\n",
       "  </tbody>\n",
       "</table>\n",
       "</div>"
      ],
      "text/plain": [
       "   Unnamed: 0                                  Major  \\\n",
       "0           0                    GENERAL AGRICULTURE   \n",
       "1           1  AGRICULTURE PRODUCTION AND MANAGEMENT   \n",
       "2           2                 AGRICULTURAL ECONOMICS   \n",
       "3           3                        ANIMAL SCIENCES   \n",
       "4           4                           FOOD SCIENCE   \n",
       "\n",
       "                    Major_category   Total  Employed  Unemployed  \\\n",
       "0  Agriculture & Natural Resources  128148     90245        2423   \n",
       "1  Agriculture & Natural Resources   95326     76865        2266   \n",
       "2  Agriculture & Natural Resources   33955     26321         821   \n",
       "3  Agriculture & Natural Resources  103549     81177        3619   \n",
       "4  Agriculture & Natural Resources   24280     17281         894   \n",
       "\n",
       "   Unemployment_rate  Median  P25th    P75th  sample_employment_rate  \\\n",
       "0           0.026147   50000  34000  80000.0                0.704225   \n",
       "1           0.028636   54000  36000  80000.0                0.806338   \n",
       "2           0.030248   63000  40000  98000.0                0.775173   \n",
       "3           0.042679   46000  30000  72000.0                0.783948   \n",
       "4           0.049188   62000  38500  90000.0                0.711738   \n",
       "\n",
       "   sample_unemployement_rate  \n",
       "0                   0.295775  \n",
       "1                   0.193662  \n",
       "2                   0.224827  \n",
       "3                   0.216052  \n",
       "4                   0.288262  "
      ]
     },
     "execution_count": 274,
     "metadata": {},
     "output_type": "execute_result"
    }
   ],
   "source": [
    "majors.head()"
   ]
  },
  {
   "cell_type": "code",
   "execution_count": null,
   "metadata": {
    "collapsed": true
   },
   "outputs": [],
   "source": []
  }
 ],
 "metadata": {
  "anaconda-cloud": {},
  "kernelspec": {
   "display_name": "Python [datascience]",
   "language": "python",
   "name": "Python [datascience]"
  },
  "language_info": {
   "codemirror_mode": {
    "name": "ipython",
    "version": 2
   },
   "file_extension": ".py",
   "mimetype": "text/x-python",
   "name": "python",
   "nbconvert_exporter": "python",
   "pygments_lexer": "ipython2",
   "version": "2.7.12"
  }
 },
 "nbformat": 4,
 "nbformat_minor": 0
}
