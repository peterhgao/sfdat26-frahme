{
 "cells": [
  {
   "cell_type": "code",
   "execution_count": 1,
   "metadata": {
    "collapsed": true
   },
   "outputs": [],
   "source": [
    "import requests\n",
    "import re \n",
    "from bs4 import BeautifulSoup\n"
   ]
  },
  {
   "cell_type": "code",
   "execution_count": null,
   "metadata": {
    "collapsed": true
   },
   "outputs": [],
   "source": [
    "##### INDEED #####\n",
    "\n",
    "# a job posting website (as well as resume hosting)\n",
    "# scrape some (or A LOT) of job postings from indeed for the job \"data scientist\"\n",
    "# Plan of Action:\n",
    "# http://www.indeed.com/jobs?q=data+scientist&l=San+Francisco%2C+CA\n",
    "# 1. Figure out the url for getting the summaries (by doing it yourself!)\n",
    "# 2. Scrape the summary\n",
    "# 3. Figure out how to change the page by changing the URL (hint, click the next page button and see how the url changes)\n",
    "# 4. BONUS: count the most used words in the sumaries\n",
    "\n"
   ]
  },
  {
   "cell_type": "code",
   "execution_count": 2,
   "metadata": {
    "collapsed": true
   },
   "outputs": [],
   "source": [
    "url = 'http://www.indeed.com/jobs?q=data+scientist&l=San+Francisco%2C+CA'\n",
    "r = requests.get(url)\n",
    "b = BeautifulSoup(r.text, 'html.parser')"
   ]
  },
  {
   "cell_type": "code",
   "execution_count": 3,
   "metadata": {
    "collapsed": false
   },
   "outputs": [
    {
     "data": {
      "text/plain": [
       "[<span id=\"accessibilityText\">Skip to <!-- This is translated before reaching this state --><a class=\"accessibilityMenu\" href=\"#jobPostingsAnchor\" id=\"skipToJobs\">Job Postings</a>, <!-- This is translated before reaching this state --><a class=\"accessibilityMenu\" href=\"#what\" id=\"skipToSearch\">Search</a></span>,\n",
       " <span class=\"navBi\"><a class=\"selected\" href=\"/\" id=\"jobsLink\" title=\"Jobs\">Find Jobs</a></span>,\n",
       " <span class=\"navBi\"><a href=\"/resumes?isid=find-resumes&amp;ikw=SERPtop&amp;co=US&amp;hl=en\" id=\"rezLink\">Find Resumes</a></span>,\n",
       " <span class=\"navBi\"><a href=\"/hire?hl=en&amp;cc=US\" id=\"empLink\" onclick=\"if ( this.href.match('&amp;isid=employerlink-US-control&amp;ikw=SERPtop') == null ) { this.href += '&amp;isid=employerlink-US-control&amp;ikw=SERPtop' };\">Employers / Post Job</a></span>,\n",
       " <span class=\"navBi\"><span class=\"resume-promo\" id=\"navpromo\">\\n<a href=\"/promo/resume\" onclick=\"window.location=this.href + '?from=nav&amp;subfrom=rezprmstd&amp;trk.origin=jobsearch&amp;trk.variant=rezprmstd&amp;trk.tk=1aqi1r7d3bupcer2'; return false;\">Upload your resume</a>\\n</span></span>,\n",
       " <span class=\"resume-promo\" id=\"navpromo\">\\n<a href=\"/promo/resume\" onclick=\"window.location=this.href + '?from=nav&amp;subfrom=rezprmstd&amp;trk.origin=jobsearch&amp;trk.variant=rezprmstd&amp;trk.tk=1aqi1r7d3bupcer2'; return false;\">Upload your resume</a>\\n</span>,\n",
       " <span class=\"navBi\"><a href=\"http://www.indeed.com/account/login?dest=%2Fjobs%3Fq%3Ddata%2Bscientist%26l%3DSan%2BFrancisco%2C%2BCA\" id=\"userOptionsLabel\" rel=\"nofollow\">Sign in</a></span>,\n",
       " <span id=\"hidden_colon\" style=\"display:none\">:</span>,\n",
       " <span class=\"inwrap\"><input aria-labelledby=\"what_label_top hidden_colon what_label\" class=\"input_text\" id=\"what\" maxlength=\"512\" name=\"q\" size=\"31\" value=\"data scientist\"/></span>,\n",
       " <span class=\"inwrap\"><input aria-labelledby=\"where_label_top hidden_colon where_label\" class=\"input_text\" id=\"where\" maxlength=\"45\" name=\"l\" size=\"27\" value=\"San Francisco, CA\"/></span>,\n",
       " <span class=\"inwrapBorder\" style=\"width:auto;padding-right:0;\"><span class=\"inwrapBorderTop\"><input class=\"input_submit\" id=\"fj\" type=\"submit\" value=\"Find Jobs\"/></span></span>,\n",
       " <span class=\"inwrapBorderTop\"><input class=\"input_submit\" id=\"fj\" type=\"submit\" value=\"Find Jobs\"/></span>,\n",
       " <span class=\"h\">\\xa0</span>,\n",
       " <span class=\"h\">\\xa0</span>,\n",
       " <span class=\"h\">\\xa0</span>,\n",
       " <span class=\"ws_bold\">\\nSalary Estimate</span>,\n",
       " <span class=\"ws_bold\">\\nJob Type</span>,\n",
       " <span class=\"ws_bold\">\\nLocation</span>,\n",
       " <span onclick=\"showAllRefinements('rb_Location'); return false;\" onkeyup=\"if (event.keyCode == 13) showAllRefinements('rb_Location'); return false;\" tabindex=\"0\">more \\xbb</span>,\n",
       " <span class=\"ws_bold\">\\nCompany</span>,\n",
       " <span onclick=\"showAllRefinements('rb_Company'); return false;\" onkeyup=\"if (event.keyCode == 13) showAllRefinements('rb_Company'); return false;\" tabindex=\"0\">more \\xbb</span>,\n",
       " <span class=\"ws_bold\">\\nExperience Level</span>,\n",
       " <span class=\"new\">New!</span>,\n",
       " <span class=\"company\">\\n<a class=\"turnstileLink\" data-tn-element=\"companyName\" href=\"/cmp/Uber?from=SERP&amp;campaignid=serp-linkcompanyname&amp;fromjk=d9e68b28ae9cdc33&amp;jcid=f766f8bfbc3effb7\" target=\"_blank\">\\n        Uber</a></span>,\n",
       " <span class=\"ratings\" style=\"height: 11px; line-height: 11px; background-image: url(/images/cmp/star_2_sm@2x.png); background-size: 12px 22px;width: 60px;\"><span class=\"rating\" style=\"height: 11px; line-height: 11px; background-image: url(/images/cmp/star_2_sm@2x.png); background-size: 12px 22px;background-position: 0 11px; width: 51.6px;\"><!-- --></span></span>,\n",
       " <span class=\"rating\" style=\"height: 11px; line-height: 11px; background-image: url(/images/cmp/star_2_sm@2x.png); background-size: 12px 22px;background-position: 0 11px; width: 51.6px;\"><!-- --></span>,\n",
       " <span class=\"slNoUnderline\">173 reviews</span>,\n",
       " <span class=\"location\">San Francisco, CA</span>,\n",
       " <span class=\"summary\">Are you interested in working at the intersection of applied optimization, machine learning, engineering development, and advanced <b>data</b> analysis?...</span>,\n",
       " <span class=\"date\">20 days ago</span>,\n",
       " <span class=\"tt_set\" id=\"tt_set_10\">  -  <a class=\"sl resultLink tellafriend-link \" href=\"mailto:?subject=I found this job on Indeed&amp;body=http://www.indeed.com\" onclick=\"toggleTellAFriend('d9e68b28ae9cdc33', 10, true); return false;\">email</a></span>,\n",
       " <span class=\"sdn\">Sponsored</span>,\n",
       " <span class=\"company\">\\n<a class=\"turnstileLink\" data-tn-element=\"companyName\" href=\"/cmp/Uber?from=SERP&amp;campaignid=serp-linkcompanyname&amp;fromjk=49b7090413593bed&amp;jcid=f766f8bfbc3effb7\" target=\"_blank\">\\n        Uber</a></span>,\n",
       " <span class=\"ratings\" style=\"height: 11px; line-height: 11px; background-image: url(/images/cmp/star_2_sm@2x.png); background-size: 12px 22px;width: 60px;\"><span class=\"rating\" style=\"height: 11px; line-height: 11px; background-image: url(/images/cmp/star_2_sm@2x.png); background-size: 12px 22px;background-position: 0 11px; width: 51.6px;\"><!-- --></span></span>,\n",
       " <span class=\"rating\" style=\"height: 11px; line-height: 11px; background-image: url(/images/cmp/star_2_sm@2x.png); background-size: 12px 22px;background-position: 0 11px; width: 51.6px;\"><!-- --></span>,\n",
       " <span class=\"slNoUnderline\">173 reviews</span>,\n",
       " <span class=\"location\">San Francisco, CA</span>,\n",
       " <span class=\"summary\"><b>Data</b> <b>scientists</b> are responsible for the entire pipeline:. Comfort with statistical methods and technical tools including any of SQL, econometrics, R, Python,...</span>,\n",
       " <span class=\"date\">22 days ago</span>,\n",
       " <span class=\"tt_set\" id=\"tt_set_11\">  -  <a class=\"sl resultLink tellafriend-link \" href=\"mailto:?subject=I found this job on Indeed&amp;body=http://www.indeed.com\" onclick=\"toggleTellAFriend('49b7090413593bed', 11, true); return false;\">email</a></span>,\n",
       " <span class=\"sdn\">Sponsored</span>,\n",
       " <span class=\"company\">\\n<a class=\"turnstileLink\" data-tn-element=\"companyName\" href=\"/cmp/Workday?from=SERP&amp;campaignid=serp-linkcompanyname&amp;fromjk=6abf7106bb24f753&amp;jcid=9ac45d217f8342a1\" target=\"_blank\">\\n        Workday</a></span>,\n",
       " <span class=\"ratings\" style=\"height: 11px; line-height: 11px; background-image: url(/images/cmp/star_2_sm@2x.png); background-size: 12px 22px;width: 60px;\"><span class=\"rating\" style=\"height: 11px; line-height: 11px; background-image: url(/images/cmp/star_2_sm@2x.png); background-size: 12px 22px;background-position: 0 11px; width: 41.4px;\"><!-- --></span></span>,\n",
       " <span class=\"rating\" style=\"height: 11px; line-height: 11px; background-image: url(/images/cmp/star_2_sm@2x.png); background-size: 12px 22px;background-position: 0 11px; width: 41.4px;\"><!-- --></span>,\n",
       " <span class=\"slNoUnderline\">11 reviews</span>,\n",
       " <span class=\"location\">San Francisco, CA</span>,\n",
       " <span class=\"summary\">Proficiency in statistical analytics and machine learning algorithms especially for supervised and unsupervised methods....</span>,\n",
       " <span class=\"date\">30+ days ago</span>,\n",
       " <span class=\"tt_set\" id=\"tt_set_12\">  -  <a class=\"sl resultLink tellafriend-link \" href=\"mailto:?subject=I found this job on Indeed&amp;body=http://www.indeed.com\" onclick=\"toggleTellAFriend('6abf7106bb24f753', 12, true); return false;\">email</a></span>,\n",
       " <span class=\"sdn\">Sponsored</span>,\n",
       " <span class=\"company\" itemprop=\"hiringOrganization\" itemtype=\"http://schema.org/Organization\">\\n<span itemprop=\"name\">\\n<a href=\"/cmp/Mckinsey-&amp;-Company?from=SERP&amp;campaignid=serp-linkcompanyname&amp;fromjk=69460e7e0164708c&amp;jcid=6576e7250aa78c3c\" target=\"_blank\">\\n        McKinsey &amp; Company</a></span>\\n</span>,\n",
       " <span itemprop=\"name\">\\n<a href=\"/cmp/Mckinsey-&amp;-Company?from=SERP&amp;campaignid=serp-linkcompanyname&amp;fromjk=69460e7e0164708c&amp;jcid=6576e7250aa78c3c\" target=\"_blank\">\\n        McKinsey &amp; Company</a></span>,\n",
       " <span class=\"ratings\" style=\"height: 11px; line-height: 11px; background-image: url(/images/cmp/star_2_sm@2x.png); background-size: 12px 22px;width: 60px;\"><span class=\"rating\" style=\"height: 11px; line-height: 11px; background-image: url(/images/cmp/star_2_sm@2x.png); background-size: 12px 22px;background-position: 0 11px; width: 52.800003px;\"><!-- --></span></span>,\n",
       " <span class=\"rating\" style=\"height: 11px; line-height: 11px; background-image: url(/images/cmp/star_2_sm@2x.png); background-size: 12px 22px;background-position: 0 11px; width: 52.800003px;\"><!-- --></span>,\n",
       " <span class=\"slNoUnderline\">163 reviews</span>,\n",
       " <span itemprop=\"jobLocation\" itemscope=\"\" itemtype=\"http://schema.org/Place\"><span class=\"location\" itemprop=\"address\" itemscope=\"\" itemtype=\"http://schema.org/Postaladdress\"><span itemprop=\"addressLocality\">San Francisco, CA</span></span></span>,\n",
       " <span class=\"location\" itemprop=\"address\" itemscope=\"\" itemtype=\"http://schema.org/Postaladdress\"><span itemprop=\"addressLocality\">San Francisco, CA</span></span>,\n",
       " <span itemprop=\"addressLocality\">San Francisco, CA</span>,\n",
       " <span class=\"summary\" itemprop=\"description\">\\nOur Consumer Marketing Analytics Center helps clients transform their marketing and sales by applying advanced analytics to generate value-creating insights...</span>,\n",
       " <span class=\"date\">2 days ago</span>,\n",
       " <span class=\"tt_set\" id=\"tt_set_0\"> - <span class=\"savelink2\" id=\"savelink2_69460e7e0164708c\"><a class=\"sl resultLink save-job-link\" href=\"#\" id=\"sj_69460e7e0164708c\" onclick=\"changeJobState('69460e7e0164708c', 'save', 'linkbar', false);return false;\" title=\"Save this job to my.indeed\">save job</a></span>  -  <a class=\"sl resultLink tellafriend-link \" href=\"mailto:?subject=I found this job on Indeed&amp;body=http://www.indeed.com\" onclick=\"toggleTellAFriend('69460e7e0164708c', 0, false); return false;\">email</a> - <a class=\"sl resultLink more-link \" href=\"#\" id=\"tog_0\" onclick=\"toggleMoreLinks('69460e7e0164708c'); return false;\">more...</a></span>,\n",
       " <span class=\"savelink2\" id=\"savelink2_69460e7e0164708c\"><a class=\"sl resultLink save-job-link\" href=\"#\" id=\"sj_69460e7e0164708c\" onclick=\"changeJobState('69460e7e0164708c', 'save', 'linkbar', false);return false;\" title=\"Save this job to my.indeed\">save job</a></span>,\n",
       " <span class=\"mat\">View all <a href=\"/q-Mckinsey-&amp;-Company-l-San-Francisco,-CA-jobs.html\" rel=\"nofollow\">McKinsey &amp; Company jobs in San Francisco, CA</a> - <a href=\"/l-San-Francisco,-CA-jobs.html\">San Francisco jobs</a></span>,\n",
       " <span class=\"mat\">Salary Search: <a href=\"/salary?q1=Junior+Data+Scientist&amp;l1=San+Francisco%2C+CA\">Junior Data Scientist salaries in San Francisco, CA</a></span>,\n",
       " <span class=\"mat\">Learn more about working at <a href=\"/cmp/Mckinsey-&amp;-Company?fromjk=69460e7e0164708c&amp;from=serp-more&amp;campaignid=serp-more&amp;jcid=6576e7250aa78c3c\">Mckinsey &amp; Company</a></span>,\n",
       " <span class=\"mat\">Related forums: <a href=\"/forum/loc/SAN-Francisco-California.html\">SAN Francisco, California</a> - <a href=\"/forum/cmp/Mckinsey-%26-Company.html\">McKinsey &amp; Company</a></span>,\n",
       " <span class=\"company\" itemprop=\"hiringOrganization\" itemtype=\"http://schema.org/Organization\">\\n<span itemprop=\"name\">\\n    LSQ</span>\\n</span>,\n",
       " <span itemprop=\"name\">\\n    LSQ</span>,\n",
       " <span itemprop=\"jobLocation\" itemscope=\"\" itemtype=\"http://schema.org/Place\"><span class=\"location\" itemprop=\"address\" itemscope=\"\" itemtype=\"http://schema.org/Postaladdress\"><span itemprop=\"addressLocality\">San Francisco, CA</span></span></span>,\n",
       " <span class=\"location\" itemprop=\"address\" itemscope=\"\" itemtype=\"http://schema.org/Postaladdress\"><span itemprop=\"addressLocality\">San Francisco, CA</span></span>,\n",
       " <span itemprop=\"addressLocality\">San Francisco, CA</span>,\n",
       " <span class=\"summary\" itemprop=\"description\">\\nSenior <b>Data</b> <b>Scientist</b>. LSQ Funding is seeking an exceptionally talented and motivated <b>Data</b> <b>Scientist</b> to develop and maintain analytics over cross-functional...</span>,\n",
       " <span class=\"date\">16 hours ago</span>,\n",
       " <span class=\"tt_set\" id=\"tt_set_1\"> - <span class=\"savelink2\" id=\"savelink2_060ecc8e8cd930af\"><a class=\"sl resultLink save-job-link\" href=\"#\" id=\"sj_060ecc8e8cd930af\" onclick=\"changeJobState('060ecc8e8cd930af', 'save', 'linkbar', false);return false;\" title=\"Save this job to my.indeed\">save job</a></span>  -  <a class=\"sl resultLink tellafriend-link \" href=\"mailto:?subject=I found this job on Indeed&amp;body=http://www.indeed.com\" onclick=\"toggleTellAFriend('060ecc8e8cd930af', 1, false); return false;\">email</a> - <a class=\"sl resultLink more-link \" href=\"#\" id=\"tog_1\" onclick=\"toggleMoreLinks('060ecc8e8cd930af'); return false;\">more...</a></span>,\n",
       " <span class=\"savelink2\" id=\"savelink2_060ecc8e8cd930af\"><a class=\"sl resultLink save-job-link\" href=\"#\" id=\"sj_060ecc8e8cd930af\" onclick=\"changeJobState('060ecc8e8cd930af', 'save', 'linkbar', false);return false;\" title=\"Save this job to my.indeed\">save job</a></span>,\n",
       " <span class=\"mat\">View all <a href=\"/q-Lsq-l-San-Francisco,-CA-jobs.html\" rel=\"nofollow\">LSQ jobs in San Francisco, CA</a> - <a href=\"/l-San-Francisco,-CA-jobs.html\">San Francisco jobs</a></span>,\n",
       " <span class=\"mat\">Salary Search: <a href=\"/salary?q1=Data+Scientist&amp;l1=San+Francisco%2C+CA\">Data Scientist salaries in San Francisco, CA</a></span>,\n",
       " <span class=\"mat\">Related forums: <a href=\"/forum/loc/SAN-Francisco-California.html\">SAN Francisco, California</a> - <a href=\"/forum/cmp/Lsq.html\">LSQ</a></span>,\n",
       " <span class=\"company\" itemprop=\"hiringOrganization\" itemtype=\"http://schema.org/Organization\">\\n<span itemprop=\"name\">\\n    Affirm</span>\\n</span>,\n",
       " <span itemprop=\"name\">\\n    Affirm</span>,\n",
       " <span itemprop=\"jobLocation\" itemscope=\"\" itemtype=\"http://schema.org/Place\"><span class=\"location\" itemprop=\"address\" itemscope=\"\" itemtype=\"http://schema.org/Postaladdress\"><span itemprop=\"addressLocality\">San Francisco, CA 94126 <span style=\"font-size: smaller\">(Financial District area)</span></span></span></span>,\n",
       " <span class=\"location\" itemprop=\"address\" itemscope=\"\" itemtype=\"http://schema.org/Postaladdress\"><span itemprop=\"addressLocality\">San Francisco, CA 94126 <span style=\"font-size: smaller\">(Financial District area)</span></span></span>,\n",
       " <span itemprop=\"addressLocality\">San Francisco, CA 94126 <span style=\"font-size: smaller\">(Financial District area)</span></span>,\n",
       " <span style=\"font-size: smaller\">(Financial District area)</span>,\n",
       " <span class=\"summary\" itemprop=\"description\">\\nDeep understanding of and experience with machine learning and <b>data</b> analysis. Conduct ad-hoc <b>data</b> analyses; Build production fraud and credit machine learning...</span>,\n",
       " <span class=\"date\">1 day ago</span>,\n",
       " <span class=\"tt_set\" id=\"tt_set_2\"> - <span class=\"savelink2\" id=\"savelink2_e7860d8f50cb8b87\"><a class=\"sl resultLink save-job-link\" href=\"#\" id=\"sj_e7860d8f50cb8b87\" onclick=\"changeJobState('e7860d8f50cb8b87', 'save', 'linkbar', false);return false;\" title=\"Save this job to my.indeed\">save job</a></span>  -  <a class=\"sl resultLink tellafriend-link \" href=\"mailto:?subject=I found this job on Indeed&amp;body=http://www.indeed.com\" onclick=\"toggleTellAFriend('e7860d8f50cb8b87', 2, false); return false;\">email</a> - <a class=\"sl resultLink more-link \" href=\"#\" id=\"tog_2\" onclick=\"toggleMoreLinks('e7860d8f50cb8b87'); return false;\">more...</a></span>,\n",
       " <span class=\"savelink2\" id=\"savelink2_e7860d8f50cb8b87\"><a class=\"sl resultLink save-job-link\" href=\"#\" id=\"sj_e7860d8f50cb8b87\" onclick=\"changeJobState('e7860d8f50cb8b87', 'save', 'linkbar', false);return false;\" title=\"Save this job to my.indeed\">save job</a></span>,\n",
       " <span class=\"mat\">View all <a href=\"/q-Affirm-l-San-Francisco,-CA-jobs.html\" rel=\"nofollow\">Affirm jobs in San Francisco, CA</a> - <a href=\"/l-San-Francisco,-CA-jobs.html\">San Francisco jobs</a></span>,\n",
       " <span class=\"mat\">Salary Search: <a href=\"/salary?q1=Data+Scientist&amp;l1=San+Francisco%2C+CA\">Data Scientist salaries in San Francisco, CA</a></span>,\n",
       " <span class=\"mat\">Learn more about working at <a href=\"/cmp/Affirm?fromjk=e7860d8f50cb8b87&amp;from=serp-more&amp;campaignid=serp-more&amp;jcid=5cf4e54c5ef78aa7\">Affirm</a></span>,\n",
       " <span class=\"mat\">Related forums: <a href=\"/forum/cmp/Affirm.html\">Affirm</a> - <a href=\"/forum/loc/SAN-Francisco-California.html\">SAN Francisco, California</a></span>,\n",
       " <span class=\"company\" itemprop=\"hiringOrganization\" itemtype=\"http://schema.org/Organization\">\\n<span itemprop=\"name\">\\n<a href=\"/cmp/Ubisoft?from=SERP&amp;campaignid=serp-linkcompanyname&amp;fromjk=7260178a08abb1dc&amp;jcid=237908de095b6446\" target=\"_blank\">\\n        Ubisoft</a></span>\\n</span>,\n",
       " <span itemprop=\"name\">\\n<a href=\"/cmp/Ubisoft?from=SERP&amp;campaignid=serp-linkcompanyname&amp;fromjk=7260178a08abb1dc&amp;jcid=237908de095b6446\" target=\"_blank\">\\n        Ubisoft</a></span>,\n",
       " <span class=\"ratings\" style=\"height: 11px; line-height: 11px; background-image: url(/images/cmp/star_2_sm@2x.png); background-size: 12px 22px;width: 60px;\"><span class=\"rating\" style=\"height: 11px; line-height: 11px; background-image: url(/images/cmp/star_2_sm@2x.png); background-size: 12px 22px;background-position: 0 11px; width: 51.0px;\"><!-- --></span></span>,\n",
       " <span class=\"rating\" style=\"height: 11px; line-height: 11px; background-image: url(/images/cmp/star_2_sm@2x.png); background-size: 12px 22px;background-position: 0 11px; width: 51.0px;\"><!-- --></span>,\n",
       " <span class=\"slNoUnderline\">66 reviews</span>,\n",
       " <span itemprop=\"jobLocation\" itemscope=\"\" itemtype=\"http://schema.org/Place\"><span class=\"location\" itemprop=\"address\" itemscope=\"\" itemtype=\"http://schema.org/Postaladdress\"><span itemprop=\"addressLocality\">San Francisco, CA 94107 <span style=\"font-size: smaller\">(South Of Market area)</span></span></span></span>,\n",
       " <span class=\"location\" itemprop=\"address\" itemscope=\"\" itemtype=\"http://schema.org/Postaladdress\"><span itemprop=\"addressLocality\">San Francisco, CA 94107 <span style=\"font-size: smaller\">(South Of Market area)</span></span></span>,\n",
       " <span itemprop=\"addressLocality\">San Francisco, CA 94107 <span style=\"font-size: smaller\">(South Of Market area)</span></span>,\n",
       " <span style=\"font-size: smaller\">(South Of Market area)</span>,\n",
       " <span class=\"summary\" itemprop=\"description\">\\nThe most commons will be SQL for <b>data</b> extraction, R for <b>data</b> analysis and a combination of R and Tableau for <b>data</b> visualization....</span>,\n",
       " <span class=\"date\">1 day ago</span>,\n",
       " <span class=\"tt_set\" id=\"tt_set_3\"> - <span class=\"savelink2\" id=\"savelink2_7260178a08abb1dc\"><a class=\"sl resultLink save-job-link\" href=\"#\" id=\"sj_7260178a08abb1dc\" onclick=\"changeJobState('7260178a08abb1dc', 'save', 'linkbar', false);return false;\" title=\"Save this job to my.indeed\">save job</a></span>  -  <a class=\"sl resultLink tellafriend-link \" href=\"mailto:?subject=I found this job on Indeed&amp;body=http://www.indeed.com\" onclick=\"toggleTellAFriend('7260178a08abb1dc', 3, false); return false;\">email</a> - <a class=\"sl resultLink more-link \" href=\"#\" id=\"tog_3\" onclick=\"toggleMoreLinks('7260178a08abb1dc'); return false;\">more...</a></span>,\n",
       " <span class=\"savelink2\" id=\"savelink2_7260178a08abb1dc\"><a class=\"sl resultLink save-job-link\" href=\"#\" id=\"sj_7260178a08abb1dc\" onclick=\"changeJobState('7260178a08abb1dc', 'save', 'linkbar', false);return false;\" title=\"Save this job to my.indeed\">save job</a></span>,\n",
       " <span class=\"mat\">View all <a href=\"/q-Ubisoft-l-San-Francisco,-CA-jobs.html\" rel=\"nofollow\">Ubisoft jobs in San Francisco, CA</a> - <a href=\"/l-San-Francisco,-CA-jobs.html\">San Francisco jobs</a></span>,\n",
       " <span class=\"mat\">Salary Search: <a href=\"/salary?q1=Data+Scientist&amp;l1=San+Francisco%2C+CA\">Data Scientist salaries in San Francisco, CA</a></span>,\n",
       " <span class=\"mat\">Learn more about working at <a href=\"/cmp/Ubisoft?fromjk=7260178a08abb1dc&amp;from=serp-more&amp;campaignid=serp-more&amp;jcid=237908de095b6446\">Ubisoft</a></span>,\n",
       " <span class=\"mat\">Related forums: <a href=\"/forum/cmp/Ubisoft.html\">Ubisoft</a> - <a href=\"/forum/loc/SAN-Francisco-California.html\">SAN Francisco, California</a></span>,\n",
       " <span class=\"company\" itemprop=\"hiringOrganization\" itemtype=\"http://schema.org/Organization\">\\n<span itemprop=\"name\">\\n    LiveRamp</span>\\n</span>,\n",
       " <span itemprop=\"name\">\\n    LiveRamp</span>,\n",
       " <span itemprop=\"jobLocation\" itemscope=\"\" itemtype=\"http://schema.org/Place\"><span class=\"location\" itemprop=\"address\" itemscope=\"\" itemtype=\"http://schema.org/Postaladdress\"><span itemprop=\"addressLocality\">San Francisco, CA</span></span></span>,\n",
       " <span class=\"location\" itemprop=\"address\" itemscope=\"\" itemtype=\"http://schema.org/Postaladdress\"><span itemprop=\"addressLocality\">San Francisco, CA</span></span>,\n",
       " <span itemprop=\"addressLocality\">San Francisco, CA</span>,\n",
       " <span class=\"summary\" itemprop=\"description\">\\nStrong grasp of statistics and <b>data</b> mining techniques. As a LiveRamp <b>Data</b> <b>Scientist</b> you\\u2019ll analyze the complex connections in this half a trillion node graph...</span>,\n",
       " <span class=\"iaLabel\"> Easily apply</span>,\n",
       " <span class=\"date\">4 days ago</span>,\n",
       " <span class=\"tt_set\" id=\"tt_set_4\"> - <span class=\"savelink2\" id=\"savelink2_8817c109665b1b28\"><a class=\"sl resultLink save-job-link\" href=\"#\" id=\"sj_8817c109665b1b28\" onclick=\"changeJobState('8817c109665b1b28', 'save', 'linkbar', false);return false;\" title=\"Save this job to my.indeed\">save job</a></span>  -  <a class=\"sl resultLink tellafriend-link \" href=\"mailto:?subject=I found this job on Indeed&amp;body=http://www.indeed.com\" onclick=\"toggleTellAFriend('8817c109665b1b28', 4, false); return false;\">email</a> - <a class=\"sl resultLink more-link \" href=\"#\" id=\"tog_4\" onclick=\"toggleMoreLinks('8817c109665b1b28'); return false;\">more...</a></span>,\n",
       " <span class=\"savelink2\" id=\"savelink2_8817c109665b1b28\"><a class=\"sl resultLink save-job-link\" href=\"#\" id=\"sj_8817c109665b1b28\" onclick=\"changeJobState('8817c109665b1b28', 'save', 'linkbar', false);return false;\" title=\"Save this job to my.indeed\">save job</a></span>,\n",
       " <span class=\"mat\">View all <a href=\"/q-Liveramp-l-San-Francisco,-CA-jobs.html\" rel=\"nofollow\">LiveRamp jobs in San Francisco, CA</a> - <a href=\"/l-San-Francisco,-CA-jobs.html\">San Francisco jobs</a></span>,\n",
       " <span class=\"mat\">Salary Search: <a href=\"/salary?q1=Statistically+Significant+Data+Scientist&amp;l1=San+Francisco%2C+CA\">Statistically Significant Data Scientist salaries in San Francisco, CA</a></span>,\n",
       " <span class=\"mat\">Related forums: <a href=\"/forum/cmp/Liveramp.html\">LiveRamp</a> - <a href=\"/forum/loc/SAN-Francisco-California.html\">SAN Francisco, California</a></span>,\n",
       " <span class=\"company\" itemprop=\"hiringOrganization\" itemtype=\"http://schema.org/Organization\">\\n<span itemprop=\"name\">\\n    Hipmunk</span>\\n</span>,\n",
       " <span itemprop=\"name\">\\n    Hipmunk</span>,\n",
       " <span itemprop=\"jobLocation\" itemscope=\"\" itemtype=\"http://schema.org/Place\"><span class=\"location\" itemprop=\"address\" itemscope=\"\" itemtype=\"http://schema.org/Postaladdress\"><span itemprop=\"addressLocality\">San Francisco, CA 94107 <span style=\"font-size: smaller\">(South Of Market area)</span></span></span></span>,\n",
       " <span class=\"location\" itemprop=\"address\" itemscope=\"\" itemtype=\"http://schema.org/Postaladdress\"><span itemprop=\"addressLocality\">San Francisco, CA 94107 <span style=\"font-size: smaller\">(South Of Market area)</span></span></span>,\n",
       " <span itemprop=\"addressLocality\">San Francisco, CA 94107 <span style=\"font-size: smaller\">(South Of Market area)</span></span>,\n",
       " <span style=\"font-size: smaller\">(South Of Market area)</span>,\n",
       " <span class=\"summary\" itemprop=\"description\">\\nWe are looking for an experienced machine learning engineer to join us. Whether that be a new technology you want to learn, an online class you want to take, or...</span>,\n",
       " <span class=\"date\">5 days ago</span>,\n",
       " <span class=\"tt_set\" id=\"tt_set_5\"> - <span class=\"savelink2\" id=\"savelink2_bf50b284ea0450fd\"><a class=\"sl resultLink save-job-link\" href=\"#\" id=\"sj_bf50b284ea0450fd\" onclick=\"changeJobState('bf50b284ea0450fd', 'save', 'linkbar', false);return false;\" title=\"Save this job to my.indeed\">save job</a></span>  -  <a class=\"sl resultLink tellafriend-link \" href=\"mailto:?subject=I found this job on Indeed&amp;body=http://www.indeed.com\" onclick=\"toggleTellAFriend('bf50b284ea0450fd', 5, false); return false;\">email</a> - <a class=\"sl resultLink more-link \" href=\"#\" id=\"tog_5\" onclick=\"toggleMoreLinks('bf50b284ea0450fd'); return false;\">more...</a></span>,\n",
       " <span class=\"savelink2\" id=\"savelink2_bf50b284ea0450fd\"><a class=\"sl resultLink save-job-link\" href=\"#\" id=\"sj_bf50b284ea0450fd\" onclick=\"changeJobState('bf50b284ea0450fd', 'save', 'linkbar', false);return false;\" title=\"Save this job to my.indeed\">save job</a></span>,\n",
       " <span class=\"mat\">View all <a href=\"/q-Hipmunk-l-San-Francisco,-CA-jobs.html\" rel=\"nofollow\">Hipmunk jobs in San Francisco, CA</a> - <a href=\"/l-San-Francisco,-CA-jobs.html\">San Francisco jobs</a></span>,\n",
       " <span class=\"mat\">Salary Search: <a href=\"/salary?q1=Machine+Learning+Engineer&amp;l1=San+Francisco%2C+CA\">Machine Learning Engineer salaries in San Francisco, CA</a></span>,\n",
       " <span class=\"mat\">Related forums: <a href=\"/forum/cmp/Hipmunk.html\">Hipmunk</a> - <a href=\"/forum/loc/SAN-Francisco-California.html\">SAN Francisco, California</a></span>,\n",
       " <span class=\"company\" itemprop=\"hiringOrganization\" itemtype=\"http://schema.org/Organization\">\\n<span itemprop=\"name\">\\n    Ebates Inc.</span>\\n</span>,\n",
       " <span itemprop=\"name\">\\n    Ebates Inc.</span>,\n",
       " <span itemprop=\"jobLocation\" itemscope=\"\" itemtype=\"http://schema.org/Place\"><span class=\"location\" itemprop=\"address\" itemscope=\"\" itemtype=\"http://schema.org/Postaladdress\"><span itemprop=\"addressLocality\">San Francisco, CA 94107 <span style=\"font-size: smaller\">(South Of Market area)</span></span></span></span>,\n",
       " <span class=\"location\" itemprop=\"address\" itemscope=\"\" itemtype=\"http://schema.org/Postaladdress\"><span itemprop=\"addressLocality\">San Francisco, CA 94107 <span style=\"font-size: smaller\">(South Of Market area)</span></span></span>,\n",
       " <span itemprop=\"addressLocality\">San Francisco, CA 94107 <span style=\"font-size: smaller\">(South Of Market area)</span></span>,\n",
       " <span style=\"font-size: smaller\">(South Of Market area)</span>,\n",
       " <span class=\"summary\" itemprop=\"description\">\\nAre you a <b>data</b> <b>scientist</b> with expertise in statistics, machine learning, and model creation? Experience working as a <b>data</b> <b>scientist</b> for an ecommerce website....</span>,\n",
       " <span class=\"date\">2 days ago</span>,\n",
       " <span class=\"tt_set\" id=\"tt_set_6\"> - <span class=\"savelink2\" id=\"savelink2_b503d59ec91e5743\"><a class=\"sl resultLink save-job-link\" href=\"#\" id=\"sj_b503d59ec91e5743\" onclick=\"changeJobState('b503d59ec91e5743', 'save', 'linkbar', false);return false;\" title=\"Save this job to my.indeed\">save job</a></span>  -  <a class=\"sl resultLink tellafriend-link \" href=\"mailto:?subject=I found this job on Indeed&amp;body=http://www.indeed.com\" onclick=\"toggleTellAFriend('b503d59ec91e5743', 6, false); return false;\">email</a> - <a class=\"sl resultLink more-link \" href=\"#\" id=\"tog_6\" onclick=\"toggleMoreLinks('b503d59ec91e5743'); return false;\">more...</a></span>,\n",
       " <span class=\"savelink2\" id=\"savelink2_b503d59ec91e5743\"><a class=\"sl resultLink save-job-link\" href=\"#\" id=\"sj_b503d59ec91e5743\" onclick=\"changeJobState('b503d59ec91e5743', 'save', 'linkbar', false);return false;\" title=\"Save this job to my.indeed\">save job</a></span>,\n",
       " <span class=\"mat\">View all <a href=\"/jobs?q=Ebates+Inc&amp;l=San+Francisco,+CA&amp;nc=jasx\" rel=\"nofollow\">Ebates Inc. jobs in San Francisco, CA</a> - <a href=\"/l-San-Francisco,-CA-jobs.html\">San Francisco jobs</a></span>,\n",
       " <span class=\"mat\">Salary Search: <a href=\"/salary?q1=Data+Scientist+Acquisition+Marketing&amp;l1=San+Francisco%2C+CA\">Data Scientist Acquisition Marketing salaries in San Francisco, CA</a></span>,\n",
       " <span class=\"mat\">Learn more about working at <a href=\"/cmp/Ebates-Inc.?fromjk=b503d59ec91e5743&amp;from=serp-more&amp;campaignid=serp-more&amp;jcid=03186888823483bf\">Ebates Inc.</a></span>,\n",
       " <span class=\"mat\">Related forums: <a href=\"/forum/loc/SAN-Francisco-California.html\">SAN Francisco, California</a></span>,\n",
       " <span class=\"company\" itemprop=\"hiringOrganization\" itemtype=\"http://schema.org/Organization\">\\n<span itemprop=\"name\">\\n<a href=\"/cmp/Uber?from=SERP&amp;campaignid=serp-linkcompanyname&amp;fromjk=b9143830e5566923&amp;jcid=f766f8bfbc3effb7\" target=\"_blank\">\\n        Uber</a></span>\\n</span>,\n",
       " <span itemprop=\"name\">\\n<a href=\"/cmp/Uber?from=SERP&amp;campaignid=serp-linkcompanyname&amp;fromjk=b9143830e5566923&amp;jcid=f766f8bfbc3effb7\" target=\"_blank\">\\n        Uber</a></span>,\n",
       " <span class=\"ratings\" style=\"height: 11px; line-height: 11px; background-image: url(/images/cmp/star_2_sm@2x.png); background-size: 12px 22px;width: 60px;\"><span class=\"rating\" style=\"height: 11px; line-height: 11px; background-image: url(/images/cmp/star_2_sm@2x.png); background-size: 12px 22px;background-position: 0 11px; width: 51.6px;\"><!-- --></span></span>,\n",
       " <span class=\"rating\" style=\"height: 11px; line-height: 11px; background-image: url(/images/cmp/star_2_sm@2x.png); background-size: 12px 22px;background-position: 0 11px; width: 51.6px;\"><!-- --></span>,\n",
       " <span class=\"slNoUnderline\">173 reviews</span>,\n",
       " <span itemprop=\"jobLocation\" itemscope=\"\" itemtype=\"http://schema.org/Place\"><span class=\"location\" itemprop=\"address\" itemscope=\"\" itemtype=\"http://schema.org/Postaladdress\"><span itemprop=\"addressLocality\">San Francisco, CA 94103 <span style=\"font-size: smaller\">(South Of Market area)</span></span></span></span>,\n",
       " <span class=\"location\" itemprop=\"address\" itemscope=\"\" itemtype=\"http://schema.org/Postaladdress\"><span itemprop=\"addressLocality\">San Francisco, CA 94103 <span style=\"font-size: smaller\">(South Of Market area)</span></span></span>,\n",
       " <span itemprop=\"addressLocality\">San Francisco, CA 94103 <span style=\"font-size: smaller\">(South Of Market area)</span></span>,\n",
       " <span style=\"font-size: smaller\">(South Of Market area)</span>,\n",
       " <span class=\"summary\" itemprop=\"description\">\\nMachine Learning <b>Data</b> <b>Scientists</b> on the Global Intelligence team work closely with product, engineers, marketing and operation teams to tackle major growth...</span>,\n",
       " <span class=\"date\">2 days ago</span>,\n",
       " <span class=\"tt_set\" id=\"tt_set_7\"> - <span class=\"savelink2\" id=\"savelink2_b9143830e5566923\"><a class=\"sl resultLink save-job-link\" href=\"#\" id=\"sj_b9143830e5566923\" onclick=\"changeJobState('b9143830e5566923', 'save', 'linkbar', false);return false;\" title=\"Save this job to my.indeed\">save job</a></span>  -  <a class=\"sl resultLink tellafriend-link \" href=\"mailto:?subject=I found this job on Indeed&amp;body=http://www.indeed.com\" onclick=\"toggleTellAFriend('b9143830e5566923', 7, false); return false;\">email</a> - <a class=\"sl resultLink more-link \" href=\"#\" id=\"tog_7\" onclick=\"toggleMoreLinks('b9143830e5566923'); return false;\">more...</a></span>,\n",
       " <span class=\"savelink2\" id=\"savelink2_b9143830e5566923\"><a class=\"sl resultLink save-job-link\" href=\"#\" id=\"sj_b9143830e5566923\" onclick=\"changeJobState('b9143830e5566923', 'save', 'linkbar', false);return false;\" title=\"Save this job to my.indeed\">save job</a></span>,\n",
       " <span class=\"mat\">View all <a href=\"/q-Uber-l-San-Francisco,-CA-jobs.html\" rel=\"nofollow\">Uber jobs in San Francisco, CA</a> - <a href=\"/l-San-Francisco,-CA-jobs.html\">San Francisco jobs</a></span>,\n",
       " <span class=\"mat\">Salary Search: <a href=\"/salary?q1=Data+Scientist&amp;l1=San+Francisco%2C+CA\">Data Scientist salaries in San Francisco, CA</a></span>,\n",
       " <span class=\"mat\">Learn more about working at <a href=\"/cmp/Uber?fromjk=b9143830e5566923&amp;from=serp-more&amp;campaignid=serp-more&amp;jcid=f766f8bfbc3effb7\">Uber</a></span>,\n",
       " <span class=\"mat\">Related forums: <a href=\"/forum/cmp/Uber.html\">Uber</a> - <a href=\"/forum/loc/SAN-Francisco-California.html\">SAN Francisco, California</a></span>,\n",
       " <span class=\"company\" itemprop=\"hiringOrganization\" itemtype=\"http://schema.org/Organization\">\\n<span itemprop=\"name\">\\n<a href=\"/cmp/Uber?from=SERP&amp;campaignid=serp-linkcompanyname&amp;fromjk=c64e8e7bba8c51d1&amp;jcid=f766f8bfbc3effb7\" target=\"_blank\">\\n        Uber</a></span>\\n</span>,\n",
       " <span itemprop=\"name\">\\n<a href=\"/cmp/Uber?from=SERP&amp;campaignid=serp-linkcompanyname&amp;fromjk=c64e8e7bba8c51d1&amp;jcid=f766f8bfbc3effb7\" target=\"_blank\">\\n        Uber</a></span>,\n",
       " <span class=\"ratings\" style=\"height: 11px; line-height: 11px; background-image: url(/images/cmp/star_2_sm@2x.png); background-size: 12px 22px;width: 60px;\"><span class=\"rating\" style=\"height: 11px; line-height: 11px; background-image: url(/images/cmp/star_2_sm@2x.png); background-size: 12px 22px;background-position: 0 11px; width: 51.6px;\"><!-- --></span></span>,\n",
       " <span class=\"rating\" style=\"height: 11px; line-height: 11px; background-image: url(/images/cmp/star_2_sm@2x.png); background-size: 12px 22px;background-position: 0 11px; width: 51.6px;\"><!-- --></span>,\n",
       " <span class=\"slNoUnderline\">173 reviews</span>,\n",
       " <span itemprop=\"jobLocation\" itemscope=\"\" itemtype=\"http://schema.org/Place\"><span class=\"location\" itemprop=\"address\" itemscope=\"\" itemtype=\"http://schema.org/Postaladdress\"><span itemprop=\"addressLocality\">San Francisco, CA 94105 <span style=\"font-size: smaller\">(Financial District area)</span></span></span></span>,\n",
       " <span class=\"location\" itemprop=\"address\" itemscope=\"\" itemtype=\"http://schema.org/Postaladdress\"><span itemprop=\"addressLocality\">San Francisco, CA 94105 <span style=\"font-size: smaller\">(Financial District area)</span></span></span>,\n",
       " <span itemprop=\"addressLocality\">San Francisco, CA 94105 <span style=\"font-size: smaller\">(Financial District area)</span></span>,\n",
       " <span style=\"font-size: smaller\">(Financial District area)</span>,\n",
       " <span class=\"summary\" itemprop=\"description\">\\nWorking on a group of cross functional platform teams of <b>data</b> <b>scientists</b> and engineers who support Uber\\u2019s core businesses, including communications, customer...</span>,\n",
       " <span class=\"date\">3 days ago</span>,\n",
       " <span class=\"tt_set\" id=\"tt_set_8\"> - <span class=\"savelink2\" id=\"savelink2_c64e8e7bba8c51d1\"><a class=\"sl resultLink save-job-link\" href=\"#\" id=\"sj_c64e8e7bba8c51d1\" onclick=\"changeJobState('c64e8e7bba8c51d1', 'save', 'linkbar', false);return false;\" title=\"Save this job to my.indeed\">save job</a></span>  -  <a class=\"sl resultLink tellafriend-link \" href=\"mailto:?subject=I found this job on Indeed&amp;body=http://www.indeed.com\" onclick=\"toggleTellAFriend('c64e8e7bba8c51d1', 8, false); return false;\">email</a> - <a class=\"sl resultLink more-link \" href=\"#\" id=\"tog_8\" onclick=\"toggleMoreLinks('c64e8e7bba8c51d1'); return false;\">more...</a></span>,\n",
       " <span class=\"savelink2\" id=\"savelink2_c64e8e7bba8c51d1\"><a class=\"sl resultLink save-job-link\" href=\"#\" id=\"sj_c64e8e7bba8c51d1\" onclick=\"changeJobState('c64e8e7bba8c51d1', 'save', 'linkbar', false);return false;\" title=\"Save this job to my.indeed\">save job</a></span>,\n",
       " <span class=\"mat\">View all <a href=\"/q-Uber-l-San-Francisco,-CA-jobs.html\" rel=\"nofollow\">Uber jobs in San Francisco, CA</a> - <a href=\"/l-San-Francisco,-CA-jobs.html\">San Francisco jobs</a></span>,\n",
       " <span class=\"mat\">Salary Search: <a href=\"/salary?q1=Data+Scientist&amp;l1=San+Francisco%2C+CA\">Data Scientist salaries in San Francisco, CA</a></span>,\n",
       " <span class=\"mat\">Learn more about working at <a href=\"/cmp/Uber?fromjk=c64e8e7bba8c51d1&amp;from=serp-more&amp;campaignid=serp-more&amp;jcid=f766f8bfbc3effb7\">Uber</a></span>,\n",
       " <span class=\"mat\">Related forums: <a href=\"/forum/cmp/Uber.html\">Uber</a> - <a href=\"/forum/loc/SAN-Francisco-California.html\">SAN Francisco, California</a></span>,\n",
       " <span class=\"company\" itemprop=\"hiringOrganization\" itemtype=\"http://schema.org/Organization\">\\n<span itemprop=\"name\">\\n    thredUP</span>\\n</span>,\n",
       " <span itemprop=\"name\">\\n    thredUP</span>,\n",
       " <span itemprop=\"jobLocation\" itemscope=\"\" itemtype=\"http://schema.org/Place\"><span class=\"location\" itemprop=\"address\" itemscope=\"\" itemtype=\"http://schema.org/Postaladdress\"><span itemprop=\"addressLocality\">San Francisco, CA 94104 <span style=\"font-size: smaller\">(Financial District area)</span></span></span></span>,\n",
       " <span class=\"location\" itemprop=\"address\" itemscope=\"\" itemtype=\"http://schema.org/Postaladdress\"><span itemprop=\"addressLocality\">San Francisco, CA 94104 <span style=\"font-size: smaller\">(Financial District area)</span></span></span>,\n",
       " <span itemprop=\"addressLocality\">San Francisco, CA 94104 <span style=\"font-size: smaller\">(Financial District area)</span></span>,\n",
       " <span style=\"font-size: smaller\">(Financial District area)</span>,\n",
       " <span class=\"summary\" itemprop=\"description\">\\nBe the subject matter expert on big <b>data</b> technologies used to create and automate machine learning models. ThredUP\\u2019s <b>data</b> science team is looking for a <b>data</b>...</span>,\n",
       " <span class=\"iaLabel\"> Easily apply</span>,\n",
       " <span class=\"date\">10 days ago</span>,\n",
       " <span class=\"tt_set\" id=\"tt_set_9\"> - <span class=\"savelink2\" id=\"savelink2_a20e30ffe9055cba\"><a class=\"sl resultLink save-job-link\" href=\"#\" id=\"sj_a20e30ffe9055cba\" onclick=\"changeJobState('a20e30ffe9055cba', 'save', 'linkbar', false);return false;\" title=\"Save this job to my.indeed\">save job</a></span>  -  <a class=\"sl resultLink tellafriend-link \" href=\"mailto:?subject=I found this job on Indeed&amp;body=http://www.indeed.com\" onclick=\"toggleTellAFriend('a20e30ffe9055cba', 9, false); return false;\">email</a> - <a class=\"sl resultLink more-link \" href=\"#\" id=\"tog_9\" onclick=\"toggleMoreLinks('a20e30ffe9055cba'); return false;\">more...</a></span>,\n",
       " <span class=\"savelink2\" id=\"savelink2_a20e30ffe9055cba\"><a class=\"sl resultLink save-job-link\" href=\"#\" id=\"sj_a20e30ffe9055cba\" onclick=\"changeJobState('a20e30ffe9055cba', 'save', 'linkbar', false);return false;\" title=\"Save this job to my.indeed\">save job</a></span>,\n",
       " <span class=\"mat\">View all <a href=\"/q-Thredup-l-San-Francisco,-CA-jobs.html\" rel=\"nofollow\">thredUP jobs in San Francisco, CA</a> - <a href=\"/l-San-Francisco,-CA-jobs.html\">San Francisco jobs</a></span>,\n",
       " <span class=\"mat\">Salary Search: <a href=\"/salary?q1=Data+Scientist&amp;l1=San+Francisco%2C+CA\">Data Scientist salaries in San Francisco, CA</a></span>,\n",
       " <span class=\"mat\">Learn more about working at <a href=\"/cmp/Thredup?fromjk=a20e30ffe9055cba&amp;from=serp-more&amp;campaignid=serp-more&amp;jcid=f287b6189e174df5\">Thredup</a></span>,\n",
       " <span class=\"mat\">Related forums: <a href=\"/forum/loc/SAN-Francisco-California.html\">SAN Francisco, California</a> - <a href=\"/forum/cmp/Thredup.html\">thredUP</a></span>,\n",
       " <span class=\"company\">\\n    Alambic Investment Management, LP</span>,\n",
       " <span class=\"location\">San Francisco, CA</span>,\n",
       " <span class=\"summary\">Manipulating large financial datasets, primarily in SQL and R, although experience in other languages is helpful....</span>,\n",
       " <span class=\"iaLabel\"> Easily apply</span>,\n",
       " <span class=\"date\">30+ days ago</span>,\n",
       " <span class=\"tt_set\" id=\"tt_set_13\">  -  <a class=\"sl resultLink tellafriend-link \" href=\"mailto:?subject=I found this job on Indeed&amp;body=http://www.indeed.com\" onclick=\"toggleTellAFriend('c81f23776e5d892f', 13, true); return false;\">email</a></span>,\n",
       " <span class=\"sdn\">Sponsored</span>,\n",
       " <span class=\"company\">\\n<a class=\"turnstileLink\" data-tn-element=\"companyName\" href=\"/cmp/Uber?from=SERP&amp;campaignid=serp-linkcompanyname&amp;fromjk=96dbc8c759994a67&amp;jcid=f766f8bfbc3effb7\" target=\"_blank\">\\n        Uber</a></span>,\n",
       " <span class=\"ratings\" style=\"height: 11px; line-height: 11px; background-image: url(/images/cmp/star_2_sm@2x.png); background-size: 12px 22px;width: 60px;\"><span class=\"rating\" style=\"height: 11px; line-height: 11px; background-image: url(/images/cmp/star_2_sm@2x.png); background-size: 12px 22px;background-position: 0 11px; width: 51.6px;\"><!-- --></span></span>,\n",
       " <span class=\"rating\" style=\"height: 11px; line-height: 11px; background-image: url(/images/cmp/star_2_sm@2x.png); background-size: 12px 22px;background-position: 0 11px; width: 51.6px;\"><!-- --></span>,\n",
       " <span class=\"slNoUnderline\">173 reviews</span>,\n",
       " <span class=\"location\">San Francisco, CA</span>,\n",
       " <span class=\"summary\">Marketplace Optimization <b>Data</b> Science is Uber\\u2019s team of statisticians, economists, machine learning <b>scientists</b>, and operations researchers who develop and own...</span>,\n",
       " <span class=\"date\">20 days ago</span>,\n",
       " <span class=\"tt_set\" id=\"tt_set_14\">  -  <a class=\"sl resultLink tellafriend-link \" href=\"mailto:?subject=I found this job on Indeed&amp;body=http://www.indeed.com\" onclick=\"toggleTellAFriend('96dbc8c759994a67', 14, true); return false;\">email</a></span>,\n",
       " <span class=\"sdn\">Sponsored</span>,\n",
       " <span>\\nNever miss a job. Get new jobs emailed to you daily.</span>,\n",
       " <span class=\"jobalerts_title\" id=\"bjobalertlabel\"><span aria-label=\"alert icon\" class=\"ico\" role=\"img\"></span>Get email updates for the latest <b>data scientist jobs in San Francisco, CA</b></span>,\n",
       " <span aria-label=\"alert icon\" class=\"ico\" role=\"img\"></span>,\n",
       " <span id=\"bjobalerttext\"></span>,\n",
       " <span id=\"bjobalertsending\"></span>,\n",
       " <span class=\"indeed-apply-button\"><span class=\"indeed-apply-button-inner\"><input class=\"indeed-apply-button-label\" id=\"balertsubmit\" type=\"submit\" value=\"Activate\"/></span></span>,\n",
       " <span class=\"indeed-apply-button-inner\"><input class=\"indeed-apply-button-label\" id=\"balertsubmit\" type=\"submit\" value=\"Activate\"/></span>,\n",
       " <span>Also get an email with jobs recommended just for me</span>,\n",
       " <span class=\"caption\">\\nYou can cancel email alerts at any time.</span>,\n",
       " <span class=\"pn\">2</span>,\n",
       " <span class=\"pn\">3</span>,\n",
       " <span class=\"pn\">4</span>,\n",
       " <span class=\"pn\">5</span>,\n",
       " <span class=\"pn\"><span class=\"np\">Next\\xa0\\xbb</span></span>,\n",
       " <span class=\"np\">Next\\xa0\\xbb</span>,\n",
       " <span class=\"jobalerts_title\" id=\"tjobalertlabel\"><span aria-label=\"alert icon\" class=\"ico\" role=\"img\"></span>Get new jobs for this search by email</span>,\n",
       " <span aria-label=\"alert icon\" class=\"ico\" role=\"img\"></span>,\n",
       " <span id=\"tjobalerttext\"></span>,\n",
       " <span id=\"tjobalertsending\"></span>,\n",
       " <span>Also get an email with jobs recommended just for me</span>,\n",
       " <span class=\"indeed-apply-button\"><span class=\"indeed-apply-button-inner\"><input class=\"indeed-apply-button-label\" id=\"talertsubmit\" type=\"submit\" value=\"Activate\"/></span></span>,\n",
       " <span class=\"indeed-apply-button-inner\"><input class=\"indeed-apply-button-label\" id=\"talertsubmit\" type=\"submit\" value=\"Activate\"/></span>,\n",
       " <span class=\"caption\">\\nYou can cancel email alerts at any time.</span>,\n",
       " <span class=\"ico\" id=\"univsrch-salary-icon\"></span>,\n",
       " <span class=\"univsrch-salary-indicator-min\">$97,505</span>,\n",
       " <span class=\"univsrch-salary-indicator-max\">$196,983</span>,\n",
       " <span class=\"univsrch-salary-indicator-bar-left\"></span>,\n",
       " <span class=\"univsrch-salary-indicator-bar-line\"></span>,\n",
       " <span class=\"univsrch-salary-indicator-bar-dot\"></span>,\n",
       " <span class=\"univsrch-salary-indicator-bar-right\"></span>,\n",
       " <span class=\"univsrch-salary-indicator-label-common\">Common</span>,\n",
       " <span>\\xd7</span>,\n",
       " <span class=\"logo_center_helper\"></span>,\n",
       " <span class=\"logo_center_helper\"></span>,\n",
       " <span class=\"gaj_heading\">Indeed helps people get jobs:</span>]"
      ]
     },
     "execution_count": 3,
     "metadata": {},
     "output_type": "execute_result"
    }
   ],
   "source": [
    "b.find_all('span')"
   ]
  },
  {
   "cell_type": "code",
   "execution_count": 4,
   "metadata": {
    "collapsed": true
   },
   "outputs": [],
   "source": [
    "span_tag_list = []"
   ]
  },
  {
   "cell_type": "code",
   "execution_count": 14,
   "metadata": {
    "collapsed": false
   },
   "outputs": [
    {
     "name": "stdout",
     "output_type": "stream",
     "text": [
      "[<span class=\"summary\"><b>Data</b> <b>Scientist</b> \\u2013Telematics Are you interested in working at the intersection of applied machine learning, engineering development, and advanced <b>data</b> analysis?...</span>, <span class=\"summary\">Manipulating large financial datasets, primarily in SQL and R, although experience in other languages is helpful....</span>, <span class=\"summary\"><b>Data</b> <b>Scientist</b> \\u2013 Customer Experience Analytics. Perform analysis and <b>data</b> mining of Chegg\\u2019s structured and unstructured <b>data</b> platforms to uncover customer...</span>, <span class=\"summary\" itemprop=\"description\">\\nOur Consumer Marketing Analytics Center helps clients transform their marketing and sales by applying advanced analytics to generate value-creating insights...</span>, <span class=\"summary\" itemprop=\"description\">\\nGreat candidates thrive at the intersection of Software Engineering and <b>Data</b> Science and are motivated to help <b>Data</b> <b>Scientists</b>, Product Managers, and Software...</span>, <span class=\"summary\" itemprop=\"description\">\\nThe most commons will be SQL for <b>data</b> extraction, R for <b>data</b> analysis and a combination of R and Tableau for <b>data</b> visualization....</span>, <span class=\"summary\" itemprop=\"description\">\\nWe are looking for an experienced machine learning engineer to join us. Whether that be a new technology you want to learn, an online class you want to take, or...</span>, <span class=\"summary\" itemprop=\"description\">\\nProvide thought leadership and guidance to the other <b>data</b> <b>scientists</b> within the business intelligence team at Ebates Qualifications....</span>, <span class=\"summary\" itemprop=\"description\">\\nZephyr Health is a fast-growing technology company that is breaking new ground in Digital Health for the Life Sciences industry with innovative big <b>data</b>...</span>, <span class=\"summary\" itemprop=\"description\">\\nBe the subject matter expert on big <b>data</b> technologies used to create and automate machine learning models. ThredUP\\u2019s <b>data</b> science team is looking for a <b>data</b>...</span>, <span class=\"summary\" itemprop=\"description\">\\nWorking on a group of cross functional platform teams of <b>data</b> <b>scientists</b> and engineers who support Uber\\u2019s core businesses, including communications, customer...</span>, <span class=\"summary\" itemprop=\"description\">\\nStrong grasp of statistics and <b>data</b> mining techniques. As a LiveRamp <b>Data</b> <b>Scientist</b> you\\u2019ll analyze the complex connections in this half a trillion node graph...</span>, <span class=\"summary\" itemprop=\"description\">\\nWe're a nimble, sharp, and passionate team, and we're looking for <b>data</b> <b>scientists</b> who want to have impact on a real product used by real people and who have a...</span>, <span class=\"summary\">The goal of the <b>Data</b> <b>Scientist</b> will be to develop insights and create tools that enable Stanford Health Care (SHC) to improve patient outcomes and hospital...</span>, <span class=\"summary\">Requirements for all <b>data</b> <b>scientists</b>. Expert in Python and core libraries used by <b>data</b> <b>scientists</b> (Numpy, Scipy, Pandas, Scikit-learn, Matplotlib/Seaborn, etc.)...</span>]\n"
     ]
    }
   ],
   "source": [
    "span_tag = b.findAll('span', attrs={'class': 'summary'})\n",
    "print span_tag"
   ]
  },
  {
   "cell_type": "code",
   "execution_count": 13,
   "metadata": {
    "collapsed": false
   },
   "outputs": [
    {
     "ename": "AttributeError",
     "evalue": "'ResultSet' object has no attribute 'text'",
     "output_type": "error",
     "traceback": [
      "\u001b[0;31m---------------------------------------------------------------------------\u001b[0m",
      "\u001b[0;31mAttributeError\u001b[0m                            Traceback (most recent call last)",
      "\u001b[0;32m<ipython-input-13-62e0101d5b5d>\u001b[0m in \u001b[0;36m<module>\u001b[0;34m()\u001b[0m\n\u001b[0;32m----> 1\u001b[0;31m \u001b[0mquote\u001b[0m \u001b[0;34m=\u001b[0m \u001b[0mspan_tag\u001b[0m\u001b[0;34m.\u001b[0m\u001b[0mtext\u001b[0m\u001b[0;34m\u001b[0m\u001b[0m\n\u001b[0m\u001b[1;32m      2\u001b[0m \u001b[0;32mprint\u001b[0m \u001b[0mquote\u001b[0m\u001b[0;34m\u001b[0m\u001b[0m\n",
      "\u001b[0;31mAttributeError\u001b[0m: 'ResultSet' object has no attribute 'text'"
     ]
    }
   ],
   "source": [
    "quote = span_tag.text\n",
    "print quote"
   ]
  },
  {
   "cell_type": "code",
   "execution_count": null,
   "metadata": {
    "collapsed": true
   },
   "outputs": [],
   "source": [
    "#### UFO ######\n",
    "\n",
    "# SCRAPE ALL SIGHTINGS in 2016\n",
    "# Plan of action\n",
    "# 1. Figure out the pattern to get a certain year and month from nuforc\n",
    "# 2. Scrape each sightings\n",
    "# 3. Make a dataframe out of it\n",
    "# 4. make a day column\n",
    "# 5. graph each day in 2016 and see which day had the most! (Is it July 4th?)"
   ]
  },
  {
   "cell_type": "code",
   "execution_count": null,
   "metadata": {
    "collapsed": true
   },
   "outputs": [],
   "source": [
    "##### TWITTER ######\n",
    "\n",
    "# Create a dataframe where each row is a tweet that uses any tag (or tags) you choose!\n",
    "# include a column for date, text, user handle, user name, and user image\n",
    "# You can use the normal query method and not stream for this!"
   ]
  }
 ],
 "metadata": {
  "anaconda-cloud": {},
  "kernelspec": {
   "display_name": "Python [datascience]",
   "language": "python",
   "name": "Python [datascience]"
  },
  "language_info": {
   "codemirror_mode": {
    "name": "ipython",
    "version": 2
   },
   "file_extension": ".py",
   "mimetype": "text/x-python",
   "name": "python",
   "nbconvert_exporter": "python",
   "pygments_lexer": "ipython2",
   "version": "2.7.12"
  }
 },
 "nbformat": 4,
 "nbformat_minor": 0
}
