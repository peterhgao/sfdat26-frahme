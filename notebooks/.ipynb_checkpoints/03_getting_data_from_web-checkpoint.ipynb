{
 "cells": [
  {
   "cell_type": "code",
   "execution_count": 1,
   "metadata": {
    "collapsed": false
   },
   "outputs": [],
   "source": [
    "import requests     # how python goes onto the internet!  Only does static content\n",
    "import re           # regex\n",
    "from bs4 import BeautifulSoup # a python HTML parser (version 3)"
   ]
  },
  {
   "cell_type": "code",
   "execution_count": null,
   "metadata": {
    "collapsed": true
   },
   "outputs": [],
   "source": []
  },
  {
   "cell_type": "code",
   "execution_count": 2,
   "metadata": {
    "collapsed": true
   },
   "outputs": [],
   "source": [
    "# let's turn to stock prices\n",
    "# http://finance.google.com/finance?q=aapl"
   ]
  },
  {
   "cell_type": "code",
   "execution_count": 3,
   "metadata": {
    "collapsed": true
   },
   "outputs": [],
   "source": [
    "symbol = 'aapl'"
   ]
  },
  {
   "cell_type": "code",
   "execution_count": 4,
   "metadata": {
    "collapsed": false
   },
   "outputs": [],
   "source": [
    "# Let's grab the raw html from the page\n",
    "r = requests.get('http://finance.google.com/finance?q='+symbol) # the url of the google finance page goes in here"
   ]
  },
  {
   "cell_type": "code",
   "execution_count": 5,
   "metadata": {
    "collapsed": false
   },
   "outputs": [],
   "source": [
    "#b = BeautifulSoup(r.text, \"html5lib\") # create a beautifulsoup object\n",
    "b = BeautifulSoup(r.text, 'html.parser') # try this line instead if you have problems"
   ]
  },
  {
   "cell_type": "code",
   "execution_count": 6,
   "metadata": {
    "collapsed": false
   },
   "outputs": [
    {
     "data": {
      "text/plain": [
       "u'<!DOCTYPE html>\\n<html>\\n <head>\\n  <script>\\n   (function(){(function(){function e(a){this.t={};this.tick=function(a,c,b){var d=void 0!=b?b:(new Date).getTime();this.t[a]=[d,c];if(void 0==b)try{window.console.timeStamp(\"CSI/\"+a)}catch(e){}};this.tick(\"start\",null,a)}var a,d;window.performance&&(d=(a=window.performance.timing)&&a.responseStart);var f=0<d?new e(d):new e;window.jstiming={Timer:e,load:f};if(a){var c=a.navigationStart;0<c&&d>=c&&(window.jstiming.srt=d-c)}if(a){var b=window.jstiming.load;0<c&&d>=c&&(b.tick(\"_wtsrt\",void 0,c),b.tick(\"wtsrt_\",\"_wtsrt\",\\nd),b.tick(\"tbsd_\",\"wtsrt_\"))}try{a=null,window.chrome&&window.chrome.csi&&(a=Math.floor(window.chrome.csi().pageT),b&&0<c&&(b.tick(\"_tbnd\",void 0,window.chrome.csi().startE),b.tick(\"tbnd_\",\"_tbnd\",c))),null==a&&window.gtbExternal&&(a=window.gtbExternal.pageT()),null==a&&window.external&&(a=window.external.pageT,b&&0<c&&(b.tick(\"_tbnd\",void 0,window.external.startE),b.tick(\"tbnd_\",\"_tbnd\",c))),a&&(window.jstiming.pt=a)}catch(g){}})();})();\\n  </script>\\n  <title>\\n   Apple Inc.: NASDAQ:AAPL quotes &amp; news - Google Finance\\n  </title>\\n  <meta content=\"Get detailed financial information on Apple Inc. (NASDAQ:AAPL) including real-time stock quotes, historical charts &amp; financial news, all for free!\" name=\"Description\">\\n   <meta content=\"IE=10\" http-equiv=\"X-UA-Compatible\">\\n    <link href=\"http://www.google.com/finance?cid=22144\" rel=\"canonical\">\\n     <link href=\"/finance/f/finance_us-1489929081.css\" rel=\"stylesheet\" type=\"text/css\">\\n      <link href=\"/_/scs/finance-static/_/ss/k=finance.a.-1ad9g7dkeydo6.L.W.O/d=0/rs=AGHGApFc6f3qtgX-rKpnovDqtgcuZ4H2Ng\" rel=\"stylesheet\" type=\"text/css\">\\n       <link href=\"/finance/favicon.ico\" rel=\"icon\" type=\"image/vnd.microsoft.icon\">\\n        <style>\\n         #gbar,#guser{font-size:13px;padding-right:8px;padding-top:4px !important;}#gbar{padding-left:8px;height:22px}#guser{padding-bottom:7px !important;text-align:right}.gbh,.gbd{border-top:1px solid #c9d7f1;font-size:1px}.gbh{height:0;position:absolute;top:24px;width:100%}@media all{.gb1{height:22px;margin-right:.5em;vertical-align:top}#gbar{float:left}}a.gb1,a.gb4{text-decoration:underline !important}a.gb1,a.gb4{color:#00c !important}.gbi .gb4{color:#dd8e27 !important}.gbf .gb4{color:#900 !important}\\n        </style>\\n        <script>\\n        </script>\\n        <script>\\n         function _rpt() {}\\n      function _tck() {}\\n        </script>\\n        <script>\\n         (function(i,s,o,g,r,a,m){i[\\'GoogleAnalyticsObject\\']=r;i[r]=i[r]||function(){\\n    (i[r].q=i[r].q||[]).push(arguments)},i[r].l=1*new Date();a=s.createElement(o),\\n    m=s.getElementsByTagName(o)[0];a.async=1;a.src=g;m.parentNode.insertBefore(a,m)\\n    })(window,document,\\'script\\',\\'//www.google-analytics.com/analytics.js\\',\\'ga\\');\\n\\n    ga(\\'create\\', \\'UA-40765809-1\\', {\\n      \\'allowLinker\\': true,\\n      \\'cookiePath\\': \\'/finance\\'\\n    });\\n    ga(\\'send\\', \\'pageview\\');\\n        </script>\\n       </link>\\n      </link>\\n     </link>\\n    </link>\\n   </meta>\\n  </meta>\\n </head>\\n <body>\\n  <div class=\"fjfe-bodywrapper\">\\n   <div class=\"g-doc\" id=\"fjfe-real-body\">\\n    <input id=\"hist_state\" name=\"hist_state\" style=\"display:none;\" type=\"text\">\\n     <iframe class=\"invfr\" id=\"hist_frame\" name=\"hist_frame\" tabindex=\"-1\">\\n     </iframe>\\n     <iframe class=\"invfr\" src=\"/_/scs/finance-static/_/js/k=finance.a.en_US.0md5hz5pgeA.O/m=b/rt=h/d=0/rs=AGHGApHi_3j1v_Z6n816dUrW-04N4o1Vbg\" tabindex=\"-1\">\\n     </iframe>\\n     <div id=\"gbar\">\\n      <nobr>\\n       <a class=\"gb1\" href=\"https://www.google.com/webhp?tab=ew\">\\n        Search\\n       </a>\\n       <a class=\"gb1\" href=\"http://www.google.com/imghp?hl=en&amp;tab=ei\">\\n        Images\\n       </a>\\n       <a class=\"gb1\" href=\"http://maps.google.com/maps?hl=en&amp;tab=el\">\\n        Maps\\n       </a>\\n       <a class=\"gb1\" href=\"https://play.google.com/?hl=en&amp;tab=e8\">\\n        Play\\n       </a>\\n       <a class=\"gb1\" href=\"http://www.youtube.com/?tab=e1\">\\n        YouTube\\n       </a>\\n       <a class=\"gb1\" href=\"http://news.google.com/nwshp?hl=en&amp;tab=en\">\\n        News\\n       </a>\\n       <a class=\"gb1\" href=\"https://mail.google.com/mail/?tab=em\">\\n        Gmail\\n       </a>\\n       <a class=\"gb1\" href=\"https://drive.google.com/?tab=eo\">\\n        Drive\\n       </a>\\n       <a class=\"gb1\" href=\"https://www.google.com/intl/en/options/\" style=\"text-decoration:none\">\\n        <u>\\n         More\\n        </u>\\n        \\xbb\\n       </a>\\n      </nobr>\\n     </div>\\n     <div id=\"guser\" width=\"100%\">\\n      <nobr>\\n       <span class=\"gbi\" id=\"gbn\">\\n       </span>\\n       <span class=\"gbf\" id=\"gbf\">\\n       </span>\\n       <span id=\"gbe\">\\n       </span>\\n       <a class=\"gb4\" href=\"http://www.google.com/support/finance?hl=en\">\\n        Help\\n       </a>\\n       |\\n       <a class=\"gb4\" href=\"https://accounts.google.com/ServiceLogin?service=finance&amp;passive=1209600&amp;continue=http://www.google.com/finance?q%3Daapl&amp;followup=http://www.google.com/finance?q%3Daapl\" id=\"gb_70\" target=\"_top\">\\n        Sign in\\n       </a>\\n      </nobr>\\n     </div>\\n     <div class=\"gbh\" style=\"left:0\">\\n     </div>\\n     <div class=\"gbh\" style=\"right:0\">\\n     </div>\\n     <div id=\"fjfe-click-wrapper\">\\n      <script>\\n       (function() {\\n  var l = window.location;\\n  var q = l.search ? l.search.substr(1) : \\'\\';\\n  var h = l.hash ? l.hash.substr(1) : \\'\\';\\n  var p = \\'/finance\\';\\n  var ss = \\'stockscreener\\';\\n  var conn = window.history && window.history.pushState ? \\'/\\' : \\'#\\';\\n  if (l.pathname == p + \\'/\\' + ss) {\\n    if (h) l.href = p + conn + ss + \\'?\\' + q + \\'&\\' + h;\\n  } else if (l.pathname != p && h) {\\n    l.href = p + l.hash;\\n  }\\n  if (h) {\\ndocument.getElementById(\\'fjfe-click-wrapper\\').style.display = \\'none\\';\\n  }\\n})();\\n      </script>\\n      <div class=\"g-section g-tpl-75-25 g-split\" id=\"gf-head\">\\n       <div class=\"g-unit g-first\">\\n        <div class=\"fjfe-logo\">\\n         <a href=\"/finance/?ei=PFi3V_HOH4edigLShKXACQ\">\\n          <img alt=\"Google Finance\" src=\"/finance/f/logo_material-4224265490.png\"/>\\n         </a>\\n        </div>\\n        <div class=\"fjfe-search\" id=\"gf-search\">\\n         <form action=\"/finance\" autocomplete=\"off\" method=\"get\">\\n          <input class=\"fjfe-searchbox-input\" name=\"q\" tabindex=\"1\" type=\"text\" value=\"NASDAQ:AAPL\"/>\\n          <span class=\"fjfe-searchbox-button-wrapper\">\\n           <span class=\"fjfe-searchbox-button-wrapper2\">\\n            <input class=\"fjfe-searchbox-button\" tabindex=\"2\" type=\"submit\" value=\"Get quotes\"/>\\n           </span>\\n          </span>\\n          <input name=\"ei\" type=\"hidden\" value=\"PFi3V_HOH4edigLShKXACQ\"/>\\n         </form>\\n        </div>\\n       </div>\\n       <div class=\"g-unit fjfe-promo\">\\n        <div class=\"id-ad2-target\" id=\"ad2-target\">\\n        </div>\\n       </div>\\n      </div>\\n      <div class=\"elastic\">\\n       <div class=\"g-section g-tpl-left-11p4em\" id=\"app\">\\n        <div class=\"g-unit g-first\">\\n         <div id=\"gf-nav\">\\n          <div class=\"fjfe-nav-nav\">\\n           <ul class=\"fjfe-nav\" id=\"navmenu\">\\n            <li class=\"fjfe-nav-expanded fjfe-nav-selected\">\\n             Company\\n             <li class=\"fjfe-nav-sub\">\\n              <div>\\n               Summary\\n              </div>\\n              <li class=\"fjfe-nav-sub\">\\n               <a href=\"/finance/company_news?q=NASDAQ:AAPL&amp;ei=PFi3V_HOH4edigLShKXACQ\">\\n                News\\n               </a>\\n               <li class=\"fjfe-nav-sub\">\\n                <a href=\"/finance/option_chain?q=NASDAQ:AAPL&amp;ei=PFi3V_HOH4edigLShKXACQ\">\\n                 Option chain\\n                </a>\\n                <li class=\"fjfe-nav-sub\">\\n                 <a href=\"/finance/related?q=NASDAQ:AAPL&amp;ei=PFi3V_HOH4edigLShKXACQ\">\\n                  Related companies\\n                 </a>\\n                 <li class=\"fjfe-nav-sub\">\\n                  <a href=\"/finance/historical?q=NASDAQ:AAPL&amp;ei=PFi3V_HOH4edigLShKXACQ\">\\n                   Historical prices\\n                  </a>\\n                  <li class=\"fjfe-nav-sub\">\\n                   <a href=\"/finance?q=NASDAQ:AAPL&amp;fstype=ii&amp;ei=PFi3V_HOH4edigLShKXACQ\">\\n                    Financials\\n                   </a>\\n                   <li class=\"fjfe-nav-item\">\\n                    <a href=\"/finance?ei=PFi3V_HOH4edigLShKXACQ\">\\n                     <div>\\n                      Markets\\n                     </div>\\n                    </a>\\n                    <li class=\"fjfe-nav-item\">\\n                     <a href=\"/finance/market_news?ei=PFi3V_HOH4edigLShKXACQ\">\\n                      <div>\\n                       News\\n                      </div>\\n                     </a>\\n                     <li class=\"fjfe-nav-item\">\\n                      <a href=\"/finance/portfolio?action=view&amp;ei=PFi3V_HOH4edigLShKXACQ\">\\n                       <div>\\n                        Portfolios\\n                       </div>\\n                      </a>\\n                      <li class=\"fjfe-nav-item\">\\n                       <a href=\"/finance/stockscreener?ei=PFi3V_HOH4edigLShKXACQ\">\\n                        <div>\\n                         Stock screener\\n                        </div>\\n                       </a>\\n                       <li class=\"fjfe-nav-item\">\\n                        <a href=\"/finance/domestic_trends?ei=PFi3V_HOH4edigLShKXACQ\">\\n                         <div>\\n                          Google Domestic Trends\\n                         </div>\\n                        </a>\\n                       </li>\\n                      </li>\\n                     </li>\\n                    </li>\\n                   </li>\\n                  </li>\\n                 </li>\\n                </li>\\n               </li>\\n              </li>\\n             </li>\\n            </li>\\n           </ul>\\n          </div>\\n          <div class=\"fjfe-recentquotes fjfe-recentquotes-noquote\">\\n           <h4>\\n            Recent Quotes\\n            <span class=\"fjfe-recentquotes-duration\">\\n             (\\n             <a href=\"//www.google.com/history/optout?hl=en\">\\n              30 days\\n             </a>\\n             )\\n            </span>\\n           </h4>\\n           <div class=\"fjfe-recentquotes-noquote-notification\">\\n            You have no recent quotes\\n           </div>\\n           <div class=\"fjfe-recentquotes-quotes\">\\n            <div class=\"fjfe-toggle fjfe-toggle-button\">\\n             <span class=\"fjfe-chg-toggle\">\\n              chg\\n             </span>\\n             |\\n             <span class=\"fjfe-perc-toggle\">\\n              %\\n             </span>\\n            </div>\\n            <div class=\"fjfe-table-div\">\\n             <table class=\"fjfe-recentquotes-table\" id=\"rq\" width=\"100%\">\\n             </table>\\n            </div>\\n           </div>\\n          </div>\\n         </div>\\n         <script>\\n          var _cleardot = \\'data:image\\\\/gif;base64,R0lGODlhAQABAIAAAP\\\\/\\\\/\\\\/\\\\/\\\\/\\\\/\\\\/yH5BAEKAAEALAAAAAABAAEAAAICTAEAOw\\\\x3d\\\\x3d\\';\\n    var google = google || {};\\n    google.finance = google.finance || {};\\n    google.finance.gce = false ;\\n         </script>\\n         <script src=\"/finance/f/sfe-opt-3379333646.js\">\\n         </script>\\n         <script>\\n          _regOnLoad = function(f) {\\n        if (document.readyState == \\'complete\\') {\\n          f && f();\\n        } else {\\n          // Window.attachEvent() for IE8 and below compatability.\\n          var addEventFunction = window.attachEvent ||\\n              window.addEventListener || function(ignored, f) { f(); };\\n          var event = window.attachEvent ? \\'onload\\' : \\'load\\';\\n          f && addEventFunction(event, f);\\n        }\\n      };\\n    \\n      google.finance.renderRecentQuotes = function() {};\\n         </script>\\n        </div>\\n        <div class=\"g-unit\" id=\"gf-viewc\">\\n         <div class=\"fjfe-content\">\\n          <script>\\n           (function() {\\nif (window[\\'_finance_chart\\']) {\\nvar el = document.getElementById(\\'chart_anchor\\');\\nif (el) {\\nel.innerHTML = \\'\\';\\n}\\nsetFinanceChart(null);\\n}\\n})();\\nvar _ticker = \\'NASDAQ:AAPL\\';\\nvar _slHeight = 221;\\nvar _companyName = \\'Apple Inc.\\';\\nvar _companyPageNewsTab = \\'0\\';\\nvar _displayVolume = true;\\nsetCompanyId(22144);\\n_s_Store._numToDisplay = 6;\\n_comparison_charts_Store._numToDisplay = 8;\\n_comparison_charts_Store._allowMultiTimezoneCompare = true;\\nfunction onCompanyLoad() {\\n_external_target = \"\";\\n_emitFlashChartOnLoad(\\n\"/finance/s/n-VxNKK74DU/chart9.swf?hl=en&gl=us\",\\n_ticker, \"chart_anchor\", \"market-data-div\",\\n_chartConfigObject);\\ngoogle.finance.onCompanyLoad();\\n_initAutoFocus();\\nif (google.finance.initTechnicals) {\\ngoogle.finance.initTechnicals(true);\\n}\\n}\\n          </script>\\n          <div class=\"g-wrap\">\\n           <div class=\"g-section sfe-break-bottom-8\">\\n            <div class=\"g-tpl-67-33 g-split hdg top appbar-hide\" id=\"companyheader\">\\n             <div class=\"g-unit g-first\">\\n              <h3>\\n               Apple Inc.\\n              </h3>\\n              (Public, NASDAQ:AAPL)\\n              <a class=\"norm\" href=\"/finance/portfolio?action=add&amp;addticker=NASDAQ%3AAAPL&amp;ei=PFi3V_HOH4edigLShKXACQ\">\\n               Watch this stock\\n              </a>\\n             </div>\\n             <div class=\"g-unit norm\">\\n              Find more results for\\n              <b>\\n               <a href=\"?noIL=1&amp;q=aapl&amp;ei=PFi3V_HOH4edigLShKXACQ\" id=\"searchmore\">\\n                aapl\\n               </a>\\n              </b>\\n             </div>\\n            </div>\\n           </div>\\n           <script>\\n            _ac_register(function (input, event) {\\nif (input.id == \\'add_comparison_symbol\\') {\\n_comparison_charts_Store.baseTicker = \"NASDAQ:AAPL\";\\nreturn _comparison_charts_Store;\\n}\\n});\\nvar _prefs=_prefs||{};_prefs.hash=\"\";\\n_prefs.feeds=_prefs.feeds||{};\\n_prefs.ch=_prefs.ch||{};\\n_prefs.ch_compare=_prefs.ch_compare||{};\\nvar _chartConfigObject;\\nvar _cleardot;\\nvar _companyName;\\nvar _eventid = \\'PFi3V_HOH4edigLShKXACQ\\';\\nvar _expid;\\nvar _external_target;\\nvar _localDomain = \\'www.google.com\\';\\nvar _minZoomDays;\\nvar _minZoomDaysNoIntraDay;\\nvar _prefs;\\nvar _ticker;\\nvar _urlSuffix;\\nvar google = google || {};\\ngoogle.finance = google.finance || {};\\ngoogle.finance.data = {common:{rq:{ct:\"\"},up:\"chg\",down:\"chr\",linktargetInternal:\"\",hash:\"\",dfp:\"ad-g.doubleclick.net/adi/com.gf.company/technology;fe=nasdaq;ft=aapl;fm=large;dcopt=ist;myd=ad;sz=300x250;tile=1\",streaming:[{cid:\"22144\",s:\"AAPL\",e:\"NASDAQ\"},{cid:\"658723\",s:\"SNDK\",e:\"NASDAQ\"},{cid:\"358464\",s:\"MSFT\",e:\"NASDAQ\"},{cid:\"180086490123759\",s:\"SSNNF\",e:\"OTCMKTS\"},{cid:\"664887\",s:\"VZ\",e:\"NYSE\"},{cid:\"17154\",s:\"HPQ\",e:\"NYSE\"},{cid:\"18241\",s:\"IBM\",e:\"NYSE\"},{cid:\"7583206\",s:\"HTCKF\",e:\"OTCMKTS\"},{cid:\"33095\",s:\"SNE\",e:\"NYSE\"},{cid:\"694653\",s:\"GOOGL\",e:\"NASDAQ\"},{cid:\"38688\",s:\"WDC\",e:\"NASDAQ\"}],dfp_companion:\"ad-g.doubleclick.net/adi/com.gf.company/technology;fe=nasdaq;ft=aapl;fm=large;dcopt=ist;myd=ad2;sz=33x33;tile=2\"},company:{news:{clusters:[{nrel:100,idx:0,id:\"52779181321869\",lead_story_url:\"http://business.financialpost.com/fp-tech-desk/apple-incs-upcoming-macbook-pros-could-provide-revenue-boost\",a:[{t:\"Apple Inc\\\\u0026#39;s upcoming Macbook Pros could provide revenue boost\",u:\"http://business.financialpost.com/fp-tech-desk/apple-incs-upcoming-macbook-pros-could-provide-revenue-boost\",s:\"Financial Post\",sp:\"Investors are keying in on the upcoming launch of Apple Inc.\\\\u0026#39;s new iPhone 7, but a potential refresh of the Macbook Pro shouldn\\\\u0026#39;t be overlooked.\",d:\"5 hours ago\",tt:\"1471612725\",usg:\"AFQjCNHIQ6XCV2nsfd0ScbQnIrsUiUE7sg\",sru:\"http://news.google.com/news/url?sa=T\\\\u0026ct2=us\\\\u0026fd=S\\\\u0026url=http://business.financialpost.com/fp-tech-desk/apple-incs-upcoming-macbook-pros-could-provide-revenue-boost\\\\u0026cid=52779181321869\\\\u0026ei=B1i3V5ueHaW8igK92oaQCg\\\\u0026usg=AFQjCNGZRNJ44VuMFBU7aAd4Q1sy_2PDvA\"},{t:\"Apple Inc. (NASDAQ:AAPL) MacBook Pro To Get First Major Overhaul In Four Years\",u:\"http://www.thecountrycaller.com/80479-apple-inc-aapl-macbook-pro-to-get-first-major-overhaul-in-four-years/\",s:\"TCC\",sp:\"Apple Inc. (NASDAQ:AAPL) first updated the company\\\\u0026#39;s MacBook Pro lineup over four years ago and now, reports indicate that the Cupertino-based giant plans to bring major changes to its upcoming laptop.\",d:\"Aug 16, 2016\",tt:\"1471363612\",usg:\"AFQjCNFFO9Bma3-hOn8OieMN9CXOCLw-Yg\",sru:\"http://news.google.com/news/url?sa=T\\\\u0026ct2=us\\\\u0026fd=S\\\\u0026url=http://www.thecountrycaller.com/80479-apple-inc-aapl-macbook-pro-to-get-first-major-overhaul-in-four-years/\\\\u0026cid=52779181321869\\\\u0026ei=B1i3V5ueHaW8igK92oaQCg\\\\u0026usg=AFQjCNG2MiWoceC97Prs7McU3dzz4IMi4Q\"}],lead_story_doc_id:\"1074453106774934091\"},{nrel:3,idx:1,id:\"52779183153399\",lead_story_url:\"http://money.usnews.com/investing/articles/2016-08-15/apple-inc-aapl-stock-dividend-could-double\",a:[{t:\"Why Apple Inc. (AAPL) Needs to Double Its Dividend\",u:\"http://money.usnews.com/investing/articles/2016-08-15/apple-inc-aapl-stock-dividend-could-double\",s:\"U.S. News \\\\u0026 World Report\",sp:\"Apple\\\\u0026#39;s payout ratio is just 26.6 percent - a pittance in relative terms. While the absolute numbers astound, analyzing dividend stocks is all about relative comparisons.\",d:\"Aug 16, 2016\",tt:\"1471356225\",usg:\"AFQjCNF9u3bFcEJ1ekYhYCjQjEY6a0YQQw\",sru:\"http://news.google.com/news/url?sa=T\\\\u0026ct2=us\\\\u0026fd=S\\\\u0026url=http://money.usnews.com/investing/articles/2016-08-15/apple-inc-aapl-stock-dividend-could-double\\\\u0026cid=52779183153399\\\\u0026ei=B1i3V5ueHaW8igK92oaQCg\\\\u0026usg=AFQjCNFkDJaXbxIyRI2fwxawyAPY6ePNSQ\"}],lead_story_doc_id:\"7011717292850465037\"},{nrel:153,idx:2,id:\"52779184138017\",lead_story_url:\"http://investorplace.com/2016/08/apple-inc-aapl-iphone-7-pro-2016/\",a:[{t:\"Apple Inc. (AAPL) Will Skip iPhone 7 Pro in 2016\",u:\"http://investorplace.com/2016/08/apple-inc-aapl-iphone-7-pro-2016/\",s:\"Investorplace.com\",sp:\"One of the more intriguing rumors about Apple Inc.\\\\u0026#39;s (AAPL) coming iPhone 7 launch was the iPhone 7 Pro, but it now appears to be dead.\",d:\"Aug 18, 2016\",tt:\"1471519575\",usg:\"AFQjCNENFzsgZpI3iL_UTeW9nc-_kRpNYQ\",sru:\"http://news.google.com/news/url?sa=T\\\\u0026ct2=us\\\\u0026fd=S\\\\u0026url=http://investorplace.com/2016/08/apple-inc-aapl-iphone-7-pro-2016/\\\\u0026cid=52779184138017\\\\u0026ei=B1i3V5ueHaW8igK92oaQCg\\\\u0026usg=AFQjCNEsXI8bLl9Pdn3X3oV-2LI9AsLnYw\"},{t:\"Warren Buffett and 4 Hedge Funds Show Apple Inc. (AAPL) Some Love\",u:\"http://learnbonds.com/130744/warren-buffetts-hedge-funds-apple/\",s:\"LearnBonds\",sp:\"Warren Buffett\\\\u0026#39;s Berkshire Hathaway, Citadel Investment Group, Fisher Asset Management, Adage Capital Management, and Greenlight Capital are betting big on Apple Inc. (NASDAQ:AAPL), which will introduce the iPhone 7 in just a few weeks. Mr. Buffett\\\\u0026nbsp;...\",d:\"5 hours ago\",tt:\"1471612050\",usg:\"AFQjCNHc_eciA2oekylkN7yXMqvCfhbqyg\",sru:\"http://news.google.com/news/url?sa=T\\\\u0026ct2=us\\\\u0026fd=S\\\\u0026url=http://learnbonds.com/130744/warren-buffetts-hedge-funds-apple/\\\\u0026cid=52779184138017\\\\u0026ei=B1i3V5ueHaW8igK92oaQCg\\\\u0026usg=AFQjCNHVSjLe9XkuQOfV9pKymlMUCLQp1A\"},{t:\"Piper Jaffray Pounds the Table on Apple Inc. (AAPL)\",u:\"https://www.smarteranalyst.com/2016/08/18/piper-jaffray-pounds-table-apple-inc-aapl/\",s:\"Smarter Analyst\",sp:\"Piper Jaffray analyst Gene Munster was out pounding the table on Apple Inc. (NASDAQ:AAPL), reiterating an Overweight rating and price target of $151, which represents a potential upside of 38% from where the stock is currently trading.\",d:\"15 hours ago\",tt:\"1471577625\",usg:\"AFQjCNF6ZD9UMypOisHfbKzGvIsTl3Pd7A\",sru:\"http://news.google.com/news/url?sa=T\\\\u0026ct2=us\\\\u0026fd=S\\\\u0026url=https://www.smarteranalyst.com/2016/08/18/piper-jaffray-pounds-table-apple-inc-aapl/\\\\u0026cid=52779184138017\\\\u0026ei=B1i3V5ueHaW8igK92oaQCg\\\\u0026usg=AFQjCNE7rwEJ6T9abwA2xbYPzen7PSaI9Q\"}],lead_story_doc_id:\"16687073679815595531\"},{nrel:124,idx:3,id:\"52779184349704\",lead_story_url:\"http://investorplace.com/2016/08/fridays-vital-data-apple-inc-aapl-valeant-pharmaceuticals-intl-inc-vrx-twitter-inc-twtr/\",a:[{t:\"Friday\\\\u0026#39;s Vital Data: Apple Inc. (AAPL), Valeant Pharmaceuticals Intl Inc (VRX ...\",u:\"http://investorplace.com/2016/08/fridays-vital-data-apple-inc-aapl-valeant-pharmaceuticals-intl-inc-vrx-twitter-inc-twtr/\",s:\"Investorplace.com\",sp:\"Specifically, Apple Inc. (NASDAQ:AAPL) was reiterated with an &#8220;overweight&#8221; rating at Piper Jaffray amid a flurry of bullish commentary.\",d:\"6 hours ago\",tt:\"1471610700\",usg:\"AFQjCNHBTSSMZF9OqIX-3VXbzyyNvBpS7g\",sru:\"http://news.google.com/news/url?sa=T\\\\u0026ct2=us\\\\u0026fd=S\\\\u0026url=http://investorplace.com/2016/08/fridays-vital-data-apple-inc-aapl-valeant-pharmaceuticals-intl-inc-vrx-twitter-inc-twtr/\\\\u0026cid=52779184349704\\\\u0026ei=B1i3V5ueHaW8igK92oaQCg\\\\u0026usg=AFQjCNF7rAzT0e1FtUDn5xVdr-dx2v90Uw\"}],lead_story_doc_id:\"6037810079548350345\"},{nrel:59,idx:4,id:\"52779184487794\",lead_story_url:\"http://amigobulls.com/articles/why-apple-inc-iphone-growth-will-pick-up-again\",a:[{t:\"Why Apple, Inc. iPhone Growth Will Pick Up Again?\",u:\"http://amigobulls.com/articles/why-apple-inc-iphone-growth-will-pick-up-again\",s:\"Amigobulls\",sp:\"There\\\\u0026#39;s no doubt that the Apple Inc. (NSDQ:AAPL) iPhone\\\\u0026#39;s growth rate has been heading down. There are fears that the iPhone is falling out of favor for good and that we\\\\u0026#39;ve seen \\\\u0026quot;peak Apple\\\\u0026quot;.\",d:\"Aug 18, 2016\",tt:\"1471509450\",usg:\"AFQjCNEwjBNovOyYkB0my8MoL2GUgx_uFQ\",sru:\"http://news.google.com/news/url?sa=T\\\\u0026ct2=us\\\\u0026fd=S\\\\u0026url=http://amigobulls.com/articles/why-apple-inc-iphone-growth-will-pick-up-again\\\\u0026cid=52779184487794\\\\u0026ei=B1i3V5ueHaW8igK92oaQCg\\\\u0026usg=AFQjCNGhv4iwDayqQJyt8w1HiSABus0tbQ\"},{t:\"Apple Inc.: Sell AAPL Stock on This Ugly iPhone News\",u:\"http://investorplace.com/2016/08/aapl-stock-iphone-sales-apple-inc/\",s:\"Investorplace.com\",sp:\"Apple Inc. (NASDAQ:AAPL) has a long list of innovative products under its belt, and AAPL stock has made many investors rich as a result.\",d:\"Aug 18, 2016\",tt:\"1471529763\",usg:\"AFQjCNGC_vpZJrXbvu9VTFP7bFzXkwp7uQ\",sru:\"http://news.google.com/news/url?sa=T\\\\u0026ct2=us\\\\u0026fd=S\\\\u0026url=http://investorplace.com/2016/08/aapl-stock-iphone-sales-apple-inc/\\\\u0026cid=52779184487794\\\\u0026ei=B1i3V5ueHaW8igK92oaQCg\\\\u0026usg=AFQjCNHdo0cS9sIgjm4GzOyKKoKdKIkQQg\"},{t:\"Apple: It\\\\u0026#39;s too Early for Investors to Call off iPhone 7 bet\",u:\"http://www.bidnessetc.com/72426-apple-too-early-investors-call-iphone-7-bet/\",s:\"Bidness ETC\",sp:\"Apple Inc. (NASDAQ:AAPL) has been under the spotlight since it posted a historic year-over-year decline in sales. However, the company\\\\u0026#39;s long-awaited iPhone 7, which is set to be launched within a few weeks, is expected to be a success story in mature\\\\u0026nbsp;...\",d:\"4 hours ago\",tt:\"1471616775\",usg:\"AFQjCNHUcOZES70Pya3iFD5RBurgigBe0Q\",sru:\"http://news.google.com/news/url?sa=T\\\\u0026ct2=us\\\\u0026fd=S\\\\u0026url=http://www.bidnessetc.com/72426-apple-too-early-investors-call-iphone-7-bet/\\\\u0026cid=52779184487794\\\\u0026ei=B1i3V5ueHaW8igK92oaQCg\\\\u0026usg=AFQjCNFG64z09duS82Iw0lRNJCyqiDPMbg\"}],lead_story_doc_id:\"12545518950413109550\"},{nrel:38,idx:5,id:\"52779183827122\",lead_story_url:\"http://host.madison.com/business/investment/markets-and-stocks/can-apple-inc-regain-its-mojo/article_7042a438-f52c-579b-a898-5f22deb390ed.html\",a:[{t:\"Can Apple, Inc. Regain Its Mojo?\",u:\"http://host.madison.com/business/investment/markets-and-stocks/can-apple-inc-regain-its-mojo/article_7042a438-f52c-579b-a898-5f22deb390ed.html\",s:\"Madison.com\",sp:\"You\\\\u0026#39;ll find investing legends on both sides of the Apple conundrum right now. According to regulatory filings, Warren Buffett\\\\u0026#39;s Berkshire Hathaway recently upped its Apple holdings by a massive 55%. But George Soros exited his entire Apple stake in the\\\\u0026nbsp;...\",d:\"Aug 17, 2016\",tt:\"1471450326\",usg:\"AFQjCNHEQHntgzY0of8LRVgrSsEdz5tZBw\",sru:\"http://news.google.com/news/url?sa=T\\\\u0026ct2=us\\\\u0026fd=S\\\\u0026url=http://host.madison.com/business/investment/markets-and-stocks/can-apple-inc-regain-its-mojo/article_7042a438-f52c-579b-a898-5f22deb390ed.html\\\\u0026cid=52779183827122\\\\u0026ei=B1i3V5ueHaW8igK92oaQCg\\\\u0026usg=AFQjCNE_l1Yfj3Ir1LMGncQbqiz2I2EH3w\"},{t:\"Berkshire Hathaway Raises Stake In Apple Inc., Maintains On Wells Fargo ...\",u:\"http://www.thecountrycaller.com/61252-berkshire-hathaway-raises-stake-in-apple-inc-maintains-on-wells-fargo-company-and-lowers-on-wal-mart-stores-inc-13f/\",s:\"TCC\",sp:\"The investment firm raised its stake in Cupertino based tech giant Apple Inc. (NASDAQ:AAPL), as it brought 5,415,955 shares at an average price of $95.60.\",d:\"Aug 17, 2016\",tt:\"1471435632\",usg:\"AFQjCNF-bRDPJzJtzEcqNN9hA5nXMMsnAw\",sru:\"http://news.google.com/news/url?sa=T\\\\u0026ct2=us\\\\u0026fd=S\\\\u0026url=http://www.thecountrycaller.com/61252-berkshire-hathaway-raises-stake-in-apple-inc-maintains-on-wells-fargo-company-and-lowers-on-wal-mart-stores-inc-13f/\\\\u0026cid=52779183827122\\\\u0026ei=B1i3V5ueHaW8igK92oaQCg\\\\u0026usg=AFQjCNFvP2-MFLWea9_02q5r2PDNeFWuWQ\"},{t:\"Apple: Berkshire Hathaway And Other Funds\\\\u0026#39; Activity\",u:\"http://seekingalpha.com/article/4000250-apple-berkshire-hathaway-funds-activity\",s:\"Seeking Alpha\",sp:\"Apple (NASDAQ: AAPL) is a highly followed stock and it\\\\u0026#39;s always interesting to see which big investors are buying or selling the company.\",d:\"Aug 17, 2016\",tt:\"1471445531\",usg:\"AFQjCNFKm0Tuag38VWEI2J-lKkgkwarE8g\",sru:\"http://news.google.com/news/url?sa=T\\\\u0026ct2=us\\\\u0026fd=S\\\\u0026url=http://seekingalpha.com/article/4000250-apple-berkshire-hathaway-funds-activity\\\\u0026cid=52779183827122\\\\u0026ei=B1i3V5ueHaW8igK92oaQCg\\\\u0026usg=AFQjCNEigtSnjEHYY6xIVNHokBsNDxLt6g\"}],lead_story_doc_id:\"16535268049948990128\"},{nrel:87,idx:6,id:\"52779184633957\",lead_story_url:\"http://www.thecountrycaller.com/26184-apple-inc-aapl-worldwide-smartphone-share-drops-in-q216-gartner/\",a:[{t:\"Apple Inc. (NASDAQ:AAPL) Worldwide Smartphone Share Drops in Q216: Gartner\",u:\"http://www.thecountrycaller.com/26184-apple-inc-aapl-worldwide-smartphone-share-drops-in-q216-gartner/\",s:\"TCC\",sp:\"Of the top five vendors, Apple and Xiaomi were the only ones to experience a decline in share, while Samsung, Oppo and Huawei saw growth during the same time period.\",d:\"6 hours ago\",tt:\"1471608518\",usg:\"AFQjCNEH8jOlLtT-PxkkpZc8hE6d9mKXlg\",sru:\"http://news.google.com/news/url?sa=T\\\\u0026ct2=us\\\\u0026fd=S\\\\u0026url=http://www.thecountrycaller.com/26184-apple-inc-aapl-worldwide-smartphone-share-drops-in-q216-gartner/\\\\u0026cid=52779184633957\\\\u0026ei=B1i3V5ueHaW8igK92oaQCg\\\\u0026usg=AFQjCNF7Gu6dvS4XtU5iDvJap8WjNfaVzw\"},{t:\"iPhone Crisis? Apple\\\\u0026#39;s Smartphone Market Share Plunged 12% in Q2\",u:\"http://etfdailynews.com/2016/08/18/iphone-crisis-apples-smartphone-market-share-plunged-12-in-q2/\",s:\"ETF Daily News\",sp:\"Research firm Gartner just published some eye-opening smartphone sales stats today, which show that Apple Inc. (NASDAQ:AAPL) is clearly losing the smartphone battle to Koean competitor Samsung.\",d:\"Aug 18, 2016\",tt:\"1471522950\",usg:\"AFQjCNEQ6fRndQmbK75pY3Lbh1VSCrSBvQ\",sru:\"http://news.google.com/news/url?sa=T\\\\u0026ct2=us\\\\u0026fd=S\\\\u0026url=http://etfdailynews.com/2016/08/18/iphone-crisis-apples-smartphone-market-share-plunged-12-in-q2/\\\\u0026cid=52779184633957\\\\u0026ei=B1i3V5ueHaW8igK92oaQCg\\\\u0026usg=AFQjCNFjV81wkvN_zja8POCxJ_hQChXq8A\"},{t:\"Apple Inc Sales Decline as Smartphone Industry Grows: Gartner\",u:\"http://www.bidnessetc.com/72408-apple-sales-decline-smartphone-industry-grows-gartner/\",s:\"Bidness ETC\",sp:\"2016 is proving to be a difficult year for Apple Inc. (NASDAQ:AAPL): the iPhone maker saw its first year-over-year (YoY) decline in 13 years during the quarter ended March.\",d:\"8 hours ago\",tt:\"1471603980\",usg:\"AFQjCNFJ073X6w6cA96xybPXV2uOGJGfkw\",sru:\"http://news.google.com/news/url?sa=T\\\\u0026ct2=us\\\\u0026fd=S\\\\u0026url=http://www.bidnessetc.com/72408-apple-sales-decline-smartphone-industry-grows-gartner/\\\\u0026cid=52779184633957\\\\u0026ei=B1i3V5ueHaW8igK92oaQCg\\\\u0026usg=AFQjCNGS3XdoT4pX2c9cFJ1Nm0GdOBXE0Q\"}],lead_story_doc_id:\"3149681874432727126\"},{nrel:94,idx:7,id:\"52779184857732\",lead_story_url:\"http://business.financialpost.com/fp-tech-desk/personal-tech/apple-inc-hits-roadblocks-in-major-watch-changes-as-device-tries-to-be-less-dependent-on-iphone-report\",a:[{t:\"Apple Inc hits roadblocks in major Watch changes as device tries to be less ...\",u:\"http://business.financialpost.com/fp-tech-desk/personal-tech/apple-inc-hits-roadblocks-in-major-watch-changes-as-device-tries-to-be-less-dependent-on-iphone-report\",s:\"Financial Post\",sp:\"Apple Inc. has hit roadblocks in making major changes that would connect its Watch to cellular networks and make it less dependent on the iPhone, according to people with knowledge of the matter.\",d:\"Aug 18, 2016\",tt:\"1471543200\",usg:\"AFQjCNEmjW8ssNX2m_To9DkIpkwWndyg4A\",sru:\"http://news.google.com/news/url?sa=T\\\\u0026ct2=us\\\\u0026fd=S\\\\u0026url=http://business.financialpost.com/fp-tech-desk/personal-tech/apple-inc-hits-roadblocks-in-major-watch-changes-as-device-tries-to-be-less-dependent-on-iphone-report\\\\u0026cid=52779184857732\\\\u0026ei=B1i3V5ueHaW8igK92oaQCg\\\\u0026usg=AFQjCNEfd_j7mHthWovbqzJbTBn5r59atw\"},{t:\"Apple Watch: A Glimpse Of The Future\",u:\"http://seekingalpha.com/article/4000884-apple-watch-glimpse-future\",s:\"Seeking Alpha\",sp:\"Apple cautioned the carriers that the next Watch generation probably won\\\\u0026#39;t support cellular due to battery life considerations.\",d:\"3 hours ago\",tt:\"1471621615\",usg:\"AFQjCNHQfqbK24D4R7VKp_vSNI5B3_ZPtQ\",sru:\"http://news.google.com/news/url?sa=T\\\\u0026ct2=us\\\\u0026fd=S\\\\u0026url=http://seekingalpha.com/article/4000884-apple-watch-glimpse-future\\\\u0026cid=52779184857732\\\\u0026ei=B1i3V5ueHaW8igK92oaQCg\\\\u0026usg=AFQjCNGI0_qhIQOjUH2iICMeGuQNTqLiXQ\"},{t:\"Apple Said to Hit Snag Cutting Apple Watch, iPhone Ties\",u:\"http://www.bloomberg.com/news/videos/2016-08-18/apple-said-to-hit-snag-cutting-apple-watch-iphone-ties\",s:\"Bloomberg\",sp:\"Apple Inc. has reportedly hit roadblocks in making the Apple Watch less dependent on the iPhone ahead of an expected announcement of new models this fall.\",d:\"Aug 18, 2016\",tt:\"1471540500\",usg:\"AFQjCNHDM13GFukXhneIhUdmH83QlOYYkw\",sru:\"http://news.google.com/news/url?sa=T\\\\u0026ct2=us\\\\u0026fd=S\\\\u0026url=http://www.bloomberg.com/news/videos/2016-08-18/apple-said-to-hit-snag-cutting-apple-watch-iphone-ties\\\\u0026cid=52779184857732\\\\u0026ei=B1i3V5ueHaW8igK92oaQCg\\\\u0026usg=AFQjCNGyflBvOSYNhz_O6oYDZb1Fd8umyg\"}],lead_story_doc_id:\"1033348341449738862\"},{nrel:14,idx:8,id:\"52779183990944\",lead_story_url:\"http://www.valuewalk.com/2016/08/hedge-funds-dump-apple-inc-aapl-stock/\",a:[{t:\"Hedge Funds Dump Apple Inc. (AAPL) Stock Like Its Going Out Of Style\",u:\"http://www.valuewalk.com/2016/08/hedge-funds-dump-apple-inc-aapl-stock/\",s:\"ValueWalk\",sp:\"Apple Inc. (NASDAQ:AAPL) stock appears to be going out of style, at least among hedge funds. Data collected by S\\\\u0026amp;P Global Market Intelligence reveals that as hedge funds slashed their positions in stocks to the lowest level ever during the second ...\",d:\"23 hours ago\",tt:\"1471549950\",usg:\"AFQjCNFcDOBCs_9rpbccHPM_xfnVP175ug\",sru:\"http://news.google.com/news/url?sa=T\\\\u0026ct2=us\\\\u0026fd=S\\\\u0026url=http://www.valuewalk.com/2016/08/hedge-funds-dump-apple-inc-aapl-stock/\\\\u0026cid=52779183990944\\\\u0026ei=B1i3V5ueHaW8igK92oaQCg\\\\u0026usg=AFQjCNGaSo1LUdV_wKQ4mcSSbb8bhEXMcA\"},{t:\"Hedge Funds Dumped Apple, Netflix Stocks in Q2\",u:\"http://247wallst.com/investing/2016/08/18/hedge-funds-dumped-apple-netflix-stocks-in-q2/\",s:\"24/7 Wall St.\",sp:\"Netflix Inc. (NASDAQ: NFLX) and Apple Inc. (NASDAQ: AAPL) accounted for $2.0 billion and $1.8 billion, respectively, of hedge funds\\\\u0026#39; sales in the second quarter.\",d:\"Aug 18, 2016\",tt:\"1471536450\",usg:\"AFQjCNF7ro38-9OlPB0xa6FtiQz14ma0Nw\",sru:\"http://news.google.com/news/url?sa=T\\\\u0026ct2=us\\\\u0026fd=S\\\\u0026url=http://247wallst.com/investing/2016/08/18/hedge-funds-dumped-apple-netflix-stocks-in-q2/\\\\u0026cid=52779183990944\\\\u0026ei=B1i3V5ueHaW8igK92oaQCg\\\\u0026usg=AFQjCNF8v1m5eu3YJxWG9zj_GSoSWuOW2Q\"}],lead_story_doc_id:\"1990139774060656679\"},{nrel:87,idx:9,id:\"52779182396933\",lead_story_url:\"http://www.valuewalk.com/2016/08/buy-apple-inc-aapl-stock-125/\",a:[{t:\"Buy Apple Inc. (AAPL) Stock Until It Hits $125: Trader\",u:\"http://www.valuewalk.com/2016/08/buy-apple-inc-aapl-stock-125/\",s:\"ValueWalk\",sp:\"Apple Inc. (NASDAQ:AAPL) stock pulled back a bit on Wednesday after climbing on Monday and most of Tuesday following the news last week that Warren Buffett had added to his stake in the iPhone maker.\",d:\"Aug 17, 2016\",tt:\"1471461525\",usg:\"AFQjCNHBxKqJZsyvqub_mbSBNTR9J7SecA\",sru:\"http://news.google.com/news/url?sa=T\\\\u0026ct2=us\\\\u0026fd=S\\\\u0026url=http://www.valuewalk.com/2016/08/buy-apple-inc-aapl-stock-125/\\\\u0026cid=52779182396933\\\\u0026ei=B1i3V5ueHaW8igK92oaQCg\\\\u0026usg=AFQjCNGVvr0b_U62dYrJGc35JYdvO5lqHA\"},{t:\"Apple Inc. (NASDAQ:AAPL) Building Team Of Lyrics Curators For Apple Music\",u:\"http://marketexclusive.com/apple-inc-nasdaqaapl-building-team-lyrics-curators-apple-music/24601/\",s:\"Market Exclusive\",sp:\"Apple Inc. (NASDAQ:AAPL) is hiring for Apple Music and this time, it is looking for people who will join its lyrics curation team for the music service.\",d:\"Aug 18, 2016\",tt:\"1471526325\",usg:\"AFQjCNHlsIpQZqro5AOywZ5b4Fxj0-oZkA\",sru:\"http://news.google.com/news/url?sa=T\\\\u0026ct2=us\\\\u0026fd=S\\\\u0026url=http://marketexclusive.com/apple-inc-nasdaqaapl-building-team-lyrics-curators-apple-music/24601/\\\\u0026cid=52779182396933\\\\u0026ei=B1i3V5ueHaW8igK92oaQCg\\\\u0026usg=AFQjCNHOGUohskzkW6jyCdYjLhMBqrH3yw\"},{t:\"How Rich Would You be if You Chose Apple Inc. (AAPL) Stock Over Kids?\",u:\"http://learnbonds.com/130693/how-rich-would-you-be-if-you-chose-apple-inc-stock-over-children/\",s:\"LearnBonds\",sp:\"Apple Inc. (NASDAQ:AAPL) is one of the most popular stock nowadays. So, it won\\\\u0026#39;t\\\\u0026#39; be a surprise, if you might want to know how rich you would be if you invested in Apple\\\\u0026#39;s stock rather than in raising a child.\",d:\"Aug 17, 2016\",tt:\"1471441272\",usg:\"AFQjCNHTb7NKuu6X6EqlLlqMT3BgFy9zHw\",sru:\"http://news.google.com/news/url?sa=T\\\\u0026ct2=us\\\\u0026fd=S\\\\u0026url=http://learnbonds.com/130693/how-rich-would-you-be-if-you-chose-apple-inc-stock-over-children/\\\\u0026cid=52779182396933\\\\u0026ei=B1i3V5ueHaW8igK92oaQCg\\\\u0026usg=AFQjCNHsj3GFt37lcoRtFhCfnck6zhCKtQ\"}],lead_story_doc_id:\"5006306918771605415\"},{nrel:3,idx:10,id:\"52779182552928\",lead_story_url:\"http://host.madison.com/business/investment/markets-and-stocks/the-worst-mistake-apple-inc-investors-can-make-right-now/article_273d085d-8be7-5253-b7ac-7c3c68a2c140.html\",a:[{t:\"The Worst Mistake Apple Inc. Investors Can Make Right Now\",u:\"http://host.madison.com/business/investment/markets-and-stocks/the-worst-mistake-apple-inc-investors-can-make-right-now/article_273d085d-8be7-5253-b7ac-7c3c68a2c140.html\",s:\"Madison.com\",sp:\"Shares of Apple (NASDAQ: AAPL) have fallen 7% over the past 12 months due to ongoing concerns about its slowing hardware sales and lack of game-changing new products.\",d:\"Aug 15, 2016\",tt:\"1471289146\",usg:\"AFQjCNHXrJVvm_-WFYBaSb0tlRR69ILYyg\",sru:\"http://news.google.com/news/url?sa=T\\\\u0026ct2=us\\\\u0026fd=S\\\\u0026url=http://host.madison.com/business/investment/markets-and-stocks/the-worst-mistake-apple-inc-investors-can-make-right-now/article_273d085d-8be7-5253-b7ac-7c3c68a2c140.html\\\\u0026cid=52779182552928\\\\u0026ei=B1i3V5ueHaW8igK92oaQCg\\\\u0026usg=AFQjCNEvJTa9K35ft66CbouSDtJdWiW7vw\"}],lead_story_doc_id:\"17808320409319369276\"},{nrel:23,idx:11,id:\"52779184780619\",lead_story_url:\"http://marketexclusive.com/microsoft-corporation-nasdaqmsft-encourages-apple-inc-nasdaqaapl-mac-users-shift-evernote-onenote/24673/\",a:[{t:\"Microsoft Corporation (NASDAQ:MSFT) Encourages Apple Inc. (NASDAQ:AAPL) Mac ...\",u:\"http://marketexclusive.com/microsoft-corporation-nasdaqmsft-encourages-apple-inc-nasdaqaapl-mac-users-shift-evernote-onenote/24673/\",s:\"Market Exclusive\",sp:\"Microsoft Corporation (NASDAQ:MSFT) has introduced a new tool that makes it easier for Apple Inc. (NASDAQ:AAPL) Mac Users to migrate from Evernote to OneNote.\",d:\"7 hours ago\",tt:\"1471605300\",usg:\"AFQjCNGoLdQp4uJ-ntde1zKRwANrDlGuZw\",sru:\"http://news.google.com/news/url?sa=T\\\\u0026ct2=us\\\\u0026fd=S\\\\u0026url=http://marketexclusive.com/microsoft-corporation-nasdaqmsft-encourages-apple-inc-nasdaqaapl-mac-users-shift-evernote-onenote/24673/\\\\u0026cid=52779184780619\\\\u0026ei=B1i3V5ueHaW8igK92oaQCg\\\\u0026usg=AFQjCNHbvFZQTd2CQ57HZG9YuAlPoaU8Rw\"}],lead_story_doc_id:\"14344119238838770818\"},{nrel:148,idx:12,id:\"52779181528973\",lead_story_url:\"http://www.marketwatch.com/story/why-warren-buffett-is-grabbing-apple-stock-while-other-big-names-run-away-2016-08-15\",a:[{t:\"Why Warren Buffett is grabbing Apple stock while other big names run away\",u:\"http://www.marketwatch.com/story/why-warren-buffett-is-grabbing-apple-stock-while-other-big-names-run-away-2016-08-15\",s:\"MarketWatch\",sp:\"On Monday, the investor profile of Apple AAPL, +0.30% switched dramatically with news that Berkshire Hathaway Inc.\\\\u0026#39;s BRK.\",d:\"Aug 15, 2016\",tt:\"1471302435\",usg:\"AFQjCNGfxamkLSqiAEDmH0LRt9qyWqUSRg\",sru:\"http://news.google.com/news/url?sa=T\\\\u0026ct2=us\\\\u0026fd=S\\\\u0026url=http://www.marketwatch.com/story/why-warren-buffett-is-grabbing-apple-stock-while-other-big-names-run-away-2016-08-15\\\\u0026cid=52779181528973\\\\u0026ei=B1i3V5ueHaW8igK92oaQCg\\\\u0026usg=AFQjCNHBidwWkaQtGUhY60dhOI4wqY8CJg\"},{t:\"Should You Follow Warren Buffett Into Apple, Inc. Stock?\",u:\"http://amigobulls.com/articles/should-you-follow-warren-buffett-into-apple-inc-stock\",s:\"Amigobulls\",sp:\"The company raised its stake in Apple Inc. (NSDQ:AAPL) by 55%, buying 5.4M shares through the quarter, in addition to the 9.8M shares it held as of the last update.\",d:\"Aug 16, 2016\",tt:\"1471341529\",usg:\"AFQjCNEDPlls_QEpR-ceRj7HlshYVTA1yQ\",sru:\"http://news.google.com/news/url?sa=T\\\\u0026ct2=us\\\\u0026fd=S\\\\u0026url=http://amigobulls.com/articles/should-you-follow-warren-buffett-into-apple-inc-stock\\\\u0026cid=52779181528973\\\\u0026ei=B1i3V5ueHaW8igK92oaQCg\\\\u0026usg=AFQjCNE41MsKaBa1sz1QvFfYcc5KsIRsiA\"},{t:\"Berkshire takes bigger bite of Apple, pares Wal-Mart\",u:\"http://www.reuters.com/article/us-investments-funds-buffett-idUSKCN10Q1YV\",s:\"Reuters\",sp:\"Warren Buffett\\\\u0026#39;s Berkshire Hathaway Inc (BRKa.N) on Monday said it has increased its stake in Apple Inc (AAPL.O) by 55 percent, boosting its bet on the iPhone and iPod maker even as prominent investors like George Soros and Carl Icahn shed theirs.\",d:\"Aug 15, 2016\",tt:\"1471292647\",usg:\"AFQjCNHv-BfQDCaRRmckCWJzd9_N22kGGQ\",sru:\"http://news.google.com/news/url?sa=T\\\\u0026ct2=us\\\\u0026fd=S\\\\u0026url=http://www.reuters.com/article/us-investments-funds-buffett-idUSKCN10Q1YV\\\\u0026cid=52779181528973\\\\u0026ei=B1i3V5ueHaW8igK92oaQCg\\\\u0026usg=AFQjCNE-a7g1Z6smuyFS6lysdfNu-QAWTg\"}],lead_story_doc_id:\"1656037356417124184\"},{idx:13,id:\"0\",lead_story_url:\"http://www.thecountrycaller.com/61551-here-is-why-apple-inc-aapl-could-soon-become-the-first-ever-trillion-dollar-valued-company/\",a:[{t:\"Here Is Why Apple, Inc. Could Soon Become the First Ever Trillion Dollar ...\",u:\"http://www.thecountrycaller.com/61551-here-is-why-apple-inc-aapl-could-soon-become-the-first-ever-trillion-dollar-valued-company/\",s:\"TCC\",sp:\"Speaking of companies which experience ridiculously high amount of earnings, it is not a secret that Apple Inc. (NASDAQ:AAPL) finds itself ahead of its biggest rivals in the form of Google, Microsoft, Amazon, etc.\",d:\"23 hours ago\",tt:\"1471548322\",usg:\"AFQjCNHplVKkEK2SGywpdwBVzmuVP7M8SQ\",sru:\"http://news.google.com/news/url?sa=T\\\\u0026ct2=us\\\\u0026fd=S\\\\u0026url=http://www.thecountrycaller.com/61551-here-is-why-apple-inc-aapl-could-soon-become-the-first-ever-trillion-dollar-valued-company/\\\\u0026cid=0\\\\u0026ei=B1i3V5ueHaW8igK92oaQCg\\\\u0026usg=AFQjCNEoqV3WWc9uvRRWfQO38xtyox7rVw\"}],lead_story_doc_id:\"271093046765281699\"},{nrel:152,idx:14,id:\"52779183869715\",lead_story_url:\"http://www.newsoracle.com/2016/08/19/what-are-analysts-saying-about-apple-inc-nasdaqaapl-3/\",a:[{t:\"what are Analysts saying about: Apple Inc. (NASDAQ:AAPL)\",u:\"http://www.newsoracle.com/2016/08/19/what-are-analysts-saying-about-apple-inc-nasdaqaapl-3/\",s:\"News Oracle\",sp:\"Apple Inc. (NASDAQ:AAPL) reported its last earnings on Jul 26 AMC (BMO = before market open, AMC= after market close). The company will report its next earnings on Oct 25 - Oct 31 (Est.\",d:\"6 hours ago\",tt:\"1471608675\",usg:\"AFQjCNHO7U_G5V3dmWr8tpgpXVCvE8UYNQ\",sru:\"http://news.google.com/news/url?sa=T\\\\u0026ct2=us\\\\u0026fd=S\\\\u0026url=http://www.newsoracle.com/2016/08/19/what-are-analysts-saying-about-apple-inc-nasdaqaapl-3/\\\\u0026cid=52779183869715\\\\u0026ei=B1i3V5ueHaW8igK92oaQCg\\\\u0026usg=AFQjCNE71CwYIalM7Za8lxMU7SG_UmVgRA\"}],lead_story_doc_id:\"13501701693166304227\"},{idx:15,id:\"0\",lead_story_url:\"http://www.taxjusticeblog.org/archive/2016/08/apple_inc_poster_child_for_why.php\",a:[{t:\"Apple Inc.: Poster Child for Why We Need to Close Offshore Tax Loopholes\",u:\"http://www.taxjusticeblog.org/archive/2016/08/apple_inc_poster_child_for_why.php\",s:\"Tax Justice Blog (blog)\",sp:\"Apple Inc. is not only the world\\\\u0026#39;s leading cell phone designer, it is also number one when it comes to falsely asserting that most of its profits are earned in tax havens.\",d:\"21 hours ago\",tt:\"1471556025\",usg:\"AFQjCNHC3v_t5_rJXT1YK7l6hzkw3-aP5Q\",sru:\"http://news.google.com/news/url?sa=T\\\\u0026ct2=us\\\\u0026fd=S\\\\u0026url=http://www.taxjusticeblog.org/archive/2016/08/apple_inc_poster_child_for_why.php\\\\u0026cid=0\\\\u0026ei=B1i3V5ueHaW8igK92oaQCg\\\\u0026usg=AFQjCNFxSGAtt4aEAhpAq6xn-lzEoRrjwQ\"}],lead_story_doc_id:\"6063944469552248504\"},{idx:16,id:\"0\",lead_story_url:\"http://seekingalpha.com/article/4000886-u-s-v-apple-looming-trial-century\",a:[{t:\"U.S. V. Apple - The Looming Trial Of The Century?\",u:\"http://seekingalpha.com/article/4000886-u-s-v-apple-looming-trial-century\",s:\"Seeking Alpha\",sp:\"The US Federal Trade Commission launched an investigation into Apple (NASDAQ:AAPL), focusing on potential antitrust violations in their music business.\",d:\"3 hours ago\",tt:\"1471621817\",usg:\"AFQjCNE3iCAoBYxEHzVsfYERjmDLCBIyHA\",sru:\"http://news.google.com/news/url?sa=T\\\\u0026ct2=us\\\\u0026fd=S\\\\u0026url=http://seekingalpha.com/article/4000886-u-s-v-apple-looming-trial-century\\\\u0026cid=0\\\\u0026ei=B1i3V5ueHaW8igK92oaQCg\\\\u0026usg=AFQjCNGmIHxDgiAdvmdqSVQ7ayriK98BOA\"}],lead_story_doc_id:\"11234752728226301492\"},{nrel:170,idx:17,id:\"52779183758377\",lead_story_url:\"http://www.thecountrycaller.com/42351-tesla-motors-inc-tsla-is-biggest-disruptor-today-says-apple-inc-aapl-co-founder/\",a:[{t:\"Tesla Motors Inc (TSLA) Is Biggest Disruptor Today, Says Apple Inc. (AAPL) Co ...\",u:\"http://www.thecountrycaller.com/42351-tesla-motors-inc-tsla-is-biggest-disruptor-today-says-apple-inc-aapl-co-founder/\",s:\"TCC\",sp:\"Tesla Motors Inc (NASDAQ:TSLA) has been disrupting the automobile and energy industries with its technologically advanced electric vehicles (EVs), popular residential and commercial stationary batteries, and solar technology with its merger with ...\",d:\"Aug 18, 2016\",tt:\"1471544281\",usg:\"AFQjCNGEugQvOceTyguc5AKhG5GnjoOFHQ\",sru:\"http://news.google.com/news/url?sa=T\\\\u0026ct2=us\\\\u0026fd=S\\\\u0026url=http://www.thecountrycaller.com/42351-tesla-motors-inc-tsla-is-biggest-disruptor-today-says-apple-inc-aapl-co-founder/\\\\u0026cid=52779183758377\\\\u0026ei=B1i3V5ueHaW8igK92oaQCg\\\\u0026usg=AFQjCNF0W8Y7dSMRG8-QvP3k0ej9013w7g\"}],lead_story_doc_id:\"3920742127840354595\"},{nrel:2,idx:18,id:\"52779185266266\",lead_story_url:\"http://investorplace.com/2016/08/apple-stock-doomed-underperform-aapl/\",a:[{t:\"Is Apple Inc. (AAPL) Doomed to Underperformance?\",u:\"http://investorplace.com/2016/08/apple-stock-doomed-underperform-aapl/\",s:\"Investorplace.com\",sp:\"Apple Inc. (NASDAQ:AAPL) is about a month away from launching the iPhone 7, so Apple stock has come into the limelight of late.\",d:\"2 hours ago\",tt:\"1471622850\",usg:\"AFQjCNG_MfxpypTfgBXwLCfsIozMyqYBmg\",sru:\"http://news.google.com/news/url?sa=T\\\\u0026ct2=us\\\\u0026fd=S\\\\u0026url=http://investorplace.com/2016/08/apple-stock-doomed-underperform-aapl/\\\\u0026cid=52779185266266\\\\u0026ei=B1i3V5ueHaW8igK92oaQCg\\\\u0026usg=AFQjCNElitvUoFx9FM2RBovriH5CW_3seg\"}],lead_story_doc_id:\"4692654871968367834\"},{idx:19,id:\"0\",lead_story_url:\"http://learnbonds.com/130742/apple-fashion-icon-status-at-risk/\",a:[{t:\"Apple Inc. (AAPL)\\\\u0026#39;s \\\\u0026#39;Fashion Icon\\\\u0026#39; Status At Risk\",u:\"http://learnbonds.com/130742/apple-fashion-icon-status-at-risk/\",s:\"LearnBonds\",sp:\"Apple Inc. (NASDAQ:AAPL)\\\\u0026#39;s status as a fashion icon is at risk, as per analyst Colin Gillis of BGC Partners. Gillis said on CNBC\\\\u0026#39;s &#8220;Power Lunch&#8221; that some &#8220;disturbing&#8221; data points may have put Apple\\\\u0026#39;s position as a fashion icon at risk.\",d:\"7 hours ago\",tt:\"1471605975\",usg:\"AFQjCNGGS2CHzYZpfYuG8zrg9eYct9oKYw\",sru:\"http://news.google.com/news/url?sa=T\\\\u0026ct2=us\\\\u0026fd=S\\\\u0026url=http://learnbonds.com/130742/apple-fashion-icon-status-at-risk/\\\\u0026cid=0\\\\u0026ei=B1i3V5ueHaW8igK92oaQCg\\\\u0026usg=AFQjCNHrA5NY7GC1IHmCkDEbD_MwmYqs9w\"}],lead_story_doc_id:\"979209309866272561\"},{nrel:42,idx:20,id:\"52779184669945\",lead_story_url:\"http://theenterpriseleader.com/technology/apple-inc-nasdaqaapl-brings-apple-pay-to-chick-fil-a/143702/\",a:[{t:\"Apple Inc (NASDAQ:AAPL) Brings Apple Pay To Chick-fil-A\",u:\"http://theenterpriseleader.com/technology/apple-inc-nasdaqaapl-brings-apple-pay-to-chick-fil-a/143702/\",s:\"Enterprise Leader\",sp:\"Chick-fil-A has announced that all transactions&#8212; over-the-counter and drive thru&#8212; will now be supporting electronic payment solutions Apple Pay and Android Pay. This comes six months after the restaurant had first revealed its intentions to support ...\",d:\"12 hours ago\",tt:\"1471589775\",usg:\"AFQjCNE9To3KLplXKh2TKuGGqRpn6EAPDQ\",sru:\"http://news.google.com/news/url?sa=T\\\\u0026ct2=us\\\\u0026fd=S\\\\u0026url=http://theenterpriseleader.com/technology/apple-inc-nasdaqaapl-brings-apple-pay-to-chick-fil-a/143702/\\\\u0026cid=52779184669945\\\\u0026ei=B1i3V5ueHaW8igK92oaQCg\\\\u0026usg=AFQjCNF63INPRByhgA0ASlm2c9N_aopJWw\"},{t:\"Australia denies banks interim approval to jointly negotiate with Apple on ...\",u:\"http://indianexpress.com/article/world/world-news/australia-denies-banks-interim-approval-to-jointly-negotiate-with-apple-on-payment-apps-2984611/\",s:\"The Indian Express\",sp:\"australia, australia banks, australia apple, apple inc news, apple news, Apple Australian banks contend that Apple\\\\u0026#39;s restriction of technology through which mobile wallets function - known as Near Field Technology - constitutes anti-competitive behaviour.\",d:\"16 hours ago\",tt:\"1471573575\",usg:\"AFQjCNHM1TfXtV8kyMOwoWjVJqvBUZ3hyQ\",sru:\"http://news.google.com/news/url?sa=T\\\\u0026ct2=us\\\\u0026fd=S\\\\u0026url=http://indianexpress.com/article/world/world-news/australia-denies-banks-interim-approval-to-jointly-negotiate-with-apple-on-payment-apps-2984611/\\\\u0026cid=52779184669945\\\\u0026ei=B1i3V5ueHaW8igK92oaQCg\\\\u0026usg=AFQjCNEuUsv4SSyVIgbRrL4tSekn5qtUuw\"}],lead_story_doc_id:\"16954024454793525297\"},{nrel:59,idx:21,id:\"52779183143165\",lead_story_url:\"http://www.jetmag.com/entertainment/cash-money-records-apple-music/\",a:[{t:\"Cash Money Partnering with Apple Inc.\",u:\"http://www.jetmag.com/entertainment/cash-money-records-apple-music/\",s:\"Jet Magazine (blog)\",sp:\"Cash Money Partnering with Apple Inc. Birdman\\\\u0026#39;s hustle continues ... By #TeamJET. Cash Money Partnering with Apple Inc. Birdman stays afloat when it comes to executive moves. The co-founder of Cash Money Records posted a photo earlier this week with\\\\u0026nbsp;...\",d:\"Aug 17, 2016\",tt:\"1471458150\",usg:\"AFQjCNFSQvvoB7uwt_GFAa8PhS8uVghZsw\",sru:\"http://news.google.com/news/url?sa=T\\\\u0026ct2=us\\\\u0026fd=S\\\\u0026url=http://www.jetmag.com/entertainment/cash-money-records-apple-music/\\\\u0026cid=52779183143165\\\\u0026ei=B1i3V5ueHaW8igK92oaQCg\\\\u0026usg=AFQjCNEq3zjOIq8T6eze--QrXsrUJaT7Yw\"},{t:\"Apple Inc. (AAPL) To Collaborate On Cash Money and Birdman Documentary\",u:\"http://www.thecountrycaller.com/38396-apple-inc-aapl-to-collaborate-on-cash-money-and-birdman-documentary/\",s:\"TCC\",sp:\"Apple Inc.\\\\u0026#39;s (NASDAQ:AAPL) much touted music streaming service Apple Music, appears to be taking things up a notch. The service that is known to be signing individual artists, has now established a working relationship with an entire record label.\",d:\"Aug 17, 2016\",tt:\"1471445557\",usg:\"AFQjCNGyVAvjliy1XcLRpP0qeClwFEUzjg\",sru:\"http://news.google.com/news/url?sa=T\\\\u0026ct2=us\\\\u0026fd=S\\\\u0026url=http://www.thecountrycaller.com/38396-apple-inc-aapl-to-collaborate-on-cash-money-and-birdman-documentary/\\\\u0026cid=52779183143165\\\\u0026ei=B1i3V5ueHaW8igK92oaQCg\\\\u0026usg=AFQjCNFlqUEFvVkTy91oKNr3hHEp61qAYQ\"},{t:\"Apple Is Going to Make a Documentary With Drake\\\\u0026#39;s Record Label\",u:\"http://www.bloomberg.com/news/articles/2016-08-17/apple-is-going-to-make-a-documentary-with-drake-s-record-label\",s:\"Bloomberg\",sp:\"Apple Inc., the world\\\\u0026#39;s richest company, is making a documentary with Cash Money Records, one of the world\\\\u0026#39;s most successful hip-hop labels.\",d:\"Aug 17, 2016\",tt:\"1471397400\",usg:\"AFQjCNG6E27pv5XYfPXu_KfzP6wpfD8QCA\",sru:\"http://news.google.com/news/url?sa=T\\\\u0026ct2=us\\\\u0026fd=S\\\\u0026url=http://www.bloomberg.com/news/articles/2016-08-17/apple-is-going-to-make-a-documentary-with-drake-s-record-label\\\\u0026cid=52779183143165\\\\u0026ei=B1i3V5ueHaW8igK92oaQCg\\\\u0026usg=AFQjCNGKiZQfmEiVdKjpV4O51Gjbu0TKhA\"}],lead_story_doc_id:\"16813657920219981246\"},{nrel:166,idx:22,id:\"52779181530608\",lead_story_url:\"http://learnbonds.com/130723/aapl-two-rivals-attacking-apple-new-ads/\",a:[{t:\"Apple Inc. (AAPL) Attacked by Google and Microsoft In New Ads\",u:\"http://learnbonds.com/130723/aapl-two-rivals-attacking-apple-new-ads/\",s:\"LearnBonds\",sp:\"Apple Inc. (NASDAQ:AAPL)\\\\u0026#39;s rivals Google and Microsoft are leaving no stone unturned when it comes to speaking against the Cupertino-based giant to promote their products.\",d:\"Aug 18, 2016\",tt:\"1471526325\",usg:\"AFQjCNF5Pq3L_9F4BdA9bAprb9DygRm6tg\",sru:\"http://news.google.com/news/url?sa=T\\\\u0026ct2=us\\\\u0026fd=S\\\\u0026url=http://learnbonds.com/130723/aapl-two-rivals-attacking-apple-new-ads/\\\\u0026cid=52779181530608\\\\u0026ei=B1i3V5ueHaW8igK92oaQCg\\\\u0026usg=AFQjCNGVC4VTES-LqRyMCyHct496UsR97w\"},{t:\"Apple Inc. (AAPL) Set To Bring Revolutionary Overhaul To Its 2018 iPad Models\",u:\"http://www.thecountrycaller.com/52705-apple-inc-aapl-set-to-bring-revolutionary-overhaul-to-its-2018-ipad-models/\",s:\"TCC\",sp:\"Last year, Apple Inc. (NASDAQ:AAPL) took a giant step forward by adding a super-sized iPad Pro to its line of tablet devices.\",d:\"Aug 17, 2016\",tt:\"1471438028\",usg:\"AFQjCNGKj1TV58_WtQtB8rX5XSjRBVj5mQ\",sru:\"http://news.google.com/news/url?sa=T\\\\u0026ct2=us\\\\u0026fd=S\\\\u0026url=http://www.thecountrycaller.com/52705-apple-inc-aapl-set-to-bring-revolutionary-overhaul-to-its-2018-ipad-models/\\\\u0026cid=52779181530608\\\\u0026ei=B1i3V5ueHaW8igK92oaQCg\\\\u0026usg=AFQjCNEBrvO4CPYuYS-EkxcqY-IgeEA_7Q\"}],lead_story_doc_id:\"253301265631391305\"},{nrel:13,idx:23,id:\"52779185160381\",lead_story_url:\"http://www.benzinga.com/analyst-ratings/analyst-color/16/08/8372982/t-mobile-is-stirring-the-pot-yet-again\",a:[{t:\"T-Mobile Is Stirring The Pot Yet Again\",u:\"http://www.benzinga.com/analyst-ratings/analyst-color/16/08/8372982/t-mobile-is-stirring-the-pot-yet-again\",s:\"Benzinga\",sp:\"The latest T-Mobile single rate plan is scheduled to become available on September 6, just ahead of the anticipated iPhone 7 unveil by Apple Inc. (NASDAQ: AAPL). T-Mobile is expected to phase out its existing plans. &#8220;The first line costs $70 per month ...\",d:\"4 hours ago\",tt:\"1471617450\",usg:\"AFQjCNFufzS_47RESzi_qoTsOdiOLxHM-g\",sru:\"http://news.google.com/news/url?sa=T\\\\u0026ct2=us\\\\u0026fd=S\\\\u0026url=http://www.benzinga.com/analyst-ratings/analyst-color/16/08/8372982/t-mobile-is-stirring-the-pot-yet-again\\\\u0026cid=52779185160381\\\\u0026ei=B1i3V5ueHaW8igK92oaQCg\\\\u0026usg=AFQjCNHubwTa2p41-CD9jYqHSoKzFJebaQ\"}],lead_story_doc_id:\"17671525664274676422\"},{nrel:1,idx:24,id:\"52779185280727\",lead_story_url:\"https://spendmatters.com/2016/08/19/top-50-supplier-innovation-case-studies-apple-inc-diageo/\",a:[{t:\"Top 50 Supplier Innovation Case Studies: Nos. 1-10, Apple Inc. to Diageo\",u:\"https://spendmatters.com/2016/08/19/top-50-supplier-innovation-case-studies-apple-inc-diageo/\",s:\"Spend Matters\",sp:\"Here at Spend Matters, we try to provide procurement practitioners with not only some of the latest insights, analysis, and opinions on everything \\\\u0026#39;buy-side\\\\u0026#39;, but also with some time-saving strategies, techniques, and tools they can use to increase ...\",d:\"10 hours ago\",tt:\"1471597313\",usg:\"AFQjCNE2w2qjScrGJY0QeZsl5_ZksdqDEQ\",sru:\"http://news.google.com/news/url?sa=T\\\\u0026ct2=us\\\\u0026fd=S\\\\u0026url=https://spendmatters.com/2016/08/19/top-50-supplier-innovation-case-studies-apple-inc-diageo/\\\\u0026cid=52779185280727\\\\u0026ei=B1i3V5ueHaW8igK92oaQCg\\\\u0026usg=AFQjCNH_G6YmulsIOkI6-MkFrUK2bCljpg\"}],lead_story_doc_id:\"6694844665452906331\"},{nrel:55,idx:25,id:\"52779184642114\",lead_story_url:\"http://www.isstories.com/apple-inc-s-aapl/8735338/\",a:[{t:\"Stock Price Moves: Apple Inc.\\\\u0026#39;s (AAPL)\",u:\"http://www.isstories.com/apple-inc-s-aapl/8735338/\",s:\"Is stories\",sp:\"Apple Inc.\\\\u0026#39;s (AAPL) witnessed a loss of -0.13% in recent trading period with closing price of $ 109.08. The company\\\\u0026#39;s last traded volume of 21.11 million shares was above it\\\\u0026#39;s an average volume of 34.31 million shares.\",d:\"8 hours ago\",tt:\"1471603275\",usg:\"AFQjCNEXdfHGsgsl2AaP9xr-0NYDeo33NQ\",sru:\"http://news.google.com/news/url?sa=T\\\\u0026ct2=us\\\\u0026fd=S\\\\u0026url=http://www.isstories.com/apple-inc-s-aapl/8735338/\\\\u0026cid=52779184642114\\\\u0026ei=B1i3V5ueHaW8igK92oaQCg\\\\u0026usg=AFQjCNGOxdR-ONlzl69z3ddEh7YxiOtBGQ\"},{t:\"Apple Inc.\\\\u0026#39;s (AAPL): Volatile Movement\",u:\"http://www.hotstockspoint.com/apple-inc-s-aapl-volatile-movement/\",s:\"Hot Stocks Point\",sp:\"Apple Inc.\\\\u0026#39;s (AAPL), a part of Consumer Goods sector and belongs to Electronic Equipment industry; ended its day with a loss of -0.13% and finalized at the price of $109.08.\",d:\"6 hours ago\",tt:\"1471610025\",usg:\"AFQjCNEFZh9v2NCVcjBdZyShMJTk-_T-hg\",sru:\"http://news.google.com/news/url?sa=T\\\\u0026ct2=us\\\\u0026fd=S\\\\u0026url=http://www.hotstockspoint.com/apple-inc-s-aapl-volatile-movement/\\\\u0026cid=52779184642114\\\\u0026ei=B1i3V5ueHaW8igK92oaQCg\\\\u0026usg=AFQjCNHxRZBvKsgBnyrFk36mtZg2au8i9Q\"}],lead_story_doc_id:\"2275599468759599438\"},{idx:26,id:\"-1\"}],results_per_page:10,result_start_num:1,result_end_num:0,result_total_articles:111},related:{cols:[0,1,4,30,34,31,32,5,2,33,3],rows:[{id:\"22144\",values:[\"AAPL\",\"Apple Inc.\",\"109.19\",\"+0.11\",\"chg\",\"0.10\",\"\",\"587.61B\",\"NASDAQ\",\"22144\",\"AAPL\"]},{id:\"658723\",values:[\"SNDK\",\"SanDisk Corporation\",\"76.18\",\"\",\"\",\"\",\"\",\"15.38B\",\"NASDAQ\",\"658723\",\"SNDK\"]},{id:\"358464\",values:[\"MSFT\",\"Microsoft Corporation\",\"57.65\",\"+0.05\",\"chg\",\"0.09\",\"\",\"449.55B\",\"NASDAQ\",\"358464\",\"MSFT\"]},{id:\"180086490123759\",values:[\"SSNNF\",\"SAMSUNG ELECTRONIC PFD KRW5000\",\"0.00000\",\"\",\"\",\"\",\"\",\"\",\"OTCMKTS\",\"180086490123759\",\"SSNNF\"]},{id:\"664887\",values:[\"VZ\",\"Verizon Communications Inc.\",\"52.49\",\"-0.38\",\"chr\",\"-0.72\",\"\",\"212.76B\",\"NYSE\",\"664887\",\"VZ\"]},{id:\"17154\",values:[\"HPQ\",\"HP Inc\",\"14.40\",\"-0.12\",\"chr\",\"-0.79\",\"\",\"24.66B\",\"NYSE\",\"17154\",\"HPQ\"]},{id:\"18241\",values:[\"IBM\",\"Intl. Business Machines Corp.\",\"160.24\",\"-1.12\",\"chr\",\"-0.69\",\"\",\"154.04B\",\"NYSE\",\"18241\",\"IBM\"]},{id:\"7583206\",values:[\"HTCKF\",\"HTC CORPORATION SPON GDR REP 4 ORD REG\\'S\\'\",\"13.75\",\"0.00\",\"chb\",\"0.00\",\"\",\"2.85B\",\"OTCMKTS\",\"7583206\",\"HTCKF\"]},{id:\"33095\",values:[\"SNE\",\"Sony Corp (ADR)\",\"32.79\",\"-0.31\",\"chr\",\"-0.94\",\"\",\"41.88B\",\"NYSE\",\"33095\",\"SNE\"]},{id:\"694653\",values:[\"GOOGL\",\"Alphabet Inc\",\"798.61\",\"-4.14\",\"chr\",\"-0.52\",\"\",\"538.44B\",\"NASDAQ\",\"694653\",\"GOOGL\"]},{id:\"38688\",values:[\"WDC\",\"Western Digital Corp\",\"46.59\",\"+0.78\",\"chg\",\"1.70\",\"\",\"11.12B\",\"NASDAQ\",\"38688\",\"WDC\"]}],visible_cols:[0,1,4,30,34,31,32,5]},related_str:\"22144,658723,358464,180086490123759,664887,17154,18241,7583206,33095,694653,38688\",perf:[{u:\"/finance?q=INDEXDJX:.DJI\",name:\"Dow Jones\",cp:\"-0.23\",p:\"18,555.21\",cid:\"983582\"},{u:\"/finance?q=INDEXNASDAQ:.IXIC\",name:\"Nasdaq\",cp:\"-0.04\",p:\"5,237.85\",cid:\"13756934\"},{u:\"/finance?catid=us-TRBC:57\",name:\"Technology\",cp:\"0.08\",cid:\"0\"},{u:\"/finance?q=NASDAQ:AAPL\",name:\"AAPL\",cp:\"0.10\",p:\"109.19\",cid:\"22144\"}],t:\"NASDAQ:AAPL: {LAST} {CHANGE} ({CHANGE_PCT}%) - Apple Inc.\",ticker:\"NASDAQ:AAPL\",cid:\"22144\"},stickyUrlArgs:\"\\\\u0026ei=PFi3V_HOH4edigLShKXACQ\",chart:{_5d:\"EXCHANGE%3DNASDAQ\\\\nMARKET_OPEN_MINUTE=570\\\\nMARKET_CLOSE_MINUTE=960\\\\nINTERVAL=120\\\\nCOLUMNS=DATE,CLOSE,VOLUME\\\\nDATA=\\\\nTIMEZONE_OFFSET=-240\\\\na1471267800,108.15,424517\\\\n1,108.41,384565\\\\n2,108.69,299796\\\\n3,108.815,334795\\\\n4,108.8,358594\\\\n5,108.7899,176194\\\\n6,108.725,196673\\\\n7,108.8935,281812\\\\n8,108.97,357209\\\\n9,108.95,636540\\\\n10,109,172068\\\\n11,109.05,386524\\\\n12,109.13,298037\\\\n13,109.13,275743\\\\n14,109.03,329503\\\\n15,108.97,248891\\\\n16,109.05,200307\\\\n17,109.0401,207174\\\\n18,108.9999,180575\\\\n19,109.0968,157058\\\\n20,109.05,136433\\\\n21,109.021,165724\\\\n22,109.1,148311\\\\n23,109.14,123164\\\\n24,109.18,185477\\\\n25,109.22,188487\\\\n26,109.27,186488\\\\n27,109.32,189792\\\\n28,109.37,174747\\\\n29,109.369,207357\\\\n30,109.3118,142362\\\\n31,109.37,150806\\\\n32,109.39,78511\\\\n33,109.313,125258\\\\n34,109.3244,126585\\\\n35,109.31,85742\\\\n36,109.3893,127910\\\\n37,109.37,78066\\\\n38,109.29,94649\\\\n39,109.2748,103627\\\\n40,109.255,79621\\\\n41,109.22,145079\\\\n42,109.23,81978\\\\n43,109.27,108333\\\\n44,109.2363,86955\\\\n45,109.2707,63069\\\\n46,109.29,79601\\\\n47,109.2558,69380\\\\n48,109.2348,64803\\\\n49,109.23,47005\\\\n50,109.23,59194\\\\n51,109.267,101614\\\\n52,109.2959,91817\\\\n53,109.34,84438\\\\n54,109.37,81601\\\\n55,109.41,126934\\\\n56,109.4,54194\\\\n57,109.4144,49096\\\\n58,109.4735,139727\\\\n59,109.51,238416\\\\n60,109.515,135736\\\\n61,109.435,102891\\\\n62,109.47,79497\\\\n63,109.47,61130\\\\n64,109.5,132105\\\\n65,109.468,48124\\\\n66,109.47,32412\\\\n67,109.49,93112\\\\n68,109.4559,87923\\\\n69,109.4001,76160\\\\n70,109.37,103217\\\\n71,109.377,71198\\\\n72,109.3401,42599\\\\n73,109.3099,59614\\\\n74,109.3059,58086\\\\n75,109.32,74070\\\\n76,109.32,78955\\\\n77,109.33,44833\\\\n78,109.345,41273\\\\n79,109.3501,48507\\\\n80,109.359,27957\\\\n81,109.3392,41526\\\\n82,109.3259,40816\\\\n83,109.31,59975\\\\n84,109.355,56561\\\\n85,109.31,34985\\\\n86,109.33,64143\\\\n87,109.36,85652\\\\n88,109.345,46338\\\\n89,109.35,26296\\\\n90,109.36,35858\\\\n91,109.37,33623\\\\n92,109.38,45914\\\\n93,109.431,74279\\\\n94,109.4,29930\\\\n95,109.38,36610\\\\n96,109.38,45428\\\\n97,109.38,19657\\\\n98,109.39,34794\\\\n99,109.375,39381\\\\n100,109.3501,35720\\\\n101,109.33,46118\\\\n102,109.31,33912\\\\n103,109.35,35167\\\\n104,109.345,43014\\\\n105,109.385,50907\\\\n106,109.36,58685\\\\n107,109.37,82856\\\\n108,109.365,49028\\\\n109,109.325,27472\\\\n110,109.32,45931\\\\n111,109.34,30950\\\\n112,109.3,35698\\\\n113,109.33,32768\\\\n114,109.305,57324\\\\n115,109.3499,44226\\\\n116,109.34,36337\\\\n117,109.31,52318\\\\n118,109.32,52259\\\\n119,109.31,54141\\\\n120,109.31,42320\\\\n121,109.3,44441\\\\n122,109.245,117238\\\\n123,109.211,127346\\\\n124,109.25,59323\\\\n125,109.27,57617\\\\n126,109.314,64403\\\\n127,109.35,40824\\\\n128,109.33,42154\\\\n129,109.34,87898\\\\n130,109.29,40592\\\\n131,109.27,37178\\\\n132,109.3,26946\\\\n133,109.25,44064\\\\n134,109.244,43820\\\\n135,109.275,53974\\\\n136,109.275,47907\\\\n137,109.295,48957\\\\n138,109.295,39356\\\\n139,109.3159,72103\\\\n140,109.305,83033\\\\n141,109.2865,95326\\\\n142,109.27,40829\\\\n143,109.225,64903\\\\n144,109.27,64328\\\\n145,109.245,43446\\\\n146,109.245,44186\\\\n147,109.25,17450\\\\n148,109.275,67047\\\\n149,109.2739,34566\\\\n150,109.275,31608\\\\n151,109.2458,68664\\\\n152,109.3,68925\\\\n153,109.265,30791\\\\n154,109.29,33668\\\\n155,109.315,62425\\\\n156,109.3478,78602\\\\n157,109.325,33447\\\\n158,109.3263,54258\\\\n159,109.3401,58339\\\\n160,109.37,69993\\\\n161,109.385,39444\\\\n162,109.395,76188\\\\n163,109.41,133098\\\\n164,109.38,59949\\\\n165,109.38,41638\\\\n166,109.365,90238\\\\n167,109.36,59721\\\\n168,109.353,131762\\\\n169,109.35,61095\\\\n170,109.355,51300\\\\n171,109.35,94316\\\\n172,109.36,80410\\\\n173,109.35,58459\\\\n174,109.4,111915\\\\n175,109.4,104628\\\\n176,109.3347,118082\\\\n177,109.325,80796\\\\n178,109.355,131186\\\\n179,109.405,129867\\\\n180,109.4435,115903\\\\n181,109.4399,133416\\\\n182,109.45,210545\\\\n183,109.435,96702\\\\n184,109.4418,139868\\\\n185,109.45,152210\\\\n186,109.485,92378\\\\n187,109.485,181978\\\\n188,109.5,260929\\\\n189,109.5001,203375\\\\n190,109.45,229864\\\\n191,109.471,186878\\\\n192,109.485,195487\\\\n193,109.51,530600\\\\n194,109.495,404486\\\\n195,109.51,1829637\\\\n720,109.68,483879\\\\n721,109.93,702734\\\\n722,109.9669,459785\\\\n723,109.73,591525\\\\n724,109.677,324522\\\\n725,109.61,327955\\\\n726,109.635,308552\\\\n727,109.54,314397\\\\n728,109.69,270698\\\\n729,109.78,247221\\\\n730,109.87,265154\\\\n731,109.813,269343\\\\n732,109.925,249275\\\\n733,109.975,281732\\\\n734,109.9944,230428\\\\n735,110.015,1332385\\\\n736,110.12,264596\\\\n737,110.06,288499\\\\n738,110.14,328903\\\\n739,110.17,250416\\\\n740,110.07,241157\\\\n741,110.09,117094\\\\n742,110.13,143288\\\\n743,110.13,182452\\\\n744,110.1011,146228\\\\n745,110.07,95716\\\\n746,110.06,187708\\\\n747,109.97,247856\\\\n748,109.92,172398\\\\n749,109.825,171963\\\\n750,109.91,315437\\\\n751,109.86,100054\\\\n752,109.91,97884\\\\n753,109.84,98482\\\\n754,109.9835,138907\\\\n755,110.07,180795\\\\n756,110.015,115168\\\\n757,110.0387,116897\\\\n758,110.15,131545\\\\n759,110.085,117144\\\\n760,110.03,67071\\\\n761,110.029,123551\\\\n762,110.07,73038\\\\n763,110,73106\\\\n764,109.8858,196467\\\\n765,109.88,129102\\\\n766,109.87,95955\\\\n767,109.8961,112686\\\\n768,109.9058,80080\\\\n769,109.916,132655\\\\n770,109.96,75866\\\\n771,109.92,146557\\\\n772,109.8959,99036\\\\n773,109.96,65633\\\\n774,109.9501,78480\\\\n775,109.9758,61640\\\\n776,109.9748,55253\\\\n777,109.9301,59793\\\\n778,109.9336,41022\\\\n779,109.93,91115\\\\n780,109.93,67359\\\\n781,109.92,84129\\\\n782,109.9335,123553\\\\n783,109.88,60601\\\\n784,109.9,55807\\\\n785,109.87,98356\\\\n786,109.89,45735\\\\n787,109.899,56960\\\\n788,109.925,86079\\\\n789,109.885,62800\\\\n790,109.925,49354\\\\n791,109.95,50178\\\\n792,109.925,78531\\\\n793,109.92,44290\\\\n794,109.94,65152\\\\n795,109.95,80879\\\\n796,109.965,79160\\\\n797,109.9341,60083\\\\n798,109.89,86378\\\\n799,109.9,81720\\\\n800,109.8899,50549\\\\n801,109.9,63450\\\\n802,109.895,69876\\\\n803,109.855,63175\\\\n804,109.84,93242\\\\n805,109.9201,100212\\\\n806,109.925,80579\\\\n807,109.95,103204\\\\n808,109.97,128951\\\\n809,109.9592,117534\\\\n810,109.95,42534\\\\n811,109.935,68879\\\\n812,109.93,74747\\\\n813,109.9064,82595\\\\n814,109.841,87430\\\\n815,109.875,83705\\\\n816,109.885,90978\\\\n817,109.94,147966\\\\n818,109.9315,66930\\\\n819,109.9401,60300\\\\n820,109.94,88462\\\\n821,109.9,103114\\\\n822,109.89,79185\\\\n823,109.86,52728\\\\n824,109.81,111589\\\\n825,109.85,111093\\\\n826,109.79,83544\\\\n827,109.79,175448\\\\n828,109.7,96616\\\\n829,109.69,95159\\\\n830,109.6644,112932\\\\n831,109.7144,88589\\\\n832,109.67,63128\\\\n833,109.54,167865\\\\n834,109.5407,135712\\\\n835,109.489,206906\\\\n836,109.43,79218\\\\n837,109.4,145904\\\\n838,109.38,146518\\\\n839,109.45,125305\\\\n840,109.452,113188\\\\n841,109.5264,172281\\\\n842,109.5552,128757\\\\n843,109.49,115703\\\\n844,109.48,94945\\\\n845,109.468,84244\\\\n846,109.4301,127435\\\\n847,109.39,59927\\\\n848,109.38,56593\\\\n849,109.45,78461\\\\n850,109.51,93885\\\\n851,109.4644,61387\\\\n852,109.44,61459\\\\n853,109.46,66191\\\\n854,109.4834,82026\\\\n855,109.47,50333\\\\n856,109.5,58454\\\\n857,109.475,50314\\\\n858,109.51,52055\\\\n859,109.5,77562\\\\n860,109.4644,68851\\\\n861,109.46,47074\\\\n862,109.41,70431\\\\n863,109.33,116994\\\\n864,109.33,91001\\\\n865,109.34,61059\\\\n866,109.32,104194\\\\n867,109.315,70111\\\\n868,109.26,131746\\\\n869,109.29,125812\\\\n870,109.28,125799\\\\n871,109.37,142679\\\\n872,109.35,74891\\\\n873,109.3763,75841\\\\n874,109.45,109744\\\\n875,109.5141,197414\\\\n876,109.51,133314\\\\n877,109.51,71365\\\\n878,109.5701,158251\\\\n879,109.545,58065\\\\n880,109.615,100239\\\\n881,109.625,79359\\\\n882,109.65,107196\\\\n883,109.66,111692\\\\n884,109.635,73443\\\\n885,109.64,108278\\\\n886,109.6048,52447\\\\n887,109.545,79085\\\\n888,109.53,97011\\\\n889,109.54,82073\\\\n890,109.53,53824\\\\n891,109.5744,94676\\\\n892,109.5801,102171\\\\n893,109.585,60145\\\\n894,109.62,55633\\\\n895,109.615,62602\\\\n896,109.74,147770\\\\n897,109.74,155268\\\\n898,109.7401,130987\\\\n899,109.755,135755\\\\n900,109.72,105812\\\\n901,109.6663,108450\\\\n902,109.7337,100473\\\\n903,109.725,103204\\\\n904,109.68,113246\\\\n905,109.72,142360\\\\n906,109.6952,109565\\\\n907,109.7,89281\\\\n908,109.68,87104\\\\n909,109.675,114782\\\\n910,109.58,177856\\\\n911,109.535,251467\\\\n912,109.53,168277\\\\n913,109.5,227098\\\\n914,109.405,359662\\\\n915,109.39,2190835\\\\na1471440600,109.115,329929\\\\n1,109.04,386860\\\\n2,109.04,258480\\\\n3,108.92,215807\\\\n4,108.55,683202\\\\n5,108.671,271038\\\\n6,108.36,580920\\\\n7,108.59,279201\\\\n8,108.56,232993\\\\n9,108.65,230802\\\\n10,108.812,280778\\\\n11,108.74,179350\\\\n12,108.695,142614\\\\n13,108.6901,173492\\\\n14,108.6637,166316\\\\n15,108.602,175557\\\\n16,108.67,162499\\\\n17,108.5149,187613\\\\n18,108.53,105112\\\\n19,108.61,168374\\\\n20,108.485,141720\\\\n21,108.517,124531\\\\n22,108.5035,122366\\\\n23,108.515,144587\\\\n24,108.54,105727\\\\n25,108.56,112340\\\\n26,108.605,106222\\\\n27,108.71,147144\\\\n28,108.62,93064\\\\n29,108.71,93879\\\\n30,108.77,102590\\\\n31,108.73,194835\\\\n32,108.751,125245\\\\n33,108.75,121029\\\\n34,108.7,107013\\\\n35,108.78,78957\\\\n36,108.7901,67787\\\\n37,108.82,140330\\\\n38,108.8,103676\\\\n39,108.69,173444\\\\n40,108.64,67495\\\\n41,108.62,55169\\\\n42,108.56,172348\\\\n43,108.61,77894\\\\n44,108.62,106278\\\\n45,108.565,79925\\\\n46,108.69,55425\\\\n47,108.65,75087\\\\n48,108.71,57891\\\\n49,108.6707,69248\\\\n50,108.71,60585\\\\n51,108.7216,68003\\\\n52,108.769,44598\\\\n53,108.8,59573\\\\n54,108.81,54359\\\\n55,108.8,111011\\\\n56,108.735,71120\\\\n57,108.7311,60854\\\\n58,108.74,61710\\\\n59,108.67,41616\\\\n60,108.63,73651\\\\n61,108.6135,115417\\\\n62,108.56,99527\\\\n63,108.55,110611\\\\n64,108.59,168460\\\\n65,108.61,127789\\\\n66,108.62,62171\\\\n67,108.5535,62858\\\\n68,108.6,70459\\\\n69,108.5835,79233\\\\n70,108.6,40862\\\\n71,108.61,42060\\\\n72,108.645,34966\\\\n73,108.62,41298\\\\n74,108.5741,61884\\\\n75,108.59,41517\\\\n76,108.689,113208\\\\n77,108.72,92185\\\\n78,108.7,112227\\\\n79,108.74,57112\\\\n80,108.7348,79406\\\\n81,108.691,139220\\\\n82,108.71,68112\\\\n83,108.6752,56515\\\\n84,108.6762,68896\\\\n85,108.67,55263\\\\n86,108.7,49978\\\\n87,108.74,36646\\\\n88,108.73,93376\\\\n89,108.78,63247\\\\n90,108.7748,51645\\\\n91,108.73,58072\\\\n92,108.785,62473\\\\n93,108.7952,53517\\\\n94,108.795,55287\\\\n95,108.8364,65902\\\\n96,108.84,72957\\\\n97,108.84,37680\\\\n98,108.99,157224\\\\n99,109.06,185605\\\\n100,109.15,135344\\\\n101,109.19,169331\\\\n102,109.19,142958\\\\n103,109.185,136869\\\\n104,109.13,114462\\\\n105,109.13,64434\\\\n106,109.1401,109174\\\\n107,109.1608,110391\\\\n108,109.09,90198\\\\n109,109.095,98168\\\\n110,109.12,33489\\\\n111,109.1599,73286\\\\n112,109.19,60540\\\\n113,109.19,66401\\\\n114,109.14,60466\\\\n115,109.075,53209\\\\n116,109.075,69317\\\\n117,109.04,26262\\\\n118,109.06,59489\\\\n119,109.06,51074\\\\n120,109.07,61727\\\\n121,109.06,47776\\\\n122,109.0987,20094\\\\n123,109.107,66261\\\\n124,109.16,40846\\\\n125,109.18,160685\\\\n126,109.215,149930\\\\n127,109.1844,77299\\\\n128,109.168,42043\\\\n129,109.16,55812\\\\n130,109.1594,33368\\\\n131,109.12,35172\\\\n132,109.145,27792\\\\n133,109.08,65994\\\\n134,109.09,50188\\\\n135,109.11,43317\\\\n136,109.03,197012\\\\n137,108.95,139841\\\\n138,108.95,152184\\\\n139,109.05,112309\\\\n140,109.07,74088\\\\n141,109.11,83015\\\\n142,109.3493,270685\\\\n143,109.24,114124\\\\n144,109.16,121461\\\\n145,109.19,75911\\\\n146,109.12,74513\\\\n147,109.08,85192\\\\n148,109.12,81864\\\\n149,109.266,97830\\\\n150,109.23,87149\\\\n151,109.13,87346\\\\n152,109.17,71514\\\\n153,109.16,44964\\\\n154,109.2404,96600\\\\n155,109.2,58198\\\\n156,109.18,66515\\\\n157,109.175,64951\\\\n158,109.17,56065\\\\n159,109.24,98372\\\\n160,109.181,53510\\\\n161,109.1037,65800\\\\n162,109.02,114711\\\\n163,109.09,105223\\\\n164,109.12,70135\\\\n165,109.11,85706\\\\n166,109.105,67787\\\\n167,108.9994,105485\\\\n168,109.04,85172\\\\n169,109.035,49863\\\\n170,108.919,91625\\\\n171,108.897,150255\\\\n172,108.92,139715\\\\n173,108.975,53435\\\\n174,108.944,92917\\\\n175,108.98,90780\\\\n176,108.99,84037\\\\n177,108.9319,74735\\\\n178,109.03,81272\\\\n179,109.079,122739\\\\n180,109.091,86491\\\\n181,109.15,123917\\\\n182,109.15,84423\\\\n183,109.19,86122\\\\n184,109.2543,137450\\\\n185,109.22,115772\\\\n186,109.175,71091\\\\n187,109.17,78316\\\\n188,109.27,163856\\\\n189,109.29,98096\\\\n190,109.285,115367\\\\n191,109.23,188895\\\\n192,109.15,159493\\\\n193,109.12,158119\\\\n194,109.17,213653\\\\n195,109.22,1336033\\\\n720,109.21,216610\\\\n721,109.47,283274\\\\n722,109.4399,316464\\\\n723,109.51,225671\\\\n724,109.4511,280388\\\\n725,109.515,208521\\\\n726,109.38,255684\\\\n727,109.3052,219744\\\\n728,109.43,125897\\\\n729,109.47,161494\\\\n730,109.5089,165158\\\\n731,109.31,144527\\\\n732,109.37,85844\\\\n733,109.325,100726\\\\n734,109.4052,118922\\\\n735,109.33,95005\\\\n736,109.285,174680\\\\n737,109.275,156405\\\\n738,109.295,136489\\\\n739,109.17,223901\\\\n740,109.21,157571\\\\n741,109.3499,131420\\\\n742,109.4031,141173\\\\n743,109.295,133401\\\\n744,109.36,75260\\\\n745,109.34,55700\\\\n746,109.32,100890\\\\n747,109.34,44672\\\\n748,109.2699,60108\\\\n749,109.3,71138\\\\n750,109.31,96464\\\\n751,109.3301,60968\\\\n752,109.34,45064\\\\n753,109.29,38077\\\\n754,109.2519,71910\\\\n755,109.325,74948\\\\n756,109.32,103341\\\\n757,109.39,99005\\\\n758,109.4,71450\\\\n759,109.42,63189\\\\n760,109.42,62067\\\\n761,109.46,99426\\\\n762,109.44,64099\\\\n763,109.43,67892\\\\n764,109.44,84684\\\\n765,109.448,81804\\\\n766,109.3865,74864\\\\n767,109.29,145747\\\\n768,109.35,50261\\\\n769,109.395,109275\\\\n770,109.3335,72285\\\\n771,109.35,42506\\\\n772,109.375,47435\\\\n773,109.34,53716\\\\n774,109.38,39758\\\\n775,109.3937,52474\\\\n776,109.395,100807\\\\n777,109.45,61108\\\\n778,109.4401,66698\\\\n779,109.44,113794\\\\n780,109.48,45560\\\\n781,109.49,69949\\\\n782,109.47,74167\\\\n783,109.4999,55007\\\\n784,109.479,50135\\\\n785,109.47,43629\\\\n786,109.44,54283\\\\n787,109.4412,24036\\\\n788,109.4642,65440\\\\n789,109.455,33870\\\\n790,109.4799,55801\\\\n791,109.46,46273\\\\n792,109.45,43908\\\\n793,109.41,81056\\\\n794,109.395,91093\\\\n795,109.43,64151\\\\n796,109.42,22137\\\\n797,109.39,31504\\\\n798,109.42,94190\\\\n799,109.45,55007\\\\n800,109.43,36012\\\\n801,109.425,20738\\\\n802,109.385,31263\\\\n803,109.41,43565\\\\n804,109.39,38261\\\\n805,109.36,36327\\\\n806,109.3786,59121\\\\n807,109.345,39803\\\\n808,109.31,27159\\\\n809,109.3,40538\\\\n810,109.23,86309\\\\n811,109.208,96381\\\\n812,109.22,76352\\\\n813,109.08,174244\\\\n814,109.07,179005\\\\n815,109.12,98175\\\\n816,109.159,69889\\\\n817,109.16,52622\\\\n818,109.1,74287\\\\n819,109.14,47753\\\\n820,109.125,50527\\\\n821,109.2027,41850\\\\n822,109.1765,87474\\\\n823,109.1949,50901\\\\n824,109.15,50750\\\\n825,109.1502,36138\\\\n826,109.213,93715\\\\n827,109.2037,70856\\\\n828,109.21,55382\\\\n829,109.22,56393\\\\n830,109.19,45609\\\\n831,109.2493,55188\\\\n832,109.2,52054\\\\n833,109.18,67173\\\\n834,109.21,63054\\\\n835,109.1842,42833\\\\n836,109.19,67221\\\\n837,109.2059,31073\\\\n838,109.16,43419\\\\n839,109.16,37669\\\\n840,109.13,45359\\\\n841,109.1739,50805\\\\n842,109.2,34825\\\\n843,109.17,43661\\\\n844,109.2,53090\\\\n845,109.295,85599\\\\n846,109.25,65220\\\\n847,109.26,53729\\\\n848,109.285,110613\\\\n849,109.26,52010\\\\n850,109.24,31153\\\\n851,109.225,41506\\\\n852,109.24,41690\\\\n853,109.205,59998\\\\n854,109.21,34788\\\\n855,109.18,30557\\\\n856,109.184,37020\\\\n857,109.2,39277\\\\n858,109.2275,29305\\\\n859,109.205,55410\\\\n860,109.225,58837\\\\n861,109.27,57908\\\\n862,109.25,46417\\\\n863,109.245,39356\\\\n864,109.236,50203\\\\n865,109.2542,53052\\\\n866,109.21,96014\\\\n867,109.2138,43907\\\\n868,109.2337,87150\\\\n869,109.22,48341\\\\n870,109.22,37627\\\\n871,109.2132,44185\\\\n872,109.2,122806\\\\n873,109.2011,73674\\\\n874,109.23,44560\\\\n875,109.2335,55448\\\\n876,109.275,52962\\\\n877,109.27,137529\\\\n878,109.285,81185\\\\n879,109.2837,89196\\\\n880,109.33,56662\\\\n881,109.3,58364\\\\n882,109.3635,78093\\\\n883,109.344,100639\\\\n884,109.37,44703\\\\n885,109.385,52081\\\\n886,109.4,85461\\\\n887,109.4556,98780\\\\n888,109.46,95937\\\\n889,109.47,49995\\\\n890,109.48,66772\\\\n891,109.44,69536\\\\n892,109.45,41043\\\\n893,109.465,47427\\\\n894,109.455,51553\\\\n895,109.48,64660\\\\n896,109.47,135437\\\\n897,109.485,89980\\\\n898,109.49,60846\\\\n899,109.4437,62835\\\\n900,109.39,145993\\\\n901,109.37,165258\\\\n902,109.3648,64944\\\\n903,109.37,74930\\\\n904,109.365,58003\\\\n905,109.365,85801\\\\n906,109.42,80404\\\\n907,109.44,132417\\\\n908,109.425,69337\\\\n909,109.3841,123980\\\\n910,109.26,182031\\\\n911,109.25,267388\\\\n912,109.26,156236\\\\n913,109.17,311462\\\\n914,109.115,299204\\\\n915,109.08,1610901\\\\na1471613400,108.79,1614803\\\\n1,108.645,534842\\\\n2,108.61,302551\\\\n3,108.63,237303\\\\n4,108.695,273311\\\\n5,108.54,164555\\\\n6,108.47,217293\\\\n7,108.53,265728\\\\n8,108.4305,168051\\\\n9,108.4008,278873\\\\n10,108.46,189617\\\\n11,108.45,111551\\\\n12,108.5501,176942\\\\n13,108.63,156965\\\\n14,108.71,156183\\\\n15,108.821,218054\\\\n16,108.78,177977\\\\n17,108.74,113975\\\\n18,108.7826,142385\\\\n19,108.8301,168846\\\\n20,108.8199,76764\\\\n21,108.79,119803\\\\n22,108.805,160493\\\\n23,108.75,124070\\\\n24,108.78,84002\\\\n25,108.82,134004\\\\n26,108.92,190518\\\\n27,108.93,186714\\\\n28,108.98,117761\\\\n29,109.09,248903\\\\n30,109.215,211415\\\\n31,109.15,335522\\\\n32,109.13,126331\\\\n33,109.16,111645\\\\n34,109.21,213593\\\\n35,109.27,212330\\\\n36,109.16,181788\\\\n37,109.326,187408\\\\n38,109.3,116346\\\\n39,109.24,144595\\\\n40,109.21,115511\\\\n41,109.18,118382\\\\n42,109.27,138954\\\\n43,109.35,123532\\\\n44,109.33,75497\\\\n45,109.36,76092\\\\n46,109.37,104769\\\\n47,109.44,126650\\\\n48,109.44,61197\\\\n49,109.46,80868\\\\n50,109.4734,104875\\\\n51,109.4752,84528\\\\n52,109.469,90235\\\\n53,109.39,78313\\\\n54,109.405,106114\\\\n55,109.46,58326\\\\n56,109.49,116257\\\\n57,109.45,88477\\\\n58,109.5,142687\\\\n59,109.4901,62820\\\\n60,109.488,96220\\\\n61,109.55,132099\\\\n62,109.54,166101\\\\n63,109.5507,81195\\\\n64,109.555,69681\\\\n65,109.53,117588\\\\n66,109.51,82197\\\\n67,109.48,86061\\\\n68,109.44,131185\\\\n69,109.4601,46331\\\\n70,109.46,124239\\\\n71,109.4401,47040\\\\n72,109.42,65470\\\\n73,109.42,66145\\\\n74,109.49,44828\\\\n75,109.578,82447\\\\n76,109.56,63734\\\\n77,109.6037,108456\\\\n78,109.61,56717\\\\n79,109.63,67554\\\\n80,109.67,122183\\\\n81,109.67,58440\\\\n82,109.63,39519\\\\n83,109.64,53833\\\\n84,109.6,90420\\\\n85,109.59,93596\\\\n86,109.62,59927\\\\n87,109.6,45626\\\\n88,109.6,42138\\\\n89,109.58,39693\\\\n90,109.57,37842\\\\n91,109.564,62609\\\\n92,109.59,55340\\\\n93,109.62,61934\\\\n94,109.58,83341\\\\n95,109.55,93679\\\\n96,109.545,67294\\\\n97,109.5016,58116\\\\n98,109.564,87673\\\\n99,109.43,182850\\\\n100,109.4,89932\\\\n101,109.2499,140401\\\\n102,109.2901,129148\\\\n103,109.29,96820\\\\n104,109.299,71193\\\\n105,109.3,98222\\\\n106,109.31,57627\\\\n107,109.26,107862\\\\n108,109.29,49339\\\\n109,109.25,73770\\\\n110,109.21,102540\\\\n111,109.21,107842\\\\n112,109.225,65237\\\\n113,109.23,65092\\\\n114,109.25,54732\\\\n115,109.2542,38850\\\\n116,109.26,53200\\\\n117,109.26,48727\\\\n118,109.18,102651\\\\n119,109.175,70705\\\\n120,109.22,59611\\\\n121,109.235,72088\\\\n122,109.23,116351\\\\n123,109.25,75482\\\\n124,109.2857,33724\\\\n125,109.235,47777\\\\n126,109.22,55472\\\\n127,109.22,70109\\\\n128,109.27,42722\\\\n129,109.3,65558\\\\n130,109.28,61894\\\\n131,109.27,72581\\\\n132,109.3,52915\\\\n133,109.29,34453\\\\n134,109.2682,66776\\\\n135,109.22,60701\\\\n136,109.25,68300\\\\n137,109.29,81236\\\\n138,109.29,57060\\\\n139,109.31,43615\\\\n140,109.3,48734\\\\n141,109.33,43778\\\\n142,109.308,35810\\\\n143,109.28,35932\\\\n144,109.3,37111\\\\n145,109.2837,51914\\\\n146,109.225,70909\\\\n147,109.2092,76644\\\\n148,109.1841,87321\\\\n149,109.09,159222\\\\n150,109.142,41728\\\\n151,109.14,126081\\\\n152,109.1999,69456\\\\n153,109.2099,58386\\\\n154,109.175,56718\\\\n155,109.1907,41095\\\\n156,109.164,60667\\\\n157,109.13,71732\\\\n158,109.155,60756\\\\n159,109.14,48937\\\\n160,109.15,42868\\\\n161,109.18,33777\\\\n162,109.2,37096\\\\n163,109.2037,42658\\\\n164,109.2135,32376\\\\n165,109.185,33074\\\\n166,109.1701,28566\\\\n167,109.195,13560\\\\n\",_5Y:\"EXCHANGE%3DNASDAQ\\\\nMARKET_OPEN_MINUTE=570\\\\nMARKET_CLOSE_MINUTE=960\\\\nINTERVAL=604800\\\\nCOLUMNS=DATE,CLOSE,VOLUME,CDAYS\\\\nDATA=\\\\nTIMEZONE_OFFSET=-240\\\\na1313784000,50.86,757201368,5\\\\n1,54.8,832795530,5\\\\n2,53.44,532204526,5\\\\n3,53.93,460376791,4\\\\n4,57.214,639900065,5\\\\n5,57.7571,930136571,5\\\\n6,54.47,768706785,5\\\\n7,52.83,1009354472,5\\\\n8,60.29,667507239,5\\\\n9,56.12,960601691,5\\\\n10,57.85,551737291,5\\\\n11,57.18,497354914,5\\\\nTIMEZONE_OFFSET=-300\\\\na1321045200,54.95,657037857,5\\\\n1,53.5629,516361244,5\\\\na1322244000,51.94,385225176,4\\\\na1322859600,55.6714,473798542,5\\\\n1,56.2314,404917905,5\\\\n2,54.43,431345775,5\\\\n3,57.62,326960396,5\\\\n4,57.86,222505591,4\\\\n5,60.34,288039024,4\\\\n6,59.9729,326606273,5\\\\n7,60.043,298848515,4\\\\n8,63.9,609019936,5\\\\n9,65.67,378736176,5\\\\n10,70.489,622323716,5\\\\n11,71.73,991397253,5\\\\n12,74.63,518046424,4\\\\n13,77.88,803732937,5\\\\n14,77.881,838304838,5\\\\nTIMEZONE_OFFSET=-240\\\\na1331928000,83.653,1125532072,5\\\\n1,85.15,854140910,5\\\\n2,85.65,799400056,5\\\\na1333656000,90.53,661788771,5\\\\na1334347200,86.46,914452497,5\\\\n1,81.85,1224122172,5\\\\n2,86.14,972865761,5\\\\n3,80.75,616325045,5\\\\n4,80.96,542765944,5\\\\n5,75.77,709833831,5\\\\n6,80.33,683859967,5\\\\n7,80.14,480704252,4\\\\n8,82.903,518528801,5\\\\n9,82.02,500427550,5\\\\n10,83.16,443055935,5\\\\n11,83.43,372161503,5\\\\n12,86.55,386303218,4\\\\n13,86.42,525070609,5\\\\n14,86.33,420536284,5\\\\n15,83.59,685307028,5\\\\n16,87.96,475782195,5\\\\n17,88.81,313601211,5\\\\n18,92.59,393510663,5\\\\n19,94.746,712216267,5\\\\n20,95.03,384526408,5\\\\n21,97.21,356324913,4\\\\n22,98.75,725746182,5\\\\n23,100.014,501637178,5\\\\n24,95.301,716101659,5\\\\n25,93.23,640153199,5\\\\n26,89.959,748256446,5\\\\n27,87.12,648071949,5\\\\n28,86.29,871787588,5\\\\n29,82.4,367705457,4\\\\nTIMEZONE_OFFSET=-300\\\\na1352494800,78.151,920975286,5\\\\n1,75.3826,895745214,5\\\\na1353693600,81.6429,527994159,4\\\\na1354309200,83.61,647737377,5\\\\n1,76.18,982954427,5\\\\n2,72.828,836198734,5\\\\n3,74.19,728044821,5\\\\n4,72.7985,321894930,4\\\\n5,75.29,541820461,5\\\\n6,74.33,575588923,5\\\\n7,71.43,807137219,5\\\\n8,62.84,997968482,5\\\\n9,64.803,658135569,5\\\\n10,67.85,745475360,5\\\\n11,65.74,587280127,5\\\\n12,64.4,422477923,5\\\\n13,61.5,584095995,5\\\\n14,61.67,635370519,5\\\\nTIMEZONE_OFFSET=-240\\\\na1363377600,63.38,573448554,5\\\\n1,65.99,554997079,5\\\\na1364500800,63.24,392454741,5\\\\na1365192000,60.457,506267566,5\\\\n1,61.4,387769977,5\\\\n2,55.79,710978289,5\\\\n3,59.601,803274927,5\\\\n4,64.28,655642141,5\\\\n5,64.71,546647234,5\\\\n6,61.89,634345642,5\\\\n7,63.5929,495234957,5\\\\n8,64.248,363735547,5\\\\n9,63.116,444370843,5\\\\n10,61.436,387573025,5\\\\n11,59.0714,401080582,5\\\\n12,56.65,519767255,5\\\\n13,59.63,344067542,5\\\\n14,60.93,384630904,5\\\\n15,60.71,286397069,5\\\\n16,63,399849212,5\\\\n17,66.08,340462864,5\\\\n18,64.92,369061147,5\\\\n19,71.76,713835500,5\\\\n20,71.57,418004426,5\\\\n21,69.602,393704339,5\\\\n22,71.17,318256176,5\\\\n23,66.41,670218052,5\\\\n24,66.77,627157776,5\\\\n25,68.96,477166347,5\\\\n26,69.004,371211848,5\\\\n27,70.402,362818757,5\\\\n28,72.7,344302063,5\\\\n29,75.137,492113048,5\\\\n30,74.29,522749024,5\\\\nTIMEZONE_OFFSET=-300\\\\na1383944400,74.366,318853899,5\\\\n1,74.999,307367732,5\\\\n2,74.26,283454822,5\\\\n3,79.44,328088187,5\\\\n4,80.0029,523313952,5\\\\n5,79.2,388398437,5\\\\n6,78.4314,458932712,5\\\\n7,80.01,274688918,5\\\\n8,77.28,276322921,5\\\\n9,76.13,393704465,5\\\\n10,77.24,442965852,5\\\\n11,78.01,386837661,5\\\\n12,71.51,823094762,5\\\\n13,74.24,435352295,5\\\\n14,77.7129,379678530,5\\\\n15,75.04,290147018,5\\\\n16,75.18,368375560,5\\\\n17,75.78,276573199,5\\\\nTIMEZONE_OFFSET=-240\\\\na1394827200,74.96,288820840,5\\\\n1,76.1243,304198601,5\\\\n2,76.69,340089190,5\\\\n3,75.97,246922340,5\\\\n4,74.23,312864965,5\\\\na1397764800,74.99,242907469,5\\\\na1398456000,81.71,482615539,5\\\\n1,84.65,474868226,5\\\\n2,83.6489,366597980,5\\\\n3,85.36,261663682,5\\\\n4,87.7329,295669360,5\\\\n5,90.43,401262260,5\\\\n6,92.22,413012096,5\\\\n7,91.28,293147031,5\\\\n8,90.91,235227477,5\\\\n9,91.98,216257181,5\\\\na1404417600,94.03,139169331,5\\\\na1405108800,95.22,231829837,5\\\\n1,94.43,249294582,5\\\\n2,97.671,276391278,5\\\\n3,96.13,236824718,5\\\\n4,94.74,223025521,5\\\\n5,97.98,179363532,5\\\\n6,101.32,247332907,5\\\\n7,102.5,238846216,5\\\\n8,98.97,323160039,5\\\\n9,101.66,463569230,5\\\\n10,100.96,297352988,5\\\\n11,100.75,338824941,5\\\\n12,99.62,247749150,5\\\\n13,100.73,280258156,5\\\\n14,97.67,358539741,5\\\\n15,105.22,358532919,5\\\\n16,108,220230607,5\\\\nTIMEZONE_OFFSET=-300\\\\na1415394000,109.01,199952812,5\\\\n1,114.18,205166680,5\\\\n2,116.47,233414685,5\\\\n3,118.93,181937552,5\\\\n4,115,266701088,5\\\\n5,109.73,259937920,5\\\\n6,111.78,328856576,5\\\\n7,113.99,119396530,5\\\\n8,109.33,152088374,4\\\\n9,112.01,283252615,5\\\\n10,105.99,304226647,5\\\\n11,112.98,198737041,4\\\\n12,117.16,465842684,5\\\\n13,118.93,270757404,5\\\\n14,127.08,303206785,5\\\\n15,129.495,194354942,4\\\\n16,128.46,368216362,5\\\\n17,126.6,246938492,5\\\\nTIMEZONE_OFFSET=-240\\\\na1426276800,123.59,326514045,5\\\\n1,125.9,266672975,5\\\\n2,123.25,209326175,5\\\\na1428004800,125.32,162031791,5\\\\na1428696000,127.1,182207413,5\\\\n1,124.75,171186168,5\\\\n2,130.28,207440679,5\\\\n3,128.95,420972321,5\\\\n4,127.62,271891981,5\\\\n5,128.77,208301514,5\\\\n6,132.54,217297426,5\\\\n7,130.28,198148567,4\\\\n8,128.65,170840884,5\\\\n9,127.17,220114589,5\\\\n10,126.6,198525255,5\\\\n11,126.75,195594004,5\\\\na1435867200,126.44,150981872,5\\\\na1436558400,123.28,275718368,5\\\\n1,129.62,189245034,5\\\\n2,124.5,344269021,5\\\\n3,121.3,191598511,5\\\\n4,115.52,385000649,5\\\\n5,115.96,345185326,5\\\\n6,105.76,317786709,5\\\\n7,113.29,496082206,5\\\\n8,109.27,296006231,5\\\\n9,114.21,250575722,4\\\\n10,113.45,274997575,5\\\\n11,114.71,237661814,5\\\\n12,110.38,312273197,5\\\\n13,112.12,260754681,5\\\\n14,111.04,182441328,5\\\\n15,119.08,220592328,5\\\\n16,119.5,308049211,5\\\\nTIMEZONE_OFFSET=-300\\\\na1446843600,121.06,193625759,5\\\\n1,112.34,214824225,5\\\\n2,119.3,188080098,5\\\\na1448647200,117.81,109125619,4\\\\na1449262800,119.03,204905112,5\\\\n1,113.18,188853944,5\\\\n2,106.03,315106458,5\\\\na1450980000,108.03,126634011,4\\\\na1451595600,105.26,123761546,5\\\\na1452286800,96.96,343422014,5\\\\n1,97.13,302072797,5\\\\n2,101.42,242466904,4\\\\n3,97.34,366526430,5\\\\n4,94.02,215137299,5\\\\n5,93.99,230168051,5\\\\n6,96.04,164860869,4\\\\n7,96.91,158197649,5\\\\n8,103.01,200844172,5\\\\n9,102.26,154948209,5\\\\nTIMEZONE_OFFSET=-240\\\\na1458331200,105.92,180635800,5\\\\na1458849600,105.67,118346889,5\\\\na1459540800,109.99,146549368,5\\\\n1,108.66,144181792,5\\\\n2,109.85,159573241,5\\\\n3,105.68,186626812,5\\\\n4,93.74,332152866,5\\\\n5,92.72,224316942,5\\\\n6,90.52,215285576,5\\\\n7,95.22,211069682,5\\\\n8,100.35,203388823,5\\\\n9,97.92,140176985,4\\\\n10,98.83,124864375,5\\\\n11,95.33,191732699,5\\\\n12,93.4,206728924,5\\\\n13,95.89,185461004,5\\\\n14,96.68,112705961,4\\\\n15,98.78,142910566,5\\\\n16,98.66,147565456,5\\\\n17,104.21,256571090,5\\\\n18,107.48,170149120,5\\\\n19,108.18,124505869,5\\\\n\",corp_actions:\"[{\\\\\"_quote\\\\\":\\\\\"NASD:AAPL\\\\\",\\\\\"_type\\\\\":\\\\\"split\\\\\",\\\\\"_date\\\\\":\\\\\"550848600\\\\\",\\\\\"_old_shares\\\\\":\\\\\"1\\\\\",\\\\\"_new_shares\\\\\":\\\\\"2\\\\\"},{\\\\\"_quote\\\\\":\\\\\"NASD:AAPL\\\\\",\\\\\"_type\\\\\":\\\\\"split\\\\\",\\\\\"_date\\\\\":\\\\\"961594200\\\\\",\\\\\"_old_shares\\\\\":\\\\\"1\\\\\",\\\\\"_new_shares\\\\\":\\\\\"2\\\\\"},{\\\\\"_quote\\\\\":\\\\\"NASD:AAPL\\\\\",\\\\\"_type\\\\\":\\\\\"split\\\\\",\\\\\"_date\\\\\":\\\\\"1109601000\\\\\",\\\\\"_old_shares\\\\\":\\\\\"1\\\\\",\\\\\"_new_shares\\\\\":\\\\\"2\\\\\"},{\\\\\"_quote\\\\\":\\\\\"NASD:AAPL\\\\\",\\\\\"_type\\\\\":\\\\\"split\\\\\",\\\\\"_date\\\\\":\\\\\"1402320600\\\\\",\\\\\"_old_shares\\\\\":\\\\\"1\\\\\",\\\\\"_new_shares\\\\\":\\\\\"7\\\\\"},{\\\\\"_quote\\\\\":\\\\\"NASD:AAPL\\\\\",\\\\\"_type\\\\\":\\\\\"dividend\\\\\",\\\\\"_date\\\\\":\\\\\"547738200\\\\\",\\\\\"_amount\\\\\":\\\\\"0.002143\\\\\",\\\\\"_payable_date\\\\\":\\\\\"550762200\\\\\"},{\\\\\"_quote\\\\\":\\\\\"NASD:AAPL\\\\\",\\\\\"_type\\\\\":\\\\\"dividend\\\\\",\\\\\"_date\\\\\":\\\\\"555600600\\\\\",\\\\\"_amount\\\\\":\\\\\"0.002143\\\\\",\\\\\"_payable_date\\\\\":\\\\\"558711000\\\\\"},{\\\\\"_quote\\\\\":\\\\\"NASD:AAPL\\\\\",\\\\\"_type\\\\\":\\\\\"dividend\\\\\",\\\\\"_date\\\\\":\\\\\"564157800\\\\\",\\\\\"_amount\\\\\":\\\\\"0.002857\\\\\",\\\\\"_payable_date\\\\\":\\\\\"566577000\\\\\"},{\\\\\"_quote\\\\\":\\\\\"NASD:AAPL\\\\\",\\\\\"_type\\\\\":\\\\\"dividend\\\\\",\\\\\"_date\\\\\":\\\\\"571674600\\\\\",\\\\\"_amount\\\\\":\\\\\"0.002857\\\\\",\\\\\"_payable_date\\\\\":\\\\\"574439400\\\\\"},{\\\\\"_quote\\\\\":\\\\\"NASD:AAPL\\\\\",\\\\\"_type\\\\\":\\\\\"dividend\\\\\",\\\\\"_date\\\\\":\\\\\"579792600\\\\\",\\\\\"_amount\\\\\":\\\\\"0.002857\\\\\",\\\\\"_payable_date\\\\\":\\\\\"582384600\\\\\"},{\\\\\"_quote\\\\\":\\\\\"NASD:AAPL\\\\\",\\\\\"_type\\\\\":\\\\\"dividend\\\\\",\\\\\"_date\\\\\":\\\\\"587655000\\\\\",\\\\\"_amount\\\\\":\\\\\"0.002857\\\\\",\\\\\"_payable_date\\\\\":\\\\\"590333400\\\\\"},{\\\\\"_quote\\\\\":\\\\\"NASD:AAPL\\\\\",\\\\\"_type\\\\\":\\\\\"dividend\\\\\",\\\\\"_date\\\\\":\\\\\"596125800\\\\\",\\\\\"_amount\\\\\":\\\\\"0.003571\\\\\",\\\\\"_payable_date\\\\\":\\\\\"598199400\\\\\"},{\\\\\"_quote\\\\\":\\\\\"NASD:AAPL\\\\\",\\\\\"_type\\\\\":\\\\\"dividend\\\\\",\\\\\"_date\\\\\":\\\\\"603729000\\\\\",\\\\\"_amount\\\\\":\\\\\"0.003571\\\\\",\\\\\"_payable_date\\\\\":\\\\\"605975400\\\\\"},{\\\\\"_quote\\\\\":\\\\\"NASD:AAPL\\\\\",\\\\\"_type\\\\\":\\\\\"dividend\\\\\",\\\\\"_date\\\\\":\\\\\"611847000\\\\\",\\\\\"_amount\\\\\":\\\\\"0.003571\\\\\",\\\\\"_payable_date\\\\\":\\\\\"613920600\\\\\"},{\\\\\"_quote\\\\\":\\\\\"NASD:AAPL\\\\\",\\\\\"_type\\\\\":\\\\\"dividend\\\\\",\\\\\"_date\\\\\":\\\\\"619709400\\\\\",\\\\\"_amount\\\\\":\\\\\"0.003571\\\\\",\\\\\"_payable_date\\\\\":\\\\\"621869400\\\\\"},{\\\\\"_quote\\\\\":\\\\\"NASD:AAPL\\\\\",\\\\\"_type\\\\\":\\\\\"dividend\\\\\",\\\\\"_date\\\\\":\\\\\"627316200\\\\\",\\\\\"_amount\\\\\":\\\\\"0.003929\\\\\",\\\\\"_payable_date\\\\\":\\\\\"629735400\\\\\"},{\\\\\"_quote\\\\\":\\\\\"NASD:AAPL\\\\\",\\\\\"_type\\\\\":\\\\\"dividend\\\\\",\\\\\"_date\\\\\":\\\\\"635178600\\\\\",\\\\\"_amount\\\\\":\\\\\"0.003929\\\\\",\\\\\"_payable_date\\\\\":\\\\\"637511400\\\\\"},{\\\\\"_quote\\\\\":\\\\\"NASD:AAPL\\\\\",\\\\\"_type\\\\\":\\\\\"dividend\\\\\",\\\\\"_date\\\\\":\\\\\"643296600\\\\\",\\\\\"_amount\\\\\":\\\\\"0.003929\\\\\",\\\\\"_payable_date\\\\\":\\\\\"645456600\\\\\"},{\\\\\"_quote\\\\\":\\\\\"NASD:AAPL\\\\\",\\\\\"_type\\\\\":\\\\\"dividend\\\\\",\\\\\"_date\\\\\":\\\\\"651159000\\\\\",\\\\\"_amount\\\\\":\\\\\"0.003929\\\\\",\\\\\"_payable_date\\\\\":\\\\\"653319000\\\\\"},{\\\\\"_quote\\\\\":\\\\\"NASD:AAPL\\\\\",\\\\\"_type\\\\\":\\\\\"dividend\\\\\",\\\\\"_date\\\\\":\\\\\"658765800\\\\\",\\\\\"_amount\\\\\":\\\\\"0.004286\\\\\",\\\\\"_payable_date\\\\\":\\\\\"661185000\\\\\"},{\\\\\"_quote\\\\\":\\\\\"NASD:AAPL\\\\\",\\\\\"_type\\\\\":\\\\\"dividend\\\\\",\\\\\"_date\\\\\":\\\\\"666628200\\\\\",\\\\\"_amount\\\\\":\\\\\"0.004286\\\\\",\\\\\"_payable_date\\\\\":\\\\\"669047400\\\\\"},{\\\\\"_quote\\\\\":\\\\\"NASD:AAPL\\\\\",\\\\\"_type\\\\\":\\\\\"dividend\\\\\",\\\\\"_date\\\\\":\\\\\"674746200\\\\\",\\\\\"_amount\\\\\":\\\\\"0.004286\\\\\",\\\\\"_payable_date\\\\\":\\\\\"676906200\\\\\"},{\\\\\"_quote\\\\\":\\\\\"NASD:AAPL\\\\\",\\\\\"_type\\\\\":\\\\\"dividend\\\\\",\\\\\"_date\\\\\":\\\\\"682608600\\\\\",\\\\\"_amount\\\\\":\\\\\"0.004286\\\\\",\\\\\"_payable_date\\\\\":\\\\\"684768600\\\\\"},{\\\\\"_quote\\\\\":\\\\\"NASD:AAPL\\\\\",\\\\\"_type\\\\\":\\\\\"dividend\\\\\",\\\\\"_date\\\\\":\\\\\"690474600\\\\\",\\\\\"_amount\\\\\":\\\\\"0.004286\\\\\",\\\\\"_payable_date\\\\\":\\\\\"692634600\\\\\"},{\\\\\"_quote\\\\\":\\\\\"NASD:AAPL\\\\\",\\\\\"_type\\\\\":\\\\\"dividend\\\\\",\\\\\"_date\\\\\":\\\\\"698077800\\\\\",\\\\\"_amount\\\\\":\\\\\"0.004286\\\\\",\\\\\"_payable_date\\\\\":\\\\\"700497000\\\\\"},{\\\\\"_quote\\\\\":\\\\\"NASD:AAPL\\\\\",\\\\\"_type\\\\\":\\\\\"dividend\\\\\",\\\\\"_date\\\\\":\\\\\"707405400\\\\\",\\\\\"_amount\\\\\":\\\\\"0.004286\\\\\",\\\\\"_payable_date\\\\\":\\\\\"708960600\\\\\"},{\\\\\"_quote\\\\\":\\\\\"NASD:AAPL\\\\\",\\\\\"_type\\\\\":\\\\\"dividend\\\\\",\\\\\"_date\\\\\":\\\\\"714058200\\\\\",\\\\\"_amount\\\\\":\\\\\"0.004286\\\\\",\\\\\"_payable_date\\\\\":\\\\\"716218200\\\\\"},{\\\\\"_quote\\\\\":\\\\\"NASD:AAPL\\\\\",\\\\\"_type\\\\\":\\\\\"dividend\\\\\",\\\\\"_date\\\\\":\\\\\"723133800\\\\\",\\\\\"_amount\\\\\":\\\\\"0.004286\\\\\",\\\\\"_payable_date\\\\\":\\\\\"724689000\\\\\"},{\\\\\"_quote\\\\\":\\\\\"NASD:AAPL\\\\\",\\\\\"_type\\\\\":\\\\\"dividend\\\\\",\\\\\"_date\\\\\":\\\\\"729527400\\\\\",\\\\\"_amount\\\\\":\\\\\"0.004286\\\\\",\\\\\"_payable_date\\\\\":\\\\\"731946600\\\\\"},{\\\\\"_quote\\\\\":\\\\\"NASD:AAPL\\\\\",\\\\\"_type\\\\\":\\\\\"dividend\\\\\",\\\\\"_date\\\\\":\\\\\"738595800\\\\\",\\\\\"_amount\\\\\":\\\\\"0.004286\\\\\",\\\\\"_payable_date\\\\\":\\\\\"741015000\\\\\"},{\\\\\"_quote\\\\\":\\\\\"NASD:AAPL\\\\\",\\\\\"_type\\\\\":\\\\\"dividend\\\\\",\\\\\"_date\\\\\":\\\\\"745507800\\\\\",\\\\\"_amount\\\\\":\\\\\"0.004286\\\\\",\\\\\"_payable_date\\\\\":\\\\\"747667800\\\\\"},{\\\\\"_quote\\\\\":\\\\\"NASD:AAPL\\\\\",\\\\\"_type\\\\\":\\\\\"dividend\\\\\",\\\\\"_date\\\\\":\\\\\"753719400\\\\\",\\\\\"_amount\\\\\":\\\\\"0.004286\\\\\",\\\\\"_payable_date\\\\\":\\\\\"756138600\\\\\"},{\\\\\"_quote\\\\\":\\\\\"NASD:AAPL\\\\\",\\\\\"_type\\\\\":\\\\\"dividend\\\\\",\\\\\"_date\\\\\":\\\\\"760631400\\\\\",\\\\\"_amount\\\\\":\\\\\"0.004286\\\\\",\\\\\"_payable_date\\\\\":\\\\\"762791400\\\\\"},{\\\\\"_quote\\\\\":\\\\\"NASD:AAPL\\\\\",\\\\\"_type\\\\\":\\\\\"dividend\\\\\",\\\\\"_date\\\\\":\\\\\"770045400\\\\\",\\\\\"_amount\\\\\":\\\\\"0.004286\\\\\",\\\\\"_payable_date\\\\\":\\\\\"772464600\\\\\"},{\\\\\"_quote\\\\\":\\\\\"NASD:AAPL\\\\\",\\\\\"_type\\\\\":\\\\\"dividend\\\\\",\\\\\"_date\\\\\":\\\\\"776957400\\\\\",\\\\\"_amount\\\\\":\\\\\"0.004286\\\\\",\\\\\"_payable_date\\\\\":\\\\\"779117400\\\\\"},{\\\\\"_quote\\\\\":\\\\\"NASD:AAPL\\\\\",\\\\\"_type\\\\\":\\\\\"dividend\\\\\",\\\\\"_date\\\\\":\\\\\"785169000\\\\\",\\\\\"_amount\\\\\":\\\\\"0.004286\\\\\",\\\\\"_payable_date\\\\\":\\\\\"787588200\\\\\"},{\\\\\"_quote\\\\\":\\\\\"NASD:AAPL\\\\\",\\\\\"_type\\\\\":\\\\\"dividend\\\\\",\\\\\"_date\\\\\":\\\\\"792685800\\\\\",\\\\\"_amount\\\\\":\\\\\"0.004286\\\\\",\\\\\"_payable_date\\\\\":\\\\\"794845800\\\\\"},{\\\\\"_quote\\\\\":\\\\\"NASD:AAPL\\\\\",\\\\\"_type\\\\\":\\\\\"dividend\\\\\",\\\\\"_date\\\\\":\\\\\"801495000\\\\\",\\\\\"_amount\\\\\":\\\\\"0.004286\\\\\",\\\\\"_payable_date\\\\\":\\\\\"803914200\\\\\"},{\\\\\"_quote\\\\\":\\\\\"NASD:AAPL\\\\\",\\\\\"_type\\\\\":\\\\\"dividend\\\\\",\\\\\"_date\\\\\":\\\\\"808579800\\\\\",\\\\\"_amount\\\\\":\\\\\"0.004286\\\\\",\\\\\"_payable_date\\\\\":\\\\\"810567000\\\\\"},{\\\\\"_quote\\\\\":\\\\\"NASD:AAPL\\\\\",\\\\\"_type\\\\\":\\\\\"dividend\\\\\",\\\\\"_date\\\\\":\\\\\"816964200\\\\\",\\\\\"_amount\\\\\":\\\\\"0.004286\\\\\",\\\\\"_payable_date\\\\\":\\\\\"819037800\\\\\"},{\\\\\"_quote\\\\\":\\\\\"NASD:AAPL\\\\\",\\\\\"_type\\\\\":\\\\\"dividend\\\\\",\\\\\"_date\\\\\":\\\\\"1344519000\\\\\",\\\\\"_amount\\\\\":\\\\\"0.379\\\\\",\\\\\"_amount_currency\\\\\":\\\\\"USD\\\\\",\\\\\"_payable_date\\\\\":\\\\\"1345123800\\\\\"},{\\\\\"_quote\\\\\":\\\\\"NASD:AAPL\\\\\",\\\\\"_type\\\\\":\\\\\"dividend\\\\\",\\\\\"_date\\\\\":\\\\\"1352298600\\\\\",\\\\\"_amount\\\\\":\\\\\"0.379\\\\\",\\\\\"_amount_currency\\\\\":\\\\\"USD\\\\\",\\\\\"_payable_date\\\\\":\\\\\"1352989800\\\\\"},{\\\\\"_quote\\\\\":\\\\\"NASD:AAPL\\\\\",\\\\\"_type\\\\\":\\\\\"dividend\\\\\",\\\\\"_date\\\\\":\\\\\"1360247400\\\\\",\\\\\"_amount\\\\\":\\\\\"0.379\\\\\",\\\\\"_amount_currency\\\\\":\\\\\"USD\\\\\",\\\\\"_payable_date\\\\\":\\\\\"1360852200\\\\\"},{\\\\\"_quote\\\\\":\\\\\"NASD:AAPL\\\\\",\\\\\"_type\\\\\":\\\\\"dividend\\\\\",\\\\\"_date\\\\\":\\\\\"1368106200\\\\\",\\\\\"_amount\\\\\":\\\\\"0.436\\\\\",\\\\\"_amount_currency\\\\\":\\\\\"USD\\\\\",\\\\\"_payable_date\\\\\":\\\\\"1368711000\\\\\"},{\\\\\"_quote\\\\\":\\\\\"NASD:AAPL\\\\\",\\\\\"_type\\\\\":\\\\\"dividend\\\\\",\\\\\"_date\\\\\":\\\\\"1375968600\\\\\",\\\\\"_amount\\\\\":\\\\\"0.436\\\\\",\\\\\"_amount_currency\\\\\":\\\\\"USD\\\\\",\\\\\"_payable_date\\\\\":\\\\\"1376573400\\\\\"},{\\\\\"_quote\\\\\":\\\\\"NASD:AAPL\\\\\",\\\\\"_type\\\\\":\\\\\"dividend\\\\\",\\\\\"_date\\\\\":\\\\\"1383748200\\\\\",\\\\\"_amount\\\\\":\\\\\"0.436\\\\\",\\\\\"_amount_currency\\\\\":\\\\\"USD\\\\\",\\\\\"_payable_date\\\\\":\\\\\"1384439400\\\\\"},{\\\\\"_quote\\\\\":\\\\\"NASD:AAPL\\\\\",\\\\\"_type\\\\\":\\\\\"dividend\\\\\",\\\\\"_date\\\\\":\\\\\"1391697000\\\\\",\\\\\"_amount\\\\\":\\\\\"0.436\\\\\",\\\\\"_amount_currency\\\\\":\\\\\"USD\\\\\",\\\\\"_payable_date\\\\\":\\\\\"1392301800\\\\\"},{\\\\\"_quote\\\\\":\\\\\"NASD:AAPL\\\\\",\\\\\"_type\\\\\":\\\\\"dividend\\\\\",\\\\\"_date\\\\\":\\\\\"1399555800\\\\\",\\\\\"_amount\\\\\":\\\\\"0.470\\\\\",\\\\\"_amount_currency\\\\\":\\\\\"USD\\\\\",\\\\\"_payable_date\\\\\":\\\\\"1400160600\\\\\"},{\\\\\"_quote\\\\\":\\\\\"NASD:AAPL\\\\\",\\\\\"_type\\\\\":\\\\\"dividend\\\\\",\\\\\"_date\\\\\":\\\\\"1407418200\\\\\",\\\\\"_amount\\\\\":\\\\\"0.47\\\\\",\\\\\"_amount_currency\\\\\":\\\\\"USD\\\\\",\\\\\"_payable_date\\\\\":\\\\\"1408023000\\\\\"},{\\\\\"_quote\\\\\":\\\\\"NASD:AAPL\\\\\",\\\\\"_type\\\\\":\\\\\"dividend\\\\\",\\\\\"_date\\\\\":\\\\\"1415284200\\\\\",\\\\\"_amount\\\\\":\\\\\"0.47\\\\\",\\\\\"_amount_currency\\\\\":\\\\\"USD\\\\\",\\\\\"_payable_date\\\\\":\\\\\"1415889000\\\\\"},{\\\\\"_quote\\\\\":\\\\\"NASD:AAPL\\\\\",\\\\\"_type\\\\\":\\\\\"dividend\\\\\",\\\\\"_date\\\\\":\\\\\"1423146600\\\\\",\\\\\"_amount\\\\\":\\\\\"0.47\\\\\",\\\\\"_amount_currency\\\\\":\\\\\"USD\\\\\",\\\\\"_payable_date\\\\\":\\\\\"1423751400\\\\\"},{\\\\\"_quote\\\\\":\\\\\"NASD:AAPL\\\\\",\\\\\"_type\\\\\":\\\\\"dividend\\\\\",\\\\\"_date\\\\\":\\\\\"1431005400\\\\\",\\\\\"_amount\\\\\":\\\\\"0.52\\\\\",\\\\\"_amount_currency\\\\\":\\\\\"USD\\\\\",\\\\\"_payable_date\\\\\":\\\\\"1431610200\\\\\"},{\\\\\"_quote\\\\\":\\\\\"NASD:AAPL\\\\\",\\\\\"_type\\\\\":\\\\\"dividend\\\\\",\\\\\"_date\\\\\":\\\\\"1438867800\\\\\",\\\\\"_amount\\\\\":\\\\\"0.52\\\\\",\\\\\"_amount_currency\\\\\":\\\\\"USD\\\\\",\\\\\"_payable_date\\\\\":\\\\\"1439472600\\\\\"},{\\\\\"_quote\\\\\":\\\\\"NASD:AAPL\\\\\",\\\\\"_type\\\\\":\\\\\"dividend\\\\\",\\\\\"_date\\\\\":\\\\\"1446733800\\\\\",\\\\\"_amount\\\\\":\\\\\"0.52\\\\\",\\\\\"_amount_currency\\\\\":\\\\\"USD\\\\\",\\\\\"_payable_date\\\\\":\\\\\"1447338600\\\\\"},{\\\\\"_quote\\\\\":\\\\\"NASD:AAPL\\\\\",\\\\\"_type\\\\\":\\\\\"dividend\\\\\",\\\\\"_date\\\\\":\\\\\"1454596200\\\\\",\\\\\"_amount\\\\\":\\\\\"0.52\\\\\",\\\\\"_amount_currency\\\\\":\\\\\"USD\\\\\",\\\\\"_payable_date\\\\\":\\\\\"1455201000\\\\\"},{\\\\\"_quote\\\\\":\\\\\"NASD:AAPL\\\\\",\\\\\"_type\\\\\":\\\\\"dividend\\\\\",\\\\\"_date\\\\\":\\\\\"1462455000\\\\\",\\\\\"_amount\\\\\":\\\\\"0.57\\\\\",\\\\\"_amount_currency\\\\\":\\\\\"USD\\\\\",\\\\\"_payable_date\\\\\":\\\\\"1463059800\\\\\"}]\",related_items:[{ticker:\"INDEXDJX:.DJI\",name:\"Dow Jones\",timezone_offset:-18000,is_index:true,different_market_session:false},{ticker:\"INDEXNASDAQ:.IXIC\",name:\"Nasdaq\",timezone_offset:-18000,is_index:true,different_market_session:false},{ticker:\"NASDAQ:SNDK\",name:\"SNDK\",timezone_offset:-18000,is_index:false},{ticker:\"NASDAQ:MSFT\",name:\"MSFT\",timezone_offset:-18000,is_index:false},{ticker:\"OTCMKTS:SSNNF\",name:\"SSNNF\",timezone_offset:-18000,is_index:false},{ticker:\"NYSE:VZ\",name:\"VZ\",timezone_offset:-18000,is_index:false},{ticker:\"NYSE:HPQ\",name:\"HPQ\",timezone_offset:-18000,is_index:false},{ticker:\"NYSE:IBM\",name:\"IBM\",timezone_offset:-18000,is_index:false},{ticker:\"OTCMKTS:HTCKF\",name:\"HTCKF\",timezone_offset:-18000,is_index:false}]}};\\ngoogle.finance.data.numberFormat = [{\\'threshold\\':1000000, \\'symbol\\':\\'M\\'}, {\\'threshold\\':1000000000,\\'symbol\\':\\'B\\'}, {\\'threshold\\':1000000000000,\\'symbol\\':\\'T\\'}] ;\\n_setStickyUrlParams(\"ei=PFi3V_HOH4edigLShKXACQ\");\\nif (_s_Store) {\\n_s_Store._allowMatchAdvancedSearch = true;\\nvar _fieldToDisplayNameMap = {GrossMargin:\"Gross margin&nbsp;(%)\",Return1Week:\"1w return\",Return156Week:\"156w return\",NextYearEPS:\"Next year EPS\",LTDebtToAssetsYear:\"LT debt/assets (Recent&nbsp;yr)&nbsp;(%)\",RevenueGrowthRate5Years:\"5y revenue growth rate\",EarningsAfterTaxes:\"Earnings after taxes\",DividendPerShare:\"Div per share\",MarketCap:\"Market cap\",NetProfitMarginPercent:\"Net profit margin&nbsp;(%)\",Float:\"Float\",EarningsBeforeTaxes:\"Earnings before taxes\",QuotePercChange:\"Quote change&nbsp;(%)\",TotalDebtToEquityYear:\"Total debt/equity (Recent&nbsp;yr)&nbsp;(%)\",TotalDebtToCapitalQuarter:\"Total debt/capital (Recent&nbsp;qtr)&nbsp;(%)\",LTDebtToCapitalQuarter:\"LT debt/capital (Recent&nbsp;qtr)&nbsp;(%)\",EPSGrowthRate10Years:\"10y EPS growth rate\",Beta:\"Beta\",ReturnOnAssetsPTM:\"Return on assets (PTM)&nbsp;(%)\",CapitalGain:\"Capital gain\",BetaDown:\"Beta down from RAS\",IncomeDividend:\"Income dividend\",RevenueGrowthRate10Years:\"10y revenue growth rate\",MarketCapShareBasis:\"Market cap share basis\",IAD:\"Div rate indicated annual\",Return4Week:\"4w return\",Price150DayAverage:\"150d avg price\",EPSGrowthRate5Years:\"5y EPS growth rate\",ReturnOnAssetsTTM:\"Return on assets (TTM)&nbsp;(%)\",TotalDebtToAssetsYear:\"Total debt/assets (Recent&nbsp;yr)&nbsp;(%)\",Volume:\"Volume\",DividendRecentQuarter:\"Div recent quarter\",CurrentRatioYear:\"Current ratio\",Low52Week:\"52w low\",ExpenseRatio:\"Expense ratio\",Price13WeekPercChange:\"13w&nbsp;price change&nbsp;(%)\",Price1DayPercChange:\"1d&nbsp;price change&nbsp;(%)\",ReturnOnEquity5Years:\"Return on equity (5&nbsp;yr&nbsp;avg)&nbsp;(%)\",TotalDebtToCapitalYear:\"Total debt/capital (Recent&nbsp;yr)&nbsp;(%)\",TotalDebtToAssetsQuarter:\"Total debt/assets (Recent&nbsp;qtr)&nbsp;(%)\",NavChange:\"Nav change\",OperatingMargin:\"Operating margin&nbsp;(%)\",DPSRecentYear:\"Div per share (Recent&nbsp;yr)\",ANI:\"Earnings after taxes (Recent&nbsp;yr)\",AverageVolume:\"Average volume\",High52Week:\"52w high\",Return13Week:\"13w return\",PriceToCashFlowPerShare:\"Price to cash flow per share\",ATAXRATE:\"Tax rate (Recent&nbsp;yr)\",Price26WeekPercChange:\"26w&nbsp;price change&nbsp;(%)\",QuoteChange:\"Quote change\",NetIncomeChangePerc:\"Net income change&nbsp;(%)\",ReturnOnInvestment5Years:\"Return on investment (5&nbsp;yr&nbsp;avg)&nbsp;(%)\",PE:\"P/E ratio\",ReturnOnInvestmentYear:\"Return on investment (Recent&nbsp;yr)&nbsp;(%)\",Price200DayAverage:\"200d avg price\",DividendNextQuarter:\"Div next quarter\",EBITD:\"EBITDA\",PriceYTDPercChange:\"YTD&nbsp;price change&nbsp;(%)\",ReturnOnInvestmentTTM:\"Return on investment (TTM)&nbsp;(%)\",NavChangePercent:\"Nav change&nbsp;(%)\",EBITDMargin:\"EBITDA margin&nbsp;(%)\",LTDebtToEquityQuarter:\"LT debt/equity (Recent&nbsp;qtr)&nbsp;(%)\",BetaRAS:\"Beta from RAS\",PriceSales:\"Price to sales\",NetAssets:\"Net assets\",ReturnOnEquityTTM:\"Return on equity (TTM)&nbsp;(%)\",CashPerShareYear:\"Cash/share\",ReturnOnAssets5Years:\"Return on assets (5&nbsp;yr&nbsp;avg)&nbsp;(%)\",ReturnDay:\"1d return\",Return52Week:\"52w return\",ForwardPE1Year:\"1y fwd P/E\",NetIncomeGrowthRate5Years:\"5y net income growth rate\",DividendYield:\"Div yield&nbsp;(%)\",Dividend:\"Div from cash flow\",BetaUp:\"Beta up from RAS\",LTDebtToCapitalYear:\"LT debt/capital (Recent&nbsp;yr)&nbsp;(%)\",nprice:\"Price from RAS\",Return260Week:\"260w return\",ReturnOnEquityQuarter:\"Return on equity (Recent&nbsp;qtr)&nbsp;(%)\",ACOGS:\"Cost of goods sold\",LTDebtToAssetsQuarter:\"LT debt/assets (Recent&nbsp;qtr)&nbsp;(%)\",PriceToBook:\"Price to book\",LTDebtToEquityYear:\"LT debt/equity (Recent&nbsp;yr)&nbsp;(%)\",ReturnYTD:\"Return YTD\",ReturnOnEquityYear:\"Return on equity (Recent&nbsp;yr)&nbsp;(%)\",ReturnOnAssetsQuarter:\"Return on assets (Recent&nbsp;qtr)&nbsp;(%)\",TotalDebtToEquityQuarter:\"Total debt/equity (Recent&nbsp;qtr)&nbsp;(%)\",NavPrior:\"Nav prior\",AINTCOV:\"Interest coverage\",EPS:\"EPS\",ReturnOnInvestmentQuarter:\"Return on investment (Recent&nbsp;qtr)&nbsp;(%)\",QuoteLast:\"Last price\",Price50DayAverage:\"50d avg price\",Price4WeekPercChange:\"4w&nbsp;price change&nbsp;(%)\",ReturnOnAssetsYear:\"Return on assets (Recent&nbsp;yr)&nbsp;(%)\",MarketCapRAS:\"Mkt cap from RAS\",Price52WeekPercChange:\"52w&nbsp;price change&nbsp;(%)\",ShortInterestRatioPercent:\"Short interest ratio&nbsp;(%)\",InstitutionalPercentHeld:\"Institutional percent held\",BookValuePerShareYear:\"Book value/share\",ReturnOnEquityPTM:\"Return on equity (PTM)&nbsp;(%)\"};\\n_s_Store._asStore._addStrings(_fieldToDisplayNameMap);\\n}\\nif (_s_Store) {\\n_s_Store._allowMultipleInBox = true;\\n}\\ngoogle.finance.renderRecentQuotes();\\n           </script>\\n           <div class=\"g-section g-tpl-right-1\">\\n            <div class=\"g-unit g-first\">\\n             <div class=\"g-c\">\\n              <div class=\"g-section g-tpl-67-33 g-split nwp\" id=\"r-perf\">\\n               <div class=\"id-r-perf-quotes g-unit g-first\" id=\"r-perf-quotes\">\\n               </div>\\n               <div class=\"id-r-perf-charts g-unit\" id=\"r-perf-charts\">\\n               </div>\\n              </div>\\n              <script>\\n               google.finance.renderRelativePerformance();\\n              </script>\\n             </div>\\n            </div>\\n            <div class=\"g-unit\">\\n             <div class=\"id-market-data-div nwp g-floatfix\" id=\"market-data-div\">\\n              <div class=\"id-price-panel goog-inline-block\" id=\"price-panel\">\\n               <div>\\n                <span class=\"pr\">\\n                 <span id=\"ref_22144_l\">\\n                  109.19\\n                 </span>\\n                </span>\\n                <div class=\"id-price-change nwp\">\\n                 <span class=\"ch bld\">\\n                  <span class=\"chg\" id=\"ref_22144_c\">\\n                   +0.11\\n                  </span>\\n                  <span class=\"chg\" id=\"ref_22144_cp\">\\n                   (0.10%)\\n                  </span>\\n                 </span>\\n                </div>\\n               </div>\\n               <div>\\n                <span class=\"nwp\">\\n                 Real-time:\\n                 <span id=\"ref_22144_ltt\">\\n                  3:04PM EDT\\n                 </span>\\n                </span>\\n                <div class=\"mdata-dis\">\\n                 <span class=\"dis-large\">\\n                  <nobr>\\n                   NASDAQ\\nreal-time data -\\n                   <a class=\"dis-large\" href=\"//www.google.com/help/stock_disclaimer.html#realtime\">\\n                    Disclaimer\\n                   </a>\\n                  </nobr>\\n                 </span>\\n                 <div>\\n                  Currency in USD\\n                 </div>\\n                </div>\\n               </div>\\n              </div>\\n              <div class=\"snap-panel-and-plusone\">\\n               <div class=\"snap-panel\">\\n                <table class=\"snap-data\">\\n                 <tr>\\n                  <td class=\"key\" data-snapfield=\"range\">\\n                   Range\\n                  </td>\\n                  <td class=\"val\">\\n                   108.36 - 109.69\\n                  </td>\\n                 </tr>\\n                 <tr>\\n                  <td class=\"key\" data-snapfield=\"range_52week\">\\n                   52 week\\n                  </td>\\n                  <td class=\"val\">\\n                   89.47 - 123.82\\n                  </td>\\n                 </tr>\\n                 <tr>\\n                  <td class=\"key\" data-snapfield=\"open\">\\n                   Open\\n                  </td>\\n                  <td class=\"val\">\\n                   108.77\\n                  </td>\\n                 </tr>\\n                 <tr>\\n                  <td class=\"key\" data-snapfield=\"vol_and_avg\">\\n                   Vol / Avg.\\n                  </td>\\n                  <td class=\"val\">\\n                   19.64M/32.59M\\n                  </td>\\n                 </tr>\\n                 <tr>\\n                  <td class=\"key\" data-snapfield=\"market_cap\">\\n                   Mkt cap\\n                  </td>\\n                  <td class=\"val\">\\n                   587.61B\\n                  </td>\\n                 </tr>\\n                 <tr>\\n                  <td class=\"key\" data-snapfield=\"pe_ratio\">\\n                   P/E\\n                  </td>\\n                  <td class=\"val\">\\n                   12.75\\n                  </td>\\n                 </tr>\\n                </table>\\n                <table class=\"snap-data\">\\n                 <tr>\\n                  <td class=\"key\" data-snapfield=\"latest_dividend-dividend_yield\">\\n                   Div/yield\\n                  </td>\\n                  <td class=\"val\">\\n                   0.57/2.09\\n                  </td>\\n                 </tr>\\n                 <tr>\\n                  <td class=\"key\" data-snapfield=\"eps\">\\n                   EPS\\n                  </td>\\n                  <td class=\"val\">\\n                   8.56\\n                  </td>\\n                 </tr>\\n                 <tr>\\n                  <td class=\"key\" data-snapfield=\"shares\">\\n                   Shares\\n                  </td>\\n                  <td class=\"val\">\\n                   5.39B\\n                  </td>\\n                 </tr>\\n                 <tr>\\n                  <td class=\"key\" data-snapfield=\"beta\">\\n                   Beta\\n                  </td>\\n                  <td class=\"val\">\\n                   1.12\\n                  </td>\\n                 </tr>\\n                 <tr>\\n                  <td class=\"key\" data-snapfield=\"inst_own\">\\n                   Inst. own\\n                  </td>\\n                  <td class=\"val\">\\n                   58%\\n                  </td>\\n                 </tr>\\n                </table>\\n               </div>\\n               <div class=\"plusone-box\" id=\"plusone-box\">\\n                <g:plusone size=\"standard\" source=\"google:FINANCE\">\\n                </g:plusone>\\n               </div>\\n              </div>\\n             </div>\\n             <script>\\n              google.finance.renderMarketData();\\n             </script>\\n             <div id=\"sharebox-data\" itemscope=\"itemscope\" itemtype=\"http://schema.org/Intangible/FinancialQuote\">\\n              <meta content=\"Apple Inc.\" itemprop=\"name\"/>\\n              <meta content=\"https://www.google.com/finance?cid=22144\" itemprop=\"url\"/>\\n              <meta content=\"https://www.google.com/finance/chart?cht=g&amp;q=NASDAQ:AAPL&amp;tkr=1&amp;p=1d&amp;enddatetime=2016-08-19T15:04:25Z\" itemprop=\"imageUrl\"/>\\n              <meta content=\"AAPL\" itemprop=\"tickerSymbol\"/>\\n              <meta content=\"NASDAQ\" itemprop=\"exchange\"/>\\n              <meta content=\"America/New_York\" itemprop=\"exchangeTimezone\"/>\\n              <meta content=\"109.19\" itemprop=\"price\"/>\\n              <meta content=\"+0.11\" itemprop=\"priceChange\"/>\\n              <meta content=\"0.10\" itemprop=\"priceChangePercent\"/>\\n              <meta content=\"2016-08-19T15:04:25Z\" itemprop=\"quoteTime\"/>\\n              <meta content=\"NASDAQ real-time data\" itemprop=\"dataSource\"/>\\n              <meta content=\"//www.google.com/help/stock_disclaimer.html#realtime\" itemprop=\"dataSourceDisclaimerUrl\"/>\\n              <meta content=\"USD\" itemprop=\"priceCurrency\"/>\\n             </div>\\n            </div>\\n           </div>\\n           <div class=\"g-section g-tpl-right-1 sfe-break-top-5\">\\n            <div class=\"g-unit g-first\">\\n             <div class=\"g-c\">\\n              <div>\\n               <div id=\"newstabsgroup\">\\n                <div class=\"g-section g-tpl-25-75 g-split hdg\">\\n                 <div class=\"g-unit g-first\">\\n                  <h3>\\n                   News\\n                  </h3>\\n                 </div>\\n                 <div class=\"g-unit\">\\n                  <div class=\"id-news-tabs\" id=\"news-panel-tabs\" style=\"display:none;\">\\n                   <div class=\"goog-tab goog-tab-selected\">\\n                    <a class=\"t\" id=\"news_tab_title\">\\n                     <b class=\"t\">\\n                      <b class=\"t\">\\n                       Relevance\\n                      </b>\\n                     </b>\\n                    </a>\\n                   </div>\\n                   <div class=\"goog-tab\">\\n                    <a class=\"t\" id=\"news_by_date_tab_title\">\\n                     <b class=\"t\">\\n                      <b class=\"t\">\\n                       Date\\n                      </b>\\n                     </b>\\n                    </a>\\n                   </div>\\n                  </div>\\n                 </div>\\n                </div>\\n                <div class=\"id-tabs-clear goog-tab-bar-clear hide\" id=\"tabs-clear\">\\n                </div>\\n                <div class=\"id-news_div_cont\" id=\"news_div_cont\" style=\"display:none;\">\\n                </div>\\n                <div class=\"id-news_by_date_div_cont\" id=\"news_by_date_div_cont\" style=\"display:none;\">\\n                </div>\\n               </div>\\n               <div class=\"sfe-section clf\" id=\"news-footer\">\\n                <div class=\"g-section g-tpl-67-33 g-split\" id=\"news-sidebar-footer\">\\n                 <div class=\"g-unit g-first\">\\n                  <a href=\"/finance/company_news?q=NASDAQ:AAPL&amp;ei=PFi3V_HOH4edigLShKXACQ\">\\n                   All news for Apple Inc. \\xbb\\n                  </a>\\n                 </div>\\n                 <div class=\"g-unit\">\\n                  <a href=\"/finance/company_news?q=NASDAQ:AAPL&amp;ei=PFi3V_HOH4edigLShKXACQ&amp;output=rss\">\\n                   Subscribe\\n                  </a>\\n                  <a href=\"/finance/company_news?q=NASDAQ:AAPL&amp;ei=PFi3V_HOH4edigLShKXACQ&amp;output=rss\">\\n                   <img alt=\"Subscribe.\" class=\"SP_subscribe\" height=\"15\" id=\"rss\" src=\"/finance/s/m4C5KaofCbA/images/cleardot.gif\" width=\"15\"/>\\n                  </a>\\n                 </div>\\n                </div>\\n               </div>\\n              </div>\\n              <div class=\"sfe-break-top sfe-break-bottom-16\" id=\"ad\">\\n               <div class=\"id-ad-label invisible\" id=\"ad-label\">\\n                Advertisement\\n               </div>\\n               <div class=\"id-ad-target ads-300-250\" id=\"ad-target\">\\n               </div>\\n              </div>\\n              <div class=\"g-section g-tpl-25-75 g-split hdg\">\\n               <div class=\"g-unit g-first\">\\n                <h3>\\n                 Events\\n                </h3>\\n               </div>\\n               <div class=\"g-unit\">\\n                <div class=\"sfe-break-right-em\">\\n                 <img alt=\"\" class=\"SP_calendar\" height=\"16\" id=\"calendar\" src=\"/finance/s/m4C5KaofCbA/images/cleardot.gif\" width=\"16\">\\n                  <a href=\"//www.google.com/calendar/render?ei=PFi3V_HOH4edigLShKXACQ&amp;hl=en&amp;cid=http://www.google.com:80%2Ffinance%2Fevents%3Fq%3DNASDAQ%3AAAPL%26output%3Dical\" onclick=\"_GF_click(\\'\\', \\'add_ical\\', \\'AAPL\\', \\'\\')\">\\n                   Add AAPL to my calendars\\n                  </a>\\n                 </img>\\n                </div>\\n               </div>\\n              </div>\\n              <div class=\"events sfe-section\">\\n               <div class=\"event\">\\n                <div class=\"bld date\">\\n                 Oct 25, 2016\\n                </div>\\n                <div>\\n                 Q4 2016 Apple Inc Earnings Release (Estimated)\\n-\\n                 <span class=\"time\">\\n                  4:00PM EDT\\n                 </span>\\n                 -\\n                 <a class=\"time\" href=\"\\n  //www.google.com/calendar/event?ei=PFi3V_HOH4edigLShKXACQ&amp;hl=en&amp;action=TEMPLATE&amp;text=Q4+2016+Apple+Inc+Earnings+Release+(Estimated)&amp;dates=20161025T200000Z/20161025T210000Z&amp;sprop=finance\" onclick=\"_GF_click(\\'\\', \\'add_cal_evnt\\', \\'AAPL\\', \\'\\')\">\\n                  <img alt=\"Add to calendar\" class=\"SP_calendar\" height=\"16\" id=\"calendar\" src=\"/finance/s/m4C5KaofCbA/images/cleardot.gif\" width=\"16\">\\n                  </img>\\n                 </a>\\n                </div>\\n               </div>\\n               <div class=\"event\">\\n                <div class=\"bld date\">\\n                 Jul 26, 2016\\n                </div>\\n                <div>\\n                 Q3 2016 Apple Inc Earnings Call -\\n                 <a class=\"time\" href=\"//www.google.com/url?source=finance&amp;q=http%3A%2F%2Fwww.apple.com%2Finvestor%2Fearnings-call%2F&amp;ei=PFi3V_HOH4edigLShKXACQ&amp;usg=AFQjCNGKD7x99w-EuVa94Pqgezk5W3DhOg\" onclick=\"_GF_click(\\'\\', \\'webcast\\', \\'AAPL\\', \\'\\')\">\\n                  <img alt=\"Webcast\" class=\"SP_webcast\" height=\"16\" id=\"webcast\" src=\"/finance/s/m4C5KaofCbA/images/cleardot.gif\" width=\"19\">\\n                  </img>\\n                 </a>\\n                </div>\\n               </div>\\n               <div class=\"event\">\\n                <div class=\"bld date\">\\n                 Jul 26, 2016\\n                </div>\\n                <div>\\n                 Q3 2016 Apple Inc Earnings Release\\n                </div>\\n               </div>\\n               <table>\\n                <tr>\\n                 <td>\\n                  <a href=\"//www.google.com/url?source=finance&amp;q=http%3A%2F%2Fwww.dailyfinance.com%2Fevent%2FAAPL%2Fusa&amp;ei=PFi3V_HOH4edigLShKXACQ&amp;usg=AFQjCNEjfFIPJIpw0wJPi1gtWnHS5nUIBw\">\\n                   More events from DailyFinance \\xbb\\n                  </a>\\n                  <nobr>\\n                  </nobr>\\n                 </td>\\n                </tr>\\n               </table>\\n              </div>\\n              <div class=\"hdg\">\\n               <h3>\\n                Key stats and ratios\\n               </h3>\\n              </div>\\n              <div class=\"sfe-section\">\\n               <table class=\"quotes rgt nwp\" width=\"100%\">\\n                <thead>\\n                 <tr>\\n                  <td width=\"50%\">\\n                   <td class=\"colHeader\">\\n                    Q2 (Jun \\'16)\\n                    <td class=\"colHeader\">\\n                     2015\\n                    </td>\\n                   </td>\\n                  </td>\\n                 </tr>\\n                </thead>\\n                <tr>\\n                 <td class=\"lft name\">\\n                  Net profit margin\\n                  <td class=\"period\">\\n                   18.41%\\n                   <td class=\"period\">\\n                    22.85%\\n                    <tr>\\n                     <td class=\"lft name\">\\n                      Operating margin\\n                      <td class=\"period\">\\n                       23.86%\\n                       <td class=\"period\">\\n                        30.48%\\n                        <tr>\\n                         <td class=\"lft name\">\\n                          EBITD margin\\n                          <td class=\"period\">\\n                           -\\n                           <td class=\"period\">\\n                            34.97%\\n                            <tr>\\n                             <td class=\"lft name\">\\n                              Return on average assets\\n                              <td class=\"period\">\\n                               10.24%\\n                               <td class=\"period\">\\n                                20.45%\\n                                <tr>\\n                                 <td class=\"lft name\">\\n                                  Return on average equity\\n                                  <td class=\"period\">\\n                                   24.33%\\n                                   <td class=\"period\">\\n                                    46.25%\\n                                    <tr>\\n                                     <td class=\"lft name\">\\n                                      Employees\\n                                      <td class=\"period\">\\n                                       110,000\\n                                       <td class=\"period\">\\n                                        -\\n                                        <tr>\\n                                         <td class=\"lft name\">\\n                                          CDP Score\\n                                          <td class=\"period\">\\n                                           -\\n                                           <td class=\"period\">\\n                                            <a href=\"//www.google.com/url?source=finance&amp;q=https%3A%2F%2Fwww.cdp.net%2Fen-US%2FResults%2FPages%2FCompany-Responses.aspx%3Fcompany%3D865&amp;ei=PFi3V_HOH4edigLShKXACQ&amp;usg=AFQjCNFSnb0SCup_y_wr_1E994elL3tDIQ\" id=\"m-cdi\">\\n                                             100 A\\n                                            </a>\\n                                           </td>\\n                                          </td>\\n                                         </td>\\n                                        </tr>\\n                                       </td>\\n                                      </td>\\n                                     </td>\\n                                    </tr>\\n                                   </td>\\n                                  </td>\\n                                 </td>\\n                                </tr>\\n                               </td>\\n                              </td>\\n                             </td>\\n                            </tr>\\n                           </td>\\n                          </td>\\n                         </td>\\n                        </tr>\\n                       </td>\\n                      </td>\\n                     </td>\\n                    </tr>\\n                   </td>\\n                  </td>\\n                 </td>\\n                </tr>\\n               </table>\\n               <div class=\"sfe-break-top\">\\n                <a href=\"/finance/similar?q=NASDAQ:AAPL&amp;ei=PFi3V_HOH4edigLShKXACQ\" id=\"similar\">\\n                 Screen stocks with similar metrics \\xbb\\n                </a>\\n               </div>\\n              </div>\\n              <div class=\"hdg\">\\n               <h3>\\n                Address\\n               </h3>\\n              </div>\\n              <div class=\"sfe-section\">\\n               1 Infinite Loop\\n               <br/>\\n               CUPERTINO, CA 95014-2083\\n               <br/>\\n               United States\\n-\\n               <a href=\"http://maps.google.com/maps?ei=PFi3V_HOH4edigLShKXACQ&amp;q=1+Infinite+Loop+CUPERTINO+95014-2083+United+States%20(Apple+Inc.)\">\\n                Map\\n               </a>\\n               <br/>\\n               +1-408-9961010 (Phone)\\n               <br>\\n               </br>\\n              </div>\\n              <div class=\"hdg\">\\n               <h3>\\n                Website links\\n               </h3>\\n              </div>\\n              <div class=\"sfe-section\">\\n               <div class=\"item\">\\n                <a href=\"//www.google.com/url?source=finance&amp;q=http%3A%2F%2Fwww.apple.com&amp;ei=PFi3V_HOH4edigLShKXACQ&amp;usg=AFQjCNE2TMZT7Qr13fXDhpVR3B-iJVjVrA\" id=\"fs-chome\">\\n                 http://www.apple.com\\n                </a>\\n               </div>\\n              </div>\\n              <div class=\"hdg\">\\n               <h3>\\n                External links\\n               </h3>\\n              </div>\\n              <div class=\"sfe-section\">\\n               <div class=\"item\">\\n                <a href=\"//www.google.com/url?source=finance&amp;q=http%3A%2F%2Fwww.marketwatch.com%2Finvesting%2Fstock%2FAAPL%2Fanalystestimates&amp;ei=PFi3V_HOH4edigLShKXACQ&amp;usg=AFQjCNHKxEzqZJ2taXL13uxM9NeQh1Jgow\" id=\"m-analyst\">\\n                 Analyst Estimates\\n                </a>\\n                -\\n                <font color=\"#6F6F6F\">\\n                 MarketWatch\\n                </font>\\n               </div>\\n               <div class=\"item\">\\n                <a href=\"//www.google.com/url?source=finance&amp;q=http%3A%2F%2Fgoogle.brand.edgar-online.com%3Fsym%3DAAPL&amp;ei=PFi3V_HOH4edigLShKXACQ&amp;usg=AFQjCNFvUIdJiDgJLg9zXJTmDXwm934n8w\" id=\"m-sec\">\\n                 SEC Filings\\n                </a>\\n                -\\n                <font color=\"#6F6F6F\">\\n                 EDGAR Online\\n                </font>\\n               </div>\\n               <div class=\"item\">\\n                <a href=\"//www.google.com/url?source=finance&amp;q=http%3A%2F%2Finvesting.money.msn.com%2Finvestments%2Finstitutional-ownership%3Fsymbol%3DAAPL&amp;ei=PFi3V_HOH4edigLShKXACQ&amp;usg=AFQjCNGdQOgGSxzWIMbdf0PDaQY_ubcOSg\" id=\"m-hold\">\\n                 Major Holders\\n                </a>\\n                -\\n                <font color=\"#6F6F6F\">\\n                 MSN Money\\n                </font>\\n               </div>\\n               <div class=\"item\">\\n                <a href=\"//www.google.com/url?source=finance&amp;q=https%3A%2F%2Fcommerce.us.reuters.com%2Fpurchase%2FadvancedSearch.do%3Fsymbol%3DAAPL.O%26rpc%3D68&amp;ei=PFi3V_HOH4edigLShKXACQ&amp;usg=AFQjCNHKTgUgmTIkHa8Xpk4hZn5ZPUjQgQ\" id=\"m-research\">\\n                 Research Reports\\n                </a>\\n                -\\n                <font color=\"#6F6F6F\">\\n                 Reuters\\n                </font>\\n               </div>\\n               <div class=\"item\">\\n                <a href=\"//www.google.com/url?source=finance&amp;q=http%3A%2F%2Fwww.seekingalpha.com%2Ftranscripts%2Ffor%2FAAPL&amp;ei=PFi3V_HOH4edigLShKXACQ&amp;usg=AFQjCNHgJrLmQWnGdppS_RGZFIf9j9YyHw\" id=\"m-transcripts\">\\n                 Transcripts\\n                </a>\\n                -\\n                <font color=\"#6F6F6F\">\\n                 SeekingAlpha\\n                </font>\\n               </div>\\n               <div class=\"item\">\\n                <a href=\"//www.google.com/url?source=finance&amp;q=http%3A%2F%2Fen.wikipedia.org%2Fwiki%2FApple_Computer&amp;ei=PFi3V_HOH4edigLShKXACQ&amp;usg=AFQjCNGX0o8EOZeCzJAXZDfza28hTtrssQ\" id=\"m-wiki\">\\n                 About Company\\n                </a>\\n                -\\n                <font color=\"#6F6F6F\">\\n                 Wikipedia\\n                </font>\\n               </div>\\n              </div>\\n             </div>\\n            </div>\\n            <div class=\"g-unit\">\\n             <div class=\"g-c sfe-break-right\" id=\"top-section\">\\n              <div id=\"chart-section\">\\n               <div>\\n                <div class=\"id-compare-bar-wrapper\" id=\"compare-bar-wrapper\">\\n                 <div class=\"id-compare-bar g-section\" id=\"compare-bar\">\\n                 </div>\\n                </div>\\n                <div class=\"id-chart_anchor\" id=\"chart_anchor\">\\n                </div>\\n                <div class=\"id-chart-footer\">\\n                 <div class=\"g-section g-tpl-67-33 g-split sfe-break-bottom-8 overflow-floatfix\">\\n                  <div class=\"g-unit g-first\">\\n                   <div class=\"id-chart-footer-links hide\">\\n                    <span class=\"settings-link\">\\n                     Settings\\n                    </span>\\n                    |\\n                    <span class=\"technicals-link\">\\n                     Technicals\\n                    </span>\\n                    |\\n                    <span style=\"white-space:nowrap;\">\\n                     <img alt=\"Link to chart icon.\" class=\"linktochart-img SP_link\" hight=\"9\" src=\"/finance/s/m4C5KaofCbA/images/cleardot.gif\" width=\"16\"/>\\n                     <span class=\"linktochart-link\">\\n                      Link to this view\\n                     </span>\\n                    </span>\\n                   </div>\\n                  </div>\\n                  <div class=\"g-unit\">\\n                   <span class=\"chart-dis\">\\n                    Volume delayed by 15 mins.\\n                    <br>\\n                     Prices are not from all markets.\\n                     <br>\\n                      Sources include SIX.\\n                      <br>\\n                      </br>\\n                     </br>\\n                    </br>\\n                   </span>\\n                  </div>\\n                 </div>\\n                </div>\\n                <script>\\n                 var _minZoomDays = 1;\\nvar _minZoomDaysNoIntraDay = _minZoomDays;\\nvar _timeZoneOffset = \\'-18000\\';\\n_chartConfigObject = {};\\n_chartConfigObject.hasVolume = _displayVolume;\\n_chartConfigObject.hasNews = true;\\n_chartConfigObject.hasExtendedHours = true;\\n_chartConfigObject.hasDefaultZoomSetting = true;\\n_chartConfigObject.hasVerticalScaleSetting = true;\\n_chartConfigObject.displayVolume = \\'true\\';\\n_chartConfigObject.displayNewsPins = \\'true\\';\\n_chartConfigObject.displayDividends = \\'true\\';\\n_chartConfigObject.displaySplits = \\'true\\';\\n_chartConfigObject.displayExtendedHours = \\'false\\';\\n_chartConfigObject.enableCustomDateEntry = true\\n_chartConfigObject.defaultZoomDays = \\'3\\';\\n_chartConfigObject.snapping = false;\\n_chartConfigObject.verticalScaling = \\'maximized\\';\\n_chartConfigObject.sparklineType = \\'dynamic\\';\\n// set _minZoomDays and _minZoomDaysNoIntraDay in each page before emit the\\n// chart to passing the value to chart, otherwise default value will be use.\\n_chartConfigObject.minZoomDaysNormal = _minZoomDays;\\n_chartConfigObject.minZoomDaysNoIntraDay = _minZoomDaysNoIntraDay;\\n_chartConfigObject.enableIndicator = true;\\n_chartConfigObject.companyId = \\'22144\\';\\n_chartConfigObject.enableRealtimeChart = true;\\n_chartConfigObject.isMarketOpenState = 1;\\n_chartConfigObject.stateRemainingMinutes = 55;\\n_chartConfigObject.delayedMinutes = 0;\\n_chartConfigObject.delayedMinutes = Math.max(\\n_chartConfigObject.delayedMinutes,\\n15);\\n_chartConfigObject.enableChartTypeSetting = true;\\n_chartConfigObject.lineStyle = \\'IntervalBasedLine\\';\\n_chartConfigObject.defaultInterval = \\'86400\\';\\n_chartConfigObject.enableIndicatorSetting = true;\\n_chartConfigObject.biasSetting = \\'\\';\\n_chartConfigObject.emaSetting = \\'\\';\\n_chartConfigObject.kdjSetting = \\'\\';\\n_chartConfigObject.macdSetting = \\'\\';\\n_chartConfigObject.rsiSetting = \\'\\';\\n_chartConfigObject.smaSetting = \\'\\';\\n_chartConfigObject.vmaSetting = \\'\\';\\n_chartConfigObject.cciSetting = \\'\\';\\n_chartConfigObject.williamsPercentRSetting = \\'\\';\\n_chartConfigObject.bollingerBandsSetting = \\'\\';\\n_chartConfigObject.fastStochasticSetting = \\'\\';\\n_chartConfigObject.slowStochasticSetting = \\'\\';\\n_chartConfigObject.expandButtonEnabled = true;\\n_chartConfigObject.companyCurrency = \\'USD\\';\\n_chartConfigObject.displayDividendsUnits = \\'true\\';\\n_external_target = \"\";\\n_emitFlashChart(\\n\"/finance/s/n-VxNKK74DU/chart9.swf?hl=en&gl=us\",\\n_ticker, _chartConfigObject,\"http:\\\\x2F\\\\x2Fwww.google.com:80\");\\n                </script>\\n                <noscript>\\n                 <div id=\"image_chart\" style=\"display:block;\">\\n                  <table>\\n                   <tr>\\n                    <td align=\"left\" class=\"itxt\">\\n                    </td>\\n                   </tr>\\n                   <tr>\\n                    <td>\\n                     <img alt=\"Chart.\" height=\"322\" src=\"/finance/getchart?q=AAPL&amp;x=NASD&amp;p=3d&amp;i=240&amp;ei=PFi3V_HOH4edigLShKXACQ\" width=\"500\">\\n                     </img>\\n                    </td>\\n                   </tr>\\n                  </table>\\n                 </div>\\n                </noscript>\\n                <div style=\"height:1em;\">\\n                </div>\\n               </div>\\n              </div>\\n              <div id=\"ad2\">\\n               <div class=\"invisible\" id=\"ad2-label\">\\n                Advertisement\\n               </div>\\n               <div class=\"id-ad2-target\" id=\"ad2-target\">\\n               </div>\\n              </div>\\n             </div>\\n             <div class=\"g-c sfe-break-right\">\\n              <div class=\"id-related hide\" id=\"related\">\\n               <div class=\"hdg\">\\n                <div class=\"float\">\\n                 <h3>\\n                  Related companies\\n                 </h3>\\n                </div>\\n               </div>\\n               <div>\\n                <div class=\"g-section g-tpl-50-50 g-split gf-control\">\\n                 <div class=\"g-unit g-first\">\\n                  Show:\\n                  <select class=\"id-related-select\" id=\"related-select\">\\n                   <option value=\"mrq\">\\n                    Most Recent Quarter\\n                   </option>\\n                   <option selected=\"\" value=\"mra\">\\n                    Most Recent Annual\\n                   </option>\\n                  </select>\\n                 </div>\\n                 <div class=\"g-unit\">\\n                  <span class=\"id-related-edit-col linkbtn\">\\n                   Add or remove columns\\n                  </span>\\n                  <button class=\"id-related-save\" style=\"display:none\">\\n                   Save changes\\n                  </button>\\n                  <button class=\"id-related-cancel\" style=\"display:none\">\\n                   Cancel\\n                  </button>\\n                 </div>\\n                </div>\\n               </div>\\n               <div class=\"id-related-table gf-table-scroll-x jfk-scrollbar\" style=\"padding-bottom:15px;\">\\n               </div>\\n               <div class=\"sfe-section\">\\n                <div class=\"g-section g-tpl-50-50 g-split\">\\n                 <div class=\"g-unit g-first\">\\n                  Sector:\\n                  <a href=\"?catid=us-TRBC:57&amp;ei=PFi3V_HOH4edigLShKXACQ\" id=\"sector\">\\n                   Technology\\n                  </a>\\n                  &gt; Industry:\\n                  <a href=\"?catid=us-TRBC:5710601010&amp;ei=PFi3V_HOH4edigLShKXACQ\">\\n                   Computer Hardware - NEC\\n                  </a>\\n                 </div>\\n                 <div class=\"g-unit\">\\n                  <a href=\"//www.google.com/url?source=finance&amp;q=http%3A%2F%2Fwww.factset.com%2Fdata%2Ffactset_data%2Findustry-and-sector&amp;ei=PFi3V_HOH4edigLShKXACQ&amp;usg=AFQjCNFML8T6JOTdWwFF30fsW6P53aAoqw\">\\n                   More from FactSet \\xbb\\n                  </a>\\n                 </div>\\n                </div>\\n               </div>\\n              </div>\\n              <div class=\"id-reorder\" id=\"reorder\">\\n               <div class=\"mid-reorder\">\\n                <div id=\"blogs-section\">\\n                </div>\\n                <div id=\"summary-section\">\\n                 <div id=\"summary\">\\n                  <div class=\"hdg\">\\n                   <div class=\"float\">\\n                    <h3>\\n                     Description\\n                    </h3>\\n                   </div>\\n                   <div class=\"gf-reorder-btn SP_menu_button\">\\n                   </div>\\n                  </div>\\n                  <div class=\"sfe-section\">\\n                   <div class=\"companySummary\">\\n                    Apple Inc. (Apple) designs, manufactures and markets mobile communication and media devices, personal computers, and portable digital music players, and a variety of related software, services, peripherals, networking solutions, and third-party digital content and applications. The Company\\'s products and services include iPhone, iPad, Mac, iPod, Apple TV, a portfolio of consumer and professional software applications, the iOS and OS X operating systems, iCloud, and a variety of accessory, service and support offerings. The Company also delivers digital content and applications through the iTunes Store, App StoreSM, iBookstoreSM, and Mac App Store. The Company distributes its products worldwide through its retail stores, online stores, and direct sales force, as well as through third-party cellular network carriers, wholesalers, retailers, and value-added resellers. In February 2012, the Company acquired app-search engine Chomp.\\n                    <div class=\"sfe-break-top\">\\n                     <a href=\"//www.google.com/url?source=finance&amp;q=http%3A%2F%2Fstocks.us.reuters.com%2Fstocks%2FfullDescription.asp%3Frpc%3D66%26symbol%3DAAPL.O&amp;ei=PFi3V_HOH4edigLShKXACQ&amp;usg=AFQjCNGZkz5Hq-PIVD14-EDFxSlusRaFUA\" id=\"m-rprofile\">\\n                      More from Reuters \\xbb\\n                     </a>\\n                    </div>\\n                   </div>\\n                  </div>\\n                 </div>\\n                </div>\\n                <script>\\n                 _tck(\\'aft\\');\\n                </script>\\n                <div id=\"mgmt-section\">\\n                 <div id=\"management\" style=\"margin-bottom:1.5em;\">\\n                  <div class=\"hdg\">\\n                   <div class=\"float\">\\n                    <h3>\\n                     Officers and directors\\n                    </h3>\\n                   </div>\\n                   <div class=\"gf-reorder-btn SP_menu_button\">\\n                   </div>\\n                  </div>\\n                  <div class=\"sfe-section\">\\n                   <table class=\"id-mgmt-table\" width=\"100%\">\\n                    <tbody>\\n                     <tr>\\n                      <td class=\"p linkbtn\">\\n                       Art D. Levinson Ph.D.\\n                       <td class=\"i\">\\n                        <td class=\"t\">\\n                         Independent Chairman of the Board\\n                        </td>\\n                       </td>\\n                      </td>\\n                     </tr>\\n                     <tr style=\"display:none;\">\\n                      <td>\\n                       <img align=\"right\" border=\"0\" height=\"1\" width=\"1\">\\n                        <td class=\"i\">\\n                         <td class=\"t\">\\n                          Age: 65\\n                          <br>\\n                           <a class=\"e-p\" href=\"//www.google.com/url?source=finance&amp;q=http%3A%2F%2Fwww.reuters.com%2Ffinance%2Fstocks%2FofficerProfile%3Fsymbol%3DAAPL.O%26officerId%3D156560&amp;ei=PFi3V_HOH4edigLShKXACQ&amp;usg=AFQjCNHHdPBMoGekcWj9Eaa46fP_Ur5XEg\">\\n                            Bio\\xa0&amp;\\xa0Compensation\\n                           </a>\\n                           -\\n                           <font color=\"#606060\">\\n                            Reuters\\n                           </font>\\n                           <br>\\n                            <tr class=\"grey-top\">\\n                             <td class=\"p linkbtn\">\\n                              Timothy D. Cook\\n                              <td class=\"i\">\\n                               <td class=\"t\">\\n                                Chief Executive Officer, Director\\n                               </td>\\n                              </td>\\n                             </td>\\n                            </tr>\\n                            <tr style=\"display:none;\">\\n                             <td>\\n                              <img align=\"right\" border=\"0\" height=\"1\" width=\"1\">\\n                               <td class=\"i\">\\n                                <td class=\"t\">\\n                                 Age: 55\\n                                 <br>\\n                                  <a class=\"e-p\" href=\"//www.google.com/url?source=finance&amp;q=http%3A%2F%2Fwww.reuters.com%2Ffinance%2Fstocks%2FofficerProfile%3Fsymbol%3DAAPL.O%26officerId%3D88090&amp;ei=PFi3V_HOH4edigLShKXACQ&amp;usg=AFQjCNHmvXCkv9W6RD5zi7qzy0BiQuC7lQ\">\\n                                   Bio\\xa0&amp;\\xa0Compensation\\n                                  </a>\\n                                  -\\n                                  <font color=\"#606060\">\\n                                   Reuters\\n                                  </font>\\n                                  <br>\\n                                   <a class=\"e-t\" href=\"//www.google.com/url?source=finance&amp;q=http%3A%2F%2Fbiz.yahoo.com%2Ft%2F15%2F6289.html&amp;ei=PFi3V_HOH4edigLShKXACQ&amp;usg=AFQjCNHX8lP4fyJazg7_wD3ZZQChRiT_lA\">\\n                                    Trading\\xa0Activity\\n                                   </a>\\n                                   -\\n                                   <font color=\"#606060\">\\n                                    Yahoo\\xa0Finance\\n                                   </font>\\n                                   <br>\\n                                    <tr class=\"grey-top\">\\n                                     <td class=\"p linkbtn\">\\n                                      Luca Maestri\\n                                      <td class=\"i\">\\n                                       <td class=\"t\">\\n                                        Chief Financial Officer, Senior Vice President, Principal Accounting Officer\\n                                       </td>\\n                                      </td>\\n                                     </td>\\n                                    </tr>\\n                                    <tr style=\"display:none;\">\\n                                     <td>\\n                                      <img align=\"right\" border=\"0\" height=\"1\" width=\"1\">\\n                                       <td class=\"i\">\\n                                        <td class=\"t\">\\n                                         Age: 52\\n                                         <br>\\n                                          <a class=\"e-p\" href=\"//www.google.com/url?source=finance&amp;q=http%3A%2F%2Fwww.reuters.com%2Ffinance%2Fstocks%2FofficerProfile%3Fsymbol%3DAAPL.O%26officerId%3D2486890&amp;ei=PFi3V_HOH4edigLShKXACQ&amp;usg=AFQjCNH1oGL8awqapsQWWEGQNe8u5N7GNQ\">\\n                                           Bio\\xa0&amp;\\xa0Compensation\\n                                          </a>\\n                                          -\\n                                          <font color=\"#606060\">\\n                                           Reuters\\n                                          </font>\\n                                          <br>\\n                                           <tr class=\"grey-top\">\\n                                            <td class=\"p linkbtn\">\\n                                             Jeff Williams\\n                                             <td class=\"i\">\\n                                              <td class=\"t\">\\n                                               Chief Operating Officer\\n                                              </td>\\n                                             </td>\\n                                            </td>\\n                                           </tr>\\n                                           <tr style=\"display:none;\">\\n                                            <td>\\n                                             <img align=\"right\" border=\"0\" height=\"1\" width=\"1\">\\n                                              <td class=\"i\">\\n                                               <td class=\"t\">\\n                                                Age: 52\\n                                                <br>\\n                                                 <a class=\"e-p\" href=\"//www.google.com/url?source=finance&amp;q=http%3A%2F%2Fwww.reuters.com%2Ffinance%2Fstocks%2FofficerProfile%3Fsymbol%3DAAPL.O%26officerId%3D1541701&amp;ei=PFi3V_HOH4edigLShKXACQ&amp;usg=AFQjCNHrXNER21GZUUIvO08MRirv9uqRqQ\">\\n                                                  Bio\\xa0&amp;\\xa0Compensation\\n                                                 </a>\\n                                                 -\\n                                                 <font color=\"#606060\">\\n                                                  Reuters\\n                                                 </font>\\n                                                 <br>\\n                                                  <tr class=\"grey-top\">\\n                                                   <td class=\"p linkbtn\">\\n                                                    .. Bruce Sewell\\n                                                    <td class=\"i\">\\n                                                     <td class=\"t\">\\n                                                      Senior Vice President, General Counsel, Secretary\\n                                                     </td>\\n                                                    </td>\\n                                                   </td>\\n                                                  </tr>\\n                                                  <tr style=\"display:none;\">\\n                                                   <td>\\n                                                    <img align=\"right\" border=\"0\" height=\"1\" width=\"1\">\\n                                                     <td class=\"i\">\\n                                                      <td class=\"t\">\\n                                                       Age: 57\\n                                                       <br>\\n                                                        <a class=\"e-p\" href=\"//www.google.com/url?source=finance&amp;q=http%3A%2F%2Fwww.reuters.com%2Ffinance%2Fstocks%2FofficerProfile%3Fsymbol%3DAAPL.O%26officerId%3D1396053&amp;ei=PFi3V_HOH4edigLShKXACQ&amp;usg=AFQjCNEN6W_jf2NjI0Xs1PKeFdbNvc4HqA\">\\n                                                         Bio\\xa0&amp;\\xa0Compensation\\n                                                        </a>\\n                                                        -\\n                                                        <font color=\"#606060\">\\n                                                         Reuters\\n                                                        </font>\\n                                                        <br>\\n                                                         <tr class=\"grey-top\">\\n                                                          <td class=\"p linkbtn\">\\n                                                           Phil Schiller\\n                                                           <td class=\"i\">\\n                                                            <td class=\"t\">\\n                                                             Senior Vice President - Worldwide Marketing\\n                                                            </td>\\n                                                           </td>\\n                                                          </td>\\n                                                         </tr>\\n                                                         <tr style=\"display:none;\">\\n                                                          <td>\\n                                                           <img align=\"right\" border=\"0\" height=\"1\" width=\"1\">\\n                                                            <td class=\"i\">\\n                                                             <td class=\"t\">\\n                                                              Age: 55\\n                                                              <br>\\n                                                               <a class=\"e-p\" href=\"//www.google.com/url?source=finance&amp;q=http%3A%2F%2Fwww.reuters.com%2Ffinance%2Fstocks%2FofficerProfile%3Fsymbol%3DAAPL.O%26officerId%3D346990&amp;ei=PFi3V_HOH4edigLShKXACQ&amp;usg=AFQjCNEinrcVYthdLXvIXgLzDQr5_yNCOQ\">\\n                                                                Bio\\xa0&amp;\\xa0Compensation\\n                                                               </a>\\n                                                               -\\n                                                               <font color=\"#606060\">\\n                                                                Reuters\\n                                                               </font>\\n                                                               <br>\\n                                                                <tr class=\"grey-top\">\\n                                                                 <td class=\"p linkbtn\">\\n                                                                  Angela J. Ahrendts\\n                                                                  <td class=\"i\">\\n                                                                   <td class=\"t\">\\n                                                                    Senior Vice President - Retail and Online Stores\\n                                                                   </td>\\n                                                                  </td>\\n                                                                 </td>\\n                                                                </tr>\\n                                                                <tr style=\"display:none;\">\\n                                                                 <td>\\n                                                                  <img align=\"right\" border=\"0\" height=\"1\" width=\"1\">\\n                                                                   <td class=\"i\">\\n                                                                    <td class=\"t\">\\n                                                                     Age: 55\\n                                                                     <br>\\n                                                                      <a class=\"e-p\" href=\"//www.google.com/url?source=finance&amp;q=http%3A%2F%2Fwww.reuters.com%2Ffinance%2Fstocks%2FofficerProfile%3Fsymbol%3DAAPL.O%26officerId%3D2581904&amp;ei=PFi3V_HOH4edigLShKXACQ&amp;usg=AFQjCNGiApVdDwMUZ1WCndw79ovxxu3SsA\">\\n                                                                       Bio\\xa0&amp;\\xa0Compensation\\n                                                                      </a>\\n                                                                      -\\n                                                                      <font color=\"#606060\">\\n                                                                       Reuters\\n                                                                      </font>\\n                                                                      <br>\\n                                                                       <tr class=\"grey-top\">\\n                                                                        <td class=\"p linkbtn\">\\n                                                                         Eddy Cue\\n                                                                         <td class=\"i\">\\n                                                                          <td class=\"t\">\\n                                                                           Senior Vice President - Internet Software and Services\\n                                                                          </td>\\n                                                                         </td>\\n                                                                        </td>\\n                                                                       </tr>\\n                                                                       <tr style=\"display:none;\">\\n                                                                        <td>\\n                                                                         <img align=\"right\" border=\"0\" height=\"1\" width=\"1\">\\n                                                                          <td class=\"i\">\\n                                                                           <td class=\"t\">\\n                                                                            Age: 52\\n                                                                            <br>\\n                                                                             <a class=\"e-p\" href=\"//www.google.com/url?source=finance&amp;q=http%3A%2F%2Fwww.reuters.com%2Ffinance%2Fstocks%2FofficerProfile%3Fsymbol%3DAAPL.O%26officerId%3D1677766&amp;ei=PFi3V_HOH4edigLShKXACQ&amp;usg=AFQjCNGkAPM2he27ImmBUt1sB8GBv651Jw\">\\n                                                                              Bio\\xa0&amp;\\xa0Compensation\\n                                                                             </a>\\n                                                                             -\\n                                                                             <font color=\"#606060\">\\n                                                                              Reuters\\n                                                                             </font>\\n                                                                             <br>\\n                                                                              <tr class=\"grey-top\">\\n                                                                               <td class=\"p linkbtn\">\\n                                                                                Craig Federighi\\n                                                                                <td class=\"i\">\\n                                                                                 <td class=\"t\">\\n                                                                                  Senior Vice President - Software Engineering\\n                                                                                 </td>\\n                                                                                </td>\\n                                                                               </td>\\n                                                                              </tr>\\n                                                                              <tr style=\"display:none;\">\\n                                                                               <td>\\n                                                                                <img align=\"right\" border=\"0\" height=\"1\" width=\"1\">\\n                                                                                 <td class=\"i\">\\n                                                                                  <td class=\"t\">\\n                                                                                   Age: 46\\n                                                                                   <br>\\n                                                                                    <a class=\"e-p\" href=\"//www.google.com/url?source=finance&amp;q=http%3A%2F%2Fwww.reuters.com%2Ffinance%2Fstocks%2FofficerProfile%3Fsymbol%3DAAPL.O%26officerId%3D1768087&amp;ei=PFi3V_HOH4edigLShKXACQ&amp;usg=AFQjCNH-FwVM6HcXrfySZee6mcRoBpSGOQ\">\\n                                                                                     Bio\\xa0&amp;\\xa0Compensation\\n                                                                                    </a>\\n                                                                                    -\\n                                                                                    <font color=\"#606060\">\\n                                                                                     Reuters\\n                                                                                    </font>\\n                                                                                    <br>\\n                                                                                     <tr class=\"grey-top\">\\n                                                                                      <td class=\"p linkbtn\">\\n                                                                                       Daniel J Riccio Jr\\n                                                                                       <td class=\"i\">\\n                                                                                        <td class=\"t\">\\n                                                                                         Senior Vice President - Hardware Engineering\\n                                                                                        </td>\\n                                                                                       </td>\\n                                                                                      </td>\\n                                                                                     </tr>\\n                                                                                     <tr style=\"display:none;\">\\n                                                                                      <td>\\n                                                                                       <img align=\"right\" border=\"0\" height=\"1\" width=\"1\">\\n                                                                                        <td class=\"i\">\\n                                                                                         <td class=\"t\">\\n                                                                                          Age: 53\\n                                                                                          <br>\\n                                                                                           <a class=\"e-p\" href=\"//www.google.com/url?source=finance&amp;q=http%3A%2F%2Fwww.reuters.com%2Ffinance%2Fstocks%2FofficerProfile%3Fsymbol%3DAAPL.O%26officerId%3D1747873&amp;ei=PFi3V_HOH4edigLShKXACQ&amp;usg=AFQjCNEwPGKHn-b7_hNn2IpppLgd6YQ4vw\">\\n                                                                                            Bio\\xa0&amp;\\xa0Compensation\\n                                                                                           </a>\\n                                                                                           -\\n                                                                                           <font color=\"#606060\">\\n                                                                                            Reuters\\n                                                                                           </font>\\n                                                                                           <br>\\n                                                                                           </br>\\n                                                                                          </br>\\n                                                                                         </td>\\n                                                                                        </td>\\n                                                                                       </img>\\n                                                                                      </td>\\n                                                                                     </tr>\\n                                                                                    </br>\\n                                                                                   </br>\\n                                                                                  </td>\\n                                                                                 </td>\\n                                                                                </img>\\n                                                                               </td>\\n                                                                              </tr>\\n                                                                             </br>\\n                                                                            </br>\\n                                                                           </td>\\n                                                                          </td>\\n                                                                         </img>\\n                                                                        </td>\\n                                                                       </tr>\\n                                                                      </br>\\n                                                                     </br>\\n                                                                    </td>\\n                                                                   </td>\\n                                                                  </img>\\n                                                                 </td>\\n                                                                </tr>\\n                                                               </br>\\n                                                              </br>\\n                                                             </td>\\n                                                            </td>\\n                                                           </img>\\n                                                          </td>\\n                                                         </tr>\\n                                                        </br>\\n                                                       </br>\\n                                                      </td>\\n                                                     </td>\\n                                                    </img>\\n                                                   </td>\\n                                                  </tr>\\n                                                 </br>\\n                                                </br>\\n                                               </td>\\n                                              </td>\\n                                             </img>\\n                                            </td>\\n                                           </tr>\\n                                          </br>\\n                                         </br>\\n                                        </td>\\n                                       </td>\\n                                      </img>\\n                                     </td>\\n                                    </tr>\\n                                   </br>\\n                                  </br>\\n                                 </br>\\n                                </td>\\n                               </td>\\n                              </img>\\n                             </td>\\n                            </tr>\\n                           </br>\\n                          </br>\\n                         </td>\\n                        </td>\\n                       </img>\\n                      </td>\\n                     </tr>\\n                    </tbody>\\n                   </table>\\n                   <div class=\"gb\">\\n                    <a href=\"//www.google.com/url?source=finance&amp;q=http%3A%2F%2Fstocks.us.reuters.com%2Fstocks%2FofficersDirectors.asp%3Fsymbol%3DAAPL.O%26WTmodLOC%3DC4-Officers-5&amp;ei=PFi3V_HOH4edigLShKXACQ&amp;usg=AFQjCNEzICcEZqzLglI70OlUq7EYcEtMiA\">\\n                     Full list on Reuters \\xbb\\n                    </a>\\n                   </div>\\n                  </div>\\n                 </div>\\n                </div>\\n               </div>\\n              </div>\\n             </div>\\n            </div>\\n           </div>\\n          </div>\\n         </div>\\n        </div>\\n       </div>\\n      </div>\\n     </div>\\n     <div id=\"gf-foot\">\\n      <div class=\"fjfe-footer-links\" id=\"fjfe-edition-links\">\\n       Google Finance Beta available in:\\n       <a class=\"fjfe-edition-link\" href=\"http://www.google.com.hk/finance?ei=PFi3V_HOH4edigLShKXACQ\">\\n        Hong Kong\\n       </a>\\n       -\\n       <a class=\"fjfe-edition-link\" href=\"http://www.google.ca/finance?ei=PFi3V_HOH4edigLShKXACQ\">\\n        Canada\\n       </a>\\n       -\\n       <a class=\"fjfe-edition-link\" href=\"http://www.google.com/finance?ei=PFi3V_HOH4edigLShKXACQ\">\\n        U.S.\\n       </a>\\n       -\\n       <a class=\"fjfe-edition-link\" href=\"http://www.google.com.hk/finance?hl=zh-CN&amp;ei=PFi3V_HOH4edigLShKXACQ\">\\n        China\\n       </a>\\n       -\\n       <a class=\"fjfe-edition-link\" href=\"http://www.google.co.uk/finance?ei=PFi3V_HOH4edigLShKXACQ\">\\n        U.K.\\n       </a>\\n      </div>\\n      <p class=\"fjfe-footer-disclaimer\">\\n       Information is provided \"as is\" and solely for informational purposes, not for trading purposes or advice, and may be delayed.\\n       <br>\\n        To see all exchange delays, please\\n        <a class=\"fjfe-secondary-link fjfe-no-sticky-params\" href=\"http://www.google.com/intl/en/googlefinance/disclaimer/?ei=PFi3V_HOH4edigLShKXACQ\">\\n         see disclaimer\\n        </a>\\n        .\\n       </br>\\n      </p>\\n      <div class=\"fjfe-footer-links\">\\n       \\xa92016 Google -\\n       <a href=\"http://www.google.com?hl=en&amp;ei=PFi3V_HOH4edigLShKXACQ\">\\n        Google Home\\n       </a>\\n       -\\n       <a href=\"http://googlefinanceblog.blogspot.com?ei=PFi3V_HOH4edigLShKXACQ\">\\n        Blog\\n       </a>\\n       -\\n       <a href=\"http://support.google.com/finance?hl=en&amp;ei=PFi3V_HOH4edigLShKXACQ\">\\n        Help\\n       </a>\\n       -\\n       <a href=\"http://support.google.com/finance?ctx=report&amp;hl=en&amp;ei=PFi3V_HOH4edigLShKXACQ&amp;exch=NASDAQ&amp;sym=AAPL\">\\n        Report a Problem\\n       </a>\\n       -\\n       <a href=\"http://www.google.com/intl/en/policies/privacy/?ei=PFi3V_HOH4edigLShKXACQ\">\\n        Privacy Policy\\n       </a>\\n       -\\n       <a href=\"http://www.google.com/intl/en/policies/terms/?ei=PFi3V_HOH4edigLShKXACQ\">\\n        Terms of Service\\n       </a>\\n      </div>\\n     </div>\\n     <script>\\n      var _chartConfigObject;\\nvar _cleardot;\\nvar _companyName;\\nvar _eventid = \\'PFi3V_HOH4edigLShKXACQ\\';\\nvar _expid;\\nvar _external_target;\\nvar _localDomain = \\'www.google.com\\';\\nvar _minZoomDays;\\nvar _minZoomDaysNoIntraDay;\\nvar _prefs;\\nvar _ticker;\\nvar _urlSuffix;\\n_setStickyUrlParams(\"ei=PFi3V_HOH4edigLShKXACQ\");\\nif (_s_Store) {\\n_s_Store._allowMatchAdvancedSearch = true;\\nvar _fieldToDisplayNameMap = {GrossMargin:\"Gross margin&nbsp;(%)\",Return1Week:\"1w return\",Return156Week:\"156w return\",NextYearEPS:\"Next year EPS\",LTDebtToAssetsYear:\"LT debt/assets (Recent&nbsp;yr)&nbsp;(%)\",RevenueGrowthRate5Years:\"5y revenue growth rate\",EarningsAfterTaxes:\"Earnings after taxes\",DividendPerShare:\"Div per share\",MarketCap:\"Market cap\",NetProfitMarginPercent:\"Net profit margin&nbsp;(%)\",Float:\"Float\",EarningsBeforeTaxes:\"Earnings before taxes\",QuotePercChange:\"Quote change&nbsp;(%)\",TotalDebtToEquityYear:\"Total debt/equity (Recent&nbsp;yr)&nbsp;(%)\",TotalDebtToCapitalQuarter:\"Total debt/capital (Recent&nbsp;qtr)&nbsp;(%)\",LTDebtToCapitalQuarter:\"LT debt/capital (Recent&nbsp;qtr)&nbsp;(%)\",EPSGrowthRate10Years:\"10y EPS growth rate\",Beta:\"Beta\",ReturnOnAssetsPTM:\"Return on assets (PTM)&nbsp;(%)\",CapitalGain:\"Capital gain\",BetaDown:\"Beta down from RAS\",IncomeDividend:\"Income dividend\",RevenueGrowthRate10Years:\"10y revenue growth rate\",MarketCapShareBasis:\"Market cap share basis\",IAD:\"Div rate indicated annual\",Return4Week:\"4w return\",Price150DayAverage:\"150d avg price\",EPSGrowthRate5Years:\"5y EPS growth rate\",ReturnOnAssetsTTM:\"Return on assets (TTM)&nbsp;(%)\",TotalDebtToAssetsYear:\"Total debt/assets (Recent&nbsp;yr)&nbsp;(%)\",Volume:\"Volume\",DividendRecentQuarter:\"Div recent quarter\",CurrentRatioYear:\"Current ratio\",Low52Week:\"52w low\",ExpenseRatio:\"Expense ratio\",Price13WeekPercChange:\"13w&nbsp;price change&nbsp;(%)\",Price1DayPercChange:\"1d&nbsp;price change&nbsp;(%)\",ReturnOnEquity5Years:\"Return on equity (5&nbsp;yr&nbsp;avg)&nbsp;(%)\",TotalDebtToCapitalYear:\"Total debt/capital (Recent&nbsp;yr)&nbsp;(%)\",TotalDebtToAssetsQuarter:\"Total debt/assets (Recent&nbsp;qtr)&nbsp;(%)\",NavChange:\"Nav change\",OperatingMargin:\"Operating margin&nbsp;(%)\",DPSRecentYear:\"Div per share (Recent&nbsp;yr)\",ANI:\"Earnings after taxes (Recent&nbsp;yr)\",AverageVolume:\"Average volume\",High52Week:\"52w high\",Return13Week:\"13w return\",PriceToCashFlowPerShare:\"Price to cash flow per share\",ATAXRATE:\"Tax rate (Recent&nbsp;yr)\",Price26WeekPercChange:\"26w&nbsp;price change&nbsp;(%)\",QuoteChange:\"Quote change\",NetIncomeChangePerc:\"Net income change&nbsp;(%)\",ReturnOnInvestment5Years:\"Return on investment (5&nbsp;yr&nbsp;avg)&nbsp;(%)\",PE:\"P/E ratio\",ReturnOnInvestmentYear:\"Return on investment (Recent&nbsp;yr)&nbsp;(%)\",Price200DayAverage:\"200d avg price\",DividendNextQuarter:\"Div next quarter\",EBITD:\"EBITDA\",PriceYTDPercChange:\"YTD&nbsp;price change&nbsp;(%)\",ReturnOnInvestmentTTM:\"Return on investment (TTM)&nbsp;(%)\",NavChangePercent:\"Nav change&nbsp;(%)\",EBITDMargin:\"EBITDA margin&nbsp;(%)\",LTDebtToEquityQuarter:\"LT debt/equity (Recent&nbsp;qtr)&nbsp;(%)\",BetaRAS:\"Beta from RAS\",PriceSales:\"Price to sales\",NetAssets:\"Net assets\",ReturnOnEquityTTM:\"Return on equity (TTM)&nbsp;(%)\",CashPerShareYear:\"Cash/share\",ReturnOnAssets5Years:\"Return on assets (5&nbsp;yr&nbsp;avg)&nbsp;(%)\",ReturnDay:\"1d return\",Return52Week:\"52w return\",ForwardPE1Year:\"1y fwd P/E\",NetIncomeGrowthRate5Years:\"5y net income growth rate\",DividendYield:\"Div yield&nbsp;(%)\",Dividend:\"Div from cash flow\",BetaUp:\"Beta up from RAS\",LTDebtToCapitalYear:\"LT debt/capital (Recent&nbsp;yr)&nbsp;(%)\",nprice:\"Price from RAS\",Return260Week:\"260w return\",ReturnOnEquityQuarter:\"Return on equity (Recent&nbsp;qtr)&nbsp;(%)\",ACOGS:\"Cost of goods sold\",LTDebtToAssetsQuarter:\"LT debt/assets (Recent&nbsp;qtr)&nbsp;(%)\",PriceToBook:\"Price to book\",LTDebtToEquityYear:\"LT debt/equity (Recent&nbsp;yr)&nbsp;(%)\",ReturnYTD:\"Return YTD\",ReturnOnEquityYear:\"Return on equity (Recent&nbsp;yr)&nbsp;(%)\",ReturnOnAssetsQuarter:\"Return on assets (Recent&nbsp;qtr)&nbsp;(%)\",TotalDebtToEquityQuarter:\"Total debt/equity (Recent&nbsp;qtr)&nbsp;(%)\",NavPrior:\"Nav prior\",AINTCOV:\"Interest coverage\",EPS:\"EPS\",ReturnOnInvestmentQuarter:\"Return on investment (Recent&nbsp;qtr)&nbsp;(%)\",QuoteLast:\"Last price\",Price50DayAverage:\"50d avg price\",Price4WeekPercChange:\"4w&nbsp;price change&nbsp;(%)\",ReturnOnAssetsYear:\"Return on assets (Recent&nbsp;yr)&nbsp;(%)\",MarketCapRAS:\"Mkt cap from RAS\",Price52WeekPercChange:\"52w&nbsp;price change&nbsp;(%)\",ShortInterestRatioPercent:\"Short interest ratio&nbsp;(%)\",InstitutionalPercentHeld:\"Institutional percent held\",BookValuePerShareYear:\"Book value/share\",ReturnOnEquityPTM:\"Return on equity (PTM)&nbsp;(%)\"};\\n_s_Store._asStore._addStrings(_fieldToDisplayNameMap);\\n}\\nif (_s_Store) {\\n_s_Store._allowMultipleInBox = true;\\n}\\n_regOnLoad(onCompanyLoad);\\n     </script>\\n    </input>\\n   </div>\\n  </div>\\n  <script>\\n   var googlefinance = {i: [\"f.b.id\",\"\",null,0,\"\",0,null,[\"f.b.cf\",\"0md5hz5pgeA.en_US.\",0],[],1,[],\"PFi3V_HOH4edigLShKXACQ\",\"www.google.com\",\"iTRK75XZDkHXf9azcyV63umGxWU:1471633468690\",1]}; GF_domReady = 1;\\n  </script>\\n </body>\\n</html>'"
      ]
     },
     "execution_count": 6,
     "metadata": {},
     "output_type": "execute_result"
    }
   ],
   "source": [
    "b.prettify() # will print the html nicely"
   ]
  },
  {
   "cell_type": "code",
   "execution_count": 7,
   "metadata": {
    "collapsed": false
   },
   "outputs": [
    {
     "data": {
      "text/plain": [
       "[<span class=\"gbi\" id=\"gbn\"></span>,\n",
       " <span class=\"gbf\" id=\"gbf\"></span>,\n",
       " <span id=\"gbe\"></span>,\n",
       " <span class=\"fjfe-searchbox-button-wrapper\"><span class=\"fjfe-searchbox-button-wrapper2\"><input class=\"fjfe-searchbox-button\" tabindex=\"2\" type=\"submit\" value=\"Get quotes\"/></span></span>,\n",
       " <span class=\"fjfe-searchbox-button-wrapper2\"><input class=\"fjfe-searchbox-button\" tabindex=\"2\" type=\"submit\" value=\"Get quotes\"/></span>,\n",
       " <span class=\"fjfe-recentquotes-duration\">(<a href=\"//www.google.com/history/optout?hl=en\">30 days</a>)</span>,\n",
       " <span class=\"fjfe-chg-toggle\">chg</span>,\n",
       " <span class=\"fjfe-perc-toggle\">%</span>,\n",
       " <span class=\"pr\">\\n<span id=\"ref_22144_l\">109.19</span>\\n</span>,\n",
       " <span id=\"ref_22144_l\">109.19</span>,\n",
       " <span class=\"ch bld\"><span class=\"chg\" id=\"ref_22144_c\">+0.11</span>\\n<span class=\"chg\" id=\"ref_22144_cp\">(0.10%)</span>\\n</span>,\n",
       " <span class=\"chg\" id=\"ref_22144_c\">+0.11</span>,\n",
       " <span class=\"chg\" id=\"ref_22144_cp\">(0.10%)</span>,\n",
       " <span class=\"nwp\">\\nReal-time:\\n\\xa0\\n<span id=\"ref_22144_ltt\">\\n3:04PM EDT\\n</span>\\n</span>,\n",
       " <span id=\"ref_22144_ltt\">\\n3:04PM EDT\\n</span>,\n",
       " <span class=\"dis-large\"><nobr>NASDAQ\\nreal-time data -\\n<a class=\"dis-large\" href=\"//www.google.com/help/stock_disclaimer.html#realtime\">Disclaimer</a>\\n</nobr></span>,\n",
       " <span class=\"time\">4:00PM EDT</span>,\n",
       " <span class=\"settings-link\">Settings</span>,\n",
       " <span class=\"technicals-link\">Technicals</span>,\n",
       " <span style=\"white-space:nowrap;\">\\n<img alt=\"Link to chart icon.\" class=\"linktochart-img SP_link\" hight=\"9\" src=\"/finance/s/m4C5KaofCbA/images/cleardot.gif\" width=\"16\"/>\\n<span class=\"linktochart-link\">\\nLink to this view</span>\\n</span>,\n",
       " <span class=\"linktochart-link\">\\nLink to this view</span>,\n",
       " <span class=\"chart-dis\">Volume delayed by 15 mins.<br>Prices are not from all markets.<br>Sources include SIX.<br>\\n</br></br></br></span>,\n",
       " <span class=\"id-related-edit-col linkbtn\">Add or remove columns</span>]"
      ]
     },
     "execution_count": 7,
     "metadata": {},
     "output_type": "execute_result"
    }
   ],
   "source": [
    "# find all span tags\n",
    "b.findAll('span')\n",
    "# b.find_all('span') for bs4 users"
   ]
  },
  {
   "cell_type": "code",
   "execution_count": 8,
   "metadata": {
    "collapsed": true
   },
   "outputs": [],
   "source": [
    "# the pattern we recognized from the website\n",
    "re_tag = re.compile(\"ref_\\d+_l\") "
   ]
  },
  {
   "cell_type": "code",
   "execution_count": 9,
   "metadata": {
    "collapsed": false
   },
   "outputs": [],
   "source": [
    "#this tag finds the tag with the price in it!!!!\n",
    "span_tag = b.find('span', attrs={'id': re_tag}) \n",
    "# use find to return THE ONE AND ONLY span tags with an id that matches our regex\n",
    "# use findAll to find all matches"
   ]
  },
  {
   "cell_type": "code",
   "execution_count": 10,
   "metadata": {
    "collapsed": false
   },
   "outputs": [
    {
     "data": {
      "text/plain": [
       "u'109.19'"
      ]
     },
     "execution_count": 10,
     "metadata": {},
     "output_type": "execute_result"
    }
   ],
   "source": [
    "quote = span_tag.text\n",
    "quote"
   ]
  },
  {
   "cell_type": "code",
   "execution_count": 11,
   "metadata": {
    "collapsed": false
   },
   "outputs": [
    {
     "name": "stdout",
     "output_type": "stream",
     "text": [
      "<span id=\"ref_22144_l\">109.19</span>\n"
     ]
    }
   ],
   "source": [
    "print span_tag"
   ]
  },
  {
   "cell_type": "code",
   "execution_count": 12,
   "metadata": {
    "collapsed": true
   },
   "outputs": [],
   "source": [
    "def get_stock_price(stock):\n",
    "    r = requests.get('http://finance.google.com/finance?q='+stock)\n",
    "    b = BeautifulSoup(r.text, 'html.parser')\n",
    "    re_tag = re.compile(\"ref_\\d+_l\")\n",
    "    span_tag = b.find('span', attrs={'id': re_tag}) \n",
    "    if span_tag:\n",
    "        return span_tag.text\n",
    "    else:\n",
    "        return 'no stock found'"
   ]
  },
  {
   "cell_type": "code",
   "execution_count": 13,
   "metadata": {
    "collapsed": false
   },
   "outputs": [
    {
     "name": "stdout",
     "output_type": "stream",
     "text": [
      "no stock found\n"
     ]
    }
   ],
   "source": [
    "print get_stock_price('asdf')"
   ]
  },
  {
   "cell_type": "code",
   "execution_count": 46,
   "metadata": {
    "collapsed": true
   },
   "outputs": [],
   "source": [
    "##### EXERCISE #####\n",
    "# Make a method  get_stock_price that takes in ANY stock ticker and grabs the current price\n",
    "# If the stock ticker doesn't exist, return -1\n",
    "\n",
    "\n",
    "\n",
    "\n",
    "\n",
    "\n"
   ]
  },
  {
   "cell_type": "code",
   "execution_count": 14,
   "metadata": {
    "collapsed": true
   },
   "outputs": [],
   "source": [
    "def get_stock_price(ticker):\n",
    "    response = requests.get(\"http://google.com/finance?q=\"+ticker)\n",
    "    parser = BeautifulSoup(response.text, \"html.parser\")\n",
    "    pattern = re.compile(\"ref_\\d+_l\")\n",
    "    span_tag = parser.find(\"span\", attrs={\"id\":pattern})\n",
    "    if span_tag:\n",
    "        return span_tag.text\n",
    "    else:\n",
    "        return -1\n",
    "    \n",
    "    \n",
    "    "
   ]
  },
  {
   "cell_type": "code",
   "execution_count": 15,
   "metadata": {
    "collapsed": false
   },
   "outputs": [
    {
     "name": "stdout",
     "output_type": "stream",
     "text": [
      "31.28\n",
      "218.57\n"
     ]
    }
   ],
   "source": [
    "for ticker in ['ge', 'spy']:\n",
    "    print get_stock_price(ticker)"
   ]
  },
  {
   "cell_type": "code",
   "execution_count": null,
   "metadata": {
    "collapsed": true
   },
   "outputs": [],
   "source": []
  },
  {
   "cell_type": "code",
   "execution_count": null,
   "metadata": {
    "collapsed": true
   },
   "outputs": [],
   "source": []
  },
  {
   "cell_type": "code",
   "execution_count": 47,
   "metadata": {
    "collapsed": true
   },
   "outputs": [],
   "source": [
    "###### UFO #######"
   ]
  },
  {
   "cell_type": "code",
   "execution_count": 16,
   "metadata": {
    "collapsed": false
   },
   "outputs": [],
   "source": [
    "r = requests.get(\"http://www.nuforc.org/webreports/ndxe201608.html\")\n",
    "b = BeautifulSoup(r.text, 'html.parser')"
   ]
  },
  {
   "cell_type": "code",
   "execution_count": 18,
   "metadata": {
    "collapsed": false
   },
   "outputs": [
    {
     "name": "stdout",
     "output_type": "stream",
     "text": [
      "8/2/16 00:45\n",
      "8/2/16 00:45\n",
      "8/2/16 00:45\n",
      "Alexandria (UK/Scotland)\n",
      "Alexandria (UK/Scotland)\n",
      "\n",
      "\n",
      "\n",
      "Light\n",
      "Light\n",
      "2 minutes\n",
      "2 minutes\n",
      "Myself and my partner where out smoking when we both seen a light (the same size as a star but brighter) travelling at great speed (abo\n",
      "Myself and my partner where out smoking when we both seen a light (the same size as a star but brighter) travelling at great speed (abo\n",
      "8/2/16\n",
      "8/2/16\n"
     ]
    }
   ],
   "source": [
    "# Let's take a look at the first sighting\n",
    "for tr in b.findAll('tr', attrs = {'valign':'TOP'})[:1]:\n",
    "    # the findChildren method returns all children underneath it\n",
    "    for child in tr.findChildren():\n",
    "        print child.text"
   ]
  },
  {
   "cell_type": "code",
   "execution_count": 19,
   "metadata": {
    "collapsed": true
   },
   "outputs": [],
   "source": [
    "# OK, it's a bit messy, Let's clean it up\n",
    "# Looks like the first element is the date, the 4th is the city, 6th if state, 8th is shape (this ones blank)\n",
    "# 13th is the summary"
   ]
  },
  {
   "cell_type": "code",
   "execution_count": 20,
   "metadata": {
    "collapsed": false
   },
   "outputs": [
    {
     "data": {
      "text/plain": [
       "{'City': [u'Alexandria (UK/Scotland)',\n",
       "  u'Hiltons',\n",
       "  u'Port Colbourne (Ontario)(Canada)',\n",
       "  u'Zurich (Switzerland)',\n",
       "  u'Shoreline',\n",
       "  u'Shelbyville',\n",
       "  u'Colorado Springs',\n",
       "  u'Omaha',\n",
       "  u'Jacksonville',\n",
       "  u'Lakewood'],\n",
       " 'Date': [u'8/2/16 00:45',\n",
       "  u'8/1/16 22:45',\n",
       "  u'8/1/16 22:30',\n",
       "  u'8/1/16 22:00',\n",
       "  u'8/1/16 21:45',\n",
       "  u'8/1/16 21:40',\n",
       "  u'8/1/16 21:30',\n",
       "  u'8/1/16 21:27',\n",
       "  u'8/1/16 20:45',\n",
       "  u'8/1/16 03:25'],\n",
       " 'Shape': [u'',\n",
       "  u'Formation',\n",
       "  u'Light',\n",
       "  u'',\n",
       "  u'Unknown',\n",
       "  u'Light',\n",
       "  u'Formation',\n",
       "  u'Circle',\n",
       "  u'Changing',\n",
       "  u'Light'],\n",
       " 'State': [u'', u'VA', u'ON', u'', u'WA', u'IN', u'CO', u'NE', u'FL', u'CO'],\n",
       " 'Summary': [u'Myself and my partner where out smoking when we both seen a light (the same size as a star but brighter) travelling at great speed (abo',\n",
       "  u'Two slow moving strobing lights moving steady in a western direction.',\n",
       "  u'LOTS OF ACTIVITY OVER LAKE ERIE DURING FIREWORKS ON CIVIC HOLIDAY.',\n",
       "  u'Four floating lights, hovered about 500m above ground then disappeared.  ((anonymous report))',\n",
       "  u'I noticed a light way up in the sky, and quickly realized a second light following.  ((anonymous report))',\n",
       "  u\"Orange orb gliding above tree line from east to west.  It blinked it's light off then on 3-4 times and dropped a faint silver object.\",\n",
       "  u'5 colored lights moving in sky east to west.',\n",
       "  u'Black ufo spotted on a late night drive.',\n",
       "  u'Three bright reds lights crossing the sky, and straight up and out of site.',\n",
       "  u'Sky cracked open.']}"
      ]
     },
     "execution_count": 20,
     "metadata": {},
     "output_type": "execute_result"
    }
   ],
   "source": [
    "ufo_sightings = {\n",
    "        'Date':[],\n",
    "        'City':[],\n",
    "        'State':[],\n",
    "        'Shape':[],\n",
    "        'Summary':[]\n",
    "    }\n",
    "\n",
    "for tr in b.findAll('tr', attrs = {'valign':'TOP'}):\n",
    "    # the findChildren method returns all children underneath it\n",
    "    ufo_sighting_info = []\n",
    "    for child in tr.findChildren():\n",
    "        ufo_sighting_info.append(child.text)\n",
    "    ufo_sightings['Date'].append(ufo_sighting_info[0])\n",
    "    ufo_sightings['City'].append(ufo_sighting_info[3])\n",
    "    ufo_sightings['State'].append(ufo_sighting_info[5])\n",
    "    ufo_sightings['Shape'].append(ufo_sighting_info[7])\n",
    "    ufo_sightings['Summary'].append(ufo_sighting_info[12])\n",
    "\n",
    "ufo_sightings"
   ]
  },
  {
   "cell_type": "code",
   "execution_count": 21,
   "metadata": {
    "collapsed": true
   },
   "outputs": [],
   "source": [
    "import pandas as pd"
   ]
  },
  {
   "cell_type": "code",
   "execution_count": 22,
   "metadata": {
    "collapsed": false
   },
   "outputs": [
    {
     "data": {
      "text/html": [
       "<div>\n",
       "<table border=\"1\" class=\"dataframe\">\n",
       "  <thead>\n",
       "    <tr style=\"text-align: right;\">\n",
       "      <th></th>\n",
       "      <th>City</th>\n",
       "      <th>Date</th>\n",
       "      <th>Shape</th>\n",
       "      <th>State</th>\n",
       "      <th>Summary</th>\n",
       "    </tr>\n",
       "  </thead>\n",
       "  <tbody>\n",
       "    <tr>\n",
       "      <th>0</th>\n",
       "      <td>Alexandria (UK/Scotland)</td>\n",
       "      <td>8/2/16 00:45</td>\n",
       "      <td></td>\n",
       "      <td></td>\n",
       "      <td>Myself and my partner where out smoking when w...</td>\n",
       "    </tr>\n",
       "    <tr>\n",
       "      <th>1</th>\n",
       "      <td>Hiltons</td>\n",
       "      <td>8/1/16 22:45</td>\n",
       "      <td>Formation</td>\n",
       "      <td>VA</td>\n",
       "      <td>Two slow moving strobing lights moving steady ...</td>\n",
       "    </tr>\n",
       "    <tr>\n",
       "      <th>2</th>\n",
       "      <td>Port Colbourne (Ontario)(Canada)</td>\n",
       "      <td>8/1/16 22:30</td>\n",
       "      <td>Light</td>\n",
       "      <td>ON</td>\n",
       "      <td>LOTS OF ACTIVITY OVER LAKE ERIE DURING FIREWOR...</td>\n",
       "    </tr>\n",
       "    <tr>\n",
       "      <th>3</th>\n",
       "      <td>Zurich (Switzerland)</td>\n",
       "      <td>8/1/16 22:00</td>\n",
       "      <td></td>\n",
       "      <td></td>\n",
       "      <td>Four floating lights, hovered about 500m above...</td>\n",
       "    </tr>\n",
       "    <tr>\n",
       "      <th>4</th>\n",
       "      <td>Shoreline</td>\n",
       "      <td>8/1/16 21:45</td>\n",
       "      <td>Unknown</td>\n",
       "      <td>WA</td>\n",
       "      <td>I noticed a light way up in the sky, and quick...</td>\n",
       "    </tr>\n",
       "    <tr>\n",
       "      <th>5</th>\n",
       "      <td>Shelbyville</td>\n",
       "      <td>8/1/16 21:40</td>\n",
       "      <td>Light</td>\n",
       "      <td>IN</td>\n",
       "      <td>Orange orb gliding above tree line from east t...</td>\n",
       "    </tr>\n",
       "    <tr>\n",
       "      <th>6</th>\n",
       "      <td>Colorado Springs</td>\n",
       "      <td>8/1/16 21:30</td>\n",
       "      <td>Formation</td>\n",
       "      <td>CO</td>\n",
       "      <td>5 colored lights moving in sky east to west.</td>\n",
       "    </tr>\n",
       "    <tr>\n",
       "      <th>7</th>\n",
       "      <td>Omaha</td>\n",
       "      <td>8/1/16 21:27</td>\n",
       "      <td>Circle</td>\n",
       "      <td>NE</td>\n",
       "      <td>Black ufo spotted on a late night drive.</td>\n",
       "    </tr>\n",
       "    <tr>\n",
       "      <th>8</th>\n",
       "      <td>Jacksonville</td>\n",
       "      <td>8/1/16 20:45</td>\n",
       "      <td>Changing</td>\n",
       "      <td>FL</td>\n",
       "      <td>Three bright reds lights crossing the sky, and...</td>\n",
       "    </tr>\n",
       "    <tr>\n",
       "      <th>9</th>\n",
       "      <td>Lakewood</td>\n",
       "      <td>8/1/16 03:25</td>\n",
       "      <td>Light</td>\n",
       "      <td>CO</td>\n",
       "      <td>Sky cracked open.</td>\n",
       "    </tr>\n",
       "  </tbody>\n",
       "</table>\n",
       "</div>"
      ],
      "text/plain": [
       "                               City          Date      Shape State  \\\n",
       "0          Alexandria (UK/Scotland)  8/2/16 00:45                    \n",
       "1                           Hiltons  8/1/16 22:45  Formation    VA   \n",
       "2  Port Colbourne (Ontario)(Canada)  8/1/16 22:30      Light    ON   \n",
       "3              Zurich (Switzerland)  8/1/16 22:00                    \n",
       "4                         Shoreline  8/1/16 21:45    Unknown    WA   \n",
       "5                       Shelbyville  8/1/16 21:40      Light    IN   \n",
       "6                  Colorado Springs  8/1/16 21:30  Formation    CO   \n",
       "7                             Omaha  8/1/16 21:27     Circle    NE   \n",
       "8                      Jacksonville  8/1/16 20:45   Changing    FL   \n",
       "9                          Lakewood  8/1/16 03:25      Light    CO   \n",
       "\n",
       "                                             Summary  \n",
       "0  Myself and my partner where out smoking when w...  \n",
       "1  Two slow moving strobing lights moving steady ...  \n",
       "2  LOTS OF ACTIVITY OVER LAKE ERIE DURING FIREWOR...  \n",
       "3  Four floating lights, hovered about 500m above...  \n",
       "4  I noticed a light way up in the sky, and quick...  \n",
       "5  Orange orb gliding above tree line from east t...  \n",
       "6       5 colored lights moving in sky east to west.  \n",
       "7           Black ufo spotted on a late night drive.  \n",
       "8  Three bright reds lights crossing the sky, and...  \n",
       "9                                  Sky cracked open.  "
      ]
     },
     "execution_count": 22,
     "metadata": {},
     "output_type": "execute_result"
    }
   ],
   "source": [
    "pd.DataFrame(ufo_sightings) # MAGIC"
   ]
  },
  {
   "cell_type": "code",
   "execution_count": null,
   "metadata": {
    "collapsed": true
   },
   "outputs": [],
   "source": []
  },
  {
   "cell_type": "code",
   "execution_count": 26,
   "metadata": {
    "collapsed": false
   },
   "outputs": [],
   "source": []
  },
  {
   "cell_type": "code",
   "execution_count": 25,
   "metadata": {
    "collapsed": false
   },
   "outputs": [],
   "source": []
  },
  {
   "cell_type": "code",
   "execution_count": null,
   "metadata": {
    "collapsed": false,
    "scrolled": false
   },
   "outputs": [],
   "source": []
  },
  {
   "cell_type": "code",
   "execution_count": null,
   "metadata": {
    "collapsed": false
   },
   "outputs": [],
   "source": [
    "# SOME MORE EXAMPLES"
   ]
  },
  {
   "cell_type": "code",
   "execution_count": null,
   "metadata": {
    "collapsed": false
   },
   "outputs": [],
   "source": [
    "# NY TIMES ARTICLES ON HOME PAGE"
   ]
  },
  {
   "cell_type": "code",
   "execution_count": 27,
   "metadata": {
    "collapsed": false
   },
   "outputs": [
    {
     "name": "stdout",
     "output_type": "stream",
     "text": [
      "Release of Code Raises Fears That the N.S.A. Was Hacked\n",
      "Early Voting Leaves Trump With Less Time to Catch Up\n",
      "Ousted Fox News Chief Ailes Advising Trump for Debates\n",
      "Clinton Warns Supporters to Avoid Complacency 8:42 PM ET\n",
      "F.B.I. Gives Congress Documents Related to Clinton E-Mail Case 5:38 PM ET\n",
      " Podcast: Why They Don’t Trust Her\n",
      "Death Toll Rises as Louisiana Faces a Flood ‘Disaster’\n",
      "For a Glimpse of Climate Change, Look to the South \n",
      "\n",
      "                                            Deadly Floods                                    \n",
      "Hand in Hand: Did German Twins’ Finish Cross a Line?\n",
      "\n",
      "                                            Meet the Biles Family                                    \n",
      "Rio Today: Simone Biles Soars to Fourth Gold Medal\n",
      "Your Evening Briefing\n",
      "18 Recipes to Replace That Sad Desk Lunch\n",
      "How to Get the Most out of Visiting World-Famous Sites\n",
      "John McLaughlin, Scrappy Political Pundit, Dies at 89\n",
      "Univision Is Said to Buy Gawker for $135 Million\n",
      "Evictions by Armed Men Rattle Mexican Tourist Town\n",
      "In August, City Council Slows but It Does Not Stop\n",
      "Russia Uses Iran Base to Raid Syria, Expanding Its Reach 7:43 PM ET\n",
      "Bus of Nepal Quake Survivors Falls Off Road, Killing 27 5:39 PM ET\n",
      "Pennsylvania’s Top Prosecutor Resigns After Conviction 8:30 PM ET\n",
      "El Chapo’s Son Is Kidnapped From a Party in Mexico 10:05 PM ET\n",
      "University of California, Berkeley’s Chancellor Resigns 10:09 PM ET\n",
      "\n",
      "In This ‘Groundhog Day,’ a Strikingly Fresh Déjà Vu\n",
      "\n",
      "\n",
      "Q. and A.: Anthony Weiner Is Keeping Busy\n",
      "\n",
      "\n",
      "Where Germany (but Not German) Inspired Twain\n",
      "\n",
      "Obamacare Will Survive Aetna’s Retreat\n",
      "Editorial: Mr. Trump’s Foreign Policy Confusions \n",
      "Room for Debate: How Do Olympians Stay So Driven? \n",
      "Op-Ed: The Demise of a Prison Lord \n",
      "Join us on Facebook » \n",
      "The Umbrella Movement Fights Back\n",
      "Taking Note: Why Donald Trump’s Test for Immigrants Won’t Work \n",
      "Op-Ed: How Do Trump’s Conspiracy Theories Go Over in the Middle East? Dangerously. \n",
      "\n",
      "Brazil Bureau Chief’s Notebook: When the Olympics Media Circus Comes to Town\n",
      "\n",
      "\n",
      "I Tracked and Tried to Outsmart ‘Hamilton’ Scalpers — With 341 Lines of Code\n",
      "\n",
      "\n",
      "Brazil Bureau Chief’s Notebook: When the Olympics Media Circus Comes to Town\n",
      "\n",
      "\n",
      "Play Today’s Puzzle \n",
      "\n",
      "\n",
      "Play Today’s Puzzle \n",
      "\n",
      "\n",
      "Come On Along With Us\n",
      "\n",
      "341 Lines of Code to Track ‘Hamilton’ Scalpers\n",
      "Op-Ed: Get Out of Gun Control, Apple\n",
      "Taking Summer School to Get Ahead, Not Catch Up\n",
      "MTV Classic: Millennial Nostalgia, Only on TV\n",
      "Peter Thiel: Privacy Issues Won’t End With Gawker\n",
      "Caleb Carr’s New Thriller Takes On Fancy Forensics\n",
      "The Way to Get Rid of Racism? Redefine It.\n",
      "How Do Olympians Stay So Driven?\n",
      "Guantánamo Transfer Is Largest of the Obama Era\n",
      "How the Arab World Came Apart\n",
      "Op-Ed: The Umbrella Movement Fights Back\n",
      "The Next Steps for Marijuana in Canada\n",
      "\n",
      "\n",
      "            Tulum Journal: Evictions by Armed Men Rattle a Mexican Tourist Paradise        \n",
      "\n",
      "\n",
      "\n",
      "            Son of El Chapo Is Kidnapped at Gunpoint From a Party in Mexico        \n",
      "\n",
      "\n",
      "\n",
      "            Deal Professor: Tech Giants Gobble Start-Ups in an Antitrust Blind Spot        \n",
      "\n",
      "\n",
      "\n",
      "            Ford Promises Fleets of Driverless Cars Within Five Years        \n",
      "\n",
      "\n",
      "\n",
      "            Editorial: Obamacare Will Survive Aetna’s Retreat        \n",
      "\n",
      "\n",
      "\n",
      "            Roger Cohen: Brazil’s Uplifting Olympics        \n",
      "\n",
      "\n",
      "\n",
      "            As Louisiana Floodwaters Recede, the Scope of Disaster Comes Into View        \n",
      "\n",
      "\n",
      "\n",
      "            Pennsylvania Attorney General Quits on Heels of Perjury Conviction        \n",
      "\n",
      "\n",
      "\n",
      "            Deal Professor: Tech Giants Gobble Start-Ups in an Antitrust Blind Spot        \n",
      "\n",
      "\n",
      "\n",
      "            China Launches Quantum Satellite in Bid to Pioneer Secure Communications        \n",
      "\n",
      "\n",
      "\n",
      "            Brantley in Britain: Review: ‘Groundhog Day,’ All Over Again, Now With Song and Dance        \n",
      "\n",
      "\n",
      "\n",
      "            Books of The Times: Review: ‘The Fire This Time,’ Stoked by Baldwin’s Legacy        \n",
      "\n",
      "\n",
      "\n",
      "            Political Memo: Martha’s Vineyard Longs for a President Who R.S.V.P.s ‘Yes’        \n",
      "\n",
      "\n",
      "\n",
      "            Trump Casinos’ Tax Debt Was $30 Million. Then Christie Took Office.          \n",
      "\n",
      "\n",
      "\n",
      "            Sharing a Life, but Not a Worldview: Readers React to Trump-Clinton Couples        \n",
      "\n",
      "\n",
      "\n",
      "            Pippa Middleton Goes Out on Her Own. But She’s Not Alone.        \n",
      "\n",
      "\n",
      "\n",
      "            8 Gold-Worthy Olympics Movies        \n",
      "\n",
      "\n",
      "\n",
      "            Review: ‘When Two Worlds Collide’ Portrays a Battle for the Amazon        \n",
      "\n",
      "\n",
      "\n",
      "            First-Degree Murder Charge Added in Killing of Queens Imam and Aide        \n",
      "\n",
      "\n",
      "\n",
      "            Searching for a Great White Shark, in the Waters Off Long Island        \n",
      "\n",
      "\n",
      "\n",
      "            On Olympics: The Anatomy of a Dive Across the Finish Line        \n",
      "\n",
      "\n",
      "\n",
      "            Rio 2016: Rio Olympics Today: Simone Biles Soars to Fourth Gold Medal        \n",
      "\n",
      "\n",
      "\n",
      "            Critic’s Notebook: Finding Some Treasures at FringeNYC        \n",
      "\n",
      "\n",
      "\n",
      "            Brantley in Britain: Summertime, and the Revivals in London are Breezy        \n",
      "\n",
      "\n",
      "\n",
      "            The Psychiatric Question: Is It Fair to Analyze Donald Trump From Afar?        \n",
      "\n",
      "\n",
      "\n",
      "            China Launches Quantum Satellite in Bid to Pioneer Secure Communications        \n",
      "\n",
      "\n",
      "\n",
      "            Bobby Hutcherson, Vibraphonist With Coloristic Range of Sound, Dies at 75        \n",
      "\n",
      "\n",
      "\n",
      "            Joel Cornette, Star Basketball Player for Butler, Dies at 35        \n",
      "\n",
      "\n",
      "\n",
      "            After His Show Is Canceled, Larry Wilmore Thanks Fans and Comedy Central        \n",
      "\n",
      "\n",
      "\n",
      "            The Strange Business of Scoring ‘Stranger Things’        \n",
      "\n",
      "\n",
      "\n",
      "            Osteoporosis, a Disease With Few Treatment Options, May Soon Have One More        \n",
      "\n",
      "\n",
      "\n",
      "            The Psychiatric Question: Is It Fair to Analyze Donald Trump From Afar?        \n",
      "\n",
      "\n",
      "\n",
      "            Pursuits: Uncovering Gay History in San Francisco        \n",
      "\n",
      "\n",
      "\n",
      "            36 Hours: 36 Hours in Minneapolis        \n",
      "\n",
      "\n",
      "\n",
      "            Books of The Times: From Bare Knuckles to Idealism in ‘Bobby Kennedy: The Making of a Liberal Icon’        \n",
      "\n",
      "\n",
      "\n",
      "            Egos: ‘Inside My Head I’m a Girl’: Three Ways of Growing Up Gay        \n",
      "\n",
      "\n",
      "\n",
      "            Your Money Adviser: Earlier Date for Filing Fafsa Form for College Aid        \n",
      "\n",
      "\n",
      "\n",
      "            Employees Sue Four More Universities Over Retirement Plan Fees        \n",
      "\n",
      "\n",
      "\n",
      "            Recipe Lab: Building a Better Vegetable Gratin        \n",
      "\n",
      "\n",
      "\n",
      "            The Movement to Define Native American Cuisine        \n",
      "\n",
      "\n",
      "\n",
      "            Editorial: Donald Trump Courts the Gun Zealots        \n",
      "\n",
      "\n",
      "\n",
      "            Frank Bruni: To Get to Harvard, Go to Haiti?        \n",
      "\n",
      "\n",
      "\n",
      "            An Island in Maine, Four Sisters, Four Houses        \n",
      "\n",
      "\n",
      "\n",
      "            What's Selling Now: Homes That Sold for $700,000 to $899,000        \n",
      "\n",
      "\n",
      "\n",
      "            Who Will Be President?        \n",
      "\n",
      "\n",
      "\n",
      "            Public Safety: Is Terrorism Getting Worse? In the West, Yes. In the World, No.        \n",
      "\n",
      "\n",
      "\n",
      "            First Words: The Easiest Way to Get Rid of Racism? Just Redefine It.        \n",
      "\n",
      "\n",
      "\n",
      "            On Sports: How Do You Tell a Better Story in Sports?        \n",
      "\n",
      "\n",
      "\n",
      "            Driven: Video Review: The Ferrari 488 GTB Is an Operatic Thrill        \n",
      "\n",
      "\n",
      "\n",
      "            New Rules Require Heavy-Duty Trucks to Reduce Emissions by 25% Over the Next Decade        \n",
      "\n",
      "\n",
      "\n",
      "            A Brooklyn Cocktail Bar Dedicated to One Unexpected Ingredient        \n",
      "\n",
      "\n",
      "\n",
      "            Three's a Trend: Fashion, Food and Fitness Greats Give Back to Rio        \n",
      "\n",
      "\n",
      "\n",
      "            Cooking Club: The Gray Ladle: Summer Produce        \n",
      "\n",
      "\n",
      "\n",
      "            Brazil Bureau Chief’s Notebook: When the Olympics Media Circus Comes to Town        \n",
      "\n",
      "Brown Water in a Rental\n",
      "Search for Homes for Sale or Rent\n",
      "Sell Your Home\n"
     ]
    }
   ],
   "source": [
    "response = requests.get(\"http://www.nytimes.com/\")\n",
    "parser = BeautifulSoup(response.text, \"html.parser\")\n",
    "for story in parser.findAll(\"h2\", attrs={'class':'story-heading'}):\n",
    "    print story.text"
   ]
  },
  {
   "cell_type": "code",
   "execution_count": 28,
   "metadata": {
    "collapsed": false
   },
   "outputs": [],
   "source": [
    "# WIKIPEDIA FEATURED ARTICLE\n",
    "response = requests.get(\"https://en.wikipedia.org/wiki/Wikipedia:Today%27s_featured_article\")\n",
    "parser = BeautifulSoup(response.text, \"html.parser\")"
   ]
  },
  {
   "cell_type": "code",
   "execution_count": 29,
   "metadata": {
    "collapsed": false
   },
   "outputs": [
    {
     "data": {
      "text/plain": [
       "u'\\n\\n\\nToday\\'s featured article\\n\\nAt the top of the Main Page, a summarized lead section from one of Wikipedia\\'s featured articles is displayed as \"Today\\'s featured article\" (TFA). The current month\\'s queue can be found here. TFAs are scheduled by the TFA coordinators, Brianboulton (Brian), Crisco 1492 (Chris) and Dank (Dan). Community discussion of suggestions takes place at the TFA requests page.\\nIf you notice an error in a future TFA summary, you\\'re welcome to fix it yourself, but if the mistake is in today\\'s or tomorrow\\'s summary, you can leave a message at WP:ERRORS to ask an administrator to fix it. The summaries are formatted as a single paragraph of around 1,150 characters (including spaces), with no reference tags or alternative names. Only the link to the specified featured article is bolded, and this must be the first link. The summary should be preceded by an appropriate image when available; fair use images are not allowed.\\nThe editnotice template for Today\\'s Featured Article is {{TFA-editnotice}}. It is automatically applied by {{Editnotices/Namespace/Main}} when the article\\'s title matches the contents of {{TFA title}}. To contact the TFA coordinators, please leave a message on the TFA talk page, or type \"{{@TFA}}\" in a signed comment on any talk page.\\n\\n\\n\\nShortcuts:\\n\\nWP:TFA\\nWP:TOFA\\n\\n\\n\\n\\nv\\nt\\ne\\n\\n\\nFeatured content:\\n\\nFeatured articles \\u2190\\nFeatured lists\\nFeatured pictures\\nFeatured portals\\nFeatured topics\\n\\nToday\\'s featured article (TFA):\\n\\nThis month\\'s queue\\nRecent TFAs and statistics\\nCurrent TFA requests\\nPotential TFA requests\\nTFA oddities\\nMost viewed TFAs\\nFeatured articles yet to appear as TFA\\n\\nFeatured article tools:\\n\\nFeatured article criteria\\nFeatured article candidates\\nFeatured article review\\nFeatured article log\\nFeatured article statistics\\nRandom featured article\\nFormer featured articles\\n\\n\\n\\n\\n\\n\\n\\nToday\\'s featured article archive\\n\\n2004\\n2005\\n2006\\n2007\\n2008\\n2009\\n2010\\n2011\\n2012\\n2013\\n2014\\n2015\\n2016\\n\\n\\nJanuary\\nFebruary\\nMarch\\nApril\\nMay\\nJune\\nJuly\\nAugust\\nSeptember\\nOctober\\nNovember\\nDecember\\n\\n\\nPurge cache for this page \\xb7 Purge the main page cache\\n\\n\\n\\n\\n\\n\\n\\n\\n\\nToday\\'s featured article\\n\\n\\n\\n\\n\\nBanksia scabrella, commonly known as the Burma Road banksia, is a species of woody shrub in the genus Banksia. It is classified in the series Abietinae, a group of several species of shrubs with small round or oval flower spikes. It occurs in several isolated populations south of Geraldton, Western Australia; the largest is south and east of Mount Adams. Found on sandy soils in heathland or shrubland, it grows to 2\\xa0m (7\\xa0ft) high and 3\\xa0m (10\\xa0ft) across with fine needle-like leaves. Appearing in spring and summer, the flower spikes are tan to cream with purple styles. B. scabrella is killed by fire and regenerates by seed. Originally collected in 1966, it was one of several species previously considered to be forms of Banksia sphaerocarpa, before it was finally described by banksia expert Alex George in his 1981 revision of the genus. Like many members of the Abietinae, it is rarely seen in cultivation, but has been described as having horticultural potential. (Full\\xa0article...)\\nRecently featured:\\n\\n\\n24th Waffen Mountain Division of the SS Karstj\\xe4ger\\nThe Seduction of Ingmar Bergman\\nMeteorological history of Hurricane Dean\\n\\n\\n\\n\\n\\nArchive\\nBy email\\nMore featured articles...\\n\\n\\n\\n\\n\\n\\n\\n\\n\\n\\n\\n\\n\\n\\nTomorrow\\'s featured article\\n\\n\\n\\n\\n\\n\\n\\nHMS Formidable was an Illustrious-class aircraft carrier ordered for the Royal Navy before World War II. Transferred to the Mediterranean Fleet as a replacement for the crippled sister ship Illustrious, Formidable\\'s aircraft played a key role in the Battle of Cape Matapan in early 1941, then provided cover for Allied ships and attacked Axis forces until the carrier was badly damaged by German dive bombers in May. Assigned to the Eastern Fleet in the Indian Ocean in early 1942, the carrier covered the invasion of Diego Suarez in Vichy Madagascar in mid-1942 against the possibility of a sortie by the Japanese into the Indian Ocean. The ship participated in Operation Torch, the invasion of French North Africa, in November, and covered the invasions of Sicily and mainland Italy in 1943. Formidable made several attacks on the German battleship\\xa0Tirpitz in Norway with the Home Fleet in mid-1944, and in 1945 attacked targets in the Japanese Home Islands. After repatriating liberated Allied prisoners of war and soldiers and ferrying British personnel across the globe, the ship was placed in reserve, and finally sold for scrap in 1953. (Full\\xa0article...)\\nRecently featured:\\n\\n\\nBanksia scabrella\\n24th Waffen Mountain Division of the SS Karstj\\xe4ger\\nThe Seduction of Ingmar Bergman\\n\\n\\n\\n\\n\\nArchive\\nBy email\\nMore featured articles...\\n\\n\\n\\n\\n\\n\\n\\n\\n\\n'"
      ]
     },
     "execution_count": 29,
     "metadata": {},
     "output_type": "execute_result"
    }
   ],
   "source": [
    "parser.find('div', attrs={'id':'mw-content-text'}).text"
   ]
  },
  {
   "cell_type": "code",
   "execution_count": null,
   "metadata": {
    "collapsed": true
   },
   "outputs": [],
   "source": []
  }
 ],
 "metadata": {
  "anaconda-cloud": {},
  "kernelspec": {
   "display_name": "Python [datascience]",
   "language": "python",
   "name": "Python [datascience]"
  },
  "language_info": {
   "codemirror_mode": {
    "name": "ipython",
    "version": 2
   },
   "file_extension": ".py",
   "mimetype": "text/x-python",
   "name": "python",
   "nbconvert_exporter": "python",
   "pygments_lexer": "ipython2",
   "version": "2.7.12"
  }
 },
 "nbformat": 4,
 "nbformat_minor": 0
}
